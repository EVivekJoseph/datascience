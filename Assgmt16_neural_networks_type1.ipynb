{
  "cells": [
    {
      "cell_type": "markdown",
      "metadata": {
        "id": "uw3k5m5KCrgz"
      },
      "source": [
        "#**Gas Turbines Problem**"
      ]
    },
    {
      "cell_type": "code",
      "execution_count": null,
      "metadata": {
        "id": "r3AlqJUo2u8j"
      },
      "outputs": [],
      "source": [
        "import pandas as pd\n",
        "import numpy as np\n",
        "import keras\n",
        "from sklearn.preprocessing import StandardScaler\n",
        "from sklearn import preprocessing\n",
        "\n",
        "import warnings\n",
        "warnings.filterwarnings('ignore')"
      ]
    },
    {
      "cell_type": "code",
      "execution_count": null,
      "metadata": {
        "colab": {
          "base_uri": "https://localhost:8080/",
          "height": 73
        },
        "id": "HUW1GJJo242E",
        "outputId": "a6651122-0b26-46d9-c909-f0062d6892e2"
      },
      "outputs": [
        {
          "output_type": "display_data",
          "data": {
            "text/plain": [
              "<IPython.core.display.HTML object>"
            ],
            "text/html": [
              "\n",
              "     <input type=\"file\" id=\"files-42c3158d-5ebd-4fc3-b1b7-941280decf57\" name=\"files[]\" multiple disabled\n",
              "        style=\"border:none\" />\n",
              "     <output id=\"result-42c3158d-5ebd-4fc3-b1b7-941280decf57\">\n",
              "      Upload widget is only available when the cell has been executed in the\n",
              "      current browser session. Please rerun this cell to enable.\n",
              "      </output>\n",
              "      <script>// Copyright 2017 Google LLC\n",
              "//\n",
              "// Licensed under the Apache License, Version 2.0 (the \"License\");\n",
              "// you may not use this file except in compliance with the License.\n",
              "// You may obtain a copy of the License at\n",
              "//\n",
              "//      http://www.apache.org/licenses/LICENSE-2.0\n",
              "//\n",
              "// Unless required by applicable law or agreed to in writing, software\n",
              "// distributed under the License is distributed on an \"AS IS\" BASIS,\n",
              "// WITHOUT WARRANTIES OR CONDITIONS OF ANY KIND, either express or implied.\n",
              "// See the License for the specific language governing permissions and\n",
              "// limitations under the License.\n",
              "\n",
              "/**\n",
              " * @fileoverview Helpers for google.colab Python module.\n",
              " */\n",
              "(function(scope) {\n",
              "function span(text, styleAttributes = {}) {\n",
              "  const element = document.createElement('span');\n",
              "  element.textContent = text;\n",
              "  for (const key of Object.keys(styleAttributes)) {\n",
              "    element.style[key] = styleAttributes[key];\n",
              "  }\n",
              "  return element;\n",
              "}\n",
              "\n",
              "// Max number of bytes which will be uploaded at a time.\n",
              "const MAX_PAYLOAD_SIZE = 100 * 1024;\n",
              "\n",
              "function _uploadFiles(inputId, outputId) {\n",
              "  const steps = uploadFilesStep(inputId, outputId);\n",
              "  const outputElement = document.getElementById(outputId);\n",
              "  // Cache steps on the outputElement to make it available for the next call\n",
              "  // to uploadFilesContinue from Python.\n",
              "  outputElement.steps = steps;\n",
              "\n",
              "  return _uploadFilesContinue(outputId);\n",
              "}\n",
              "\n",
              "// This is roughly an async generator (not supported in the browser yet),\n",
              "// where there are multiple asynchronous steps and the Python side is going\n",
              "// to poll for completion of each step.\n",
              "// This uses a Promise to block the python side on completion of each step,\n",
              "// then passes the result of the previous step as the input to the next step.\n",
              "function _uploadFilesContinue(outputId) {\n",
              "  const outputElement = document.getElementById(outputId);\n",
              "  const steps = outputElement.steps;\n",
              "\n",
              "  const next = steps.next(outputElement.lastPromiseValue);\n",
              "  return Promise.resolve(next.value.promise).then((value) => {\n",
              "    // Cache the last promise value to make it available to the next\n",
              "    // step of the generator.\n",
              "    outputElement.lastPromiseValue = value;\n",
              "    return next.value.response;\n",
              "  });\n",
              "}\n",
              "\n",
              "/**\n",
              " * Generator function which is called between each async step of the upload\n",
              " * process.\n",
              " * @param {string} inputId Element ID of the input file picker element.\n",
              " * @param {string} outputId Element ID of the output display.\n",
              " * @return {!Iterable<!Object>} Iterable of next steps.\n",
              " */\n",
              "function* uploadFilesStep(inputId, outputId) {\n",
              "  const inputElement = document.getElementById(inputId);\n",
              "  inputElement.disabled = false;\n",
              "\n",
              "  const outputElement = document.getElementById(outputId);\n",
              "  outputElement.innerHTML = '';\n",
              "\n",
              "  const pickedPromise = new Promise((resolve) => {\n",
              "    inputElement.addEventListener('change', (e) => {\n",
              "      resolve(e.target.files);\n",
              "    });\n",
              "  });\n",
              "\n",
              "  const cancel = document.createElement('button');\n",
              "  inputElement.parentElement.appendChild(cancel);\n",
              "  cancel.textContent = 'Cancel upload';\n",
              "  const cancelPromise = new Promise((resolve) => {\n",
              "    cancel.onclick = () => {\n",
              "      resolve(null);\n",
              "    };\n",
              "  });\n",
              "\n",
              "  // Wait for the user to pick the files.\n",
              "  const files = yield {\n",
              "    promise: Promise.race([pickedPromise, cancelPromise]),\n",
              "    response: {\n",
              "      action: 'starting',\n",
              "    }\n",
              "  };\n",
              "\n",
              "  cancel.remove();\n",
              "\n",
              "  // Disable the input element since further picks are not allowed.\n",
              "  inputElement.disabled = true;\n",
              "\n",
              "  if (!files) {\n",
              "    return {\n",
              "      response: {\n",
              "        action: 'complete',\n",
              "      }\n",
              "    };\n",
              "  }\n",
              "\n",
              "  for (const file of files) {\n",
              "    const li = document.createElement('li');\n",
              "    li.append(span(file.name, {fontWeight: 'bold'}));\n",
              "    li.append(span(\n",
              "        `(${file.type || 'n/a'}) - ${file.size} bytes, ` +\n",
              "        `last modified: ${\n",
              "            file.lastModifiedDate ? file.lastModifiedDate.toLocaleDateString() :\n",
              "                                    'n/a'} - `));\n",
              "    const percent = span('0% done');\n",
              "    li.appendChild(percent);\n",
              "\n",
              "    outputElement.appendChild(li);\n",
              "\n",
              "    const fileDataPromise = new Promise((resolve) => {\n",
              "      const reader = new FileReader();\n",
              "      reader.onload = (e) => {\n",
              "        resolve(e.target.result);\n",
              "      };\n",
              "      reader.readAsArrayBuffer(file);\n",
              "    });\n",
              "    // Wait for the data to be ready.\n",
              "    let fileData = yield {\n",
              "      promise: fileDataPromise,\n",
              "      response: {\n",
              "        action: 'continue',\n",
              "      }\n",
              "    };\n",
              "\n",
              "    // Use a chunked sending to avoid message size limits. See b/62115660.\n",
              "    let position = 0;\n",
              "    do {\n",
              "      const length = Math.min(fileData.byteLength - position, MAX_PAYLOAD_SIZE);\n",
              "      const chunk = new Uint8Array(fileData, position, length);\n",
              "      position += length;\n",
              "\n",
              "      const base64 = btoa(String.fromCharCode.apply(null, chunk));\n",
              "      yield {\n",
              "        response: {\n",
              "          action: 'append',\n",
              "          file: file.name,\n",
              "          data: base64,\n",
              "        },\n",
              "      };\n",
              "\n",
              "      let percentDone = fileData.byteLength === 0 ?\n",
              "          100 :\n",
              "          Math.round((position / fileData.byteLength) * 100);\n",
              "      percent.textContent = `${percentDone}% done`;\n",
              "\n",
              "    } while (position < fileData.byteLength);\n",
              "  }\n",
              "\n",
              "  // All done.\n",
              "  yield {\n",
              "    response: {\n",
              "      action: 'complete',\n",
              "    }\n",
              "  };\n",
              "}\n",
              "\n",
              "scope.google = scope.google || {};\n",
              "scope.google.colab = scope.google.colab || {};\n",
              "scope.google.colab._files = {\n",
              "  _uploadFiles,\n",
              "  _uploadFilesContinue,\n",
              "};\n",
              "})(self);\n",
              "</script> "
            ]
          },
          "metadata": {}
        },
        {
          "output_type": "stream",
          "name": "stdout",
          "text": [
            "Saving gas_turbines.csv to gas_turbines.csv\n"
          ]
        }
      ],
      "source": [
        "from google.colab import files\n",
        "uploaded=files.upload()"
      ]
    },
    {
      "cell_type": "code",
      "execution_count": null,
      "metadata": {
        "id": "XvrK9ovx24ym"
      },
      "outputs": [],
      "source": [
        "dataset=pd.read_csv('gas_turbines.csv')"
      ]
    },
    {
      "cell_type": "code",
      "execution_count": null,
      "metadata": {
        "colab": {
          "base_uri": "https://localhost:8080/",
          "height": 488
        },
        "id": "lEku7tr8YcpR",
        "outputId": "c2f98ae5-b764-4eb4-d722-904d61409894"
      },
      "outputs": [
        {
          "output_type": "execute_result",
          "data": {
            "text/plain": [
              "           AT      AP      AH    AFDP    GTEP     TIT     TAT     TEY     CDP  \\\n",
              "0      6.8594  1007.9  96.799  3.5000  19.663  1059.2  550.00  114.70  10.605   \n",
              "1      6.7850  1008.4  97.118  3.4998  19.728  1059.3  550.00  114.72  10.598   \n",
              "2      6.8977  1008.8  95.939  3.4824  19.779  1059.4  549.87  114.71  10.601   \n",
              "3      7.0569  1009.2  95.249  3.4805  19.792  1059.6  549.99  114.72  10.606   \n",
              "4      7.3978  1009.7  95.150  3.4976  19.765  1059.7  549.98  114.72  10.612   \n",
              "...       ...     ...     ...     ...     ...     ...     ...     ...     ...   \n",
              "15034  9.0301  1005.6  98.460  3.5421  19.164  1049.7  546.21  111.61  10.400   \n",
              "15035  7.8879  1005.9  99.093  3.5059  19.414  1046.3  543.22  111.78  10.433   \n",
              "15036  7.2647  1006.3  99.496  3.4770  19.530  1037.7  537.32  110.19  10.483   \n",
              "15037  7.0060  1006.8  99.008  3.4486  19.377  1043.2  541.24  110.74  10.533   \n",
              "15038  6.9279  1007.2  97.533  3.4275  19.306  1049.9  545.85  111.58  10.583   \n",
              "\n",
              "           CO     NOX  \n",
              "0      3.1547  82.722  \n",
              "1      3.2363  82.776  \n",
              "2      3.2012  82.468  \n",
              "3      3.1923  82.670  \n",
              "4      3.2484  82.311  \n",
              "...       ...     ...  \n",
              "15034  4.5186  79.559  \n",
              "15035  4.8470  79.917  \n",
              "15036  7.9632  90.912  \n",
              "15037  6.2494  93.227  \n",
              "15038  4.9816  92.498  \n",
              "\n",
              "[15039 rows x 11 columns]"
            ],
            "text/html": [
              "\n",
              "  <div id=\"df-1964e491-3c7a-4103-b7d2-0f872b8cd2ad\">\n",
              "    <div class=\"colab-df-container\">\n",
              "      <div>\n",
              "<style scoped>\n",
              "    .dataframe tbody tr th:only-of-type {\n",
              "        vertical-align: middle;\n",
              "    }\n",
              "\n",
              "    .dataframe tbody tr th {\n",
              "        vertical-align: top;\n",
              "    }\n",
              "\n",
              "    .dataframe thead th {\n",
              "        text-align: right;\n",
              "    }\n",
              "</style>\n",
              "<table border=\"1\" class=\"dataframe\">\n",
              "  <thead>\n",
              "    <tr style=\"text-align: right;\">\n",
              "      <th></th>\n",
              "      <th>AT</th>\n",
              "      <th>AP</th>\n",
              "      <th>AH</th>\n",
              "      <th>AFDP</th>\n",
              "      <th>GTEP</th>\n",
              "      <th>TIT</th>\n",
              "      <th>TAT</th>\n",
              "      <th>TEY</th>\n",
              "      <th>CDP</th>\n",
              "      <th>CO</th>\n",
              "      <th>NOX</th>\n",
              "    </tr>\n",
              "  </thead>\n",
              "  <tbody>\n",
              "    <tr>\n",
              "      <th>0</th>\n",
              "      <td>6.8594</td>\n",
              "      <td>1007.9</td>\n",
              "      <td>96.799</td>\n",
              "      <td>3.5000</td>\n",
              "      <td>19.663</td>\n",
              "      <td>1059.2</td>\n",
              "      <td>550.00</td>\n",
              "      <td>114.70</td>\n",
              "      <td>10.605</td>\n",
              "      <td>3.1547</td>\n",
              "      <td>82.722</td>\n",
              "    </tr>\n",
              "    <tr>\n",
              "      <th>1</th>\n",
              "      <td>6.7850</td>\n",
              "      <td>1008.4</td>\n",
              "      <td>97.118</td>\n",
              "      <td>3.4998</td>\n",
              "      <td>19.728</td>\n",
              "      <td>1059.3</td>\n",
              "      <td>550.00</td>\n",
              "      <td>114.72</td>\n",
              "      <td>10.598</td>\n",
              "      <td>3.2363</td>\n",
              "      <td>82.776</td>\n",
              "    </tr>\n",
              "    <tr>\n",
              "      <th>2</th>\n",
              "      <td>6.8977</td>\n",
              "      <td>1008.8</td>\n",
              "      <td>95.939</td>\n",
              "      <td>3.4824</td>\n",
              "      <td>19.779</td>\n",
              "      <td>1059.4</td>\n",
              "      <td>549.87</td>\n",
              "      <td>114.71</td>\n",
              "      <td>10.601</td>\n",
              "      <td>3.2012</td>\n",
              "      <td>82.468</td>\n",
              "    </tr>\n",
              "    <tr>\n",
              "      <th>3</th>\n",
              "      <td>7.0569</td>\n",
              "      <td>1009.2</td>\n",
              "      <td>95.249</td>\n",
              "      <td>3.4805</td>\n",
              "      <td>19.792</td>\n",
              "      <td>1059.6</td>\n",
              "      <td>549.99</td>\n",
              "      <td>114.72</td>\n",
              "      <td>10.606</td>\n",
              "      <td>3.1923</td>\n",
              "      <td>82.670</td>\n",
              "    </tr>\n",
              "    <tr>\n",
              "      <th>4</th>\n",
              "      <td>7.3978</td>\n",
              "      <td>1009.7</td>\n",
              "      <td>95.150</td>\n",
              "      <td>3.4976</td>\n",
              "      <td>19.765</td>\n",
              "      <td>1059.7</td>\n",
              "      <td>549.98</td>\n",
              "      <td>114.72</td>\n",
              "      <td>10.612</td>\n",
              "      <td>3.2484</td>\n",
              "      <td>82.311</td>\n",
              "    </tr>\n",
              "    <tr>\n",
              "      <th>...</th>\n",
              "      <td>...</td>\n",
              "      <td>...</td>\n",
              "      <td>...</td>\n",
              "      <td>...</td>\n",
              "      <td>...</td>\n",
              "      <td>...</td>\n",
              "      <td>...</td>\n",
              "      <td>...</td>\n",
              "      <td>...</td>\n",
              "      <td>...</td>\n",
              "      <td>...</td>\n",
              "    </tr>\n",
              "    <tr>\n",
              "      <th>15034</th>\n",
              "      <td>9.0301</td>\n",
              "      <td>1005.6</td>\n",
              "      <td>98.460</td>\n",
              "      <td>3.5421</td>\n",
              "      <td>19.164</td>\n",
              "      <td>1049.7</td>\n",
              "      <td>546.21</td>\n",
              "      <td>111.61</td>\n",
              "      <td>10.400</td>\n",
              "      <td>4.5186</td>\n",
              "      <td>79.559</td>\n",
              "    </tr>\n",
              "    <tr>\n",
              "      <th>15035</th>\n",
              "      <td>7.8879</td>\n",
              "      <td>1005.9</td>\n",
              "      <td>99.093</td>\n",
              "      <td>3.5059</td>\n",
              "      <td>19.414</td>\n",
              "      <td>1046.3</td>\n",
              "      <td>543.22</td>\n",
              "      <td>111.78</td>\n",
              "      <td>10.433</td>\n",
              "      <td>4.8470</td>\n",
              "      <td>79.917</td>\n",
              "    </tr>\n",
              "    <tr>\n",
              "      <th>15036</th>\n",
              "      <td>7.2647</td>\n",
              "      <td>1006.3</td>\n",
              "      <td>99.496</td>\n",
              "      <td>3.4770</td>\n",
              "      <td>19.530</td>\n",
              "      <td>1037.7</td>\n",
              "      <td>537.32</td>\n",
              "      <td>110.19</td>\n",
              "      <td>10.483</td>\n",
              "      <td>7.9632</td>\n",
              "      <td>90.912</td>\n",
              "    </tr>\n",
              "    <tr>\n",
              "      <th>15037</th>\n",
              "      <td>7.0060</td>\n",
              "      <td>1006.8</td>\n",
              "      <td>99.008</td>\n",
              "      <td>3.4486</td>\n",
              "      <td>19.377</td>\n",
              "      <td>1043.2</td>\n",
              "      <td>541.24</td>\n",
              "      <td>110.74</td>\n",
              "      <td>10.533</td>\n",
              "      <td>6.2494</td>\n",
              "      <td>93.227</td>\n",
              "    </tr>\n",
              "    <tr>\n",
              "      <th>15038</th>\n",
              "      <td>6.9279</td>\n",
              "      <td>1007.2</td>\n",
              "      <td>97.533</td>\n",
              "      <td>3.4275</td>\n",
              "      <td>19.306</td>\n",
              "      <td>1049.9</td>\n",
              "      <td>545.85</td>\n",
              "      <td>111.58</td>\n",
              "      <td>10.583</td>\n",
              "      <td>4.9816</td>\n",
              "      <td>92.498</td>\n",
              "    </tr>\n",
              "  </tbody>\n",
              "</table>\n",
              "<p>15039 rows × 11 columns</p>\n",
              "</div>\n",
              "      <button class=\"colab-df-convert\" onclick=\"convertToInteractive('df-1964e491-3c7a-4103-b7d2-0f872b8cd2ad')\"\n",
              "              title=\"Convert this dataframe to an interactive table.\"\n",
              "              style=\"display:none;\">\n",
              "        \n",
              "  <svg xmlns=\"http://www.w3.org/2000/svg\" height=\"24px\"viewBox=\"0 0 24 24\"\n",
              "       width=\"24px\">\n",
              "    <path d=\"M0 0h24v24H0V0z\" fill=\"none\"/>\n",
              "    <path d=\"M18.56 5.44l.94 2.06.94-2.06 2.06-.94-2.06-.94-.94-2.06-.94 2.06-2.06.94zm-11 1L8.5 8.5l.94-2.06 2.06-.94-2.06-.94L8.5 2.5l-.94 2.06-2.06.94zm10 10l.94 2.06.94-2.06 2.06-.94-2.06-.94-.94-2.06-.94 2.06-2.06.94z\"/><path d=\"M17.41 7.96l-1.37-1.37c-.4-.4-.92-.59-1.43-.59-.52 0-1.04.2-1.43.59L10.3 9.45l-7.72 7.72c-.78.78-.78 2.05 0 2.83L4 21.41c.39.39.9.59 1.41.59.51 0 1.02-.2 1.41-.59l7.78-7.78 2.81-2.81c.8-.78.8-2.07 0-2.86zM5.41 20L4 18.59l7.72-7.72 1.47 1.35L5.41 20z\"/>\n",
              "  </svg>\n",
              "      </button>\n",
              "      \n",
              "  <style>\n",
              "    .colab-df-container {\n",
              "      display:flex;\n",
              "      flex-wrap:wrap;\n",
              "      gap: 12px;\n",
              "    }\n",
              "\n",
              "    .colab-df-convert {\n",
              "      background-color: #E8F0FE;\n",
              "      border: none;\n",
              "      border-radius: 50%;\n",
              "      cursor: pointer;\n",
              "      display: none;\n",
              "      fill: #1967D2;\n",
              "      height: 32px;\n",
              "      padding: 0 0 0 0;\n",
              "      width: 32px;\n",
              "    }\n",
              "\n",
              "    .colab-df-convert:hover {\n",
              "      background-color: #E2EBFA;\n",
              "      box-shadow: 0px 1px 2px rgba(60, 64, 67, 0.3), 0px 1px 3px 1px rgba(60, 64, 67, 0.15);\n",
              "      fill: #174EA6;\n",
              "    }\n",
              "\n",
              "    [theme=dark] .colab-df-convert {\n",
              "      background-color: #3B4455;\n",
              "      fill: #D2E3FC;\n",
              "    }\n",
              "\n",
              "    [theme=dark] .colab-df-convert:hover {\n",
              "      background-color: #434B5C;\n",
              "      box-shadow: 0px 1px 3px 1px rgba(0, 0, 0, 0.15);\n",
              "      filter: drop-shadow(0px 1px 2px rgba(0, 0, 0, 0.3));\n",
              "      fill: #FFFFFF;\n",
              "    }\n",
              "  </style>\n",
              "\n",
              "      <script>\n",
              "        const buttonEl =\n",
              "          document.querySelector('#df-1964e491-3c7a-4103-b7d2-0f872b8cd2ad button.colab-df-convert');\n",
              "        buttonEl.style.display =\n",
              "          google.colab.kernel.accessAllowed ? 'block' : 'none';\n",
              "\n",
              "        async function convertToInteractive(key) {\n",
              "          const element = document.querySelector('#df-1964e491-3c7a-4103-b7d2-0f872b8cd2ad');\n",
              "          const dataTable =\n",
              "            await google.colab.kernel.invokeFunction('convertToInteractive',\n",
              "                                                     [key], {});\n",
              "          if (!dataTable) return;\n",
              "\n",
              "          const docLinkHtml = 'Like what you see? Visit the ' +\n",
              "            '<a target=\"_blank\" href=https://colab.research.google.com/notebooks/data_table.ipynb>data table notebook</a>'\n",
              "            + ' to learn more about interactive tables.';\n",
              "          element.innerHTML = '';\n",
              "          dataTable['output_type'] = 'display_data';\n",
              "          await google.colab.output.renderOutput(dataTable, element);\n",
              "          const docLink = document.createElement('div');\n",
              "          docLink.innerHTML = docLinkHtml;\n",
              "          element.appendChild(docLink);\n",
              "        }\n",
              "      </script>\n",
              "    </div>\n",
              "  </div>\n",
              "  "
            ]
          },
          "metadata": {},
          "execution_count": 72
        }
      ],
      "source": [
        "dataset"
      ]
    },
    {
      "cell_type": "code",
      "execution_count": null,
      "metadata": {
        "colab": {
          "base_uri": "https://localhost:8080/"
        },
        "id": "EVo_H-aagvyY",
        "outputId": "4c9f29d9-b06b-4734-b163-cefce5d8954c"
      },
      "outputs": [
        {
          "output_type": "execute_result",
          "data": {
            "text/plain": [
              "Index(['AT', 'AP', 'AH', 'AFDP', 'GTEP', 'TIT', 'TAT', 'TEY', 'CDP', 'CO',\n",
              "       'NOX'],\n",
              "      dtype='object')"
            ]
          },
          "metadata": {},
          "execution_count": 73
        }
      ],
      "source": [
        "dataset.columns"
      ]
    },
    {
      "cell_type": "code",
      "execution_count": null,
      "metadata": {
        "colab": {
          "base_uri": "https://localhost:8080/"
        },
        "id": "qvZ9lcRt-jvr",
        "outputId": "13fc02b6-c4e3-4194-8713-292ae1c4fc3d"
      },
      "outputs": [
        {
          "output_type": "execute_result",
          "data": {
            "text/plain": [
              "(15039, 11)"
            ]
          },
          "metadata": {},
          "execution_count": 74
        }
      ],
      "source": [
        "dataset.shape"
      ]
    },
    {
      "cell_type": "code",
      "execution_count": null,
      "metadata": {
        "colab": {
          "base_uri": "https://localhost:8080/",
          "height": 270
        },
        "id": "v0SZc9Y_-P3m",
        "outputId": "2b1c7704-3716-4cee-8a9e-4ad7ac6ae2a8"
      },
      "outputs": [
        {
          "output_type": "execute_result",
          "data": {
            "text/plain": [
              "       AT      AP      AH    AFDP    GTEP     TIT     TAT     TEY     CDP  \\\n",
              "0  6.8594  1007.9  96.799  3.5000  19.663  1059.2  550.00  114.70  10.605   \n",
              "1  6.7850  1008.4  97.118  3.4998  19.728  1059.3  550.00  114.72  10.598   \n",
              "2  6.8977  1008.8  95.939  3.4824  19.779  1059.4  549.87  114.71  10.601   \n",
              "3  7.0569  1009.2  95.249  3.4805  19.792  1059.6  549.99  114.72  10.606   \n",
              "4  7.3978  1009.7  95.150  3.4976  19.765  1059.7  549.98  114.72  10.612   \n",
              "\n",
              "       CO     NOX TEY_cat  \n",
              "0  3.1547  82.722          \n",
              "1  3.2363  82.776          \n",
              "2  3.2012  82.468          \n",
              "3  3.1923  82.670          \n",
              "4  3.2484  82.311          "
            ],
            "text/html": [
              "\n",
              "  <div id=\"df-7798ee5d-d8a7-4197-9682-b4708339ee3b\">\n",
              "    <div class=\"colab-df-container\">\n",
              "      <div>\n",
              "<style scoped>\n",
              "    .dataframe tbody tr th:only-of-type {\n",
              "        vertical-align: middle;\n",
              "    }\n",
              "\n",
              "    .dataframe tbody tr th {\n",
              "        vertical-align: top;\n",
              "    }\n",
              "\n",
              "    .dataframe thead th {\n",
              "        text-align: right;\n",
              "    }\n",
              "</style>\n",
              "<table border=\"1\" class=\"dataframe\">\n",
              "  <thead>\n",
              "    <tr style=\"text-align: right;\">\n",
              "      <th></th>\n",
              "      <th>AT</th>\n",
              "      <th>AP</th>\n",
              "      <th>AH</th>\n",
              "      <th>AFDP</th>\n",
              "      <th>GTEP</th>\n",
              "      <th>TIT</th>\n",
              "      <th>TAT</th>\n",
              "      <th>TEY</th>\n",
              "      <th>CDP</th>\n",
              "      <th>CO</th>\n",
              "      <th>NOX</th>\n",
              "      <th>TEY_cat</th>\n",
              "    </tr>\n",
              "  </thead>\n",
              "  <tbody>\n",
              "    <tr>\n",
              "      <th>0</th>\n",
              "      <td>6.8594</td>\n",
              "      <td>1007.9</td>\n",
              "      <td>96.799</td>\n",
              "      <td>3.5000</td>\n",
              "      <td>19.663</td>\n",
              "      <td>1059.2</td>\n",
              "      <td>550.00</td>\n",
              "      <td>114.70</td>\n",
              "      <td>10.605</td>\n",
              "      <td>3.1547</td>\n",
              "      <td>82.722</td>\n",
              "      <td></td>\n",
              "    </tr>\n",
              "    <tr>\n",
              "      <th>1</th>\n",
              "      <td>6.7850</td>\n",
              "      <td>1008.4</td>\n",
              "      <td>97.118</td>\n",
              "      <td>3.4998</td>\n",
              "      <td>19.728</td>\n",
              "      <td>1059.3</td>\n",
              "      <td>550.00</td>\n",
              "      <td>114.72</td>\n",
              "      <td>10.598</td>\n",
              "      <td>3.2363</td>\n",
              "      <td>82.776</td>\n",
              "      <td></td>\n",
              "    </tr>\n",
              "    <tr>\n",
              "      <th>2</th>\n",
              "      <td>6.8977</td>\n",
              "      <td>1008.8</td>\n",
              "      <td>95.939</td>\n",
              "      <td>3.4824</td>\n",
              "      <td>19.779</td>\n",
              "      <td>1059.4</td>\n",
              "      <td>549.87</td>\n",
              "      <td>114.71</td>\n",
              "      <td>10.601</td>\n",
              "      <td>3.2012</td>\n",
              "      <td>82.468</td>\n",
              "      <td></td>\n",
              "    </tr>\n",
              "    <tr>\n",
              "      <th>3</th>\n",
              "      <td>7.0569</td>\n",
              "      <td>1009.2</td>\n",
              "      <td>95.249</td>\n",
              "      <td>3.4805</td>\n",
              "      <td>19.792</td>\n",
              "      <td>1059.6</td>\n",
              "      <td>549.99</td>\n",
              "      <td>114.72</td>\n",
              "      <td>10.606</td>\n",
              "      <td>3.1923</td>\n",
              "      <td>82.670</td>\n",
              "      <td></td>\n",
              "    </tr>\n",
              "    <tr>\n",
              "      <th>4</th>\n",
              "      <td>7.3978</td>\n",
              "      <td>1009.7</td>\n",
              "      <td>95.150</td>\n",
              "      <td>3.4976</td>\n",
              "      <td>19.765</td>\n",
              "      <td>1059.7</td>\n",
              "      <td>549.98</td>\n",
              "      <td>114.72</td>\n",
              "      <td>10.612</td>\n",
              "      <td>3.2484</td>\n",
              "      <td>82.311</td>\n",
              "      <td></td>\n",
              "    </tr>\n",
              "  </tbody>\n",
              "</table>\n",
              "</div>\n",
              "      <button class=\"colab-df-convert\" onclick=\"convertToInteractive('df-7798ee5d-d8a7-4197-9682-b4708339ee3b')\"\n",
              "              title=\"Convert this dataframe to an interactive table.\"\n",
              "              style=\"display:none;\">\n",
              "        \n",
              "  <svg xmlns=\"http://www.w3.org/2000/svg\" height=\"24px\"viewBox=\"0 0 24 24\"\n",
              "       width=\"24px\">\n",
              "    <path d=\"M0 0h24v24H0V0z\" fill=\"none\"/>\n",
              "    <path d=\"M18.56 5.44l.94 2.06.94-2.06 2.06-.94-2.06-.94-.94-2.06-.94 2.06-2.06.94zm-11 1L8.5 8.5l.94-2.06 2.06-.94-2.06-.94L8.5 2.5l-.94 2.06-2.06.94zm10 10l.94 2.06.94-2.06 2.06-.94-2.06-.94-.94-2.06-.94 2.06-2.06.94z\"/><path d=\"M17.41 7.96l-1.37-1.37c-.4-.4-.92-.59-1.43-.59-.52 0-1.04.2-1.43.59L10.3 9.45l-7.72 7.72c-.78.78-.78 2.05 0 2.83L4 21.41c.39.39.9.59 1.41.59.51 0 1.02-.2 1.41-.59l7.78-7.78 2.81-2.81c.8-.78.8-2.07 0-2.86zM5.41 20L4 18.59l7.72-7.72 1.47 1.35L5.41 20z\"/>\n",
              "  </svg>\n",
              "      </button>\n",
              "      \n",
              "  <style>\n",
              "    .colab-df-container {\n",
              "      display:flex;\n",
              "      flex-wrap:wrap;\n",
              "      gap: 12px;\n",
              "    }\n",
              "\n",
              "    .colab-df-convert {\n",
              "      background-color: #E8F0FE;\n",
              "      border: none;\n",
              "      border-radius: 50%;\n",
              "      cursor: pointer;\n",
              "      display: none;\n",
              "      fill: #1967D2;\n",
              "      height: 32px;\n",
              "      padding: 0 0 0 0;\n",
              "      width: 32px;\n",
              "    }\n",
              "\n",
              "    .colab-df-convert:hover {\n",
              "      background-color: #E2EBFA;\n",
              "      box-shadow: 0px 1px 2px rgba(60, 64, 67, 0.3), 0px 1px 3px 1px rgba(60, 64, 67, 0.15);\n",
              "      fill: #174EA6;\n",
              "    }\n",
              "\n",
              "    [theme=dark] .colab-df-convert {\n",
              "      background-color: #3B4455;\n",
              "      fill: #D2E3FC;\n",
              "    }\n",
              "\n",
              "    [theme=dark] .colab-df-convert:hover {\n",
              "      background-color: #434B5C;\n",
              "      box-shadow: 0px 1px 3px 1px rgba(0, 0, 0, 0.15);\n",
              "      filter: drop-shadow(0px 1px 2px rgba(0, 0, 0, 0.3));\n",
              "      fill: #FFFFFF;\n",
              "    }\n",
              "  </style>\n",
              "\n",
              "      <script>\n",
              "        const buttonEl =\n",
              "          document.querySelector('#df-7798ee5d-d8a7-4197-9682-b4708339ee3b button.colab-df-convert');\n",
              "        buttonEl.style.display =\n",
              "          google.colab.kernel.accessAllowed ? 'block' : 'none';\n",
              "\n",
              "        async function convertToInteractive(key) {\n",
              "          const element = document.querySelector('#df-7798ee5d-d8a7-4197-9682-b4708339ee3b');\n",
              "          const dataTable =\n",
              "            await google.colab.kernel.invokeFunction('convertToInteractive',\n",
              "                                                     [key], {});\n",
              "          if (!dataTable) return;\n",
              "\n",
              "          const docLinkHtml = 'Like what you see? Visit the ' +\n",
              "            '<a target=\"_blank\" href=https://colab.research.google.com/notebooks/data_table.ipynb>data table notebook</a>'\n",
              "            + ' to learn more about interactive tables.';\n",
              "          element.innerHTML = '';\n",
              "          dataTable['output_type'] = 'display_data';\n",
              "          await google.colab.output.renderOutput(dataTable, element);\n",
              "          const docLink = document.createElement('div');\n",
              "          docLink.innerHTML = docLinkHtml;\n",
              "          element.appendChild(docLink);\n",
              "        }\n",
              "      </script>\n",
              "    </div>\n",
              "  </div>\n",
              "  "
            ]
          },
          "metadata": {},
          "execution_count": 75
        }
      ],
      "source": [
        "dataset.insert(11,'TEY_cat','')\n",
        "dataset.head()"
      ]
    },
    {
      "cell_type": "code",
      "execution_count": null,
      "metadata": {
        "id": "6I2ABZwF-P0G"
      },
      "outputs": [],
      "source": [
        "for i in range (0,len(dataset['TEY'])):\n",
        "  if dataset['TEY'][i]<=130:\n",
        "    dataset['TEY_cat'][i]='Bad'\n",
        "  else:\n",
        "    dataset['TEY_cat'][i]='Good'"
      ]
    },
    {
      "cell_type": "code",
      "execution_count": null,
      "metadata": {
        "id": "ioY9iseR-Pw4"
      },
      "outputs": [],
      "source": [
        "label_encoder=preprocessing.LabelEncoder()\n",
        "dataset['TEY_cat']=label_encoder.fit_transform(dataset['TEY_cat'])"
      ]
    },
    {
      "cell_type": "code",
      "execution_count": null,
      "metadata": {
        "id": "mAxLrv47-PuO"
      },
      "outputs": [],
      "source": [
        "dataset=dataset.drop('TEY',axis=1)"
      ]
    },
    {
      "cell_type": "code",
      "execution_count": null,
      "metadata": {
        "colab": {
          "base_uri": "https://localhost:8080/"
        },
        "id": "eBf07bPQ-xQo",
        "outputId": "08b77b48-09d3-48dc-c099-a4af0bf8b86f"
      },
      "outputs": [
        {
          "output_type": "execute_result",
          "data": {
            "text/plain": [
              "(15039, 11)"
            ]
          },
          "metadata": {},
          "execution_count": 79
        }
      ],
      "source": [
        "dataset.shape"
      ]
    },
    {
      "cell_type": "code",
      "source": [
        "dataset.info()"
      ],
      "metadata": {
        "colab": {
          "base_uri": "https://localhost:8080/"
        },
        "id": "iZcF2oxw_Scp",
        "outputId": "71f90b9b-7e04-4927-b3a3-2caa21dc9585"
      },
      "execution_count": null,
      "outputs": [
        {
          "output_type": "stream",
          "name": "stdout",
          "text": [
            "<class 'pandas.core.frame.DataFrame'>\n",
            "RangeIndex: 15039 entries, 0 to 15038\n",
            "Data columns (total 11 columns):\n",
            " #   Column   Non-Null Count  Dtype  \n",
            "---  ------   --------------  -----  \n",
            " 0   AT       15039 non-null  float64\n",
            " 1   AP       15039 non-null  float64\n",
            " 2   AH       15039 non-null  float64\n",
            " 3   AFDP     15039 non-null  float64\n",
            " 4   GTEP     15039 non-null  float64\n",
            " 5   TIT      15039 non-null  float64\n",
            " 6   TAT      15039 non-null  float64\n",
            " 7   CDP      15039 non-null  float64\n",
            " 8   CO       15039 non-null  float64\n",
            " 9   NOX      15039 non-null  float64\n",
            " 10  TEY_cat  15039 non-null  int64  \n",
            "dtypes: float64(10), int64(1)\n",
            "memory usage: 1.3 MB\n"
          ]
        }
      ]
    },
    {
      "cell_type": "code",
      "source": [
        "dataset.duplicated().sum()"
      ],
      "metadata": {
        "colab": {
          "base_uri": "https://localhost:8080/"
        },
        "id": "20D_oLPN_SZK",
        "outputId": "4c1c70a7-2ac3-4d17-f39d-2e2c1df87155"
      },
      "execution_count": null,
      "outputs": [
        {
          "output_type": "execute_result",
          "data": {
            "text/plain": [
              "0"
            ]
          },
          "metadata": {},
          "execution_count": 81
        }
      ]
    },
    {
      "cell_type": "code",
      "source": [
        "dataset.isnull().sum()"
      ],
      "metadata": {
        "colab": {
          "base_uri": "https://localhost:8080/"
        },
        "id": "tuN3U8Q4B_MX",
        "outputId": "1405882d-0d65-4aad-b4a9-9b3904912a38"
      },
      "execution_count": null,
      "outputs": [
        {
          "output_type": "execute_result",
          "data": {
            "text/plain": [
              "AT         0\n",
              "AP         0\n",
              "AH         0\n",
              "AFDP       0\n",
              "GTEP       0\n",
              "TIT        0\n",
              "TAT        0\n",
              "CDP        0\n",
              "CO         0\n",
              "NOX        0\n",
              "TEY_cat    0\n",
              "dtype: int64"
            ]
          },
          "metadata": {},
          "execution_count": 82
        }
      ]
    },
    {
      "cell_type": "code",
      "source": [
        "dataset.boxplot()"
      ],
      "metadata": {
        "colab": {
          "base_uri": "https://localhost:8080/",
          "height": 283
        },
        "id": "q3VBYxygB_Iu",
        "outputId": "d02abdd9-05d1-47bb-b6c5-dd86cdf4ff72"
      },
      "execution_count": null,
      "outputs": [
        {
          "output_type": "execute_result",
          "data": {
            "text/plain": [
              "<AxesSubplot:>"
            ]
          },
          "metadata": {},
          "execution_count": 83
        },
        {
          "output_type": "display_data",
          "data": {
            "text/plain": [
              "<Figure size 432x288 with 1 Axes>"
            ],
            "image/png": "[encoded data removed]"
          },
          "metadata": {
            "needs_background": "light"
          }
        }
      ]
    },
    {
      "cell_type": "code",
      "source": [
        "import matplotlib.pyplot as plt\n",
        "plt.boxplot(dataset['TIT'])"
      ],
      "metadata": {
        "colab": {
          "base_uri": "https://localhost:8080/",
          "height": 404
        },
        "id": "HtrvRHzBCzME",
        "outputId": "4535c739-8d54-43fd-c9f4-4c987690399c"
      },
      "execution_count": null,
      "outputs": [
        {
          "output_type": "execute_result",
          "data": {
            "text/plain": [
              "{'whiskers': [<matplotlib.lines.Line2D at 0x7f1d45343100>,\n",
              "  <matplotlib.lines.Line2D at 0x7f1d45375850>],\n",
              " 'caps': [<matplotlib.lines.Line2D at 0x7f1d45375b20>,\n",
              "  <matplotlib.lines.Line2D at 0x7f1d45375df0>],\n",
              " 'boxes': [<matplotlib.lines.Line2D at 0x7f1d453753d0>],\n",
              " 'medians': [<matplotlib.lines.Line2D at 0x7f1d45365100>],\n",
              " 'fliers': [<matplotlib.lines.Line2D at 0x7f1d453653d0>],\n",
              " 'means': []}"
            ]
          },
          "metadata": {},
          "execution_count": 84
        },
        {
          "output_type": "display_data",
          "data": {
            "text/plain": [
              "<Figure size 432x288 with 1 Axes>"
            ],
            "image/png": "[encoded data removed]"
          },
          "metadata": {
            "needs_background": "light"
          }
        }
      ]
    },
    {
      "cell_type": "code",
      "source": [
        "dataset=dataset.drop(dataset[dataset['TIT']<1070].index,axis=0)"
      ],
      "metadata": {
        "id": "lWvBo0hUB_Gf"
      },
      "execution_count": null,
      "outputs": []
    },
    {
      "cell_type": "code",
      "source": [
        "import matplotlib.pyplot as plt\n",
        "plt.boxplot(dataset['AP'])"
      ],
      "metadata": {
        "colab": {
          "base_uri": "https://localhost:8080/",
          "height": 404
        },
        "id": "z1x1H4ODB_Dx",
        "outputId": "2ecdf9d3-b0e6-46d0-f05a-64ced9ab88d4"
      },
      "execution_count": null,
      "outputs": [
        {
          "output_type": "execute_result",
          "data": {
            "text/plain": [
              "{'whiskers': [<matplotlib.lines.Line2D at 0x7f1d4fb2b580>,\n",
              "  <matplotlib.lines.Line2D at 0x7f1d4fb2b850>],\n",
              " 'caps': [<matplotlib.lines.Line2D at 0x7f1d4fb2bb20>,\n",
              "  <matplotlib.lines.Line2D at 0x7f1d4fb2bdf0>],\n",
              " 'boxes': [<matplotlib.lines.Line2D at 0x7f1d4fb2b2b0>],\n",
              " 'medians': [<matplotlib.lines.Line2D at 0x7f1d4fb212b0>],\n",
              " 'fliers': [<matplotlib.lines.Line2D at 0x7f1d4fb21580>],\n",
              " 'means': []}"
            ]
          },
          "metadata": {},
          "execution_count": 86
        },
        {
          "output_type": "display_data",
          "data": {
            "text/plain": [
              "<Figure size 432x288 with 1 Axes>"
            ],
            "image/png": "[encoded data removed]"
          },
          "metadata": {
            "needs_background": "light"
          }
        }
      ]
    },
    {
      "cell_type": "code",
      "source": [
        "dataset=dataset.drop(dataset[dataset['AP']>1025].index,axis=0)\n",
        "dataset=dataset.drop(dataset[dataset['AP']<1000].index,axis=0)"
      ],
      "metadata": {
        "id": "AKONqWMd_SVu"
      },
      "execution_count": null,
      "outputs": []
    },
    {
      "cell_type": "code",
      "source": [
        "import matplotlib.pyplot as plt\n",
        "plt.boxplot(dataset['TAT'])"
      ],
      "metadata": {
        "colab": {
          "base_uri": "https://localhost:8080/",
          "height": 404
        },
        "id": "rg5bXLGu_SRx",
        "outputId": "c57a38bc-5965-4176-a40e-5b7208e5c1bb"
      },
      "execution_count": null,
      "outputs": [
        {
          "output_type": "execute_result",
          "data": {
            "text/plain": [
              "{'whiskers': [<matplotlib.lines.Line2D at 0x7f1d4facf970>,\n",
              "  <matplotlib.lines.Line2D at 0x7f1d4fc8f280>],\n",
              " 'caps': [<matplotlib.lines.Line2D at 0x7f1d4fc8f370>,\n",
              "  <matplotlib.lines.Line2D at 0x7f1d4fc8fcd0>],\n",
              " 'boxes': [<matplotlib.lines.Line2D at 0x7f1d4fa85e20>],\n",
              " 'medians': [<matplotlib.lines.Line2D at 0x7f1d4fc8f5e0>],\n",
              " 'fliers': [<matplotlib.lines.Line2D at 0x7f1d4fc8f6d0>],\n",
              " 'means': []}"
            ]
          },
          "metadata": {},
          "execution_count": 88
        },
        {
          "output_type": "display_data",
          "data": {
            "text/plain": [
              "<Figure size 432x288 with 1 Axes>"
            ],
            "image/png": "[encoded data removed]"
          },
          "metadata": {
            "needs_background": "light"
          }
        }
      ]
    },
    {
      "cell_type": "code",
      "source": [
        "dataset=dataset.drop(dataset[dataset['TAT']<530].index,axis=0)"
      ],
      "metadata": {
        "id": "enYxamH8_SOm"
      },
      "execution_count": null,
      "outputs": []
    },
    {
      "cell_type": "code",
      "source": [
        "import matplotlib.pyplot as plt\n",
        "plt.boxplot(dataset['CO'])"
      ],
      "metadata": {
        "colab": {
          "base_uri": "https://localhost:8080/",
          "height": 404
        },
        "id": "F2910JQjDlkv",
        "outputId": "901c3225-dbc7-4ee5-f5c7-88ebf8b2d596"
      },
      "execution_count": null,
      "outputs": [
        {
          "output_type": "execute_result",
          "data": {
            "text/plain": [
              "{'whiskers': [<matplotlib.lines.Line2D at 0x7f1d55524a90>,\n",
              "  <matplotlib.lines.Line2D at 0x7f1d55f3cb80>],\n",
              " 'caps': [<matplotlib.lines.Line2D at 0x7f1d553c2460>,\n",
              "  <matplotlib.lines.Line2D at 0x7f1d5556f610>],\n",
              " 'boxes': [<matplotlib.lines.Line2D at 0x7f1d55524b50>],\n",
              " 'medians': [<matplotlib.lines.Line2D at 0x7f1d5556f3d0>],\n",
              " 'fliers': [<matplotlib.lines.Line2D at 0x7f1d5556fb50>],\n",
              " 'means': []}"
            ]
          },
          "metadata": {},
          "execution_count": 90
        },
        {
          "output_type": "display_data",
          "data": {
            "text/plain": [
              "<Figure size 432x288 with 1 Axes>"
            ],
            "image/png": "[encoded data removed]"
          },
          "metadata": {
            "needs_background": "light"
          }
        }
      ]
    },
    {
      "cell_type": "code",
      "source": [
        "dataset=dataset.drop(dataset[dataset['CO']>3].index,axis=0)"
      ],
      "metadata": {
        "id": "X7sPSD1ZDlhK"
      },
      "execution_count": null,
      "outputs": []
    },
    {
      "cell_type": "code",
      "source": [
        "import matplotlib.pyplot as plt\n",
        "plt.boxplot(dataset['NOX'])"
      ],
      "metadata": {
        "colab": {
          "base_uri": "https://localhost:8080/",
          "height": 404
        },
        "id": "CtWUhhvmDleM",
        "outputId": "07a1bf06-1308-4ea4-e330-24d58c97eee2"
      },
      "execution_count": null,
      "outputs": [
        {
          "output_type": "execute_result",
          "data": {
            "text/plain": [
              "{'whiskers': [<matplotlib.lines.Line2D at 0x7f1d4fbdd520>,\n",
              "  <matplotlib.lines.Line2D at 0x7f1d4fbddbe0>],\n",
              " 'caps': [<matplotlib.lines.Line2D at 0x7f1d4fbdddf0>,\n",
              "  <matplotlib.lines.Line2D at 0x7f1d4c047e50>],\n",
              " 'boxes': [<matplotlib.lines.Line2D at 0x7f1d4fbdd2e0>],\n",
              " 'medians': [<matplotlib.lines.Line2D at 0x7f1d55575550>],\n",
              " 'fliers': [<matplotlib.lines.Line2D at 0x7f1d555759a0>],\n",
              " 'means': []}"
            ]
          },
          "metadata": {},
          "execution_count": 92
        },
        {
          "output_type": "display_data",
          "data": {
            "text/plain": [
              "<Figure size 432x288 with 1 Axes>"
            ],
            "image/png": "[encoded data removed]"
          },
          "metadata": {
            "needs_background": "light"
          }
        }
      ]
    },
    {
      "cell_type": "code",
      "source": [
        "dataset=dataset.drop(dataset[dataset['NOX']>85].index,axis=0)\n",
        "dataset=dataset.drop(dataset[dataset['NOX']<50].index,axis=0)"
      ],
      "metadata": {
        "id": "D703MyNeDlbc"
      },
      "execution_count": null,
      "outputs": []
    },
    {
      "cell_type": "code",
      "source": [
        "dataset.shape"
      ],
      "metadata": {
        "colab": {
          "base_uri": "https://localhost:8080/"
        },
        "id": "yz1-0wCiDlYZ",
        "outputId": "3b2160ec-89ad-450d-9b27-265b1723f3bc"
      },
      "execution_count": null,
      "outputs": [
        {
          "output_type": "execute_result",
          "data": {
            "text/plain": [
              "(9502, 11)"
            ]
          },
          "metadata": {},
          "execution_count": 94
        }
      ]
    },
    {
      "cell_type": "code",
      "execution_count": null,
      "metadata": {
        "id": "f6cPgle524wN"
      },
      "outputs": [],
      "source": [
        "X=dataset[['AT','AP','AH','AFDP','GTEP','TIT','TAT','CDP','CO','NOX']]\n",
        "Y=dataset['TEY_cat']"
      ]
    },
    {
      "cell_type": "code",
      "execution_count": null,
      "metadata": {
        "id": "trcDm2mk24ta"
      },
      "outputs": [],
      "source": [
        "a=StandardScaler()\n",
        "a.fit(X)\n",
        "x_standardized=a.transform(X)"
      ]
    },
    {
      "cell_type": "code",
      "execution_count": null,
      "metadata": {
        "colab": {
          "base_uri": "https://localhost:8080/",
          "height": 364
        },
        "id": "B5c_hC2s24qp",
        "outputId": "04aaaf52-d2ed-4af4-ed28-241da11d9ab8"
      },
      "outputs": [
        {
          "output_type": "execute_result",
          "data": {
            "text/plain": [
              "                  0             1             2             3             4  \\\n",
              "count  9.502000e+03  9.502000e+03  9.502000e+03  9.502000e+03  9.502000e+03   \n",
              "mean  -2.392903e-17  1.573334e-14  5.952347e-16 -8.375162e-17 -8.554629e-16   \n",
              "std    1.000053e+00  1.000053e+00  1.000053e+00  1.000053e+00  1.000053e+00   \n",
              "min   -2.474013e+00 -2.428400e+00 -3.254390e+00 -2.779632e+00 -1.882871e+00   \n",
              "25%   -8.152473e-01 -7.085767e-01 -7.374100e-01 -5.498621e-01 -7.397015e-01   \n",
              "50%    1.070286e-01 -3.224168e-02  1.776826e-01 -2.585404e-02 -3.059705e-01   \n",
              "75%    8.235210e-01  6.827411e-01  8.242782e-01  3.849354e-01  3.523977e-01   \n",
              "max    2.101247e+00  2.402564e+00  1.576862e+00  5.312236e+00  2.519573e+00   \n",
              "\n",
              "                  5             6             7             8             9  \n",
              "count  9.502000e+03  9.502000e+03  9.502000e+03  9.502000e+03  9.502000e+03  \n",
              "mean  -2.371965e-14  1.091762e-15  1.058860e-15 -2.033968e-16 -5.264387e-16  \n",
              "std    1.000053e+00  1.000053e+00  1.000053e+00  1.000053e+00  1.000053e+00  \n",
              "min   -3.343773e+00 -2.675706e+00 -1.957804e+00 -2.114867e+00 -2.311044e+00  \n",
              "25%   -7.402212e-01 -1.960403e-01 -6.690602e-01 -7.480759e-01 -7.506118e-01  \n",
              "50%   -4.594073e-02  5.401105e-01 -3.616534e-01 -9.969417e-04 -1.236208e-01  \n",
              "75%    8.219098e-01  5.675547e-01  3.680682e-01  6.597701e-01  6.892313e-01  \n",
              "max    1.484632e+00  6.515018e-01  2.465602e+00  3.137285e+00  2.346815e+00  "
            ],
            "text/html": [
              "\n",
              "  <div id=\"df-5520d999-3844-4269-97ca-dcec1ca3c83c\">\n",
              "    <div class=\"colab-df-container\">\n",
              "      <div>\n",
              "<style scoped>\n",
              "    .dataframe tbody tr th:only-of-type {\n",
              "        vertical-align: middle;\n",
              "    }\n",
              "\n",
              "    .dataframe tbody tr th {\n",
              "        vertical-align: top;\n",
              "    }\n",
              "\n",
              "    .dataframe thead th {\n",
              "        text-align: right;\n",
              "    }\n",
              "</style>\n",
              "<table border=\"1\" class=\"dataframe\">\n",
              "  <thead>\n",
              "    <tr style=\"text-align: right;\">\n",
              "      <th></th>\n",
              "      <th>0</th>\n",
              "      <th>1</th>\n",
              "      <th>2</th>\n",
              "      <th>3</th>\n",
              "      <th>4</th>\n",
              "      <th>5</th>\n",
              "      <th>6</th>\n",
              "      <th>7</th>\n",
              "      <th>8</th>\n",
              "      <th>9</th>\n",
              "    </tr>\n",
              "  </thead>\n",
              "  <tbody>\n",
              "    <tr>\n",
              "      <th>count</th>\n",
              "      <td>9.502000e+03</td>\n",
              "      <td>9.502000e+03</td>\n",
              "      <td>9.502000e+03</td>\n",
              "      <td>9.502000e+03</td>\n",
              "      <td>9.502000e+03</td>\n",
              "      <td>9.502000e+03</td>\n",
              "      <td>9.502000e+03</td>\n",
              "      <td>9.502000e+03</td>\n",
              "      <td>9.502000e+03</td>\n",
              "      <td>9.502000e+03</td>\n",
              "    </tr>\n",
              "    <tr>\n",
              "      <th>mean</th>\n",
              "      <td>-2.392903e-17</td>\n",
              "      <td>1.573334e-14</td>\n",
              "      <td>5.952347e-16</td>\n",
              "      <td>-8.375162e-17</td>\n",
              "      <td>-8.554629e-16</td>\n",
              "      <td>-2.371965e-14</td>\n",
              "      <td>1.091762e-15</td>\n",
              "      <td>1.058860e-15</td>\n",
              "      <td>-2.033968e-16</td>\n",
              "      <td>-5.264387e-16</td>\n",
              "    </tr>\n",
              "    <tr>\n",
              "      <th>std</th>\n",
              "      <td>1.000053e+00</td>\n",
              "      <td>1.000053e+00</td>\n",
              "      <td>1.000053e+00</td>\n",
              "      <td>1.000053e+00</td>\n",
              "      <td>1.000053e+00</td>\n",
              "      <td>1.000053e+00</td>\n",
              "      <td>1.000053e+00</td>\n",
              "      <td>1.000053e+00</td>\n",
              "      <td>1.000053e+00</td>\n",
              "      <td>1.000053e+00</td>\n",
              "    </tr>\n",
              "    <tr>\n",
              "      <th>min</th>\n",
              "      <td>-2.474013e+00</td>\n",
              "      <td>-2.428400e+00</td>\n",
              "      <td>-3.254390e+00</td>\n",
              "      <td>-2.779632e+00</td>\n",
              "      <td>-1.882871e+00</td>\n",
              "      <td>-3.343773e+00</td>\n",
              "      <td>-2.675706e+00</td>\n",
              "      <td>-1.957804e+00</td>\n",
              "      <td>-2.114867e+00</td>\n",
              "      <td>-2.311044e+00</td>\n",
              "    </tr>\n",
              "    <tr>\n",
              "      <th>25%</th>\n",
              "      <td>-8.152473e-01</td>\n",
              "      <td>-7.085767e-01</td>\n",
              "      <td>-7.374100e-01</td>\n",
              "      <td>-5.498621e-01</td>\n",
              "      <td>-7.397015e-01</td>\n",
              "      <td>-7.402212e-01</td>\n",
              "      <td>-1.960403e-01</td>\n",
              "      <td>-6.690602e-01</td>\n",
              "      <td>-7.480759e-01</td>\n",
              "      <td>-7.506118e-01</td>\n",
              "    </tr>\n",
              "    <tr>\n",
              "      <th>50%</th>\n",
              "      <td>1.070286e-01</td>\n",
              "      <td>-3.224168e-02</td>\n",
              "      <td>1.776826e-01</td>\n",
              "      <td>-2.585404e-02</td>\n",
              "      <td>-3.059705e-01</td>\n",
              "      <td>-4.594073e-02</td>\n",
              "      <td>5.401105e-01</td>\n",
              "      <td>-3.616534e-01</td>\n",
              "      <td>-9.969417e-04</td>\n",
              "      <td>-1.236208e-01</td>\n",
              "    </tr>\n",
              "    <tr>\n",
              "      <th>75%</th>\n",
              "      <td>8.235210e-01</td>\n",
              "      <td>6.827411e-01</td>\n",
              "      <td>8.242782e-01</td>\n",
              "      <td>3.849354e-01</td>\n",
              "      <td>3.523977e-01</td>\n",
              "      <td>8.219098e-01</td>\n",
              "      <td>5.675547e-01</td>\n",
              "      <td>3.680682e-01</td>\n",
              "      <td>6.597701e-01</td>\n",
              "      <td>6.892313e-01</td>\n",
              "    </tr>\n",
              "    <tr>\n",
              "      <th>max</th>\n",
              "      <td>2.101247e+00</td>\n",
              "      <td>2.402564e+00</td>\n",
              "      <td>1.576862e+00</td>\n",
              "      <td>5.312236e+00</td>\n",
              "      <td>2.519573e+00</td>\n",
              "      <td>1.484632e+00</td>\n",
              "      <td>6.515018e-01</td>\n",
              "      <td>2.465602e+00</td>\n",
              "      <td>3.137285e+00</td>\n",
              "      <td>2.346815e+00</td>\n",
              "    </tr>\n",
              "  </tbody>\n",
              "</table>\n",
              "</div>\n",
              "      <button class=\"colab-df-convert\" onclick=\"convertToInteractive('df-5520d999-3844-4269-97ca-dcec1ca3c83c')\"\n",
              "              title=\"Convert this dataframe to an interactive table.\"\n",
              "              style=\"display:none;\">\n",
              "        \n",
              "  <svg xmlns=\"http://www.w3.org/2000/svg\" height=\"24px\"viewBox=\"0 0 24 24\"\n",
              "       width=\"24px\">\n",
              "    <path d=\"M0 0h24v24H0V0z\" fill=\"none\"/>\n",
              "    <path d=\"M18.56 5.44l.94 2.06.94-2.06 2.06-.94-2.06-.94-.94-2.06-.94 2.06-2.06.94zm-11 1L8.5 8.5l.94-2.06 2.06-.94-2.06-.94L8.5 2.5l-.94 2.06-2.06.94zm10 10l.94 2.06.94-2.06 2.06-.94-2.06-.94-.94-2.06-.94 2.06-2.06.94z\"/><path d=\"M17.41 7.96l-1.37-1.37c-.4-.4-.92-.59-1.43-.59-.52 0-1.04.2-1.43.59L10.3 9.45l-7.72 7.72c-.78.78-.78 2.05 0 2.83L4 21.41c.39.39.9.59 1.41.59.51 0 1.02-.2 1.41-.59l7.78-7.78 2.81-2.81c.8-.78.8-2.07 0-2.86zM5.41 20L4 18.59l7.72-7.72 1.47 1.35L5.41 20z\"/>\n",
              "  </svg>\n",
              "      </button>\n",
              "      \n",
              "  <style>\n",
              "    .colab-df-container {\n",
              "      display:flex;\n",
              "      flex-wrap:wrap;\n",
              "      gap: 12px;\n",
              "    }\n",
              "\n",
              "    .colab-df-convert {\n",
              "      background-color: #E8F0FE;\n",
              "      border: none;\n",
              "      border-radius: 50%;\n",
              "      cursor: pointer;\n",
              "      display: none;\n",
              "      fill: #1967D2;\n",
              "      height: 32px;\n",
              "      padding: 0 0 0 0;\n",
              "      width: 32px;\n",
              "    }\n",
              "\n",
              "    .colab-df-convert:hover {\n",
              "      background-color: #E2EBFA;\n",
              "      box-shadow: 0px 1px 2px rgba(60, 64, 67, 0.3), 0px 1px 3px 1px rgba(60, 64, 67, 0.15);\n",
              "      fill: #174EA6;\n",
              "    }\n",
              "\n",
              "    [theme=dark] .colab-df-convert {\n",
              "      background-color: #3B4455;\n",
              "      fill: #D2E3FC;\n",
              "    }\n",
              "\n",
              "    [theme=dark] .colab-df-convert:hover {\n",
              "      background-color: #434B5C;\n",
              "      box-shadow: 0px 1px 3px 1px rgba(0, 0, 0, 0.15);\n",
              "      filter: drop-shadow(0px 1px 2px rgba(0, 0, 0, 0.3));\n",
              "      fill: #FFFFFF;\n",
              "    }\n",
              "  </style>\n",
              "\n",
              "      <script>\n",
              "        const buttonEl =\n",
              "          document.querySelector('#df-5520d999-3844-4269-97ca-dcec1ca3c83c button.colab-df-convert');\n",
              "        buttonEl.style.display =\n",
              "          google.colab.kernel.accessAllowed ? 'block' : 'none';\n",
              "\n",
              "        async function convertToInteractive(key) {\n",
              "          const element = document.querySelector('#df-5520d999-3844-4269-97ca-dcec1ca3c83c');\n",
              "          const dataTable =\n",
              "            await google.colab.kernel.invokeFunction('convertToInteractive',\n",
              "                                                     [key], {});\n",
              "          if (!dataTable) return;\n",
              "\n",
              "          const docLinkHtml = 'Like what you see? Visit the ' +\n",
              "            '<a target=\"_blank\" href=https://colab.research.google.com/notebooks/data_table.ipynb>data table notebook</a>'\n",
              "            + ' to learn more about interactive tables.';\n",
              "          element.innerHTML = '';\n",
              "          dataTable['output_type'] = 'display_data';\n",
              "          await google.colab.output.renderOutput(dataTable, element);\n",
              "          const docLink = document.createElement('div');\n",
              "          docLink.innerHTML = docLinkHtml;\n",
              "          element.appendChild(docLink);\n",
              "        }\n",
              "      </script>\n",
              "    </div>\n",
              "  </div>\n",
              "  "
            ]
          },
          "metadata": {},
          "execution_count": 97
        }
      ],
      "source": [
        "pd.DataFrame(x_standardized).describe()"
      ]
    },
    {
      "cell_type": "markdown",
      "metadata": {
        "id": "taHrYym6QB9O"
      },
      "source": [
        "Tuning of Batch Size and Epochs"
      ]
    },
    {
      "cell_type": "code",
      "execution_count": null,
      "metadata": {
        "id": "I-FxbzlI24n4"
      },
      "outputs": [],
      "source": [
        "from sklearn.model_selection import GridSearchCV, KFold\n",
        "from keras.models import Sequential\n",
        "from keras.layers import Dense\n",
        "from keras.wrappers.scikit_learn import KerasClassifier\n",
        "from keras.optimizers import adam_v2\n",
        "from tensorflow.keras.optimizers import Adam\n",
        "from keras.wrappers.scikit_learn import KerasRegressor \n",
        "from keras.layers import Dropout\n",
        "from sklearn.metrics import classification_report, accuracy_score\n",
        "from keras.layers import Dropout"
      ]
    },
    {
      "cell_type": "code",
      "execution_count": null,
      "metadata": {
        "id": "REdDgy0Y24ky"
      },
      "outputs": [],
      "source": [
        "def create_model():\n",
        "  model=Sequential(name='Hyperparameter-Tuning-Dummy')\n",
        "  model.add(Dense(12,input_dim=10,kernel_initializer='uniform',activation='relu'))\n",
        "  model.add(Dense(8,kernel_initializer='uniform',activation='relu'))\n",
        "  model.add(Dense(1,kernel_initializer='uniform',activation='sigmoid'))\n",
        "\n",
        "  adam=Adam(learning_rate=0.01)\n",
        "  model.compile(loss='MeanSquaredError',optimizer=adam,metrics=['accuracy'])\n",
        "  return model"
      ]
    },
    {
      "cell_type": "code",
      "execution_count": null,
      "metadata": {
        "colab": {
          "base_uri": "https://localhost:8080/"
        },
        "id": "r2UZJpnF24hg",
        "outputId": "732f4b81-6dfb-41b4-c210-d4c2851fb327"
      },
      "outputs": [
        {
          "output_type": "stream",
          "name": "stdout",
          "text": [
            "Fitting 5 folds for each of 12 candidates, totalling 60 fits\n",
            "[CV 1/5; 1/12] START batch_size=10, epochs=10...................................\n",
            "[CV 1/5; 1/12] END ...batch_size=10, epochs=10;, score=-0.004 total time=  24.3s\n",
            "[CV 2/5; 1/12] START batch_size=10, epochs=10...................................\n",
            "[CV 2/5; 1/12] END ...batch_size=10, epochs=10;, score=-0.001 total time=  21.9s\n",
            "[CV 3/5; 1/12] START batch_size=10, epochs=10...................................\n",
            "[CV 3/5; 1/12] END ...batch_size=10, epochs=10;, score=-0.002 total time=  20.3s\n",
            "[CV 4/5; 1/12] START batch_size=10, epochs=10...................................\n",
            "[CV 4/5; 1/12] END ...batch_size=10, epochs=10;, score=-0.002 total time=  21.1s\n",
            "[CV 5/5; 1/12] START batch_size=10, epochs=10...................................\n",
            "[CV 5/5; 1/12] END ...batch_size=10, epochs=10;, score=-0.002 total time=  22.1s\n",
            "[CV 1/5; 2/12] START batch_size=10, epochs=50...................................\n",
            "[CV 1/5; 2/12] END ...batch_size=10, epochs=50;, score=-0.004 total time= 2.4min\n",
            "[CV 2/5; 2/12] START batch_size=10, epochs=50...................................\n",
            "[CV 2/5; 2/12] END ...batch_size=10, epochs=50;, score=-0.002 total time= 1.7min\n",
            "[CV 3/5; 2/12] START batch_size=10, epochs=50...................................\n",
            "[CV 3/5; 2/12] END ...batch_size=10, epochs=50;, score=-0.002 total time= 2.4min\n",
            "[CV 4/5; 2/12] START batch_size=10, epochs=50...................................\n",
            "[CV 4/5; 2/12] END ...batch_size=10, epochs=50;, score=-0.002 total time= 1.7min\n",
            "[CV 5/5; 2/12] START batch_size=10, epochs=50...................................\n",
            "[CV 5/5; 2/12] END ...batch_size=10, epochs=50;, score=-0.004 total time= 1.7min\n",
            "[CV 1/5; 3/12] START batch_size=10, epochs=100..................................\n",
            "[CV 1/5; 3/12] END ..batch_size=10, epochs=100;, score=-0.006 total time= 3.4min\n",
            "[CV 2/5; 3/12] START batch_size=10, epochs=100..................................\n",
            "[CV 2/5; 3/12] END ..batch_size=10, epochs=100;, score=-0.003 total time= 3.4min\n",
            "[CV 3/5; 3/12] START batch_size=10, epochs=100..................................\n",
            "[CV 3/5; 3/12] END ..batch_size=10, epochs=100;, score=-0.002 total time= 3.4min\n",
            "[CV 4/5; 3/12] START batch_size=10, epochs=100..................................\n",
            "[CV 4/5; 3/12] END ..batch_size=10, epochs=100;, score=-0.003 total time= 4.4min\n",
            "[CV 5/5; 3/12] START batch_size=10, epochs=100..................................\n",
            "[CV 5/5; 3/12] END ..batch_size=10, epochs=100;, score=-0.006 total time= 4.0min\n",
            "[CV 1/5; 4/12] START batch_size=10, epochs=150..................................\n",
            "[CV 1/5; 4/12] END ..batch_size=10, epochs=150;, score=-0.007 total time= 5.4min\n",
            "[CV 2/5; 4/12] START batch_size=10, epochs=150..................................\n",
            "[CV 2/5; 4/12] END ..batch_size=10, epochs=150;, score=-0.003 total time= 5.4min\n",
            "[CV 3/5; 4/12] START batch_size=10, epochs=150..................................\n",
            "[CV 3/5; 4/12] END ..batch_size=10, epochs=150;, score=-0.005 total time= 4.5min\n",
            "[CV 4/5; 4/12] START batch_size=10, epochs=150..................................\n",
            "[CV 4/5; 4/12] END ..batch_size=10, epochs=150;, score=-0.004 total time= 4.6min\n",
            "[CV 5/5; 4/12] START batch_size=10, epochs=150..................................\n",
            "[CV 5/5; 4/12] END ..batch_size=10, epochs=150;, score=-0.005 total time= 5.0min\n",
            "[CV 1/5; 5/12] START batch_size=20, epochs=10...................................\n",
            "[CV 1/5; 5/12] END ...batch_size=20, epochs=10;, score=-0.004 total time=  12.2s\n",
            "[CV 2/5; 5/12] START batch_size=20, epochs=10...................................\n",
            "[CV 2/5; 5/12] END ...batch_size=20, epochs=10;, score=-0.002 total time=  11.5s\n",
            "[CV 3/5; 5/12] START batch_size=20, epochs=10...................................\n",
            "[CV 3/5; 5/12] END ...batch_size=20, epochs=10;, score=-0.002 total time=  21.9s\n",
            "[CV 4/5; 5/12] START batch_size=20, epochs=10...................................\n",
            "[CV 4/5; 5/12] END ...batch_size=20, epochs=10;, score=-0.003 total time=  12.8s\n",
            "[CV 5/5; 5/12] START batch_size=20, epochs=10...................................\n",
            "[CV 5/5; 5/12] END ...batch_size=20, epochs=10;, score=-0.005 total time=  12.9s\n",
            "[CV 1/5; 6/12] START batch_size=20, epochs=50...................................\n",
            "[CV 1/5; 6/12] END ...batch_size=20, epochs=50;, score=-0.004 total time= 1.4min\n",
            "[CV 2/5; 6/12] START batch_size=20, epochs=50...................................\n",
            "[CV 2/5; 6/12] END ...batch_size=20, epochs=50;, score=-0.002 total time= 1.4min\n",
            "[CV 3/5; 6/12] START batch_size=20, epochs=50...................................\n",
            "[CV 3/5; 6/12] END ...batch_size=20, epochs=50;, score=-0.003 total time= 1.0min\n",
            "[CV 4/5; 6/12] START batch_size=20, epochs=50...................................\n",
            "[CV 4/5; 6/12] END ...batch_size=20, epochs=50;, score=-0.003 total time=  56.1s\n",
            "[CV 5/5; 6/12] START batch_size=20, epochs=50...................................\n",
            "[CV 5/5; 6/12] END ...batch_size=20, epochs=50;, score=-0.006 total time= 1.4min\n",
            "[CV 1/5; 7/12] START batch_size=20, epochs=100..................................\n",
            "[CV 1/5; 7/12] END ..batch_size=20, epochs=100;, score=-0.005 total time= 2.4min\n",
            "[CV 2/5; 7/12] START batch_size=20, epochs=100..................................\n",
            "[CV 2/5; 7/12] END ..batch_size=20, epochs=100;, score=-0.002 total time= 1.8min\n",
            "[CV 3/5; 7/12] START batch_size=20, epochs=100..................................\n",
            "[CV 3/5; 7/12] END ..batch_size=20, epochs=100;, score=-0.003 total time= 2.4min\n",
            "[CV 4/5; 7/12] START batch_size=20, epochs=100..................................\n",
            "[CV 4/5; 7/12] END ..batch_size=20, epochs=100;, score=-0.003 total time= 2.4min\n",
            "[CV 5/5; 7/12] START batch_size=20, epochs=100..................................\n",
            "[CV 5/5; 7/12] END ..batch_size=20, epochs=100;, score=-0.004 total time= 2.4min\n",
            "[CV 1/5; 8/12] START batch_size=20, epochs=150..................................\n",
            "[CV 1/5; 8/12] END ..batch_size=20, epochs=150;, score=-0.003 total time= 2.6min\n",
            "[CV 2/5; 8/12] START batch_size=20, epochs=150..................................\n",
            "[CV 2/5; 8/12] END ..batch_size=20, epochs=150;, score=-0.002 total time= 3.4min\n",
            "[CV 3/5; 8/12] START batch_size=20, epochs=150..................................\n",
            "[CV 3/5; 8/12] END ..batch_size=20, epochs=150;, score=-0.004 total time= 2.5min\n",
            "[CV 4/5; 8/12] START batch_size=20, epochs=150..................................\n",
            "[CV 4/5; 8/12] END ..batch_size=20, epochs=150;, score=-0.002 total time= 3.4min\n",
            "[CV 5/5; 8/12] START batch_size=20, epochs=150..................................\n",
            "[CV 5/5; 8/12] END ..batch_size=20, epochs=150;, score=-0.004 total time= 2.5min\n",
            "[CV 1/5; 9/12] START batch_size=40, epochs=10...................................\n",
            "[CV 1/5; 9/12] END ...batch_size=40, epochs=10;, score=-0.003 total time=   7.4s\n",
            "[CV 2/5; 9/12] START batch_size=40, epochs=10...................................\n",
            "[CV 2/5; 9/12] END ...batch_size=40, epochs=10;, score=-0.002 total time=  11.6s\n",
            "[CV 3/5; 9/12] START batch_size=40, epochs=10...................................\n",
            "[CV 3/5; 9/12] END ...batch_size=40, epochs=10;, score=-0.002 total time=   8.4s\n",
            "[CV 4/5; 9/12] START batch_size=40, epochs=10...................................\n",
            "[CV 4/5; 9/12] END ...batch_size=40, epochs=10;, score=-0.003 total time=   7.0s\n",
            "[CV 5/5; 9/12] START batch_size=40, epochs=10...................................\n",
            "[CV 5/5; 9/12] END ...batch_size=40, epochs=10;, score=-0.003 total time=   8.0s\n",
            "[CV 1/5; 10/12] START batch_size=40, epochs=50..................................\n",
            "[CV 1/5; 10/12] END ..batch_size=40, epochs=50;, score=-0.003 total time=  28.6s\n",
            "[CV 2/5; 10/12] START batch_size=40, epochs=50..................................\n",
            "[CV 2/5; 10/12] END ..batch_size=40, epochs=50;, score=-0.001 total time=  30.5s\n",
            "[CV 3/5; 10/12] START batch_size=40, epochs=50..................................\n",
            "[CV 3/5; 10/12] END ..batch_size=40, epochs=50;, score=-0.002 total time=  29.4s\n",
            "[CV 4/5; 10/12] START batch_size=40, epochs=50..................................\n",
            "[CV 4/5; 10/12] END ..batch_size=40, epochs=50;, score=-0.003 total time=  30.3s\n",
            "[CV 5/5; 10/12] START batch_size=40, epochs=50..................................\n",
            "[CV 5/5; 10/12] END ..batch_size=40, epochs=50;, score=-0.003 total time=  42.8s\n",
            "[CV 1/5; 11/12] START batch_size=40, epochs=100.................................\n",
            "[CV 1/5; 11/12] END .batch_size=40, epochs=100;, score=-0.008 total time= 1.4min\n",
            "[CV 2/5; 11/12] START batch_size=40, epochs=100.................................\n",
            "[CV 2/5; 11/12] END .batch_size=40, epochs=100;, score=-0.003 total time= 1.4min\n",
            "[CV 3/5; 11/12] START batch_size=40, epochs=100.................................\n",
            "[CV 3/5; 11/12] END .batch_size=40, epochs=100;, score=-0.003 total time=  55.4s\n",
            "[CV 4/5; 11/12] START batch_size=40, epochs=100.................................\n",
            "[CV 4/5; 11/12] END .batch_size=40, epochs=100;, score=-0.003 total time= 1.4min\n",
            "[CV 5/5; 11/12] START batch_size=40, epochs=100.................................\n",
            "[CV 5/5; 11/12] END .batch_size=40, epochs=100;, score=-0.003 total time=  56.1s\n",
            "[CV 1/5; 12/12] START batch_size=40, epochs=150.................................\n",
            "[CV 1/5; 12/12] END .batch_size=40, epochs=150;, score=-0.005 total time= 2.4min\n",
            "[CV 2/5; 12/12] START batch_size=40, epochs=150.................................\n",
            "[CV 2/5; 12/12] END .batch_size=40, epochs=150;, score=-0.002 total time= 2.4min\n",
            "[CV 3/5; 12/12] START batch_size=40, epochs=150.................................\n",
            "[CV 3/5; 12/12] END .batch_size=40, epochs=150;, score=-0.003 total time= 1.3min\n",
            "[CV 4/5; 12/12] START batch_size=40, epochs=150.................................\n",
            "[CV 4/5; 12/12] END .batch_size=40, epochs=150;, score=-0.003 total time= 1.4min\n",
            "[CV 5/5; 12/12] START batch_size=40, epochs=150.................................\n",
            "[CV 5/5; 12/12] END .batch_size=40, epochs=150;, score=-0.004 total time= 1.4min\n"
          ]
        }
      ],
      "source": [
        "model=KerasRegressor(build_fn=create_model,verbose=0)\n",
        "batch_size=[10,20,40]\n",
        "epochs=[10,50,100,150]\n",
        "param_grid=dict(batch_size=batch_size,epochs=epochs)\n",
        "grid=GridSearchCV(estimator=model,param_grid=param_grid,cv=KFold(),verbose=10)\n",
        "grid_result=grid.fit(x_standardized,Y)"
      ]
    },
    {
      "cell_type": "code",
      "execution_count": null,
      "metadata": {
        "id": "-AfYX8iX24en",
        "colab": {
          "base_uri": "https://localhost:8080/"
        },
        "outputId": "84891402-b416-4867-8999-ed84e02f0e72"
      },
      "outputs": [
        {
          "output_type": "stream",
          "name": "stdout",
          "text": [
            "Best:-0.0023694731295108794, using {'batch_size': 10, 'epochs': 10}\n",
            "-0.0023694731295108794,0.0008200301093450615 with: {'batch_size': 10, 'epochs': 10}\n",
            "-0.002797008492052555,0.0011064601641290286 with: {'batch_size': 10, 'epochs': 50}\n",
            "-0.0038888127077370883,0.0016769165164786303 with: {'batch_size': 10, 'epochs': 100}\n",
            "-0.004646577825769782,0.0014464880394619805 with: {'batch_size': 10, 'epochs': 150}\n",
            "-0.0029378199717029927,0.0010235865849466206 with: {'batch_size': 20, 'epochs': 10}\n",
            "-0.0033960266038775442,0.0013286893561492428 with: {'batch_size': 20, 'epochs': 50}\n",
            "-0.0035029479768127203,0.0010894742646191816 with: {'batch_size': 20, 'epochs': 100}\n",
            "-0.0029468566412106157,0.0007619263851616521 with: {'batch_size': 20, 'epochs': 150}\n",
            "-0.002730635553598404,0.0007486609922817145 with: {'batch_size': 40, 'epochs': 10}\n",
            "-0.002565698022954166,0.0007195589273998062 with: {'batch_size': 40, 'epochs': 50}\n",
            "-0.0039789008907973765,0.001809134403659234 with: {'batch_size': 40, 'epochs': 100}\n",
            "-0.0033049222081899645,0.0007972924210309432 with: {'batch_size': 40, 'epochs': 150}\n"
          ]
        }
      ],
      "source": [
        "print('Best:{}, using {}'.format(grid_result.best_score_,grid_result.best_params_))\n",
        "means=grid_result.cv_results_['mean_test_score']\n",
        "stds=grid_result.cv_results_['std_test_score']\n",
        "params=grid_result.cv_results_['params']\n",
        "for mean,stdev,param in zip(means,stds,params):\n",
        "  print('{},{} with: {}'.format(mean,stdev,param))"
      ]
    },
    {
      "cell_type": "code",
      "execution_count": null,
      "metadata": {
        "id": "W2HxJ_w924b8"
      },
      "outputs": [],
      "source": []
    },
    {
      "cell_type": "markdown",
      "metadata": {
        "id": "32heAZjPQRw4"
      },
      "source": [
        "Tuning of Learning Rate and Dropout"
      ]
    },
    {
      "cell_type": "code",
      "execution_count": null,
      "metadata": {
        "colab": {
          "base_uri": "https://localhost:8080/"
        },
        "id": "Jba3Waer24Zg",
        "outputId": "85d5a751-b79e-4774-8346-351b7cba7901"
      },
      "outputs": [
        {
          "output_type": "stream",
          "name": "stdout",
          "text": [
            "Fitting 5 folds for each of 9 candidates, totalling 45 fits\n",
            "[CV 1/5; 1/9] START dropout_rate=0.0, learning_rate=0.001.......................\n",
            "[CV 1/5; 1/9] END dropout_rate=0.0, learning_rate=0.001;, score=-0.004 total time=  26.6s\n",
            "[CV 2/5; 1/9] START dropout_rate=0.0, learning_rate=0.001.......................\n",
            "[CV 2/5; 1/9] END dropout_rate=0.0, learning_rate=0.001;, score=-0.001 total time=  27.6s\n",
            "[CV 3/5; 1/9] START dropout_rate=0.0, learning_rate=0.001.......................\n",
            "[CV 3/5; 1/9] END dropout_rate=0.0, learning_rate=0.001;, score=-0.003 total time=  43.9s\n",
            "[CV 4/5; 1/9] START dropout_rate=0.0, learning_rate=0.001.......................\n",
            "[CV 4/5; 1/9] END dropout_rate=0.0, learning_rate=0.001;, score=-0.002 total time=  42.8s\n",
            "[CV 5/5; 1/9] START dropout_rate=0.0, learning_rate=0.001.......................\n",
            "[CV 5/5; 1/9] END dropout_rate=0.0, learning_rate=0.001;, score=-0.003 total time=  30.1s\n",
            "[CV 1/5; 2/9] START dropout_rate=0.0, learning_rate=0.01........................\n",
            "[CV 1/5; 2/9] END dropout_rate=0.0, learning_rate=0.01;, score=-0.003 total time=  26.8s\n",
            "[CV 2/5; 2/9] START dropout_rate=0.0, learning_rate=0.01........................\n",
            "[CV 2/5; 2/9] END dropout_rate=0.0, learning_rate=0.01;, score=-0.002 total time=  26.9s\n",
            "[CV 3/5; 2/9] START dropout_rate=0.0, learning_rate=0.01........................\n",
            "[CV 3/5; 2/9] END dropout_rate=0.0, learning_rate=0.01;, score=-0.003 total time=  42.4s\n",
            "[CV 4/5; 2/9] START dropout_rate=0.0, learning_rate=0.01........................\n",
            "[CV 4/5; 2/9] END dropout_rate=0.0, learning_rate=0.01;, score=-0.003 total time=  32.5s\n",
            "[CV 5/5; 2/9] START dropout_rate=0.0, learning_rate=0.01........................\n",
            "[CV 5/5; 2/9] END dropout_rate=0.0, learning_rate=0.01;, score=-0.004 total time=  42.4s\n",
            "[CV 1/5; 3/9] START dropout_rate=0.0, learning_rate=0.1.........................\n",
            "[CV 1/5; 3/9] END dropout_rate=0.0, learning_rate=0.1;, score=-0.287 total time=  42.3s\n",
            "[CV 2/5; 3/9] START dropout_rate=0.0, learning_rate=0.1.........................\n",
            "[CV 2/5; 3/9] END dropout_rate=0.0, learning_rate=0.1;, score=-0.010 total time=  42.3s\n",
            "[CV 3/5; 3/9] START dropout_rate=0.0, learning_rate=0.1.........................\n",
            "[CV 3/5; 3/9] END dropout_rate=0.0, learning_rate=0.1;, score=-0.017 total time=  27.4s\n",
            "[CV 4/5; 3/9] START dropout_rate=0.0, learning_rate=0.1.........................\n",
            "[CV 4/5; 3/9] END dropout_rate=0.0, learning_rate=0.1;, score=-0.015 total time=  43.6s\n",
            "[CV 5/5; 3/9] START dropout_rate=0.0, learning_rate=0.1.........................\n",
            "[CV 5/5; 3/9] END dropout_rate=0.0, learning_rate=0.1;, score=-0.012 total time=  27.6s\n",
            "[CV 1/5; 4/9] START dropout_rate=0.1, learning_rate=0.001.......................\n",
            "[CV 1/5; 4/9] END dropout_rate=0.1, learning_rate=0.001;, score=-0.004 total time=  42.5s\n",
            "[CV 2/5; 4/9] START dropout_rate=0.1, learning_rate=0.001.......................\n",
            "[CV 2/5; 4/9] END dropout_rate=0.1, learning_rate=0.001;, score=-0.001 total time=  42.4s\n",
            "[CV 3/5; 4/9] START dropout_rate=0.1, learning_rate=0.001.......................\n",
            "[CV 3/5; 4/9] END dropout_rate=0.1, learning_rate=0.001;, score=-0.002 total time=  31.8s\n",
            "[CV 4/5; 4/9] START dropout_rate=0.1, learning_rate=0.001.......................\n",
            "[CV 4/5; 4/9] END dropout_rate=0.1, learning_rate=0.001;, score=-0.002 total time=  32.8s\n",
            "[CV 5/5; 4/9] START dropout_rate=0.1, learning_rate=0.001.......................\n",
            "[CV 5/5; 4/9] END dropout_rate=0.1, learning_rate=0.001;, score=-0.003 total time=  35.9s\n",
            "[CV 1/5; 5/9] START dropout_rate=0.1, learning_rate=0.01........................\n",
            "[CV 1/5; 5/9] END dropout_rate=0.1, learning_rate=0.01;, score=-0.004 total time=  37.2s\n",
            "[CV 2/5; 5/9] START dropout_rate=0.1, learning_rate=0.01........................\n",
            "[CV 2/5; 5/9] END dropout_rate=0.1, learning_rate=0.01;, score=-0.001 total time=  43.0s\n",
            "[CV 3/5; 5/9] START dropout_rate=0.1, learning_rate=0.01........................\n",
            "[CV 3/5; 5/9] END dropout_rate=0.1, learning_rate=0.01;, score=-0.002 total time=  33.5s\n",
            "[CV 4/5; 5/9] START dropout_rate=0.1, learning_rate=0.01........................\n",
            "[CV 4/5; 5/9] END dropout_rate=0.1, learning_rate=0.01;, score=-0.003 total time=  33.9s\n",
            "[CV 5/5; 5/9] START dropout_rate=0.1, learning_rate=0.01........................\n",
            "[CV 5/5; 5/9] END dropout_rate=0.1, learning_rate=0.01;, score=-0.005 total time=  43.9s\n",
            "[CV 1/5; 6/9] START dropout_rate=0.1, learning_rate=0.1.........................\n",
            "[CV 1/5; 6/9] END dropout_rate=0.1, learning_rate=0.1;, score=-0.009 total time=  32.9s\n",
            "[CV 2/5; 6/9] START dropout_rate=0.1, learning_rate=0.1.........................\n",
            "[CV 2/5; 6/9] END dropout_rate=0.1, learning_rate=0.1;, score=-0.005 total time=  35.3s\n",
            "[CV 3/5; 6/9] START dropout_rate=0.1, learning_rate=0.1.........................\n",
            "[CV 3/5; 6/9] END dropout_rate=0.1, learning_rate=0.1;, score=-0.006 total time=  34.4s\n",
            "[CV 4/5; 6/9] START dropout_rate=0.1, learning_rate=0.1.........................\n",
            "[CV 4/5; 6/9] END dropout_rate=0.1, learning_rate=0.1;, score=-0.005 total time=  43.0s\n",
            "[CV 5/5; 6/9] START dropout_rate=0.1, learning_rate=0.1.........................\n",
            "[CV 5/5; 6/9] END dropout_rate=0.1, learning_rate=0.1;, score=-0.046 total time=  32.3s\n",
            "[CV 1/5; 7/9] START dropout_rate=0.2, learning_rate=0.001.......................\n",
            "[CV 1/5; 7/9] END dropout_rate=0.2, learning_rate=0.001;, score=-0.004 total time=  33.6s\n",
            "[CV 2/5; 7/9] START dropout_rate=0.2, learning_rate=0.001.......................\n",
            "[CV 2/5; 7/9] END dropout_rate=0.2, learning_rate=0.001;, score=-0.001 total time=  33.9s\n",
            "[CV 3/5; 7/9] START dropout_rate=0.2, learning_rate=0.001.......................\n",
            "[CV 3/5; 7/9] END dropout_rate=0.2, learning_rate=0.001;, score=-0.002 total time=  29.1s\n",
            "[CV 4/5; 7/9] START dropout_rate=0.2, learning_rate=0.001.......................\n",
            "[CV 4/5; 7/9] END dropout_rate=0.2, learning_rate=0.001;, score=-0.002 total time=  29.3s\n",
            "[CV 5/5; 7/9] START dropout_rate=0.2, learning_rate=0.001.......................\n",
            "[CV 5/5; 7/9] END dropout_rate=0.2, learning_rate=0.001;, score=-0.003 total time=  29.0s\n",
            "[CV 1/5; 8/9] START dropout_rate=0.2, learning_rate=0.01........................\n",
            "[CV 1/5; 8/9] END dropout_rate=0.2, learning_rate=0.01;, score=-0.003 total time=  28.9s\n",
            "[CV 2/5; 8/9] START dropout_rate=0.2, learning_rate=0.01........................\n",
            "[CV 2/5; 8/9] END dropout_rate=0.2, learning_rate=0.01;, score=-0.001 total time=  42.4s\n",
            "[CV 3/5; 8/9] START dropout_rate=0.2, learning_rate=0.01........................\n",
            "[CV 3/5; 8/9] END dropout_rate=0.2, learning_rate=0.01;, score=-0.002 total time=  42.7s\n",
            "[CV 4/5; 8/9] START dropout_rate=0.2, learning_rate=0.01........................\n",
            "[CV 4/5; 8/9] END dropout_rate=0.2, learning_rate=0.01;, score=-0.002 total time=  43.0s\n",
            "[CV 5/5; 8/9] START dropout_rate=0.2, learning_rate=0.01........................\n",
            "[CV 5/5; 8/9] END dropout_rate=0.2, learning_rate=0.01;, score=-0.005 total time=  34.3s\n",
            "[CV 1/5; 9/9] START dropout_rate=0.2, learning_rate=0.1.........................\n",
            "[CV 1/5; 9/9] END dropout_rate=0.2, learning_rate=0.1;, score=-0.009 total time=  42.9s\n",
            "[CV 2/5; 9/9] START dropout_rate=0.2, learning_rate=0.1.........................\n",
            "[CV 2/5; 9/9] END dropout_rate=0.2, learning_rate=0.1;, score=-0.004 total time=  30.4s\n",
            "[CV 3/5; 9/9] START dropout_rate=0.2, learning_rate=0.1.........................\n",
            "[CV 3/5; 9/9] END dropout_rate=0.2, learning_rate=0.1;, score=-0.010 total time=  26.7s\n",
            "[CV 4/5; 9/9] START dropout_rate=0.2, learning_rate=0.1.........................\n",
            "[CV 4/5; 9/9] END dropout_rate=0.2, learning_rate=0.1;, score=-0.010 total time=  31.2s\n",
            "[CV 5/5; 9/9] START dropout_rate=0.2, learning_rate=0.1.........................\n",
            "[CV 5/5; 9/9] END dropout_rate=0.2, learning_rate=0.1;, score=-0.011 total time=  30.9s\n"
          ]
        }
      ],
      "source": [
        "from keras.layers import Dropout\n",
        "\n",
        "def create_model(learning_rate,dropout_rate):\n",
        "  model=Sequential()\n",
        "  model.add(Dense(8,input_dim=10,kernel_initializer='normal',activation='relu'))\n",
        "  model.add(Dropout(dropout_rate))\n",
        "  model.add(Dense(12,input_dim=8,kernel_initializer='normal',activation='relu'))\n",
        "  model.add(Dropout(dropout_rate))\n",
        "  model.add(Dense(1,activation='sigmoid'))\n",
        "\n",
        "  adam=Adam(learning_rate=learning_rate)\n",
        "  model.compile(loss='MeanSquaredError',optimizer=adam,metrics=['accuracy'])\n",
        "  return model\n",
        "\n",
        "model=KerasRegressor(build_fn=create_model,verbose=0,batch_size=40,epochs=50)\n",
        "\n",
        "learning_rate=[0.001,0.01,0.1]\n",
        "dropout_rate=[0.0,0.1,0.2]\n",
        "\n",
        "param_grids=dict(learning_rate=learning_rate,dropout_rate=dropout_rate)\n",
        "\n",
        "grid=GridSearchCV(estimator=model,param_grid=param_grids,cv=KFold(),verbose=10)\n",
        "grid_result=grid.fit(x_standardized,Y)"
      ]
    },
    {
      "cell_type": "code",
      "execution_count": null,
      "metadata": {
        "id": "kC_fOXpO24TU",
        "colab": {
          "base_uri": "https://localhost:8080/"
        },
        "outputId": "45fcb5e4-7c02-4c0e-fee9-3f04871e4c36"
      },
      "outputs": [
        {
          "output_type": "stream",
          "name": "stdout",
          "text": [
            "Best:-0.0023759388830512764, using {'dropout_rate': 0.1, 'learning_rate': 0.001}\n",
            "-0.002639952558092773,0.0008311796380694781 with: {'dropout_rate': 0.0, 'learning_rate': 0.001}\n",
            "-0.0029227941296994684,0.0005986007366758442 with: {'dropout_rate': 0.0, 'learning_rate': 0.01}\n",
            "-0.06822947841137647,0.10922861325708423 with: {'dropout_rate': 0.0, 'learning_rate': 0.1}\n",
            "-0.0023759388830512764,0.0007614210587815103 with: {'dropout_rate': 0.1, 'learning_rate': 0.001}\n",
            "-0.002900585765019059,0.0012376630651610263 with: {'dropout_rate': 0.1, 'learning_rate': 0.01}\n",
            "-0.014298191573470832,0.015855151955868733 with: {'dropout_rate': 0.1, 'learning_rate': 0.1}\n",
            "-0.0024731527315452694,0.0009805868883614119 with: {'dropout_rate': 0.2, 'learning_rate': 0.001}\n",
            "-0.0028226808412000538,0.0014728905335602061 with: {'dropout_rate': 0.2, 'learning_rate': 0.01}\n",
            "-0.008921349328011275,0.0026133527311079058 with: {'dropout_rate': 0.2, 'learning_rate': 0.1}\n"
          ]
        }
      ],
      "source": [
        "print('Best:{}, using {}'.format(grid_result.best_score_,grid_result.best_params_))\n",
        "means=grid_result.cv_results_['mean_test_score']\n",
        "stds=grid_result.cv_results_['std_test_score']\n",
        "params=grid_result.cv_results_['params']\n",
        "for mean,stdev,param in zip(means,stds,params):\n",
        "  print('{},{} with: {}'.format(mean,stdev,param))"
      ]
    },
    {
      "cell_type": "code",
      "execution_count": null,
      "metadata": {
        "id": "rmx2t9zC24Ns"
      },
      "outputs": [],
      "source": []
    },
    {
      "cell_type": "markdown",
      "metadata": {
        "id": "gS6pTtlGS6ie"
      },
      "source": [
        "Tuning of Activation Function and Kernel Initializer"
      ]
    },
    {
      "cell_type": "code",
      "execution_count": null,
      "metadata": {
        "id": "y4eR2NNe24K3",
        "colab": {
          "base_uri": "https://localhost:8080/"
        },
        "outputId": "d8d9d6d0-dc4d-4c8a-9ca7-2b6c48f80c0f"
      },
      "outputs": [
        {
          "metadata": {
            "tags": null
          },
          "name": "stdout",
          "output_type": "stream",
          "text": [
            "Fitting 5 folds for each of 12 candidates, totalling 60 fits\n",
            "[CV 1/5; 1/12] START activation_function=softmax, init=uniform..................\n"
          ]
        },
        {
          "metadata": {
            "tags": null
          },
          "name": "stderr",
          "output_type": "stream",
          "text": [
            "WARNING:absl:`lr` is deprecated, please use `learning_rate` instead, or use the legacy optimizer, e.g.,tf.keras.optimizers.legacy.Adam.\n",
            "WARNING:absl:`lr` is deprecated, please use `learning_rate` instead, or use the legacy optimizer, e.g.,tf.keras.optimizers.legacy.Adam.\n"
          ]
        },
        {
          "metadata": {
            "tags": null
          },
          "name": "stdout",
          "output_type": "stream",
          "text": [
            "[CV 1/5; 1/12] END activation_function=softmax, init=uniform;, score=-0.005 total time=  39.0s\n",
            "[CV 2/5; 1/12] START activation_function=softmax, init=uniform..................\n"
          ]
        },
        {
          "metadata": {
            "tags": null
          },
          "name": "stderr",
          "output_type": "stream",
          "text": [
            "WARNING:absl:`lr` is deprecated, please use `learning_rate` instead, or use the legacy optimizer, e.g.,tf.keras.optimizers.legacy.Adam.\n"
          ]
        },
        {
          "metadata": {
            "tags": null
          },
          "name": "stdout",
          "output_type": "stream",
          "text": [
            "[CV 2/5; 1/12] END activation_function=softmax, init=uniform;, score=-0.001 total time=  42.8s\n",
            "[CV 3/5; 1/12] START activation_function=softmax, init=uniform..................\n"
          ]
        },
        {
          "metadata": {
            "tags": null
          },
          "name": "stderr",
          "output_type": "stream",
          "text": [
            "WARNING:absl:`lr` is deprecated, please use `learning_rate` instead, or use the legacy optimizer, e.g.,tf.keras.optimizers.legacy.Adam.\n"
          ]
        },
        {
          "metadata": {
            "tags": null
          },
          "name": "stdout",
          "output_type": "stream",
          "text": [
            "[CV 3/5; 1/12] END activation_function=softmax, init=uniform;, score=-0.002 total time=  42.8s\n",
            "[CV 4/5; 1/12] START activation_function=softmax, init=uniform..................\n"
          ]
        },
        {
          "metadata": {
            "tags": null
          },
          "name": "stderr",
          "output_type": "stream",
          "text": [
            "WARNING:absl:`lr` is deprecated, please use `learning_rate` instead, or use the legacy optimizer, e.g.,tf.keras.optimizers.legacy.Adam.\n"
          ]
        },
        {
          "metadata": {
            "tags": null
          },
          "name": "stdout",
          "output_type": "stream",
          "text": [
            "[CV 4/5; 1/12] END activation_function=softmax, init=uniform;, score=-0.002 total time=  43.1s\n",
            "[CV 5/5; 1/12] START activation_function=softmax, init=uniform..................\n"
          ]
        },
        {
          "metadata": {
            "tags": null
          },
          "name": "stderr",
          "output_type": "stream",
          "text": [
            "WARNING:absl:`lr` is deprecated, please use `learning_rate` instead, or use the legacy optimizer, e.g.,tf.keras.optimizers.legacy.Adam.\n"
          ]
        },
        {
          "metadata": {
            "tags": null
          },
          "name": "stdout",
          "output_type": "stream",
          "text": [
            "[CV 5/5; 1/12] END activation_function=softmax, init=uniform;, score=-0.004 total time=  42.9s\n",
            "[CV 1/5; 2/12] START activation_function=softmax, init=normal...................\n"
          ]
        },
        {
          "metadata": {
            "tags": null
          },
          "name": "stderr",
          "output_type": "stream",
          "text": [
            "WARNING:absl:`lr` is deprecated, please use `learning_rate` instead, or use the legacy optimizer, e.g.,tf.keras.optimizers.legacy.Adam.\n"
          ]
        },
        {
          "metadata": {
            "tags": null
          },
          "name": "stdout",
          "output_type": "stream",
          "text": [
            "[CV 1/5; 2/12] END activation_function=softmax, init=normal;, score=-0.004 total time=  43.0s\n",
            "[CV 2/5; 2/12] START activation_function=softmax, init=normal...................\n"
          ]
        },
        {
          "metadata": {
            "tags": null
          },
          "name": "stderr",
          "output_type": "stream",
          "text": [
            "WARNING:absl:`lr` is deprecated, please use `learning_rate` instead, or use the legacy optimizer, e.g.,tf.keras.optimizers.legacy.Adam.\n"
          ]
        },
        {
          "metadata": {
            "tags": null
          },
          "name": "stdout",
          "output_type": "stream",
          "text": [
            "[CV 2/5; 2/12] END activation_function=softmax, init=normal;, score=-0.001 total time=  34.7s\n",
            "[CV 3/5; 2/12] START activation_function=softmax, init=normal...................\n"
          ]
        },
        {
          "metadata": {
            "tags": null
          },
          "name": "stderr",
          "output_type": "stream",
          "text": [
            "WARNING:absl:`lr` is deprecated, please use `learning_rate` instead, or use the legacy optimizer, e.g.,tf.keras.optimizers.legacy.Adam.\n"
          ]
        },
        {
          "metadata": {
            "tags": null
          },
          "name": "stdout",
          "output_type": "stream",
          "text": [
            "[CV 3/5; 2/12] END activation_function=softmax, init=normal;, score=-0.002 total time=  42.8s\n",
            "[CV 4/5; 2/12] START activation_function=softmax, init=normal...................\n"
          ]
        },
        {
          "metadata": {
            "tags": null
          },
          "name": "stderr",
          "output_type": "stream",
          "text": [
            "WARNING:absl:`lr` is deprecated, please use `learning_rate` instead, or use the legacy optimizer, e.g.,tf.keras.optimizers.legacy.Adam.\n"
          ]
        },
        {
          "metadata": {
            "tags": null
          },
          "name": "stdout",
          "output_type": "stream",
          "text": [
            "[CV 4/5; 2/12] END activation_function=softmax, init=normal;, score=-0.002 total time=  33.6s\n",
            "[CV 5/5; 2/12] START activation_function=softmax, init=normal...................\n"
          ]
        },
        {
          "metadata": {
            "tags": null
          },
          "name": "stderr",
          "output_type": "stream",
          "text": [
            "WARNING:absl:`lr` is deprecated, please use `learning_rate` instead, or use the legacy optimizer, e.g.,tf.keras.optimizers.legacy.Adam.\n"
          ]
        },
        {
          "metadata": {
            "tags": null
          },
          "name": "stdout",
          "output_type": "stream",
          "text": [
            "[CV 5/5; 2/12] END activation_function=softmax, init=normal;, score=-0.004 total time=  34.3s\n",
            "[CV 1/5; 3/12] START activation_function=softmax, init=zero.....................\n",
            "[CV 1/5; 3/12] END activation_function=softmax, init=zero;, score=-0.005 total time=  43.0s\n",
            "[CV 2/5; 3/12] START activation_function=softmax, init=zero.....................\n"
          ]
        },
        {
          "metadata": {
            "tags": null
          },
          "name": "stderr",
          "output_type": "stream",
          "text": [
            "WARNING:absl:`lr` is deprecated, please use `learning_rate` instead, or use the legacy optimizer, e.g.,tf.keras.optimizers.legacy.Adam.\n",
            "WARNING:absl:`lr` is deprecated, please use `learning_rate` instead, or use the legacy optimizer, e.g.,tf.keras.optimizers.legacy.Adam.\n"
          ]
        },
        {
          "metadata": {
            "tags": null
          },
          "name": "stdout",
          "output_type": "stream",
          "text": [
            "[CV 2/5; 3/12] END activation_function=softmax, init=zero;, score=-0.001 total time=  44.1s\n",
            "[CV 3/5; 3/12] START activation_function=softmax, init=zero.....................\n"
          ]
        },
        {
          "metadata": {
            "tags": null
          },
          "name": "stderr",
          "output_type": "stream",
          "text": [
            "WARNING:absl:`lr` is deprecated, please use `learning_rate` instead, or use the legacy optimizer, e.g.,tf.keras.optimizers.legacy.Adam.\n"
          ]
        },
        {
          "metadata": {
            "tags": null
          },
          "name": "stdout",
          "output_type": "stream",
          "text": [
            "[CV 3/5; 3/12] END activation_function=softmax, init=zero;, score=-0.002 total time=  35.1s\n",
            "[CV 4/5; 3/12] START activation_function=softmax, init=zero.....................\n"
          ]
        },
        {
          "metadata": {
            "tags": null
          },
          "name": "stderr",
          "output_type": "stream",
          "text": [
            "WARNING:absl:`lr` is deprecated, please use `learning_rate` instead, or use the legacy optimizer, e.g.,tf.keras.optimizers.legacy.Adam.\n"
          ]
        },
        {
          "metadata": {
            "tags": null
          },
          "name": "stdout",
          "output_type": "stream",
          "text": [
            "[CV 4/5; 3/12] END activation_function=softmax, init=zero;, score=-0.002 total time=  35.0s\n",
            "[CV 5/5; 3/12] START activation_function=softmax, init=zero.....................\n"
          ]
        },
        {
          "metadata": {
            "tags": null
          },
          "name": "stderr",
          "output_type": "stream",
          "text": [
            "WARNING:absl:`lr` is deprecated, please use `learning_rate` instead, or use the legacy optimizer, e.g.,tf.keras.optimizers.legacy.Adam.\n"
          ]
        },
        {
          "metadata": {
            "tags": null
          },
          "name": "stdout",
          "output_type": "stream",
          "text": [
            "[CV 5/5; 3/12] END activation_function=softmax, init=zero;, score=-0.003 total time=  32.4s\n",
            "[CV 1/5; 4/12] START activation_function=relu, init=uniform.....................\n"
          ]
        },
        {
          "metadata": {
            "tags": null
          },
          "name": "stderr",
          "output_type": "stream",
          "text": [
            "WARNING:absl:`lr` is deprecated, please use `learning_rate` instead, or use the legacy optimizer, e.g.,tf.keras.optimizers.legacy.Adam.\n"
          ]
        },
        {
          "metadata": {
            "tags": null
          },
          "name": "stdout",
          "output_type": "stream",
          "text": [
            "[CV 1/5; 4/12] END activation_function=relu, init=uniform;, score=-0.003 total time=  42.6s\n",
            "[CV 2/5; 4/12] START activation_function=relu, init=uniform.....................\n"
          ]
        },
        {
          "metadata": {
            "tags": null
          },
          "name": "stderr",
          "output_type": "stream",
          "text": [
            "WARNING:absl:`lr` is deprecated, please use `learning_rate` instead, or use the legacy optimizer, e.g.,tf.keras.optimizers.legacy.Adam.\n"
          ]
        },
        {
          "metadata": {
            "tags": null
          },
          "name": "stdout",
          "output_type": "stream",
          "text": [
            "[CV 2/5; 4/12] END activation_function=relu, init=uniform;, score=-0.001 total time=  31.5s\n",
            "[CV 3/5; 4/12] START activation_function=relu, init=uniform.....................\n"
          ]
        },
        {
          "metadata": {
            "tags": null
          },
          "name": "stderr",
          "output_type": "stream",
          "text": [
            "WARNING:absl:`lr` is deprecated, please use `learning_rate` instead, or use the legacy optimizer, e.g.,tf.keras.optimizers.legacy.Adam.\n"
          ]
        },
        {
          "metadata": {
            "tags": null
          },
          "name": "stdout",
          "output_type": "stream",
          "text": [
            "[CV 3/5; 4/12] END activation_function=relu, init=uniform;, score=-0.002 total time=  33.0s\n",
            "[CV 4/5; 4/12] START activation_function=relu, init=uniform.....................\n"
          ]
        },
        {
          "metadata": {
            "tags": null
          },
          "name": "stderr",
          "output_type": "stream",
          "text": [
            "WARNING:absl:`lr` is deprecated, please use `learning_rate` instead, or use the legacy optimizer, e.g.,tf.keras.optimizers.legacy.Adam.\n"
          ]
        },
        {
          "metadata": {
            "tags": null
          },
          "name": "stdout",
          "output_type": "stream",
          "text": [
            "[CV 4/5; 4/12] END activation_function=relu, init=uniform;, score=-0.002 total time=  33.5s\n",
            "[CV 5/5; 4/12] START activation_function=relu, init=uniform.....................\n"
          ]
        },
        {
          "metadata": {
            "tags": null
          },
          "name": "stderr",
          "output_type": "stream",
          "text": [
            "WARNING:absl:`lr` is deprecated, please use `learning_rate` instead, or use the legacy optimizer, e.g.,tf.keras.optimizers.legacy.Adam.\n"
          ]
        },
        {
          "metadata": {
            "tags": null
          },
          "name": "stdout",
          "output_type": "stream",
          "text": [
            "[CV 5/5; 4/12] END activation_function=relu, init=uniform;, score=-0.004 total time=  42.7s\n",
            "[CV 1/5; 5/12] START activation_function=relu, init=normal......................\n"
          ]
        },
        {
          "metadata": {
            "tags": null
          },
          "name": "stderr",
          "output_type": "stream",
          "text": [
            "WARNING:absl:`lr` is deprecated, please use `learning_rate` instead, or use the legacy optimizer, e.g.,tf.keras.optimizers.legacy.Adam.\n"
          ]
        },
        {
          "metadata": {
            "tags": null
          },
          "name": "stdout",
          "output_type": "stream",
          "text": [
            "[CV 1/5; 5/12] END activation_function=relu, init=normal;, score=-0.004 total time=  42.7s\n",
            "[CV 2/5; 5/12] START activation_function=relu, init=normal......................\n",
            "[CV 2/5; 5/12] END activation_function=relu, init=normal;, score=-0.001 total time=  42.4s\n",
            "[CV 3/5; 5/12] START activation_function=relu, init=normal......................\n"
          ]
        },
        {
          "metadata": {
            "tags": null
          },
          "name": "stderr",
          "output_type": "stream",
          "text": [
            "WARNING:absl:`lr` is deprecated, please use `learning_rate` instead, or use the legacy optimizer, e.g.,tf.keras.optimizers.legacy.Adam.\n",
            "WARNING:absl:`lr` is deprecated, please use `learning_rate` instead, or use the legacy optimizer, e.g.,tf.keras.optimizers.legacy.Adam.\n"
          ]
        },
        {
          "metadata": {
            "tags": null
          },
          "name": "stdout",
          "output_type": "stream",
          "text": [
            "[CV 3/5; 5/12] END activation_function=relu, init=normal;, score=-0.002 total time=  35.9s\n",
            "[CV 4/5; 5/12] START activation_function=relu, init=normal......................\n"
          ]
        },
        {
          "metadata": {
            "tags": null
          },
          "name": "stderr",
          "output_type": "stream",
          "text": [
            "WARNING:absl:`lr` is deprecated, please use `learning_rate` instead, or use the legacy optimizer, e.g.,tf.keras.optimizers.legacy.Adam.\n"
          ]
        },
        {
          "metadata": {
            "tags": null
          },
          "name": "stdout",
          "output_type": "stream",
          "text": [
            "[CV 4/5; 5/12] END activation_function=relu, init=normal;, score=-0.002 total time=  42.5s\n",
            "[CV 5/5; 5/12] START activation_function=relu, init=normal......................\n"
          ]
        },
        {
          "metadata": {
            "tags": null
          },
          "name": "stderr",
          "output_type": "stream",
          "text": [
            "WARNING:absl:`lr` is deprecated, please use `learning_rate` instead, or use the legacy optimizer, e.g.,tf.keras.optimizers.legacy.Adam.\n"
          ]
        },
        {
          "metadata": {
            "tags": null
          },
          "name": "stdout",
          "output_type": "stream",
          "text": [
            "[CV 5/5; 5/12] END activation_function=relu, init=normal;, score=-0.003 total time=  42.9s\n",
            "[CV 1/5; 6/12] START activation_function=relu, init=zero........................\n"
          ]
        },
        {
          "metadata": {
            "tags": null
          },
          "name": "stderr",
          "output_type": "stream",
          "text": [
            "WARNING:absl:`lr` is deprecated, please use `learning_rate` instead, or use the legacy optimizer, e.g.,tf.keras.optimizers.legacy.Adam.\n"
          ]
        },
        {
          "metadata": {
            "tags": null
          },
          "name": "stdout",
          "output_type": "stream",
          "text": [
            "[CV 1/5; 6/12] END activation_function=relu, init=zero;, score=-0.206 total time=  42.7s\n",
            "[CV 2/5; 6/12] START activation_function=relu, init=zero........................\n"
          ]
        },
        {
          "metadata": {
            "tags": null
          },
          "name": "stderr",
          "output_type": "stream",
          "text": [
            "WARNING:absl:`lr` is deprecated, please use `learning_rate` instead, or use the legacy optimizer, e.g.,tf.keras.optimizers.legacy.Adam.\n"
          ]
        },
        {
          "metadata": {
            "tags": null
          },
          "name": "stdout",
          "output_type": "stream",
          "text": [
            "[CV 2/5; 6/12] END activation_function=relu, init=zero;, score=-0.185 total time=  37.1s\n",
            "[CV 3/5; 6/12] START activation_function=relu, init=zero........................\n"
          ]
        },
        {
          "metadata": {
            "tags": null
          },
          "name": "stderr",
          "output_type": "stream",
          "text": [
            "WARNING:absl:`lr` is deprecated, please use `learning_rate` instead, or use the legacy optimizer, e.g.,tf.keras.optimizers.legacy.Adam.\n"
          ]
        },
        {
          "metadata": {
            "tags": null
          },
          "name": "stdout",
          "output_type": "stream",
          "text": [
            "[CV 3/5; 6/12] END activation_function=relu, init=zero;, score=-0.154 total time=  37.7s\n",
            "[CV 4/5; 6/12] START activation_function=relu, init=zero........................\n"
          ]
        },
        {
          "metadata": {
            "tags": null
          },
          "name": "stderr",
          "output_type": "stream",
          "text": [
            "WARNING:absl:`lr` is deprecated, please use `learning_rate` instead, or use the legacy optimizer, e.g.,tf.keras.optimizers.legacy.Adam.\n"
          ]
        },
        {
          "metadata": {
            "tags": null
          },
          "name": "stdout",
          "output_type": "stream",
          "text": [
            "[CV 4/5; 6/12] END activation_function=relu, init=zero;, score=-0.187 total time=  42.8s\n",
            "[CV 5/5; 6/12] START activation_function=relu, init=zero........................\n"
          ]
        },
        {
          "metadata": {
            "tags": null
          },
          "name": "stderr",
          "output_type": "stream",
          "text": [
            "WARNING:absl:`lr` is deprecated, please use `learning_rate` instead, or use the legacy optimizer, e.g.,tf.keras.optimizers.legacy.Adam.\n"
          ]
        },
        {
          "metadata": {
            "tags": null
          },
          "name": "stdout",
          "output_type": "stream",
          "text": [
            "[CV 5/5; 6/12] END activation_function=relu, init=zero;, score=-0.241 total time=  33.3s\n",
            "[CV 1/5; 7/12] START activation_function=tanh, init=uniform.....................\n"
          ]
        },
        {
          "metadata": {
            "tags": null
          },
          "name": "stderr",
          "output_type": "stream",
          "text": [
            "WARNING:absl:`lr` is deprecated, please use `learning_rate` instead, or use the legacy optimizer, e.g.,tf.keras.optimizers.legacy.Adam.\n"
          ]
        },
        {
          "metadata": {
            "tags": null
          },
          "name": "stdout",
          "output_type": "stream",
          "text": [
            "[CV 1/5; 7/12] END activation_function=tanh, init=uniform;, score=-0.004 total time=  42.9s\n",
            "[CV 2/5; 7/12] START activation_function=tanh, init=uniform.....................\n"
          ]
        },
        {
          "metadata": {
            "tags": null
          },
          "name": "stderr",
          "output_type": "stream",
          "text": [
            "WARNING:absl:`lr` is deprecated, please use `learning_rate` instead, or use the legacy optimizer, e.g.,tf.keras.optimizers.legacy.Adam.\n"
          ]
        },
        {
          "metadata": {
            "tags": null
          },
          "name": "stdout",
          "output_type": "stream",
          "text": [
            "[CV 2/5; 7/12] END activation_function=tanh, init=uniform;, score=-0.001 total time=  42.5s\n",
            "[CV 3/5; 7/12] START activation_function=tanh, init=uniform.....................\n"
          ]
        },
        {
          "metadata": {
            "tags": null
          },
          "name": "stderr",
          "output_type": "stream",
          "text": [
            "WARNING:absl:`lr` is deprecated, please use `learning_rate` instead, or use the legacy optimizer, e.g.,tf.keras.optimizers.legacy.Adam.\n"
          ]
        },
        {
          "metadata": {
            "tags": null
          },
          "name": "stdout",
          "output_type": "stream",
          "text": [
            "[CV 3/5; 7/12] END activation_function=tanh, init=uniform;, score=-0.002 total time=  42.5s\n",
            "[CV 4/5; 7/12] START activation_function=tanh, init=uniform.....................\n"
          ]
        },
        {
          "metadata": {
            "tags": null
          },
          "name": "stderr",
          "output_type": "stream",
          "text": [
            "WARNING:absl:`lr` is deprecated, please use `learning_rate` instead, or use the legacy optimizer, e.g.,tf.keras.optimizers.legacy.Adam.\n"
          ]
        },
        {
          "metadata": {
            "tags": null
          },
          "name": "stdout",
          "output_type": "stream",
          "text": [
            "[CV 4/5; 7/12] END activation_function=tanh, init=uniform;, score=-0.002 total time=  29.6s\n",
            "[CV 5/5; 7/12] START activation_function=tanh, init=uniform.....................\n"
          ]
        },
        {
          "metadata": {
            "tags": null
          },
          "name": "stderr",
          "output_type": "stream",
          "text": [
            "WARNING:absl:`lr` is deprecated, please use `learning_rate` instead, or use the legacy optimizer, e.g.,tf.keras.optimizers.legacy.Adam.\n"
          ]
        },
        {
          "metadata": {
            "tags": null
          },
          "name": "stdout",
          "output_type": "stream",
          "text": [
            "[CV 5/5; 7/12] END activation_function=tanh, init=uniform;, score=-0.004 total time=  42.4s\n",
            "[CV 1/5; 8/12] START activation_function=tanh, init=normal......................\n"
          ]
        },
        {
          "metadata": {
            "tags": null
          },
          "name": "stderr",
          "output_type": "stream",
          "text": [
            "WARNING:absl:`lr` is deprecated, please use `learning_rate` instead, or use the legacy optimizer, e.g.,tf.keras.optimizers.legacy.Adam.\n"
          ]
        },
        {
          "metadata": {
            "tags": null
          },
          "name": "stdout",
          "output_type": "stream",
          "text": [
            "[CV 1/5; 8/12] END activation_function=tanh, init=normal;, score=-0.003 total time=  42.4s\n",
            "[CV 2/5; 8/12] START activation_function=tanh, init=normal......................\n"
          ]
        },
        {
          "metadata": {
            "tags": null
          },
          "name": "stderr",
          "output_type": "stream",
          "text": [
            "WARNING:absl:`lr` is deprecated, please use `learning_rate` instead, or use the legacy optimizer, e.g.,tf.keras.optimizers.legacy.Adam.\n"
          ]
        },
        {
          "metadata": {
            "tags": null
          },
          "name": "stdout",
          "output_type": "stream",
          "text": [
            "[CV 2/5; 8/12] END activation_function=tanh, init=normal;, score=-0.001 total time=  42.5s\n",
            "[CV 3/5; 8/12] START activation_function=tanh, init=normal......................\n"
          ]
        },
        {
          "metadata": {
            "tags": null
          },
          "name": "stderr",
          "output_type": "stream",
          "text": [
            "WARNING:absl:`lr` is deprecated, please use `learning_rate` instead, or use the legacy optimizer, e.g.,tf.keras.optimizers.legacy.Adam.\n"
          ]
        },
        {
          "metadata": {
            "tags": null
          },
          "name": "stdout",
          "output_type": "stream",
          "text": [
            "[CV 3/5; 8/12] END activation_function=tanh, init=normal;, score=-0.002 total time=  27.4s\n",
            "[CV 4/5; 8/12] START activation_function=tanh, init=normal......................\n"
          ]
        },
        {
          "metadata": {
            "tags": null
          },
          "name": "stderr",
          "output_type": "stream",
          "text": [
            "WARNING:absl:`lr` is deprecated, please use `learning_rate` instead, or use the legacy optimizer, e.g.,tf.keras.optimizers.legacy.Adam.\n"
          ]
        },
        {
          "metadata": {
            "tags": null
          },
          "name": "stdout",
          "output_type": "stream",
          "text": [
            "[CV 4/5; 8/12] END activation_function=tanh, init=normal;, score=-0.002 total time=  42.5s\n",
            "[CV 5/5; 8/12] START activation_function=tanh, init=normal......................\n"
          ]
        },
        {
          "metadata": {
            "tags": null
          },
          "name": "stderr",
          "output_type": "stream",
          "text": [
            "WARNING:absl:`lr` is deprecated, please use `learning_rate` instead, or use the legacy optimizer, e.g.,tf.keras.optimizers.legacy.Adam.\n"
          ]
        },
        {
          "metadata": {
            "tags": null
          },
          "name": "stdout",
          "output_type": "stream",
          "text": [
            "[CV 5/5; 8/12] END activation_function=tanh, init=normal;, score=-0.002 total time=  42.8s\n",
            "[CV 1/5; 9/12] START activation_function=tanh, init=zero........................\n"
          ]
        },
        {
          "metadata": {
            "tags": null
          },
          "name": "stderr",
          "output_type": "stream",
          "text": [
            "WARNING:absl:`lr` is deprecated, please use `learning_rate` instead, or use the legacy optimizer, e.g.,tf.keras.optimizers.legacy.Adam.\n"
          ]
        },
        {
          "metadata": {
            "tags": null
          },
          "name": "stdout",
          "output_type": "stream",
          "text": [
            "[CV 1/5; 9/12] END activation_function=tanh, init=zero;, score=-0.207 total time=  30.0s\n",
            "[CV 2/5; 9/12] START activation_function=tanh, init=zero........................\n"
          ]
        },
        {
          "metadata": {
            "tags": null
          },
          "name": "stderr",
          "output_type": "stream",
          "text": [
            "WARNING:absl:`lr` is deprecated, please use `learning_rate` instead, or use the legacy optimizer, e.g.,tf.keras.optimizers.legacy.Adam.\n"
          ]
        },
        {
          "metadata": {
            "tags": null
          },
          "name": "stdout",
          "output_type": "stream",
          "text": [
            "[CV 2/5; 9/12] END activation_function=tanh, init=zero;, score=-0.185 total time=  43.2s\n",
            "[CV 3/5; 9/12] START activation_function=tanh, init=zero........................\n"
          ]
        },
        {
          "metadata": {
            "tags": null
          },
          "name": "stderr",
          "output_type": "stream",
          "text": [
            "WARNING:absl:`lr` is deprecated, please use `learning_rate` instead, or use the legacy optimizer, e.g.,tf.keras.optimizers.legacy.Adam.\n"
          ]
        },
        {
          "metadata": {
            "tags": null
          },
          "name": "stdout",
          "output_type": "stream",
          "text": [
            "[CV 3/5; 9/12] END activation_function=tanh, init=zero;, score=-0.154 total time=  42.7s\n",
            "[CV 4/5; 9/12] START activation_function=tanh, init=zero........................\n"
          ]
        },
        {
          "metadata": {
            "tags": null
          },
          "name": "stderr",
          "output_type": "stream",
          "text": [
            "WARNING:absl:`lr` is deprecated, please use `learning_rate` instead, or use the legacy optimizer, e.g.,tf.keras.optimizers.legacy.Adam.\n"
          ]
        },
        {
          "metadata": {
            "tags": null
          },
          "name": "stdout",
          "output_type": "stream",
          "text": [
            "[CV 4/5; 9/12] END activation_function=tanh, init=zero;, score=-0.187 total time=  42.6s\n",
            "[CV 5/5; 9/12] START activation_function=tanh, init=zero........................\n"
          ]
        },
        {
          "metadata": {
            "tags": null
          },
          "name": "stderr",
          "output_type": "stream",
          "text": [
            "WARNING:absl:`lr` is deprecated, please use `learning_rate` instead, or use the legacy optimizer, e.g.,tf.keras.optimizers.legacy.Adam.\n"
          ]
        },
        {
          "metadata": {
            "tags": null
          },
          "name": "stdout",
          "output_type": "stream",
          "text": [
            "[CV 5/5; 9/12] END activation_function=tanh, init=zero;, score=-0.241 total time=  43.7s\n",
            "[CV 1/5; 10/12] START activation_function=linear, init=uniform..................\n"
          ]
        },
        {
          "metadata": {
            "tags": null
          },
          "name": "stderr",
          "output_type": "stream",
          "text": [
            "WARNING:absl:`lr` is deprecated, please use `learning_rate` instead, or use the legacy optimizer, e.g.,tf.keras.optimizers.legacy.Adam.\n"
          ]
        },
        {
          "metadata": {
            "tags": null
          },
          "name": "stdout",
          "output_type": "stream",
          "text": [
            "[CV 1/5; 10/12] END activation_function=linear, init=uniform;, score=-0.003 total time=  42.5s\n",
            "[CV 2/5; 10/12] START activation_function=linear, init=uniform..................\n"
          ]
        },
        {
          "metadata": {
            "tags": null
          },
          "name": "stderr",
          "output_type": "stream",
          "text": [
            "WARNING:absl:`lr` is deprecated, please use `learning_rate` instead, or use the legacy optimizer, e.g.,tf.keras.optimizers.legacy.Adam.\n"
          ]
        },
        {
          "metadata": {
            "tags": null
          },
          "name": "stdout",
          "output_type": "stream",
          "text": [
            "[CV 2/5; 10/12] END activation_function=linear, init=uniform;, score=-0.001 total time=  42.4s\n",
            "[CV 3/5; 10/12] START activation_function=linear, init=uniform..................\n"
          ]
        },
        {
          "metadata": {
            "tags": null
          },
          "name": "stderr",
          "output_type": "stream",
          "text": [
            "WARNING:absl:`lr` is deprecated, please use `learning_rate` instead, or use the legacy optimizer, e.g.,tf.keras.optimizers.legacy.Adam.\n"
          ]
        },
        {
          "metadata": {
            "tags": null
          },
          "name": "stdout",
          "output_type": "stream",
          "text": [
            "[CV 3/5; 10/12] END activation_function=linear, init=uniform;, score=-0.002 total time=  42.4s\n",
            "[CV 4/5; 10/12] START activation_function=linear, init=uniform..................\n"
          ]
        },
        {
          "metadata": {
            "tags": null
          },
          "name": "stderr",
          "output_type": "stream",
          "text": [
            "WARNING:absl:`lr` is deprecated, please use `learning_rate` instead, or use the legacy optimizer, e.g.,tf.keras.optimizers.legacy.Adam.\n"
          ]
        },
        {
          "metadata": {
            "tags": null
          },
          "name": "stdout",
          "output_type": "stream",
          "text": [
            "[CV 4/5; 10/12] END activation_function=linear, init=uniform;, score=-0.002 total time=  42.4s\n",
            "[CV 5/5; 10/12] START activation_function=linear, init=uniform..................\n"
          ]
        },
        {
          "metadata": {
            "tags": null
          },
          "name": "stderr",
          "output_type": "stream",
          "text": [
            "WARNING:absl:`lr` is deprecated, please use `learning_rate` instead, or use the legacy optimizer, e.g.,tf.keras.optimizers.legacy.Adam.\n"
          ]
        },
        {
          "metadata": {
            "tags": null
          },
          "name": "stdout",
          "output_type": "stream",
          "text": [
            "[CV 5/5; 10/12] END activation_function=linear, init=uniform;, score=-0.004 total time=  42.4s\n",
            "[CV 1/5; 11/12] START activation_function=linear, init=normal...................\n"
          ]
        },
        {
          "output_type": "stream",
          "name": "stderr",
          "text": [
            "WARNING:absl:`lr` is deprecated, please use `learning_rate` instead, or use the legacy optimizer, e.g.,tf.keras.optimizers.legacy.Adam.\n"
          ]
        },
        {
          "output_type": "stream",
          "name": "stdout",
          "text": [
            "[CV 1/5; 11/12] END activation_function=linear, init=normal;, score=-0.003 total time=  29.3s\n",
            "[CV 2/5; 11/12] START activation_function=linear, init=normal...................\n"
          ]
        },
        {
          "output_type": "stream",
          "name": "stderr",
          "text": [
            "WARNING:absl:`lr` is deprecated, please use `learning_rate` instead, or use the legacy optimizer, e.g.,tf.keras.optimizers.legacy.Adam.\n"
          ]
        },
        {
          "output_type": "stream",
          "name": "stdout",
          "text": [
            "[CV 2/5; 11/12] END activation_function=linear, init=normal;, score=-0.001 total time=  26.0s\n",
            "[CV 3/5; 11/12] START activation_function=linear, init=normal...................\n"
          ]
        },
        {
          "output_type": "stream",
          "name": "stderr",
          "text": [
            "WARNING:absl:`lr` is deprecated, please use `learning_rate` instead, or use the legacy optimizer, e.g.,tf.keras.optimizers.legacy.Adam.\n"
          ]
        },
        {
          "output_type": "stream",
          "name": "stdout",
          "text": [
            "[CV 3/5; 11/12] END activation_function=linear, init=normal;, score=-0.002 total time=  26.9s\n",
            "[CV 4/5; 11/12] START activation_function=linear, init=normal...................\n"
          ]
        },
        {
          "output_type": "stream",
          "name": "stderr",
          "text": [
            "WARNING:absl:`lr` is deprecated, please use `learning_rate` instead, or use the legacy optimizer, e.g.,tf.keras.optimizers.legacy.Adam.\n"
          ]
        },
        {
          "output_type": "stream",
          "name": "stdout",
          "text": [
            "[CV 4/5; 11/12] END activation_function=linear, init=normal;, score=-0.002 total time=  42.6s\n",
            "[CV 5/5; 11/12] START activation_function=linear, init=normal...................\n"
          ]
        },
        {
          "output_type": "stream",
          "name": "stderr",
          "text": [
            "WARNING:absl:`lr` is deprecated, please use `learning_rate` instead, or use the legacy optimizer, e.g.,tf.keras.optimizers.legacy.Adam.\n"
          ]
        },
        {
          "output_type": "stream",
          "name": "stdout",
          "text": [
            "[CV 5/5; 11/12] END activation_function=linear, init=normal;, score=-0.003 total time=  42.4s\n",
            "[CV 1/5; 12/12] START activation_function=linear, init=zero.....................\n"
          ]
        },
        {
          "output_type": "stream",
          "name": "stderr",
          "text": [
            "WARNING:absl:`lr` is deprecated, please use `learning_rate` instead, or use the legacy optimizer, e.g.,tf.keras.optimizers.legacy.Adam.\n"
          ]
        },
        {
          "output_type": "stream",
          "name": "stdout",
          "text": [
            "[CV 1/5; 12/12] END activation_function=linear, init=zero;, score=-0.206 total time=  27.5s\n",
            "[CV 2/5; 12/12] START activation_function=linear, init=zero.....................\n"
          ]
        },
        {
          "output_type": "stream",
          "name": "stderr",
          "text": [
            "WARNING:absl:`lr` is deprecated, please use `learning_rate` instead, or use the legacy optimizer, e.g.,tf.keras.optimizers.legacy.Adam.\n"
          ]
        },
        {
          "output_type": "stream",
          "name": "stdout",
          "text": [
            "[CV 2/5; 12/12] END activation_function=linear, init=zero;, score=-0.185 total time=  26.0s\n",
            "[CV 3/5; 12/12] START activation_function=linear, init=zero.....................\n"
          ]
        },
        {
          "output_type": "stream",
          "name": "stderr",
          "text": [
            "WARNING:absl:`lr` is deprecated, please use `learning_rate` instead, or use the legacy optimizer, e.g.,tf.keras.optimizers.legacy.Adam.\n"
          ]
        },
        {
          "output_type": "stream",
          "name": "stdout",
          "text": [
            "[CV 3/5; 12/12] END activation_function=linear, init=zero;, score=-0.155 total time=  42.4s\n",
            "[CV 4/5; 12/12] START activation_function=linear, init=zero.....................\n"
          ]
        },
        {
          "output_type": "stream",
          "name": "stderr",
          "text": [
            "WARNING:absl:`lr` is deprecated, please use `learning_rate` instead, or use the legacy optimizer, e.g.,tf.keras.optimizers.legacy.Adam.\n"
          ]
        },
        {
          "output_type": "stream",
          "name": "stdout",
          "text": [
            "[CV 4/5; 12/12] END activation_function=linear, init=zero;, score=-0.187 total time=  26.0s\n",
            "[CV 5/5; 12/12] START activation_function=linear, init=zero.....................\n"
          ]
        },
        {
          "output_type": "stream",
          "name": "stderr",
          "text": [
            "WARNING:absl:`lr` is deprecated, please use `learning_rate` instead, or use the legacy optimizer, e.g.,tf.keras.optimizers.legacy.Adam.\n"
          ]
        },
        {
          "output_type": "stream",
          "name": "stdout",
          "text": [
            "[CV 5/5; 12/12] END activation_function=linear, init=zero;, score=-0.242 total time=  42.3s\n"
          ]
        }
      ],
      "source": [
        "def create_model(activation_function,init):\n",
        "  model=Sequential()\n",
        "  model.add(Dense(8,input_dim=10,kernel_initializer=init,activation=activation_function))\n",
        "  model.add(Dropout(0.2))\n",
        "  model.add(Dense(12,input_dim=8,kernel_initializer=init,activation=activation_function))\n",
        "  model.add(Dropout(0.2))\n",
        "  model.add(Dense(1,activation='sigmoid'))\n",
        "\n",
        "  adam=Adam(lr=0.001)\n",
        "  model.compile(loss='MeanSquaredError',optimizer=adam,metrics=['accuracy'])\n",
        "  return model\n",
        "\n",
        "model=KerasRegressor(build_fn=create_model,verbose=0,batch_size=40,epochs=50)\n",
        "\n",
        "activation_function=['softmax','relu','tanh','linear']\n",
        "init=['uniform','normal','zero']\n",
        "\n",
        "param_grids=dict(activation_function=activation_function,init=init)\n",
        "\n",
        "grid=GridSearchCV(estimator=model,param_grid=param_grids,cv=KFold(),verbose=10)\n",
        "grid_result=grid.fit(x_standardized,Y)"
      ]
    },
    {
      "cell_type": "code",
      "execution_count": null,
      "metadata": {
        "colab": {
          "base_uri": "https://localhost:8080/"
        },
        "id": "u6-tN6E224H9",
        "outputId": "61a69576-3521-40f8-f515-425fbbe4f787"
      },
      "outputs": [
        {
          "output_type": "stream",
          "name": "stdout",
          "text": [
            "Best : -0.0020281079225242136, using {'activation_function': 'tanh', 'init': 'normal'}\n",
            "-0.0027522357646375894,0.0011971789856194041 with: {'activation_function': 'softmax', 'init': 'uniform'}\n",
            "-0.002822911296971142,0.0013087003976771272 with: {'activation_function': 'softmax', 'init': 'normal'}\n",
            "-0.0027524443343281747,0.0011229394239999021 with: {'activation_function': 'softmax', 'init': 'zero'}\n",
            "-0.0024625392397865653,0.0008736662429263964 with: {'activation_function': 'relu', 'init': 'uniform'}\n",
            "-0.0024584542727097867,0.0008257852996077891 with: {'activation_function': 'relu', 'init': 'normal'}\n",
            "-0.19487920105457307,0.028595072548132226 with: {'activation_function': 'relu', 'init': 'zero'}\n",
            "-0.002414810634218156,0.0011306198298325597 with: {'activation_function': 'tanh', 'init': 'uniform'}\n",
            "-0.0020281079225242136,0.000669816796120107 with: {'activation_function': 'tanh', 'init': 'normal'}\n",
            "-0.19484903216361998,0.02845096909856452 with: {'activation_function': 'tanh', 'init': 'zero'}\n",
            "-0.002307865349575877,0.0008188960729729164 with: {'activation_function': 'linear', 'init': 'uniform'}\n",
            "-0.0021047028712928295,0.0007439063738545749 with: {'activation_function': 'linear', 'init': 'normal'}\n",
            "-0.1950569987297058,0.02844237218375665 with: {'activation_function': 'linear', 'init': 'zero'}\n"
          ]
        }
      ],
      "source": [
        "print('Best : {}, using {}'.format(grid_result.best_score_,grid_result.best_params_))\n",
        "means = grid_result.cv_results_['mean_test_score']\n",
        "stds = grid_result.cv_results_['std_test_score']\n",
        "params = grid_result.cv_results_['params']\n",
        "for mean, stdev, param in zip(means, stds, params):\n",
        "  print('{},{} with: {}'.format(mean, stdev, param))"
      ]
    },
    {
      "cell_type": "code",
      "execution_count": null,
      "metadata": {
        "id": "W8HAxrn324FD"
      },
      "outputs": [],
      "source": []
    },
    {
      "cell_type": "markdown",
      "metadata": {
        "id": "c_su-G4kXK0D"
      },
      "source": [
        "Tuning of Number of Neurons in Activation layer"
      ]
    },
    {
      "cell_type": "code",
      "execution_count": null,
      "metadata": {
        "colab": {
          "base_uri": "https://localhost:8080/"
        },
        "id": "7zl-CGGM24Bv",
        "outputId": "5a0f7be3-d44e-4ade-e927-2c2b792cce0e"
      },
      "outputs": [
        {
          "output_type": "stream",
          "name": "stderr",
          "text": [
            "WARNING:absl:`lr` is deprecated, please use `learning_rate` instead, or use the legacy optimizer, e.g.,tf.keras.optimizers.legacy.Adam.\n"
          ]
        },
        {
          "output_type": "stream",
          "name": "stdout",
          "text": [
            "Fitting 5 folds for each of 9 candidates, totalling 45 fits\n",
            "[CV 1/5; 1/9] START neuron1=4, neuron2=2........................................\n"
          ]
        },
        {
          "output_type": "stream",
          "name": "stderr",
          "text": [
            "WARNING:absl:`lr` is deprecated, please use `learning_rate` instead, or use the legacy optimizer, e.g.,tf.keras.optimizers.legacy.Adam.\n"
          ]
        },
        {
          "output_type": "stream",
          "name": "stdout",
          "text": [
            "[CV 1/5; 1/9] END ........neuron1=4, neuron2=2;, score=-0.004 total time=  42.7s\n",
            "[CV 2/5; 1/9] START neuron1=4, neuron2=2........................................\n"
          ]
        },
        {
          "output_type": "stream",
          "name": "stderr",
          "text": [
            "WARNING:absl:`lr` is deprecated, please use `learning_rate` instead, or use the legacy optimizer, e.g.,tf.keras.optimizers.legacy.Adam.\n"
          ]
        },
        {
          "output_type": "stream",
          "name": "stdout",
          "text": [
            "[CV 2/5; 1/9] END ........neuron1=4, neuron2=2;, score=-0.001 total time=  27.0s\n",
            "[CV 3/5; 1/9] START neuron1=4, neuron2=2........................................\n"
          ]
        },
        {
          "output_type": "stream",
          "name": "stderr",
          "text": [
            "WARNING:absl:`lr` is deprecated, please use `learning_rate` instead, or use the legacy optimizer, e.g.,tf.keras.optimizers.legacy.Adam.\n"
          ]
        },
        {
          "output_type": "stream",
          "name": "stdout",
          "text": [
            "[CV 3/5; 1/9] END ........neuron1=4, neuron2=2;, score=-0.002 total time=  42.6s\n",
            "[CV 4/5; 1/9] START neuron1=4, neuron2=2........................................\n"
          ]
        },
        {
          "output_type": "stream",
          "name": "stderr",
          "text": [
            "WARNING:absl:`lr` is deprecated, please use `learning_rate` instead, or use the legacy optimizer, e.g.,tf.keras.optimizers.legacy.Adam.\n"
          ]
        },
        {
          "output_type": "stream",
          "name": "stdout",
          "text": [
            "[CV 4/5; 1/9] END ........neuron1=4, neuron2=2;, score=-0.002 total time=  31.9s\n",
            "[CV 5/5; 1/9] START neuron1=4, neuron2=2........................................\n"
          ]
        },
        {
          "output_type": "stream",
          "name": "stderr",
          "text": [
            "WARNING:absl:`lr` is deprecated, please use `learning_rate` instead, or use the legacy optimizer, e.g.,tf.keras.optimizers.legacy.Adam.\n"
          ]
        },
        {
          "output_type": "stream",
          "name": "stdout",
          "text": [
            "[CV 5/5; 1/9] END ........neuron1=4, neuron2=2;, score=-0.004 total time=  27.7s\n",
            "[CV 1/5; 2/9] START neuron1=4, neuron2=4........................................\n"
          ]
        },
        {
          "output_type": "stream",
          "name": "stderr",
          "text": [
            "WARNING:absl:`lr` is deprecated, please use `learning_rate` instead, or use the legacy optimizer, e.g.,tf.keras.optimizers.legacy.Adam.\n"
          ]
        },
        {
          "output_type": "stream",
          "name": "stdout",
          "text": [
            "[CV 1/5; 2/9] END ........neuron1=4, neuron2=4;, score=-0.004 total time=  29.4s\n",
            "[CV 2/5; 2/9] START neuron1=4, neuron2=4........................................\n"
          ]
        },
        {
          "output_type": "stream",
          "name": "stderr",
          "text": [
            "WARNING:absl:`lr` is deprecated, please use `learning_rate` instead, or use the legacy optimizer, e.g.,tf.keras.optimizers.legacy.Adam.\n"
          ]
        },
        {
          "output_type": "stream",
          "name": "stdout",
          "text": [
            "[CV 2/5; 2/9] END ........neuron1=4, neuron2=4;, score=-0.001 total time=  28.3s\n",
            "[CV 3/5; 2/9] START neuron1=4, neuron2=4........................................\n"
          ]
        },
        {
          "output_type": "stream",
          "name": "stderr",
          "text": [
            "WARNING:absl:`lr` is deprecated, please use `learning_rate` instead, or use the legacy optimizer, e.g.,tf.keras.optimizers.legacy.Adam.\n"
          ]
        },
        {
          "output_type": "stream",
          "name": "stdout",
          "text": [
            "[CV 3/5; 2/9] END ........neuron1=4, neuron2=4;, score=-0.002 total time=  27.3s\n",
            "[CV 4/5; 2/9] START neuron1=4, neuron2=4........................................\n"
          ]
        },
        {
          "output_type": "stream",
          "name": "stderr",
          "text": [
            "WARNING:absl:`lr` is deprecated, please use `learning_rate` instead, or use the legacy optimizer, e.g.,tf.keras.optimizers.legacy.Adam.\n"
          ]
        },
        {
          "output_type": "stream",
          "name": "stdout",
          "text": [
            "[CV 4/5; 2/9] END ........neuron1=4, neuron2=4;, score=-0.002 total time=  42.8s\n",
            "[CV 5/5; 2/9] START neuron1=4, neuron2=4........................................\n"
          ]
        },
        {
          "output_type": "stream",
          "name": "stderr",
          "text": [
            "WARNING:absl:`lr` is deprecated, please use `learning_rate` instead, or use the legacy optimizer, e.g.,tf.keras.optimizers.legacy.Adam.\n"
          ]
        },
        {
          "output_type": "stream",
          "name": "stdout",
          "text": [
            "[CV 5/5; 2/9] END ........neuron1=4, neuron2=4;, score=-0.005 total time=  42.5s\n",
            "[CV 1/5; 3/9] START neuron1=4, neuron2=8........................................\n"
          ]
        },
        {
          "output_type": "stream",
          "name": "stderr",
          "text": [
            "WARNING:absl:`lr` is deprecated, please use `learning_rate` instead, or use the legacy optimizer, e.g.,tf.keras.optimizers.legacy.Adam.\n"
          ]
        },
        {
          "output_type": "stream",
          "name": "stdout",
          "text": [
            "[CV 1/5; 3/9] END ........neuron1=4, neuron2=8;, score=-0.003 total time=  42.6s\n",
            "[CV 2/5; 3/9] START neuron1=4, neuron2=8........................................\n"
          ]
        },
        {
          "output_type": "stream",
          "name": "stderr",
          "text": [
            "WARNING:absl:`lr` is deprecated, please use `learning_rate` instead, or use the legacy optimizer, e.g.,tf.keras.optimizers.legacy.Adam.\n"
          ]
        },
        {
          "output_type": "stream",
          "name": "stdout",
          "text": [
            "[CV 2/5; 3/9] END ........neuron1=4, neuron2=8;, score=-0.001 total time=  42.5s\n",
            "[CV 3/5; 3/9] START neuron1=4, neuron2=8........................................\n"
          ]
        },
        {
          "output_type": "stream",
          "name": "stderr",
          "text": [
            "WARNING:absl:`lr` is deprecated, please use `learning_rate` instead, or use the legacy optimizer, e.g.,tf.keras.optimizers.legacy.Adam.\n"
          ]
        },
        {
          "output_type": "stream",
          "name": "stdout",
          "text": [
            "[CV 3/5; 3/9] END ........neuron1=4, neuron2=8;, score=-0.002 total time=  42.5s\n",
            "[CV 4/5; 3/9] START neuron1=4, neuron2=8........................................\n"
          ]
        },
        {
          "output_type": "stream",
          "name": "stderr",
          "text": [
            "WARNING:absl:`lr` is deprecated, please use `learning_rate` instead, or use the legacy optimizer, e.g.,tf.keras.optimizers.legacy.Adam.\n"
          ]
        },
        {
          "output_type": "stream",
          "name": "stdout",
          "text": [
            "[CV 4/5; 3/9] END ........neuron1=4, neuron2=8;, score=-0.002 total time=  42.4s\n",
            "[CV 5/5; 3/9] START neuron1=4, neuron2=8........................................\n"
          ]
        },
        {
          "output_type": "stream",
          "name": "stderr",
          "text": [
            "WARNING:absl:`lr` is deprecated, please use `learning_rate` instead, or use the legacy optimizer, e.g.,tf.keras.optimizers.legacy.Adam.\n"
          ]
        },
        {
          "output_type": "stream",
          "name": "stdout",
          "text": [
            "[CV 5/5; 3/9] END ........neuron1=4, neuron2=8;, score=-0.004 total time=  26.8s\n",
            "[CV 1/5; 4/9] START neuron1=8, neuron2=2........................................\n"
          ]
        },
        {
          "output_type": "stream",
          "name": "stderr",
          "text": [
            "WARNING:absl:`lr` is deprecated, please use `learning_rate` instead, or use the legacy optimizer, e.g.,tf.keras.optimizers.legacy.Adam.\n"
          ]
        },
        {
          "output_type": "stream",
          "name": "stdout",
          "text": [
            "[CV 1/5; 4/9] END ........neuron1=8, neuron2=2;, score=-0.003 total time=  42.7s\n",
            "[CV 2/5; 4/9] START neuron1=8, neuron2=2........................................\n",
            "[CV 2/5; 4/9] END ........neuron1=8, neuron2=2;, score=-0.001 total time=  42.4s\n",
            "[CV 3/5; 4/9] START neuron1=8, neuron2=2........................................\n"
          ]
        },
        {
          "output_type": "stream",
          "name": "stderr",
          "text": [
            "WARNING:absl:`lr` is deprecated, please use `learning_rate` instead, or use the legacy optimizer, e.g.,tf.keras.optimizers.legacy.Adam.\n",
            "WARNING:absl:`lr` is deprecated, please use `learning_rate` instead, or use the legacy optimizer, e.g.,tf.keras.optimizers.legacy.Adam.\n"
          ]
        },
        {
          "output_type": "stream",
          "name": "stdout",
          "text": [
            "[CV 3/5; 4/9] END ........neuron1=8, neuron2=2;, score=-0.002 total time=  29.0s\n",
            "[CV 4/5; 4/9] START neuron1=8, neuron2=2........................................\n"
          ]
        },
        {
          "output_type": "stream",
          "name": "stderr",
          "text": [
            "WARNING:absl:`lr` is deprecated, please use `learning_rate` instead, or use the legacy optimizer, e.g.,tf.keras.optimizers.legacy.Adam.\n"
          ]
        },
        {
          "output_type": "stream",
          "name": "stdout",
          "text": [
            "[CV 4/5; 4/9] END ........neuron1=8, neuron2=2;, score=-0.002 total time=  27.0s\n",
            "[CV 5/5; 4/9] START neuron1=8, neuron2=2........................................\n"
          ]
        },
        {
          "output_type": "stream",
          "name": "stderr",
          "text": [
            "WARNING:absl:`lr` is deprecated, please use `learning_rate` instead, or use the legacy optimizer, e.g.,tf.keras.optimizers.legacy.Adam.\n"
          ]
        },
        {
          "output_type": "stream",
          "name": "stdout",
          "text": [
            "[CV 5/5; 4/9] END ........neuron1=8, neuron2=2;, score=-0.003 total time=  26.9s\n",
            "[CV 1/5; 5/9] START neuron1=8, neuron2=4........................................\n"
          ]
        },
        {
          "output_type": "stream",
          "name": "stderr",
          "text": [
            "WARNING:absl:`lr` is deprecated, please use `learning_rate` instead, or use the legacy optimizer, e.g.,tf.keras.optimizers.legacy.Adam.\n"
          ]
        },
        {
          "output_type": "stream",
          "name": "stdout",
          "text": [
            "[CV 1/5; 5/9] END ........neuron1=8, neuron2=4;, score=-0.003 total time=  42.4s\n",
            "[CV 2/5; 5/9] START neuron1=8, neuron2=4........................................\n"
          ]
        },
        {
          "output_type": "stream",
          "name": "stderr",
          "text": [
            "WARNING:absl:`lr` is deprecated, please use `learning_rate` instead, or use the legacy optimizer, e.g.,tf.keras.optimizers.legacy.Adam.\n"
          ]
        },
        {
          "output_type": "stream",
          "name": "stdout",
          "text": [
            "[CV 2/5; 5/9] END ........neuron1=8, neuron2=4;, score=-0.001 total time=  28.9s\n",
            "[CV 3/5; 5/9] START neuron1=8, neuron2=4........................................\n"
          ]
        },
        {
          "output_type": "stream",
          "name": "stderr",
          "text": [
            "WARNING:absl:`lr` is deprecated, please use `learning_rate` instead, or use the legacy optimizer, e.g.,tf.keras.optimizers.legacy.Adam.\n"
          ]
        },
        {
          "output_type": "stream",
          "name": "stdout",
          "text": [
            "[CV 3/5; 5/9] END ........neuron1=8, neuron2=4;, score=-0.002 total time=  28.4s\n",
            "[CV 4/5; 5/9] START neuron1=8, neuron2=4........................................\n"
          ]
        },
        {
          "output_type": "stream",
          "name": "stderr",
          "text": [
            "WARNING:absl:`lr` is deprecated, please use `learning_rate` instead, or use the legacy optimizer, e.g.,tf.keras.optimizers.legacy.Adam.\n"
          ]
        },
        {
          "output_type": "stream",
          "name": "stdout",
          "text": [
            "[CV 4/5; 5/9] END ........neuron1=8, neuron2=4;, score=-0.002 total time=  42.5s\n",
            "[CV 5/5; 5/9] START neuron1=8, neuron2=4........................................\n"
          ]
        },
        {
          "output_type": "stream",
          "name": "stderr",
          "text": [
            "WARNING:absl:`lr` is deprecated, please use `learning_rate` instead, or use the legacy optimizer, e.g.,tf.keras.optimizers.legacy.Adam.\n"
          ]
        },
        {
          "output_type": "stream",
          "name": "stdout",
          "text": [
            "[CV 5/5; 5/9] END ........neuron1=8, neuron2=4;, score=-0.003 total time=  26.6s\n",
            "[CV 1/5; 6/9] START neuron1=8, neuron2=8........................................\n"
          ]
        },
        {
          "output_type": "stream",
          "name": "stderr",
          "text": [
            "WARNING:absl:`lr` is deprecated, please use `learning_rate` instead, or use the legacy optimizer, e.g.,tf.keras.optimizers.legacy.Adam.\n"
          ]
        },
        {
          "output_type": "stream",
          "name": "stdout",
          "text": [
            "[CV 1/5; 6/9] END ........neuron1=8, neuron2=8;, score=-0.003 total time=  42.8s\n",
            "[CV 2/5; 6/9] START neuron1=8, neuron2=8........................................\n"
          ]
        },
        {
          "output_type": "stream",
          "name": "stderr",
          "text": [
            "WARNING:absl:`lr` is deprecated, please use `learning_rate` instead, or use the legacy optimizer, e.g.,tf.keras.optimizers.legacy.Adam.\n"
          ]
        },
        {
          "output_type": "stream",
          "name": "stdout",
          "text": [
            "[CV 2/5; 6/9] END ........neuron1=8, neuron2=8;, score=-0.001 total time=  27.1s\n",
            "[CV 3/5; 6/9] START neuron1=8, neuron2=8........................................\n"
          ]
        },
        {
          "output_type": "stream",
          "name": "stderr",
          "text": [
            "WARNING:absl:`lr` is deprecated, please use `learning_rate` instead, or use the legacy optimizer, e.g.,tf.keras.optimizers.legacy.Adam.\n"
          ]
        },
        {
          "output_type": "stream",
          "name": "stdout",
          "text": [
            "[CV 3/5; 6/9] END ........neuron1=8, neuron2=8;, score=-0.002 total time=  42.7s\n",
            "[CV 4/5; 6/9] START neuron1=8, neuron2=8........................................\n"
          ]
        },
        {
          "output_type": "stream",
          "name": "stderr",
          "text": [
            "WARNING:absl:`lr` is deprecated, please use `learning_rate` instead, or use the legacy optimizer, e.g.,tf.keras.optimizers.legacy.Adam.\n"
          ]
        },
        {
          "output_type": "stream",
          "name": "stdout",
          "text": [
            "[CV 4/5; 6/9] END ........neuron1=8, neuron2=8;, score=-0.002 total time=  28.9s\n",
            "[CV 5/5; 6/9] START neuron1=8, neuron2=8........................................\n"
          ]
        },
        {
          "output_type": "stream",
          "name": "stderr",
          "text": [
            "WARNING:absl:`lr` is deprecated, please use `learning_rate` instead, or use the legacy optimizer, e.g.,tf.keras.optimizers.legacy.Adam.\n"
          ]
        },
        {
          "output_type": "stream",
          "name": "stdout",
          "text": [
            "[CV 5/5; 6/9] END ........neuron1=8, neuron2=8;, score=-0.002 total time=  27.3s\n",
            "[CV 1/5; 7/9] START neuron1=16, neuron2=2.......................................\n"
          ]
        },
        {
          "output_type": "stream",
          "name": "stderr",
          "text": [
            "WARNING:absl:`lr` is deprecated, please use `learning_rate` instead, or use the legacy optimizer, e.g.,tf.keras.optimizers.legacy.Adam.\n"
          ]
        },
        {
          "output_type": "stream",
          "name": "stdout",
          "text": [
            "[CV 1/5; 7/9] END .......neuron1=16, neuron2=2;, score=-0.003 total time=  27.2s\n",
            "[CV 2/5; 7/9] START neuron1=16, neuron2=2.......................................\n"
          ]
        },
        {
          "output_type": "stream",
          "name": "stderr",
          "text": [
            "WARNING:absl:`lr` is deprecated, please use `learning_rate` instead, or use the legacy optimizer, e.g.,tf.keras.optimizers.legacy.Adam.\n"
          ]
        },
        {
          "output_type": "stream",
          "name": "stdout",
          "text": [
            "[CV 2/5; 7/9] END .......neuron1=16, neuron2=2;, score=-0.001 total time=  27.3s\n",
            "[CV 3/5; 7/9] START neuron1=16, neuron2=2.......................................\n"
          ]
        },
        {
          "output_type": "stream",
          "name": "stderr",
          "text": [
            "WARNING:absl:`lr` is deprecated, please use `learning_rate` instead, or use the legacy optimizer, e.g.,tf.keras.optimizers.legacy.Adam.\n"
          ]
        },
        {
          "output_type": "stream",
          "name": "stdout",
          "text": [
            "[CV 3/5; 7/9] END .......neuron1=16, neuron2=2;, score=-0.002 total time=  42.5s\n",
            "[CV 4/5; 7/9] START neuron1=16, neuron2=2.......................................\n"
          ]
        },
        {
          "output_type": "stream",
          "name": "stderr",
          "text": [
            "WARNING:absl:`lr` is deprecated, please use `learning_rate` instead, or use the legacy optimizer, e.g.,tf.keras.optimizers.legacy.Adam.\n"
          ]
        },
        {
          "output_type": "stream",
          "name": "stdout",
          "text": [
            "[CV 4/5; 7/9] END .......neuron1=16, neuron2=2;, score=-0.002 total time=  42.5s\n",
            "[CV 5/5; 7/9] START neuron1=16, neuron2=2.......................................\n"
          ]
        },
        {
          "output_type": "stream",
          "name": "stderr",
          "text": [
            "WARNING:absl:`lr` is deprecated, please use `learning_rate` instead, or use the legacy optimizer, e.g.,tf.keras.optimizers.legacy.Adam.\n"
          ]
        },
        {
          "output_type": "stream",
          "name": "stdout",
          "text": [
            "[CV 5/5; 7/9] END .......neuron1=16, neuron2=2;, score=-0.002 total time=  27.3s\n",
            "[CV 1/5; 8/9] START neuron1=16, neuron2=4.......................................\n"
          ]
        },
        {
          "output_type": "stream",
          "name": "stderr",
          "text": [
            "WARNING:absl:`lr` is deprecated, please use `learning_rate` instead, or use the legacy optimizer, e.g.,tf.keras.optimizers.legacy.Adam.\n"
          ]
        },
        {
          "output_type": "stream",
          "name": "stdout",
          "text": [
            "[CV 1/5; 8/9] END .......neuron1=16, neuron2=4;, score=-0.004 total time=  42.7s\n",
            "[CV 2/5; 8/9] START neuron1=16, neuron2=4.......................................\n"
          ]
        },
        {
          "output_type": "stream",
          "name": "stderr",
          "text": [
            "WARNING:absl:`lr` is deprecated, please use `learning_rate` instead, or use the legacy optimizer, e.g.,tf.keras.optimizers.legacy.Adam.\n"
          ]
        },
        {
          "output_type": "stream",
          "name": "stdout",
          "text": [
            "[CV 2/5; 8/9] END .......neuron1=16, neuron2=4;, score=-0.001 total time=  28.1s\n",
            "[CV 3/5; 8/9] START neuron1=16, neuron2=4.......................................\n"
          ]
        },
        {
          "output_type": "stream",
          "name": "stderr",
          "text": [
            "WARNING:absl:`lr` is deprecated, please use `learning_rate` instead, or use the legacy optimizer, e.g.,tf.keras.optimizers.legacy.Adam.\n"
          ]
        },
        {
          "output_type": "stream",
          "name": "stdout",
          "text": [
            "[CV 3/5; 8/9] END .......neuron1=16, neuron2=4;, score=-0.002 total time=  28.0s\n",
            "[CV 4/5; 8/9] START neuron1=16, neuron2=4.......................................\n"
          ]
        },
        {
          "output_type": "stream",
          "name": "stderr",
          "text": [
            "WARNING:absl:`lr` is deprecated, please use `learning_rate` instead, or use the legacy optimizer, e.g.,tf.keras.optimizers.legacy.Adam.\n"
          ]
        },
        {
          "output_type": "stream",
          "name": "stdout",
          "text": [
            "[CV 4/5; 8/9] END .......neuron1=16, neuron2=4;, score=-0.002 total time=  42.5s\n",
            "[CV 5/5; 8/9] START neuron1=16, neuron2=4.......................................\n"
          ]
        },
        {
          "output_type": "stream",
          "name": "stderr",
          "text": [
            "WARNING:absl:`lr` is deprecated, please use `learning_rate` instead, or use the legacy optimizer, e.g.,tf.keras.optimizers.legacy.Adam.\n"
          ]
        },
        {
          "output_type": "stream",
          "name": "stdout",
          "text": [
            "[CV 5/5; 8/9] END .......neuron1=16, neuron2=4;, score=-0.003 total time=  31.8s\n",
            "[CV 1/5; 9/9] START neuron1=16, neuron2=8.......................................\n"
          ]
        },
        {
          "output_type": "stream",
          "name": "stderr",
          "text": [
            "WARNING:absl:`lr` is deprecated, please use `learning_rate` instead, or use the legacy optimizer, e.g.,tf.keras.optimizers.legacy.Adam.\n"
          ]
        },
        {
          "output_type": "stream",
          "name": "stdout",
          "text": [
            "[CV 1/5; 9/9] END .......neuron1=16, neuron2=8;, score=-0.003 total time=  42.5s\n",
            "[CV 2/5; 9/9] START neuron1=16, neuron2=8.......................................\n"
          ]
        },
        {
          "output_type": "stream",
          "name": "stderr",
          "text": [
            "WARNING:absl:`lr` is deprecated, please use `learning_rate` instead, or use the legacy optimizer, e.g.,tf.keras.optimizers.legacy.Adam.\n"
          ]
        },
        {
          "output_type": "stream",
          "name": "stdout",
          "text": [
            "[CV 2/5; 9/9] END .......neuron1=16, neuron2=8;, score=-0.001 total time=  42.4s\n",
            "[CV 3/5; 9/9] START neuron1=16, neuron2=8.......................................\n"
          ]
        },
        {
          "output_type": "stream",
          "name": "stderr",
          "text": [
            "WARNING:absl:`lr` is deprecated, please use `learning_rate` instead, or use the legacy optimizer, e.g.,tf.keras.optimizers.legacy.Adam.\n"
          ]
        },
        {
          "output_type": "stream",
          "name": "stdout",
          "text": [
            "[CV 3/5; 9/9] END .......neuron1=16, neuron2=8;, score=-0.002 total time=  42.5s\n",
            "[CV 4/5; 9/9] START neuron1=16, neuron2=8.......................................\n"
          ]
        },
        {
          "output_type": "stream",
          "name": "stderr",
          "text": [
            "WARNING:absl:`lr` is deprecated, please use `learning_rate` instead, or use the legacy optimizer, e.g.,tf.keras.optimizers.legacy.Adam.\n"
          ]
        },
        {
          "output_type": "stream",
          "name": "stdout",
          "text": [
            "[CV 4/5; 9/9] END .......neuron1=16, neuron2=8;, score=-0.002 total time=  27.6s\n",
            "[CV 5/5; 9/9] START neuron1=16, neuron2=8.......................................\n"
          ]
        },
        {
          "output_type": "stream",
          "name": "stderr",
          "text": [
            "WARNING:absl:`lr` is deprecated, please use `learning_rate` instead, or use the legacy optimizer, e.g.,tf.keras.optimizers.legacy.Adam.\n"
          ]
        },
        {
          "output_type": "stream",
          "name": "stdout",
          "text": [
            "[CV 5/5; 9/9] END .......neuron1=16, neuron2=8;, score=-0.005 total time=  42.4s\n"
          ]
        }
      ],
      "source": [
        "def create_model(neuron1,neuron2):\n",
        "    model = Sequential()\n",
        "    model.add(Dense(neuron1,input_dim = 10,kernel_initializer = 'uniform',activation = 'linear'))\n",
        "    model.add(Dropout(0.2))\n",
        "    model.add(Dense(neuron2,input_dim = neuron1,kernel_initializer = 'uniform',activation = 'linear'))\n",
        "    model.add(Dropout(0.2))\n",
        "    model.add(Dense(1,activation = 'sigmoid'))\n",
        "    \n",
        "    adam = Adam(lr = 0.001)\n",
        "    model.compile(loss = 'MeanSquaredError',optimizer = adam,metrics = ['accuracy'])\n",
        "    return model\n",
        "\n",
        "model = KerasRegressor(build_fn = create_model,verbose = 0,batch_size = 40,epochs = 50)\n",
        "\n",
        "neuron1 = [4,8,16]\n",
        "neuron2 = [2,4,8]\n",
        "\n",
        "param_grids = dict(neuron1 = neuron1,neuron2 = neuron2)\n",
        "\n",
        "grid = GridSearchCV(estimator = model,param_grid = param_grids,cv = KFold(),verbose = 10)\n",
        "grid_result = grid.fit(x_standardized,Y)"
      ]
    },
    {
      "cell_type": "code",
      "execution_count": null,
      "metadata": {
        "id": "34SGf0Sg23_J",
        "colab": {
          "base_uri": "https://localhost:8080/"
        },
        "outputId": "8de7c443-29c4-4769-e619-0920f86e9769"
      },
      "outputs": [
        {
          "output_type": "stream",
          "name": "stdout",
          "text": [
            "Best : -0.0021054266020655633, using {'neuron1': 16, 'neuron2': 2}\n",
            "-0.002418175293132663,0.0010495695135206687 with: {'neuron1': 4, 'neuron2': 2}\n",
            "-0.002628853265196085,0.0013389380003223485 with: {'neuron1': 4, 'neuron2': 4}\n",
            "-0.002364388294517994,0.0009536611931855577 with: {'neuron1': 4, 'neuron2': 8}\n",
            "-0.0022391595412045717,0.0008229889224007695 with: {'neuron1': 8, 'neuron2': 2}\n",
            "-0.002334530814550817,0.00091493396996754 with: {'neuron1': 8, 'neuron2': 4}\n",
            "-0.0021701060351915656,0.0008226666027074497 with: {'neuron1': 8, 'neuron2': 8}\n",
            "-0.0021054266020655633,0.0006899828759652251 with: {'neuron1': 16, 'neuron2': 2}\n",
            "-0.0023035169346258045,0.0010099943636907313 with: {'neuron1': 16, 'neuron2': 4}\n",
            "-0.002396009978838265,0.001304532886349101 with: {'neuron1': 16, 'neuron2': 8}\n"
          ]
        }
      ],
      "source": [
        "print('Best : {}, using {}'.format(grid_result.best_score_,grid_result.best_params_))\n",
        "means = grid_result.cv_results_['mean_test_score']\n",
        "stds = grid_result.cv_results_['std_test_score']\n",
        "params = grid_result.cv_results_['params']\n",
        "for mean, stdev, param in zip(means, stds, params):\n",
        "  print('{},{} with: {}'.format(mean, stdev, param))"
      ]
    },
    {
      "cell_type": "code",
      "execution_count": null,
      "metadata": {
        "id": "tdS8dJDk238K"
      },
      "outputs": [],
      "source": []
    },
    {
      "cell_type": "markdown",
      "metadata": {
        "id": "5WPJb0D8Xy0_"
      },
      "source": [
        "Training model with values of Hyperparameters"
      ]
    },
    {
      "cell_type": "code",
      "execution_count": null,
      "metadata": {
        "id": "P1infDCQ235Y"
      },
      "outputs": [],
      "source": [
        "def create_model():\n",
        "  model = Sequential()\n",
        "  model.add(Dense(128,input_dim = 10,activation = 'relu'))\n",
        "  model.add(Dense(64,input_dim = 10,activation = 'relu'))\n",
        "  model.add(Dropout(0.1))\n",
        "  model.add(Dense(16,activation = 'linear'))\n",
        "  model.add(Dropout(0.1))\n",
        "  model.add(Dense(1))\n",
        "  model.compile(loss = 'MeanSquaredError',optimizer = 'adam',metrics = ['mse'])\n",
        "  return model"
      ]
    },
    {
      "cell_type": "code",
      "execution_count": null,
      "metadata": {
        "colab": {
          "base_uri": "https://localhost:8080/"
        },
        "id": "hGNf7TDF6ZL5",
        "outputId": "da74d233-2955-4aa5-a77f-b66704cebb95"
      },
      "outputs": [
        {
          "output_type": "stream",
          "name": "stdout",
          "text": [
            "297/297 [==============================] - 0s 1ms/step\n",
            "0.9960008419280152\n"
          ]
        }
      ],
      "source": [
        "model = KerasClassifier(build_fn = create_model,verbose = 0,batch_size = 40,epochs = 10)\n",
        "\n",
        "model.fit(x_standardized,Y)\n",
        "\n",
        "y_predict = model.predict(x_standardized)\n",
        "\n",
        "print(accuracy_score(Y,y_predict))"
      ]
    },
    {
      "cell_type": "code",
      "execution_count": null,
      "metadata": {
        "colab": {
          "base_uri": "https://localhost:8080/"
        },
        "id": "e5ca5iq823uc",
        "outputId": "42f82ace-5141-4d7e-9cb8-09fe27a9e32f"
      },
      "outputs": [
        {
          "output_type": "execute_result",
          "data": {
            "text/plain": [
              "<keras.callbacks.History at 0x7f1d4fa90a60>"
            ]
          },
          "metadata": {},
          "execution_count": 50
        }
      ],
      "source": [
        "model.fit(x_standardized,Y,epochs=20)"
      ]
    },
    {
      "cell_type": "code",
      "execution_count": null,
      "metadata": {
        "id": "1d7sfdsd6Y_S"
      },
      "outputs": [],
      "source": []
    },
    {
      "cell_type": "code",
      "execution_count": null,
      "metadata": {
        "id": "vLdM-fOq23o8"
      },
      "outputs": [],
      "source": []
    },
    {
      "cell_type": "markdown",
      "metadata": {
        "id": "Z7B4hAPRC74y"
      },
      "source": [
        "#**Forest Fires Problem**"
      ]
    },
    {
      "cell_type": "code",
      "execution_count": 1,
      "metadata": {
        "id": "VUwnRW5s23mX"
      },
      "outputs": [],
      "source": [
        "import pandas as pd\n",
        "import numpy as np\n",
        "import keras\n",
        "from sklearn.preprocessing import StandardScaler\n",
        "from sklearn import preprocessing\n",
        "\n",
        "from sklearn.model_selection import GridSearchCV, KFold\n",
        "from keras.models import Sequential\n",
        "from keras.layers import Dense\n",
        "from keras.wrappers.scikit_learn import KerasClassifier\n",
        "from keras.optimizers import adam_v2\n",
        "from tensorflow.keras.optimizers import Adam\n",
        "from keras.layers import Dropout\n",
        "from sklearn.metrics import classification_report, accuracy_score\n",
        "\n",
        "import warnings\n",
        "warnings.filterwarnings('ignore')"
      ]
    },
    {
      "cell_type": "code",
      "execution_count": 2,
      "metadata": {
        "colab": {
          "base_uri": "https://localhost:8080/",
          "height": 73
        },
        "id": "y14lgHp223jZ",
        "outputId": "47b98928-3835-4b67-d438-2a3461a7805a"
      },
      "outputs": [
        {
          "output_type": "display_data",
          "data": {
            "text/plain": [
              "<IPython.core.display.HTML object>"
            ],
            "text/html": [
              "\n",
              "     <input type=\"file\" id=\"files-f605f81d-50de-4296-9b52-d28eb0c9ba7c\" name=\"files[]\" multiple disabled\n",
              "        style=\"border:none\" />\n",
              "     <output id=\"result-f605f81d-50de-4296-9b52-d28eb0c9ba7c\">\n",
              "      Upload widget is only available when the cell has been executed in the\n",
              "      current browser session. Please rerun this cell to enable.\n",
              "      </output>\n",
              "      <script>// Copyright 2017 Google LLC\n",
              "//\n",
              "// Licensed under the Apache License, Version 2.0 (the \"License\");\n",
              "// you may not use this file except in compliance with the License.\n",
              "// You may obtain a copy of the License at\n",
              "//\n",
              "//      http://www.apache.org/licenses/LICENSE-2.0\n",
              "//\n",
              "// Unless required by applicable law or agreed to in writing, software\n",
              "// distributed under the License is distributed on an \"AS IS\" BASIS,\n",
              "// WITHOUT WARRANTIES OR CONDITIONS OF ANY KIND, either express or implied.\n",
              "// See the License for the specific language governing permissions and\n",
              "// limitations under the License.\n",
              "\n",
              "/**\n",
              " * @fileoverview Helpers for google.colab Python module.\n",
              " */\n",
              "(function(scope) {\n",
              "function span(text, styleAttributes = {}) {\n",
              "  const element = document.createElement('span');\n",
              "  element.textContent = text;\n",
              "  for (const key of Object.keys(styleAttributes)) {\n",
              "    element.style[key] = styleAttributes[key];\n",
              "  }\n",
              "  return element;\n",
              "}\n",
              "\n",
              "// Max number of bytes which will be uploaded at a time.\n",
              "const MAX_PAYLOAD_SIZE = 100 * 1024;\n",
              "\n",
              "function _uploadFiles(inputId, outputId) {\n",
              "  const steps = uploadFilesStep(inputId, outputId);\n",
              "  const outputElement = document.getElementById(outputId);\n",
              "  // Cache steps on the outputElement to make it available for the next call\n",
              "  // to uploadFilesContinue from Python.\n",
              "  outputElement.steps = steps;\n",
              "\n",
              "  return _uploadFilesContinue(outputId);\n",
              "}\n",
              "\n",
              "// This is roughly an async generator (not supported in the browser yet),\n",
              "// where there are multiple asynchronous steps and the Python side is going\n",
              "// to poll for completion of each step.\n",
              "// This uses a Promise to block the python side on completion of each step,\n",
              "// then passes the result of the previous step as the input to the next step.\n",
              "function _uploadFilesContinue(outputId) {\n",
              "  const outputElement = document.getElementById(outputId);\n",
              "  const steps = outputElement.steps;\n",
              "\n",
              "  const next = steps.next(outputElement.lastPromiseValue);\n",
              "  return Promise.resolve(next.value.promise).then((value) => {\n",
              "    // Cache the last promise value to make it available to the next\n",
              "    // step of the generator.\n",
              "    outputElement.lastPromiseValue = value;\n",
              "    return next.value.response;\n",
              "  });\n",
              "}\n",
              "\n",
              "/**\n",
              " * Generator function which is called between each async step of the upload\n",
              " * process.\n",
              " * @param {string} inputId Element ID of the input file picker element.\n",
              " * @param {string} outputId Element ID of the output display.\n",
              " * @return {!Iterable<!Object>} Iterable of next steps.\n",
              " */\n",
              "function* uploadFilesStep(inputId, outputId) {\n",
              "  const inputElement = document.getElementById(inputId);\n",
              "  inputElement.disabled = false;\n",
              "\n",
              "  const outputElement = document.getElementById(outputId);\n",
              "  outputElement.innerHTML = '';\n",
              "\n",
              "  const pickedPromise = new Promise((resolve) => {\n",
              "    inputElement.addEventListener('change', (e) => {\n",
              "      resolve(e.target.files);\n",
              "    });\n",
              "  });\n",
              "\n",
              "  const cancel = document.createElement('button');\n",
              "  inputElement.parentElement.appendChild(cancel);\n",
              "  cancel.textContent = 'Cancel upload';\n",
              "  const cancelPromise = new Promise((resolve) => {\n",
              "    cancel.onclick = () => {\n",
              "      resolve(null);\n",
              "    };\n",
              "  });\n",
              "\n",
              "  // Wait for the user to pick the files.\n",
              "  const files = yield {\n",
              "    promise: Promise.race([pickedPromise, cancelPromise]),\n",
              "    response: {\n",
              "      action: 'starting',\n",
              "    }\n",
              "  };\n",
              "\n",
              "  cancel.remove();\n",
              "\n",
              "  // Disable the input element since further picks are not allowed.\n",
              "  inputElement.disabled = true;\n",
              "\n",
              "  if (!files) {\n",
              "    return {\n",
              "      response: {\n",
              "        action: 'complete',\n",
              "      }\n",
              "    };\n",
              "  }\n",
              "\n",
              "  for (const file of files) {\n",
              "    const li = document.createElement('li');\n",
              "    li.append(span(file.name, {fontWeight: 'bold'}));\n",
              "    li.append(span(\n",
              "        `(${file.type || 'n/a'}) - ${file.size} bytes, ` +\n",
              "        `last modified: ${\n",
              "            file.lastModifiedDate ? file.lastModifiedDate.toLocaleDateString() :\n",
              "                                    'n/a'} - `));\n",
              "    const percent = span('0% done');\n",
              "    li.appendChild(percent);\n",
              "\n",
              "    outputElement.appendChild(li);\n",
              "\n",
              "    const fileDataPromise = new Promise((resolve) => {\n",
              "      const reader = new FileReader();\n",
              "      reader.onload = (e) => {\n",
              "        resolve(e.target.result);\n",
              "      };\n",
              "      reader.readAsArrayBuffer(file);\n",
              "    });\n",
              "    // Wait for the data to be ready.\n",
              "    let fileData = yield {\n",
              "      promise: fileDataPromise,\n",
              "      response: {\n",
              "        action: 'continue',\n",
              "      }\n",
              "    };\n",
              "\n",
              "    // Use a chunked sending to avoid message size limits. See b/62115660.\n",
              "    let position = 0;\n",
              "    do {\n",
              "      const length = Math.min(fileData.byteLength - position, MAX_PAYLOAD_SIZE);\n",
              "      const chunk = new Uint8Array(fileData, position, length);\n",
              "      position += length;\n",
              "\n",
              "      const base64 = btoa(String.fromCharCode.apply(null, chunk));\n",
              "      yield {\n",
              "        response: {\n",
              "          action: 'append',\n",
              "          file: file.name,\n",
              "          data: base64,\n",
              "        },\n",
              "      };\n",
              "\n",
              "      let percentDone = fileData.byteLength === 0 ?\n",
              "          100 :\n",
              "          Math.round((position / fileData.byteLength) * 100);\n",
              "      percent.textContent = `${percentDone}% done`;\n",
              "\n",
              "    } while (position < fileData.byteLength);\n",
              "  }\n",
              "\n",
              "  // All done.\n",
              "  yield {\n",
              "    response: {\n",
              "      action: 'complete',\n",
              "    }\n",
              "  };\n",
              "}\n",
              "\n",
              "scope.google = scope.google || {};\n",
              "scope.google.colab = scope.google.colab || {};\n",
              "scope.google.colab._files = {\n",
              "  _uploadFiles,\n",
              "  _uploadFilesContinue,\n",
              "};\n",
              "})(self);\n",
              "</script> "
            ]
          },
          "metadata": {}
        },
        {
          "output_type": "stream",
          "name": "stdout",
          "text": [
            "Saving forestfires.csv to forestfires.csv\n"
          ]
        }
      ],
      "source": [
        "from  google.colab import files\n",
        "uploaded=files.upload()"
      ]
    },
    {
      "cell_type": "code",
      "execution_count": 3,
      "metadata": {
        "colab": {
          "base_uri": "https://localhost:8080/",
          "height": 300
        },
        "id": "vnFdJQE-23ga",
        "outputId": "834ab442-c71b-49cc-c12f-a0f2b02ba410"
      },
      "outputs": [
        {
          "output_type": "execute_result",
          "data": {
            "text/plain": [
              "  month  day  FFMC   DMC     DC  ISI  temp  RH  wind  rain  ...  monthfeb  \\\n",
              "0   mar  fri  86.2  26.2   94.3  5.1   8.2  51   6.7   0.0  ...         0   \n",
              "1   oct  tue  90.6  35.4  669.1  6.7  18.0  33   0.9   0.0  ...         0   \n",
              "2   oct  sat  90.6  43.7  686.9  6.7  14.6  33   1.3   0.0  ...         0   \n",
              "3   mar  fri  91.7  33.3   77.5  9.0   8.3  97   4.0   0.2  ...         0   \n",
              "4   mar  sun  89.3  51.3  102.2  9.6  11.4  99   1.8   0.0  ...         0   \n",
              "\n",
              "   monthjan  monthjul  monthjun  monthmar  monthmay  monthnov  monthoct  \\\n",
              "0         0         0         0         1         0         0         0   \n",
              "1         0         0         0         0         0         0         1   \n",
              "2         0         0         0         0         0         0         1   \n",
              "3         0         0         0         1         0         0         0   \n",
              "4         0         0         0         1         0         0         0   \n",
              "\n",
              "   monthsep  size_category  \n",
              "0         0          small  \n",
              "1         0          small  \n",
              "2         0          small  \n",
              "3         0          small  \n",
              "4         0          small  \n",
              "\n",
              "[5 rows x 31 columns]"
            ],
            "text/html": [
              "\n",
              "  <div id=\"df-c010d53f-9f90-48b8-97e0-82fc720299ab\">\n",
              "    <div class=\"colab-df-container\">\n",
              "      <div>\n",
              "<style scoped>\n",
              "    .dataframe tbody tr th:only-of-type {\n",
              "        vertical-align: middle;\n",
              "    }\n",
              "\n",
              "    .dataframe tbody tr th {\n",
              "        vertical-align: top;\n",
              "    }\n",
              "\n",
              "    .dataframe thead th {\n",
              "        text-align: right;\n",
              "    }\n",
              "</style>\n",
              "<table border=\"1\" class=\"dataframe\">\n",
              "  <thead>\n",
              "    <tr style=\"text-align: right;\">\n",
              "      <th></th>\n",
              "      <th>month</th>\n",
              "      <th>day</th>\n",
              "      <th>FFMC</th>\n",
              "      <th>DMC</th>\n",
              "      <th>DC</th>\n",
              "      <th>ISI</th>\n",
              "      <th>temp</th>\n",
              "      <th>RH</th>\n",
              "      <th>wind</th>\n",
              "      <th>rain</th>\n",
              "      <th>...</th>\n",
              "      <th>monthfeb</th>\n",
              "      <th>monthjan</th>\n",
              "      <th>monthjul</th>\n",
              "      <th>monthjun</th>\n",
              "      <th>monthmar</th>\n",
              "      <th>monthmay</th>\n",
              "      <th>monthnov</th>\n",
              "      <th>monthoct</th>\n",
              "      <th>monthsep</th>\n",
              "      <th>size_category</th>\n",
              "    </tr>\n",
              "  </thead>\n",
              "  <tbody>\n",
              "    <tr>\n",
              "      <th>0</th>\n",
              "      <td>mar</td>\n",
              "      <td>fri</td>\n",
              "      <td>86.2</td>\n",
              "      <td>26.2</td>\n",
              "      <td>94.3</td>\n",
              "      <td>5.1</td>\n",
              "      <td>8.2</td>\n",
              "      <td>51</td>\n",
              "      <td>6.7</td>\n",
              "      <td>0.0</td>\n",
              "      <td>...</td>\n",
              "      <td>0</td>\n",
              "      <td>0</td>\n",
              "      <td>0</td>\n",
              "      <td>0</td>\n",
              "      <td>1</td>\n",
              "      <td>0</td>\n",
              "      <td>0</td>\n",
              "      <td>0</td>\n",
              "      <td>0</td>\n",
              "      <td>small</td>\n",
              "    </tr>\n",
              "    <tr>\n",
              "      <th>1</th>\n",
              "      <td>oct</td>\n",
              "      <td>tue</td>\n",
              "      <td>90.6</td>\n",
              "      <td>35.4</td>\n",
              "      <td>669.1</td>\n",
              "      <td>6.7</td>\n",
              "      <td>18.0</td>\n",
              "      <td>33</td>\n",
              "      <td>0.9</td>\n",
              "      <td>0.0</td>\n",
              "      <td>...</td>\n",
              "      <td>0</td>\n",
              "      <td>0</td>\n",
              "      <td>0</td>\n",
              "      <td>0</td>\n",
              "      <td>0</td>\n",
              "      <td>0</td>\n",
              "      <td>0</td>\n",
              "      <td>1</td>\n",
              "      <td>0</td>\n",
              "      <td>small</td>\n",
              "    </tr>\n",
              "    <tr>\n",
              "      <th>2</th>\n",
              "      <td>oct</td>\n",
              "      <td>sat</td>\n",
              "      <td>90.6</td>\n",
              "      <td>43.7</td>\n",
              "      <td>686.9</td>\n",
              "      <td>6.7</td>\n",
              "      <td>14.6</td>\n",
              "      <td>33</td>\n",
              "      <td>1.3</td>\n",
              "      <td>0.0</td>\n",
              "      <td>...</td>\n",
              "      <td>0</td>\n",
              "      <td>0</td>\n",
              "      <td>0</td>\n",
              "      <td>0</td>\n",
              "      <td>0</td>\n",
              "      <td>0</td>\n",
              "      <td>0</td>\n",
              "      <td>1</td>\n",
              "      <td>0</td>\n",
              "      <td>small</td>\n",
              "    </tr>\n",
              "    <tr>\n",
              "      <th>3</th>\n",
              "      <td>mar</td>\n",
              "      <td>fri</td>\n",
              "      <td>91.7</td>\n",
              "      <td>33.3</td>\n",
              "      <td>77.5</td>\n",
              "      <td>9.0</td>\n",
              "      <td>8.3</td>\n",
              "      <td>97</td>\n",
              "      <td>4.0</td>\n",
              "      <td>0.2</td>\n",
              "      <td>...</td>\n",
              "      <td>0</td>\n",
              "      <td>0</td>\n",
              "      <td>0</td>\n",
              "      <td>0</td>\n",
              "      <td>1</td>\n",
              "      <td>0</td>\n",
              "      <td>0</td>\n",
              "      <td>0</td>\n",
              "      <td>0</td>\n",
              "      <td>small</td>\n",
              "    </tr>\n",
              "    <tr>\n",
              "      <th>4</th>\n",
              "      <td>mar</td>\n",
              "      <td>sun</td>\n",
              "      <td>89.3</td>\n",
              "      <td>51.3</td>\n",
              "      <td>102.2</td>\n",
              "      <td>9.6</td>\n",
              "      <td>11.4</td>\n",
              "      <td>99</td>\n",
              "      <td>1.8</td>\n",
              "      <td>0.0</td>\n",
              "      <td>...</td>\n",
              "      <td>0</td>\n",
              "      <td>0</td>\n",
              "      <td>0</td>\n",
              "      <td>0</td>\n",
              "      <td>1</td>\n",
              "      <td>0</td>\n",
              "      <td>0</td>\n",
              "      <td>0</td>\n",
              "      <td>0</td>\n",
              "      <td>small</td>\n",
              "    </tr>\n",
              "  </tbody>\n",
              "</table>\n",
              "<p>5 rows × 31 columns</p>\n",
              "</div>\n",
              "      <button class=\"colab-df-convert\" onclick=\"convertToInteractive('df-c010d53f-9f90-48b8-97e0-82fc720299ab')\"\n",
              "              title=\"Convert this dataframe to an interactive table.\"\n",
              "              style=\"display:none;\">\n",
              "        \n",
              "  <svg xmlns=\"http://www.w3.org/2000/svg\" height=\"24px\"viewBox=\"0 0 24 24\"\n",
              "       width=\"24px\">\n",
              "    <path d=\"M0 0h24v24H0V0z\" fill=\"none\"/>\n",
              "    <path d=\"M18.56 5.44l.94 2.06.94-2.06 2.06-.94-2.06-.94-.94-2.06-.94 2.06-2.06.94zm-11 1L8.5 8.5l.94-2.06 2.06-.94-2.06-.94L8.5 2.5l-.94 2.06-2.06.94zm10 10l.94 2.06.94-2.06 2.06-.94-2.06-.94-.94-2.06-.94 2.06-2.06.94z\"/><path d=\"M17.41 7.96l-1.37-1.37c-.4-.4-.92-.59-1.43-.59-.52 0-1.04.2-1.43.59L10.3 9.45l-7.72 7.72c-.78.78-.78 2.05 0 2.83L4 21.41c.39.39.9.59 1.41.59.51 0 1.02-.2 1.41-.59l7.78-7.78 2.81-2.81c.8-.78.8-2.07 0-2.86zM5.41 20L4 18.59l7.72-7.72 1.47 1.35L5.41 20z\"/>\n",
              "  </svg>\n",
              "      </button>\n",
              "      \n",
              "  <style>\n",
              "    .colab-df-container {\n",
              "      display:flex;\n",
              "      flex-wrap:wrap;\n",
              "      gap: 12px;\n",
              "    }\n",
              "\n",
              "    .colab-df-convert {\n",
              "      background-color: #E8F0FE;\n",
              "      border: none;\n",
              "      border-radius: 50%;\n",
              "      cursor: pointer;\n",
              "      display: none;\n",
              "      fill: #1967D2;\n",
              "      height: 32px;\n",
              "      padding: 0 0 0 0;\n",
              "      width: 32px;\n",
              "    }\n",
              "\n",
              "    .colab-df-convert:hover {\n",
              "      background-color: #E2EBFA;\n",
              "      box-shadow: 0px 1px 2px rgba(60, 64, 67, 0.3), 0px 1px 3px 1px rgba(60, 64, 67, 0.15);\n",
              "      fill: #174EA6;\n",
              "    }\n",
              "\n",
              "    [theme=dark] .colab-df-convert {\n",
              "      background-color: #3B4455;\n",
              "      fill: #D2E3FC;\n",
              "    }\n",
              "\n",
              "    [theme=dark] .colab-df-convert:hover {\n",
              "      background-color: #434B5C;\n",
              "      box-shadow: 0px 1px 3px 1px rgba(0, 0, 0, 0.15);\n",
              "      filter: drop-shadow(0px 1px 2px rgba(0, 0, 0, 0.3));\n",
              "      fill: #FFFFFF;\n",
              "    }\n",
              "  </style>\n",
              "\n",
              "      <script>\n",
              "        const buttonEl =\n",
              "          document.querySelector('#df-c010d53f-9f90-48b8-97e0-82fc720299ab button.colab-df-convert');\n",
              "        buttonEl.style.display =\n",
              "          google.colab.kernel.accessAllowed ? 'block' : 'none';\n",
              "\n",
              "        async function convertToInteractive(key) {\n",
              "          const element = document.querySelector('#df-c010d53f-9f90-48b8-97e0-82fc720299ab');\n",
              "          const dataTable =\n",
              "            await google.colab.kernel.invokeFunction('convertToInteractive',\n",
              "                                                     [key], {});\n",
              "          if (!dataTable) return;\n",
              "\n",
              "          const docLinkHtml = 'Like what you see? Visit the ' +\n",
              "            '<a target=\"_blank\" href=https://colab.research.google.com/notebooks/data_table.ipynb>data table notebook</a>'\n",
              "            + ' to learn more about interactive tables.';\n",
              "          element.innerHTML = '';\n",
              "          dataTable['output_type'] = 'display_data';\n",
              "          await google.colab.output.renderOutput(dataTable, element);\n",
              "          const docLink = document.createElement('div');\n",
              "          docLink.innerHTML = docLinkHtml;\n",
              "          element.appendChild(docLink);\n",
              "        }\n",
              "      </script>\n",
              "    </div>\n",
              "  </div>\n",
              "  "
            ]
          },
          "metadata": {},
          "execution_count": 3
        }
      ],
      "source": [
        "frst=pd.read_csv('forestfires.csv')\n",
        "frst.head()"
      ]
    },
    {
      "cell_type": "code",
      "execution_count": 4,
      "metadata": {
        "colab": {
          "base_uri": "https://localhost:8080/"
        },
        "id": "Cso60dAfIzz3",
        "outputId": "4d518e55-4737-440b-e6c3-f9488fadea0c"
      },
      "outputs": [
        {
          "output_type": "execute_result",
          "data": {
            "text/plain": [
              "Index(['month', 'day', 'FFMC', 'DMC', 'DC', 'ISI', 'temp', 'RH', 'wind',\n",
              "       'rain', 'area', 'dayfri', 'daymon', 'daysat', 'daysun', 'daythu',\n",
              "       'daytue', 'daywed', 'monthapr', 'monthaug', 'monthdec', 'monthfeb',\n",
              "       'monthjan', 'monthjul', 'monthjun', 'monthmar', 'monthmay', 'monthnov',\n",
              "       'monthoct', 'monthsep', 'size_category'],\n",
              "      dtype='object')"
            ]
          },
          "metadata": {},
          "execution_count": 4
        }
      ],
      "source": [
        "frst.columns"
      ]
    },
    {
      "cell_type": "code",
      "execution_count": 5,
      "metadata": {
        "colab": {
          "base_uri": "https://localhost:8080/"
        },
        "id": "F0l-i1do23dF",
        "outputId": "3ef4370d-debe-4c45-a8e1-48b46e3dfea0"
      },
      "outputs": [
        {
          "output_type": "execute_result",
          "data": {
            "text/plain": [
              "Index(['FFMC', 'DMC', 'DC', 'ISI', 'temp', 'RH', 'wind', 'rain', 'dayfri',\n",
              "       'daymon', 'daysat', 'daysun', 'daythu', 'daytue', 'daywed', 'monthapr',\n",
              "       'monthaug', 'monthdec', 'monthfeb', 'monthjan', 'monthjul', 'monthjun',\n",
              "       'monthmar', 'monthmay', 'monthnov', 'monthoct', 'monthsep',\n",
              "       'size_category'],\n",
              "      dtype='object')"
            ]
          },
          "metadata": {},
          "execution_count": 5
        }
      ],
      "source": [
        "frst=frst.drop(['month','day','area'],axis=1)\n",
        "frst.columns"
      ]
    },
    {
      "cell_type": "code",
      "execution_count": 6,
      "metadata": {
        "id": "7a6oOTmTIr84"
      },
      "outputs": [],
      "source": [
        "label_encoder=preprocessing.LabelEncoder()\n",
        "frst['size_category']=label_encoder.fit_transform(frst['size_category'])"
      ]
    },
    {
      "cell_type": "code",
      "execution_count": 7,
      "metadata": {
        "colab": {
          "base_uri": "https://localhost:8080/"
        },
        "id": "JHHnajeLIsAa",
        "outputId": "5b8fa6f2-792f-46e6-9bbd-9400dc17990d"
      },
      "outputs": [
        {
          "output_type": "execute_result",
          "data": {
            "text/plain": [
              "(517, 28)"
            ]
          },
          "metadata": {},
          "execution_count": 7
        }
      ],
      "source": [
        "frst.shape"
      ]
    },
    {
      "cell_type": "code",
      "execution_count": 8,
      "metadata": {
        "id": "BmaGqKywIr6E"
      },
      "outputs": [],
      "source": [
        "X=frst[['FFMC','DMC','DC','ISI','temp','RH','wind','rain','dayfri','daymon','daysat','daysun','daythu','daytue','daywed','monthapr','monthaug','monthdec','monthfeb','monthjan','monthjul','monthjun','monthmar','monthmay','monthnov','monthoct','monthsep']]\n",
        "Y=frst['size_category']"
      ]
    },
    {
      "cell_type": "code",
      "execution_count": 9,
      "metadata": {
        "colab": {
          "base_uri": "https://localhost:8080/"
        },
        "id": "UiPu9sSYWsT3",
        "outputId": "17d062a1-6723-4ec4-d425-baf686d7e173"
      },
      "outputs": [
        {
          "output_type": "stream",
          "name": "stdout",
          "text": [
            "<class 'pandas.core.frame.DataFrame'>\n",
            "RangeIndex: 517 entries, 0 to 516\n",
            "Data columns (total 27 columns):\n",
            " #   Column    Non-Null Count  Dtype  \n",
            "---  ------    --------------  -----  \n",
            " 0   FFMC      517 non-null    float64\n",
            " 1   DMC       517 non-null    float64\n",
            " 2   DC        517 non-null    float64\n",
            " 3   ISI       517 non-null    float64\n",
            " 4   temp      517 non-null    float64\n",
            " 5   RH        517 non-null    int64  \n",
            " 6   wind      517 non-null    float64\n",
            " 7   rain      517 non-null    float64\n",
            " 8   dayfri    517 non-null    int64  \n",
            " 9   daymon    517 non-null    int64  \n",
            " 10  daysat    517 non-null    int64  \n",
            " 11  daysun    517 non-null    int64  \n",
            " 12  daythu    517 non-null    int64  \n",
            " 13  daytue    517 non-null    int64  \n",
            " 14  daywed    517 non-null    int64  \n",
            " 15  monthapr  517 non-null    int64  \n",
            " 16  monthaug  517 non-null    int64  \n",
            " 17  monthdec  517 non-null    int64  \n",
            " 18  monthfeb  517 non-null    int64  \n",
            " 19  monthjan  517 non-null    int64  \n",
            " 20  monthjul  517 non-null    int64  \n",
            " 21  monthjun  517 non-null    int64  \n",
            " 22  monthmar  517 non-null    int64  \n",
            " 23  monthmay  517 non-null    int64  \n",
            " 24  monthnov  517 non-null    int64  \n",
            " 25  monthoct  517 non-null    int64  \n",
            " 26  monthsep  517 non-null    int64  \n",
            "dtypes: float64(7), int64(20)\n",
            "memory usage: 109.2 KB\n"
          ]
        }
      ],
      "source": [
        "X.info()"
      ]
    },
    {
      "cell_type": "code",
      "source": [
        "frst.boxplot()"
      ],
      "metadata": {
        "colab": {
          "base_uri": "https://localhost:8080/",
          "height": 283
        },
        "id": "SHV68TS0bBAE",
        "outputId": "e606b54d-8940-4371-e598-fb4b0be56524"
      },
      "execution_count": 10,
      "outputs": [
        {
          "output_type": "execute_result",
          "data": {
            "text/plain": [
              "<AxesSubplot:>"
            ]
          },
          "metadata": {},
          "execution_count": 10
        },
        {
          "output_type": "display_data",
          "data": {
            "text/plain": [
              "<Figure size 432x288 with 1 Axes>"
            ],
            "image/png": "[encoded data removed]"
          },
          "metadata": {
            "needs_background": "light"
          }
        }
      ]
    },
    {
      "cell_type": "code",
      "source": [
        "import matplotlib.pyplot as plt\n",
        "plt.boxplot(frst['FFMC'])"
      ],
      "metadata": {
        "colab": {
          "base_uri": "https://localhost:8080/",
          "height": 408
        },
        "id": "cCs_KXZHbA8m",
        "outputId": "5bb75f06-8847-4f32-89e6-550ed16d9f5c"
      },
      "execution_count": 11,
      "outputs": [
        {
          "output_type": "execute_result",
          "data": {
            "text/plain": [
              "{'whiskers': [<matplotlib.lines.Line2D at 0x7f43e74323a0>,\n",
              "  <matplotlib.lines.Line2D at 0x7f43e7432670>],\n",
              " 'caps': [<matplotlib.lines.Line2D at 0x7f43e7432940>,\n",
              "  <matplotlib.lines.Line2D at 0x7f43e7432c10>],\n",
              " 'boxes': [<matplotlib.lines.Line2D at 0x7f43e74320d0>],\n",
              " 'medians': [<matplotlib.lines.Line2D at 0x7f43e7432ee0>],\n",
              " 'fliers': [<matplotlib.lines.Line2D at 0x7f43e743d1f0>],\n",
              " 'means': []}"
            ]
          },
          "metadata": {},
          "execution_count": 11
        },
        {
          "output_type": "display_data",
          "data": {
            "text/plain": [
              "<Figure size 432x288 with 1 Axes>"
            ],
            "image/png": "[encoded data removed]"
          },
          "metadata": {
            "needs_background": "light"
          }
        }
      ]
    },
    {
      "cell_type": "code",
      "source": [
        "frst=frst.drop(frst[frst['FFMC']<88].index,axis=0)"
      ],
      "metadata": {
        "id": "5h2kJW6CbA5m"
      },
      "execution_count": 12,
      "outputs": []
    },
    {
      "cell_type": "code",
      "source": [
        "plt.boxplot(frst['DMC'])"
      ],
      "metadata": {
        "colab": {
          "base_uri": "https://localhost:8080/",
          "height": 406
        },
        "id": "B0u5mCY8bA2t",
        "outputId": "890c62ed-9f94-48af-b04c-ce41042776a0"
      },
      "execution_count": 13,
      "outputs": [
        {
          "output_type": "execute_result",
          "data": {
            "text/plain": [
              "{'whiskers': [<matplotlib.lines.Line2D at 0x7f43e7413d60>,\n",
              "  <matplotlib.lines.Line2D at 0x7f43e7421070>],\n",
              " 'caps': [<matplotlib.lines.Line2D at 0x7f43e7421340>,\n",
              "  <matplotlib.lines.Line2D at 0x7f43e7421610>],\n",
              " 'boxes': [<matplotlib.lines.Line2D at 0x7f43e7413a90>],\n",
              " 'medians': [<matplotlib.lines.Line2D at 0x7f43e74218e0>],\n",
              " 'fliers': [<matplotlib.lines.Line2D at 0x7f43e7421bb0>],\n",
              " 'means': []}"
            ]
          },
          "metadata": {},
          "execution_count": 13
        },
        {
          "output_type": "display_data",
          "data": {
            "text/plain": [
              "<Figure size 432x288 with 1 Axes>"
            ],
            "image/png": "[encoded data removed]"
          },
          "metadata": {
            "needs_background": "light"
          }
        }
      ]
    },
    {
      "cell_type": "code",
      "source": [
        "frst=frst.drop(frst[frst['DMC']>250].index,axis=0)"
      ],
      "metadata": {
        "id": "1yghctzibAzi"
      },
      "execution_count": 14,
      "outputs": []
    },
    {
      "cell_type": "code",
      "source": [
        "plt.boxplot(frst['DC'])"
      ],
      "metadata": {
        "colab": {
          "base_uri": "https://localhost:8080/",
          "height": 404
        },
        "id": "UB7L-ELmbAwG",
        "outputId": "ea3f5103-4fc9-40f3-df5f-3b928350cb63"
      },
      "execution_count": 15,
      "outputs": [
        {
          "output_type": "execute_result",
          "data": {
            "text/plain": [
              "{'whiskers': [<matplotlib.lines.Line2D at 0x7f43e7378670>,\n",
              "  <matplotlib.lines.Line2D at 0x7f43e7378940>],\n",
              " 'caps': [<matplotlib.lines.Line2D at 0x7f43e7378c10>,\n",
              "  <matplotlib.lines.Line2D at 0x7f43e7378ee0>],\n",
              " 'boxes': [<matplotlib.lines.Line2D at 0x7f43e73783a0>],\n",
              " 'medians': [<matplotlib.lines.Line2D at 0x7f43e7384220>],\n",
              " 'fliers': [<matplotlib.lines.Line2D at 0x7f43e73844f0>],\n",
              " 'means': []}"
            ]
          },
          "metadata": {},
          "execution_count": 15
        },
        {
          "output_type": "display_data",
          "data": {
            "text/plain": [
              "<Figure size 432x288 with 1 Axes>"
            ],
            "image/png": "[encoded data removed]"
          },
          "metadata": {
            "needs_background": "light"
          }
        }
      ]
    },
    {
      "cell_type": "code",
      "source": [
        "frst=frst.drop(frst[frst['DC']<500].index,axis=0)"
      ],
      "metadata": {
        "id": "waOIIOFjbAsz"
      },
      "execution_count": 16,
      "outputs": []
    },
    {
      "cell_type": "code",
      "source": [
        "plt.boxplot(frst['ISI'])"
      ],
      "metadata": {
        "colab": {
          "base_uri": "https://localhost:8080/",
          "height": 404
        },
        "id": "NgumaTW1bAmh",
        "outputId": "3a37c1a6-7270-4609-8069-54d9a16d1ef6"
      },
      "execution_count": 17,
      "outputs": [
        {
          "output_type": "execute_result",
          "data": {
            "text/plain": [
              "{'whiskers': [<matplotlib.lines.Line2D at 0x7f43e73645b0>,\n",
              "  <matplotlib.lines.Line2D at 0x7f43e7364880>],\n",
              " 'caps': [<matplotlib.lines.Line2D at 0x7f43e7364b50>,\n",
              "  <matplotlib.lines.Line2D at 0x7f43e7364e20>],\n",
              " 'boxes': [<matplotlib.lines.Line2D at 0x7f43e73642e0>],\n",
              " 'medians': [<matplotlib.lines.Line2D at 0x7f43e72f0130>],\n",
              " 'fliers': [<matplotlib.lines.Line2D at 0x7f43e72f0400>],\n",
              " 'means': []}"
            ]
          },
          "metadata": {},
          "execution_count": 17
        },
        {
          "output_type": "display_data",
          "data": {
            "text/plain": [
              "<Figure size 432x288 with 1 Axes>"
            ],
            "image/png": "[encoded data removed]"
          },
          "metadata": {
            "needs_background": "light"
          }
        }
      ]
    },
    {
      "cell_type": "code",
      "source": [
        "frst=frst.drop(frst[frst['ISI']>20].index,axis=0)"
      ],
      "metadata": {
        "id": "mNrd-KcIbAjH"
      },
      "execution_count": 18,
      "outputs": []
    },
    {
      "cell_type": "code",
      "source": [
        "frst.shape"
      ],
      "metadata": {
        "colab": {
          "base_uri": "https://localhost:8080/"
        },
        "id": "aBPHkyuzbAfn",
        "outputId": "d9f866d2-3663-4913-8b21-51818f0ed760"
      },
      "execution_count": 19,
      "outputs": [
        {
          "output_type": "execute_result",
          "data": {
            "text/plain": [
              "(330, 28)"
            ]
          },
          "metadata": {},
          "execution_count": 19
        }
      ]
    },
    {
      "cell_type": "code",
      "execution_count": 20,
      "metadata": {
        "id": "dY79dV_LDLXF"
      },
      "outputs": [],
      "source": [
        "a=StandardScaler()\n",
        "a.fit(X)\n",
        "x_standardized=a.transform(X)"
      ]
    },
    {
      "cell_type": "code",
      "execution_count": 21,
      "metadata": {
        "colab": {
          "base_uri": "https://localhost:8080/"
        },
        "id": "BOD1uv26XBlV",
        "outputId": "68b976b0-4943-4405-b073-c3df147700ab"
      },
      "outputs": [
        {
          "output_type": "execute_result",
          "data": {
            "text/plain": [
              "array([[-8.05959472e-01, -1.32332557e+00, -1.83047676e+00, ...,\n",
              "        -4.40225453e-02, -1.72859706e-01, -7.06081245e-01],\n",
              "       [-8.10203395e-03, -1.17954077e+00,  4.88890915e-01, ...,\n",
              "        -4.40225453e-02,  5.78503817e+00, -7.06081245e-01],\n",
              "       [-8.10203395e-03, -1.04982188e+00,  5.60715454e-01, ...,\n",
              "        -4.40225453e-02,  5.78503817e+00, -7.06081245e-01],\n",
              "       ...,\n",
              "       [-1.64008316e+00, -8.46647711e-01,  4.74768113e-01, ...,\n",
              "        -4.40225453e-02, -1.72859706e-01, -7.06081245e-01],\n",
              "       [ 6.80956663e-01,  5.49002541e-01,  2.69382214e-01, ...,\n",
              "        -4.40225453e-02, -1.72859706e-01, -7.06081245e-01],\n",
              "       [-2.02087875e+00, -1.68591332e+00, -1.78044169e+00, ...,\n",
              "         2.27156334e+01, -1.72859706e-01, -7.06081245e-01]])"
            ]
          },
          "metadata": {},
          "execution_count": 21
        }
      ],
      "source": [
        "x_standardized"
      ]
    },
    {
      "cell_type": "code",
      "execution_count": 22,
      "metadata": {
        "colab": {
          "base_uri": "https://localhost:8080/",
          "height": 480
        },
        "id": "OVox98_8Ir3A",
        "outputId": "c8c296ce-af54-437a-b00d-ddbe10a54b93"
      },
      "outputs": [
        {
          "output_type": "execute_result",
          "data": {
            "text/plain": [
              "                 0             1             2             3             4   \\\n",
              "count  5.170000e+02  5.170000e+02  5.170000e+02  5.170000e+02  5.170000e+02   \n",
              "mean  -1.752306e-15 -2.748715e-17  6.871787e-17  1.030768e-17  2.542561e-16   \n",
              "std    1.000969e+00  1.000969e+00  1.000969e+00  1.000969e+00  1.000969e+00   \n",
              "min   -1.304582e+01 -1.715608e+00 -2.179108e+00 -1.980578e+00 -2.876943e+00   \n",
              "25%   -8.063453e-02 -6.606652e-01 -4.448281e-01 -5.535954e-01 -5.842379e-01   \n",
              "50%    1.732292e-01 -4.020255e-02  4.691190e-01 -1.364774e-01  7.082076e-02   \n",
              "75%    4.089598e-01  4.927389e-01  6.696628e-01  3.904086e-01  6.741643e-01   \n",
              "max    1.007353e+00  2.819865e+00  1.261610e+00  1.033538e+01  2.484195e+00   \n",
              "\n",
              "                 5             6             7             8             9   \\\n",
              "count  5.170000e+02  5.170000e+02  5.170000e+02  5.170000e+02  5.170000e+02   \n",
              "mean   2.198972e-16 -4.191790e-16 -6.871787e-18  3.435893e-18 -5.497429e-17   \n",
              "std    1.000969e+00  1.000969e+00  1.000969e+00  1.000969e+00  1.000969e+00   \n",
              "min   -1.796637e+00 -2.021098e+00 -7.326831e-02 -4.435755e-01 -4.087088e-01   \n",
              "25%   -6.924563e-01 -7.361236e-01 -7.326831e-02 -4.435755e-01 -4.087088e-01   \n",
              "50%   -1.403660e-01 -9.833712e-03 -7.326831e-02 -4.435755e-01 -4.087088e-01   \n",
              "75%    5.344111e-01  4.929823e-01 -7.326831e-02 -4.435755e-01 -4.087088e-01   \n",
              "max    3.417549e+00  3.007063e+00  2.157228e+01  2.254407e+00  2.446730e+00   \n",
              "\n",
              "       ...            17            18            19            20  \\\n",
              "count  ...  5.170000e+02  5.170000e+02  5.170000e+02  5.170000e+02   \n",
              "mean   ... -6.871787e-17  2.061536e-17  2.233331e-17 -1.374357e-17   \n",
              "std    ...  1.000969e+00  1.000969e+00  1.000969e+00  1.000969e+00   \n",
              "min    ... -1.331035e-01 -2.006027e-01 -6.231770e-02 -2.568645e-01   \n",
              "25%    ... -1.331035e-01 -2.006027e-01 -6.231770e-02 -2.568645e-01   \n",
              "50%    ... -1.331035e-01 -2.006027e-01 -6.231770e-02 -2.568645e-01   \n",
              "75%    ... -1.331035e-01 -2.006027e-01 -6.231770e-02 -2.568645e-01   \n",
              "max    ...  7.512952e+00  4.984977e+00  1.604681e+01  3.893103e+00   \n",
              "\n",
              "                 21            22            23            24            25  \\\n",
              "count  5.170000e+02  5.170000e+02  5.170000e+02  5.170000e+02  5.170000e+02   \n",
              "mean  -1.374357e-17 -8.246144e-17 -1.717947e-17 -1.030768e-17  5.497429e-17   \n",
              "std    1.000969e+00  1.000969e+00  1.000969e+00  1.000969e+00  1.000969e+00   \n",
              "min   -1.843909e-01 -3.415123e-01 -6.231770e-02 -4.402255e-02 -1.728597e-01   \n",
              "25%   -1.843909e-01 -3.415123e-01 -6.231770e-02 -4.402255e-02 -1.728597e-01   \n",
              "50%   -1.843909e-01 -3.415123e-01 -6.231770e-02 -4.402255e-02 -1.728597e-01   \n",
              "75%   -1.843909e-01 -3.415123e-01 -6.231770e-02 -4.402255e-02 -1.728597e-01   \n",
              "max    5.423261e+00  2.928152e+00  1.604681e+01  2.271563e+01  5.785038e+00   \n",
              "\n",
              "                 26  \n",
              "count  5.170000e+02  \n",
              "mean   2.748715e-17  \n",
              "std    1.000969e+00  \n",
              "min   -7.060812e-01  \n",
              "25%   -7.060812e-01  \n",
              "50%   -7.060812e-01  \n",
              "75%    1.416268e+00  \n",
              "max    1.416268e+00  \n",
              "\n",
              "[8 rows x 27 columns]"
            ],
            "text/html": [
              "\n",
              "  <div id=\"df-4b5d25ad-3920-4b03-9394-c15c3006ed8b\">\n",
              "    <div class=\"colab-df-container\">\n",
              "      <div>\n",
              "<style scoped>\n",
              "    .dataframe tbody tr th:only-of-type {\n",
              "        vertical-align: middle;\n",
              "    }\n",
              "\n",
              "    .dataframe tbody tr th {\n",
              "        vertical-align: top;\n",
              "    }\n",
              "\n",
              "    .dataframe thead th {\n",
              "        text-align: right;\n",
              "    }\n",
              "</style>\n",
              "<table border=\"1\" class=\"dataframe\">\n",
              "  <thead>\n",
              "    <tr style=\"text-align: right;\">\n",
              "      <th></th>\n",
              "      <th>0</th>\n",
              "      <th>1</th>\n",
              "      <th>2</th>\n",
              "      <th>3</th>\n",
              "      <th>4</th>\n",
              "      <th>5</th>\n",
              "      <th>6</th>\n",
              "      <th>7</th>\n",
              "      <th>8</th>\n",
              "      <th>9</th>\n",
              "      <th>...</th>\n",
              "      <th>17</th>\n",
              "      <th>18</th>\n",
              "      <th>19</th>\n",
              "      <th>20</th>\n",
              "      <th>21</th>\n",
              "      <th>22</th>\n",
              "      <th>23</th>\n",
              "      <th>24</th>\n",
              "      <th>25</th>\n",
              "      <th>26</th>\n",
              "    </tr>\n",
              "  </thead>\n",
              "  <tbody>\n",
              "    <tr>\n",
              "      <th>count</th>\n",
              "      <td>5.170000e+02</td>\n",
              "      <td>5.170000e+02</td>\n",
              "      <td>5.170000e+02</td>\n",
              "      <td>5.170000e+02</td>\n",
              "      <td>5.170000e+02</td>\n",
              "      <td>5.170000e+02</td>\n",
              "      <td>5.170000e+02</td>\n",
              "      <td>5.170000e+02</td>\n",
              "      <td>5.170000e+02</td>\n",
              "      <td>5.170000e+02</td>\n",
              "      <td>...</td>\n",
              "      <td>5.170000e+02</td>\n",
              "      <td>5.170000e+02</td>\n",
              "      <td>5.170000e+02</td>\n",
              "      <td>5.170000e+02</td>\n",
              "      <td>5.170000e+02</td>\n",
              "      <td>5.170000e+02</td>\n",
              "      <td>5.170000e+02</td>\n",
              "      <td>5.170000e+02</td>\n",
              "      <td>5.170000e+02</td>\n",
              "      <td>5.170000e+02</td>\n",
              "    </tr>\n",
              "    <tr>\n",
              "      <th>mean</th>\n",
              "      <td>-1.752306e-15</td>\n",
              "      <td>-2.748715e-17</td>\n",
              "      <td>6.871787e-17</td>\n",
              "      <td>1.030768e-17</td>\n",
              "      <td>2.542561e-16</td>\n",
              "      <td>2.198972e-16</td>\n",
              "      <td>-4.191790e-16</td>\n",
              "      <td>-6.871787e-18</td>\n",
              "      <td>3.435893e-18</td>\n",
              "      <td>-5.497429e-17</td>\n",
              "      <td>...</td>\n",
              "      <td>-6.871787e-17</td>\n",
              "      <td>2.061536e-17</td>\n",
              "      <td>2.233331e-17</td>\n",
              "      <td>-1.374357e-17</td>\n",
              "      <td>-1.374357e-17</td>\n",
              "      <td>-8.246144e-17</td>\n",
              "      <td>-1.717947e-17</td>\n",
              "      <td>-1.030768e-17</td>\n",
              "      <td>5.497429e-17</td>\n",
              "      <td>2.748715e-17</td>\n",
              "    </tr>\n",
              "    <tr>\n",
              "      <th>std</th>\n",
              "      <td>1.000969e+00</td>\n",
              "      <td>1.000969e+00</td>\n",
              "      <td>1.000969e+00</td>\n",
              "      <td>1.000969e+00</td>\n",
              "      <td>1.000969e+00</td>\n",
              "      <td>1.000969e+00</td>\n",
              "      <td>1.000969e+00</td>\n",
              "      <td>1.000969e+00</td>\n",
              "      <td>1.000969e+00</td>\n",
              "      <td>1.000969e+00</td>\n",
              "      <td>...</td>\n",
              "      <td>1.000969e+00</td>\n",
              "      <td>1.000969e+00</td>\n",
              "      <td>1.000969e+00</td>\n",
              "      <td>1.000969e+00</td>\n",
              "      <td>1.000969e+00</td>\n",
              "      <td>1.000969e+00</td>\n",
              "      <td>1.000969e+00</td>\n",
              "      <td>1.000969e+00</td>\n",
              "      <td>1.000969e+00</td>\n",
              "      <td>1.000969e+00</td>\n",
              "    </tr>\n",
              "    <tr>\n",
              "      <th>min</th>\n",
              "      <td>-1.304582e+01</td>\n",
              "      <td>-1.715608e+00</td>\n",
              "      <td>-2.179108e+00</td>\n",
              "      <td>-1.980578e+00</td>\n",
              "      <td>-2.876943e+00</td>\n",
              "      <td>-1.796637e+00</td>\n",
              "      <td>-2.021098e+00</td>\n",
              "      <td>-7.326831e-02</td>\n",
              "      <td>-4.435755e-01</td>\n",
              "      <td>-4.087088e-01</td>\n",
              "      <td>...</td>\n",
              "      <td>-1.331035e-01</td>\n",
              "      <td>-2.006027e-01</td>\n",
              "      <td>-6.231770e-02</td>\n",
              "      <td>-2.568645e-01</td>\n",
              "      <td>-1.843909e-01</td>\n",
              "      <td>-3.415123e-01</td>\n",
              "      <td>-6.231770e-02</td>\n",
              "      <td>-4.402255e-02</td>\n",
              "      <td>-1.728597e-01</td>\n",
              "      <td>-7.060812e-01</td>\n",
              "    </tr>\n",
              "    <tr>\n",
              "      <th>25%</th>\n",
              "      <td>-8.063453e-02</td>\n",
              "      <td>-6.606652e-01</td>\n",
              "      <td>-4.448281e-01</td>\n",
              "      <td>-5.535954e-01</td>\n",
              "      <td>-5.842379e-01</td>\n",
              "      <td>-6.924563e-01</td>\n",
              "      <td>-7.361236e-01</td>\n",
              "      <td>-7.326831e-02</td>\n",
              "      <td>-4.435755e-01</td>\n",
              "      <td>-4.087088e-01</td>\n",
              "      <td>...</td>\n",
              "      <td>-1.331035e-01</td>\n",
              "      <td>-2.006027e-01</td>\n",
              "      <td>-6.231770e-02</td>\n",
              "      <td>-2.568645e-01</td>\n",
              "      <td>-1.843909e-01</td>\n",
              "      <td>-3.415123e-01</td>\n",
              "      <td>-6.231770e-02</td>\n",
              "      <td>-4.402255e-02</td>\n",
              "      <td>-1.728597e-01</td>\n",
              "      <td>-7.060812e-01</td>\n",
              "    </tr>\n",
              "    <tr>\n",
              "      <th>50%</th>\n",
              "      <td>1.732292e-01</td>\n",
              "      <td>-4.020255e-02</td>\n",
              "      <td>4.691190e-01</td>\n",
              "      <td>-1.364774e-01</td>\n",
              "      <td>7.082076e-02</td>\n",
              "      <td>-1.403660e-01</td>\n",
              "      <td>-9.833712e-03</td>\n",
              "      <td>-7.326831e-02</td>\n",
              "      <td>-4.435755e-01</td>\n",
              "      <td>-4.087088e-01</td>\n",
              "      <td>...</td>\n",
              "      <td>-1.331035e-01</td>\n",
              "      <td>-2.006027e-01</td>\n",
              "      <td>-6.231770e-02</td>\n",
              "      <td>-2.568645e-01</td>\n",
              "      <td>-1.843909e-01</td>\n",
              "      <td>-3.415123e-01</td>\n",
              "      <td>-6.231770e-02</td>\n",
              "      <td>-4.402255e-02</td>\n",
              "      <td>-1.728597e-01</td>\n",
              "      <td>-7.060812e-01</td>\n",
              "    </tr>\n",
              "    <tr>\n",
              "      <th>75%</th>\n",
              "      <td>4.089598e-01</td>\n",
              "      <td>4.927389e-01</td>\n",
              "      <td>6.696628e-01</td>\n",
              "      <td>3.904086e-01</td>\n",
              "      <td>6.741643e-01</td>\n",
              "      <td>5.344111e-01</td>\n",
              "      <td>4.929823e-01</td>\n",
              "      <td>-7.326831e-02</td>\n",
              "      <td>-4.435755e-01</td>\n",
              "      <td>-4.087088e-01</td>\n",
              "      <td>...</td>\n",
              "      <td>-1.331035e-01</td>\n",
              "      <td>-2.006027e-01</td>\n",
              "      <td>-6.231770e-02</td>\n",
              "      <td>-2.568645e-01</td>\n",
              "      <td>-1.843909e-01</td>\n",
              "      <td>-3.415123e-01</td>\n",
              "      <td>-6.231770e-02</td>\n",
              "      <td>-4.402255e-02</td>\n",
              "      <td>-1.728597e-01</td>\n",
              "      <td>1.416268e+00</td>\n",
              "    </tr>\n",
              "    <tr>\n",
              "      <th>max</th>\n",
              "      <td>1.007353e+00</td>\n",
              "      <td>2.819865e+00</td>\n",
              "      <td>1.261610e+00</td>\n",
              "      <td>1.033538e+01</td>\n",
              "      <td>2.484195e+00</td>\n",
              "      <td>3.417549e+00</td>\n",
              "      <td>3.007063e+00</td>\n",
              "      <td>2.157228e+01</td>\n",
              "      <td>2.254407e+00</td>\n",
              "      <td>2.446730e+00</td>\n",
              "      <td>...</td>\n",
              "      <td>7.512952e+00</td>\n",
              "      <td>4.984977e+00</td>\n",
              "      <td>1.604681e+01</td>\n",
              "      <td>3.893103e+00</td>\n",
              "      <td>5.423261e+00</td>\n",
              "      <td>2.928152e+00</td>\n",
              "      <td>1.604681e+01</td>\n",
              "      <td>2.271563e+01</td>\n",
              "      <td>5.785038e+00</td>\n",
              "      <td>1.416268e+00</td>\n",
              "    </tr>\n",
              "  </tbody>\n",
              "</table>\n",
              "<p>8 rows × 27 columns</p>\n",
              "</div>\n",
              "      <button class=\"colab-df-convert\" onclick=\"convertToInteractive('df-4b5d25ad-3920-4b03-9394-c15c3006ed8b')\"\n",
              "              title=\"Convert this dataframe to an interactive table.\"\n",
              "              style=\"display:none;\">\n",
              "        \n",
              "  <svg xmlns=\"http://www.w3.org/2000/svg\" height=\"24px\"viewBox=\"0 0 24 24\"\n",
              "       width=\"24px\">\n",
              "    <path d=\"M0 0h24v24H0V0z\" fill=\"none\"/>\n",
              "    <path d=\"M18.56 5.44l.94 2.06.94-2.06 2.06-.94-2.06-.94-.94-2.06-.94 2.06-2.06.94zm-11 1L8.5 8.5l.94-2.06 2.06-.94-2.06-.94L8.5 2.5l-.94 2.06-2.06.94zm10 10l.94 2.06.94-2.06 2.06-.94-2.06-.94-.94-2.06-.94 2.06-2.06.94z\"/><path d=\"M17.41 7.96l-1.37-1.37c-.4-.4-.92-.59-1.43-.59-.52 0-1.04.2-1.43.59L10.3 9.45l-7.72 7.72c-.78.78-.78 2.05 0 2.83L4 21.41c.39.39.9.59 1.41.59.51 0 1.02-.2 1.41-.59l7.78-7.78 2.81-2.81c.8-.78.8-2.07 0-2.86zM5.41 20L4 18.59l7.72-7.72 1.47 1.35L5.41 20z\"/>\n",
              "  </svg>\n",
              "      </button>\n",
              "      \n",
              "  <style>\n",
              "    .colab-df-container {\n",
              "      display:flex;\n",
              "      flex-wrap:wrap;\n",
              "      gap: 12px;\n",
              "    }\n",
              "\n",
              "    .colab-df-convert {\n",
              "      background-color: #E8F0FE;\n",
              "      border: none;\n",
              "      border-radius: 50%;\n",
              "      cursor: pointer;\n",
              "      display: none;\n",
              "      fill: #1967D2;\n",
              "      height: 32px;\n",
              "      padding: 0 0 0 0;\n",
              "      width: 32px;\n",
              "    }\n",
              "\n",
              "    .colab-df-convert:hover {\n",
              "      background-color: #E2EBFA;\n",
              "      box-shadow: 0px 1px 2px rgba(60, 64, 67, 0.3), 0px 1px 3px 1px rgba(60, 64, 67, 0.15);\n",
              "      fill: #174EA6;\n",
              "    }\n",
              "\n",
              "    [theme=dark] .colab-df-convert {\n",
              "      background-color: #3B4455;\n",
              "      fill: #D2E3FC;\n",
              "    }\n",
              "\n",
              "    [theme=dark] .colab-df-convert:hover {\n",
              "      background-color: #434B5C;\n",
              "      box-shadow: 0px 1px 3px 1px rgba(0, 0, 0, 0.15);\n",
              "      filter: drop-shadow(0px 1px 2px rgba(0, 0, 0, 0.3));\n",
              "      fill: #FFFFFF;\n",
              "    }\n",
              "  </style>\n",
              "\n",
              "      <script>\n",
              "        const buttonEl =\n",
              "          document.querySelector('#df-4b5d25ad-3920-4b03-9394-c15c3006ed8b button.colab-df-convert');\n",
              "        buttonEl.style.display =\n",
              "          google.colab.kernel.accessAllowed ? 'block' : 'none';\n",
              "\n",
              "        async function convertToInteractive(key) {\n",
              "          const element = document.querySelector('#df-4b5d25ad-3920-4b03-9394-c15c3006ed8b');\n",
              "          const dataTable =\n",
              "            await google.colab.kernel.invokeFunction('convertToInteractive',\n",
              "                                                     [key], {});\n",
              "          if (!dataTable) return;\n",
              "\n",
              "          const docLinkHtml = 'Like what you see? Visit the ' +\n",
              "            '<a target=\"_blank\" href=https://colab.research.google.com/notebooks/data_table.ipynb>data table notebook</a>'\n",
              "            + ' to learn more about interactive tables.';\n",
              "          element.innerHTML = '';\n",
              "          dataTable['output_type'] = 'display_data';\n",
              "          await google.colab.output.renderOutput(dataTable, element);\n",
              "          const docLink = document.createElement('div');\n",
              "          docLink.innerHTML = docLinkHtml;\n",
              "          element.appendChild(docLink);\n",
              "        }\n",
              "      </script>\n",
              "    </div>\n",
              "  </div>\n",
              "  "
            ]
          },
          "metadata": {},
          "execution_count": 22
        }
      ],
      "source": [
        "pd.DataFrame(x_standardized).describe()"
      ]
    },
    {
      "cell_type": "markdown",
      "source": [
        "model 1"
      ],
      "metadata": {
        "id": "ntzETcGN-Vy8"
      }
    },
    {
      "cell_type": "code",
      "source": [
        "def create_model1():\n",
        "  model1 = Sequential()\n",
        "  model1.add(Dense(128,input_dim = 27,activation = 'linear'))\n",
        "  model1.add(Dense(64,activation = 'linear'))\n",
        "  model1.add(Dropout(0.1))\n",
        "  model1.add(Dense(16,activation = 'linear'))\n",
        "  model1.add(Dropout(0.1))\n",
        "  model1.add(Dense(1))\n",
        "  model1.compile(loss = 'binary_crossentropy',optimizer = 'adam',metrics = ['accuracy'])\n",
        "  return model1"
      ],
      "metadata": {
        "id": "6kzyARkA-bdi"
      },
      "execution_count": 46,
      "outputs": []
    },
    {
      "cell_type": "code",
      "source": [
        "model1 = KerasClassifier(build_fn = create_model1,verbose = 0,batch_size = 40,epochs = 10)\n",
        "\n",
        "model1.fit(x_standardized,Y)\n",
        "\n",
        "y_predict1 = model1.predict(x_standardized)\n",
        "\n",
        "print(accuracy_score(Y,y_predict1))"
      ],
      "metadata": {
        "colab": {
          "base_uri": "https://localhost:8080/"
        },
        "id": "-rCOzjcV-baI",
        "outputId": "386ad4b4-3b0e-4008-ef14-5e66abaf8922"
      },
      "execution_count": 47,
      "outputs": [
        {
          "output_type": "stream",
          "name": "stdout",
          "text": [
            "17/17 [==============================] - 0s 3ms/step\n",
            "0.6421663442940039\n"
          ]
        }
      ]
    },
    {
      "cell_type": "code",
      "source": [
        "a=accuracy_score(Y,y_predict1)\n",
        "a"
      ],
      "metadata": {
        "colab": {
          "base_uri": "https://localhost:8080/"
        },
        "id": "NB9WzICe-bKM",
        "outputId": "0d80fcab-c314-4309-9570-9ca26b241baa"
      },
      "execution_count": 48,
      "outputs": [
        {
          "output_type": "execute_result",
          "data": {
            "text/plain": [
              "0.6421663442940039"
            ]
          },
          "metadata": {},
          "execution_count": 48
        }
      ]
    },
    {
      "cell_type": "markdown",
      "source": [
        "model 2"
      ],
      "metadata": {
        "id": "XgqwfXEB-urR"
      }
    },
    {
      "cell_type": "code",
      "source": [
        "def create_model2():\n",
        "  model2 = Sequential()\n",
        "  model2.add(Dense(64,input_dim = 27,activation = 'linear'))\n",
        "  model2.add(Dense(32,activation = 'linear'))\n",
        "  model2.add(Dropout(0.1))\n",
        "  model2.add(Dense(8,activation = 'linear'))\n",
        "  model2.add(Dropout(0.1))\n",
        "  model2.add(Dense(1))\n",
        "  model2.compile(loss = 'binary_crossentropy',optimizer = 'adam',metrics = ['accuracy'])\n",
        "  return model2"
      ],
      "metadata": {
        "id": "2Was53mS-bGr"
      },
      "execution_count": 49,
      "outputs": []
    },
    {
      "cell_type": "code",
      "source": [
        "model2 = KerasClassifier(build_fn = create_model2,verbose = 0,batch_size = 40,epochs = 10)\n",
        "\n",
        "model2.fit(x_standardized,Y)\n",
        "\n",
        "y_predict2 = model2.predict(x_standardized)\n",
        "\n",
        "print(accuracy_score(Y,y_predict2))"
      ],
      "metadata": {
        "colab": {
          "base_uri": "https://localhost:8080/"
        },
        "id": "UdfvY-7d-a1J",
        "outputId": "b37590b3-21f4-43f3-e54f-baf3ebf6e051"
      },
      "execution_count": 50,
      "outputs": [
        {
          "output_type": "stream",
          "name": "stdout",
          "text": [
            "17/17 [==============================] - 0s 2ms/step\n",
            "0.5725338491295938\n"
          ]
        }
      ]
    },
    {
      "cell_type": "code",
      "source": [
        "b=accuracy_score(Y,y_predict2)\n",
        "b"
      ],
      "metadata": {
        "colab": {
          "base_uri": "https://localhost:8080/"
        },
        "id": "H5P4mVXk-axn",
        "outputId": "326bbcb8-0346-4ecb-a5bb-0dd7a42285b6"
      },
      "execution_count": 51,
      "outputs": [
        {
          "output_type": "execute_result",
          "data": {
            "text/plain": [
              "0.5725338491295938"
            ]
          },
          "metadata": {},
          "execution_count": 51
        }
      ]
    },
    {
      "cell_type": "markdown",
      "source": [
        "model 3"
      ],
      "metadata": {
        "id": "87lErF5Z-93m"
      }
    },
    {
      "cell_type": "code",
      "source": [
        "def create_model3():\n",
        "  model3 = Sequential()\n",
        "  model3.add(Dense(64,input_dim = 27,activation = 'linear'))\n",
        "  model3.add(Dense(32,activation = 'linear'))\n",
        "  model3.add(Dropout(0.01))\n",
        "  model3.add(Dense(8,activation = 'linear'))\n",
        "  model3.add(Dropout(0.01))\n",
        "  model3.add(Dense(1))\n",
        "  model3.compile(loss = 'binary_crossentropy',optimizer = 'adam',metrics = ['accuracy'])\n",
        "  return model3"
      ],
      "metadata": {
        "id": "8eSYdidM-aif"
      },
      "execution_count": 52,
      "outputs": []
    },
    {
      "cell_type": "code",
      "source": [
        "model3 = KerasClassifier(build_fn = create_model3,verbose = 0,batch_size = 40,epochs = 10)\n",
        "\n",
        "model3.fit(x_standardized,Y)\n",
        "\n",
        "y_predict3 = model3.predict(x_standardized)\n",
        "\n",
        "print(accuracy_score(Y,y_predict3))"
      ],
      "metadata": {
        "colab": {
          "base_uri": "https://localhost:8080/"
        },
        "id": "qFc50YCg-afC",
        "outputId": "bab453c2-e3c9-4d5e-e5fd-31f27cadc13d"
      },
      "execution_count": 53,
      "outputs": [
        {
          "output_type": "stream",
          "name": "stdout",
          "text": [
            "17/17 [==============================] - 0s 2ms/step\n",
            "0.5725338491295938\n"
          ]
        }
      ]
    },
    {
      "cell_type": "code",
      "source": [
        "c=accuracy_score(Y,y_predict3)\n",
        "c"
      ],
      "metadata": {
        "colab": {
          "base_uri": "https://localhost:8080/"
        },
        "id": "h1D7lGkT-aNL",
        "outputId": "d9a50059-f0de-4ba4-823e-a9359ff0935d"
      },
      "execution_count": 54,
      "outputs": [
        {
          "output_type": "execute_result",
          "data": {
            "text/plain": [
              "0.5725338491295938"
            ]
          },
          "metadata": {},
          "execution_count": 54
        }
      ]
    },
    {
      "cell_type": "markdown",
      "source": [
        "model 4"
      ],
      "metadata": {
        "id": "taj_Aa3E_Mdx"
      }
    },
    {
      "cell_type": "code",
      "source": [
        "def create_model4():\n",
        "  model4 = Sequential()\n",
        "  model4.add(Dense(64,input_dim = 27,activation = 'relu'))\n",
        "  model4.add(Dense(32,activation = 'relu'))\n",
        "  model4.add(Dropout(0.1))\n",
        "  model4.add(Dense(8,activation = 'relu'))\n",
        "  model4.add(Dropout(0.1))\n",
        "  model4.add(Dense(1))\n",
        "  model4.compile(loss = 'binary_crossentropy',optimizer = 'adam',metrics = ['accuracy'])\n",
        "  return model4"
      ],
      "metadata": {
        "id": "ioQsPG94-aJp"
      },
      "execution_count": 55,
      "outputs": []
    },
    {
      "cell_type": "code",
      "source": [
        "model4 = KerasClassifier(build_fn = create_model4,verbose = 0,batch_size = 40,epochs = 10)\n",
        "\n",
        "model4.fit(x_standardized,Y)\n",
        "\n",
        "y_predict4 = model4.predict(x_standardized)\n",
        "\n",
        "print(accuracy_score(Y,y_predict4))"
      ],
      "metadata": {
        "colab": {
          "base_uri": "https://localhost:8080/"
        },
        "id": "u1YuxglC_OnJ",
        "outputId": "a247bf3a-32e4-4be6-b524-36c23e9ddeab"
      },
      "execution_count": 56,
      "outputs": [
        {
          "output_type": "stream",
          "name": "stdout",
          "text": [
            "17/17 [==============================] - 0s 2ms/step\n",
            "0.6866537717601547\n"
          ]
        }
      ]
    },
    {
      "cell_type": "code",
      "source": [
        "d=accuracy_score(Y,y_predict4)\n",
        "d"
      ],
      "metadata": {
        "colab": {
          "base_uri": "https://localhost:8080/"
        },
        "id": "dU5gyfK8_Ojt",
        "outputId": "9674b611-2762-4762-db31-471691deb12c"
      },
      "execution_count": 57,
      "outputs": [
        {
          "output_type": "execute_result",
          "data": {
            "text/plain": [
              "0.6866537717601547"
            ]
          },
          "metadata": {},
          "execution_count": 57
        }
      ]
    },
    {
      "cell_type": "markdown",
      "source": [
        "model 5"
      ],
      "metadata": {
        "id": "9FP3pO55_aqb"
      }
    },
    {
      "cell_type": "code",
      "source": [
        "def create_model5():\n",
        "  model5 = Sequential()\n",
        "  model5.add(Dense(128,input_dim = 27,activation = 'relu'))\n",
        "  model5.add(Dense(64,activation = 'relu'))\n",
        "  model5.add(Dropout(0.1))\n",
        "  model5.add(Dense(16,activation = 'relu'))\n",
        "  model5.add(Dropout(0.1))\n",
        "  model5.add(Dense(1))\n",
        "  model5.compile(loss = 'MeanSquaredError',optimizer = 'adam',metrics = ['accuracy'])\n",
        "  return model5"
      ],
      "metadata": {
        "id": "YtXb1iFw_OhH"
      },
      "execution_count": 58,
      "outputs": []
    },
    {
      "cell_type": "code",
      "source": [
        "model5 = KerasClassifier(build_fn = create_model5,verbose = 0,batch_size = 40,epochs = 10)\n",
        "\n",
        "model5.fit(x_standardized,Y)\n",
        "\n",
        "y_predict5 = model5.predict(x_standardized)\n",
        "\n",
        "print(accuracy_score(Y,y_predict5))"
      ],
      "metadata": {
        "colab": {
          "base_uri": "https://localhost:8080/"
        },
        "id": "-71F1kIJ_OeI",
        "outputId": "93c760f0-84c2-40d6-efee-3ce20ddb8a0c"
      },
      "execution_count": 59,
      "outputs": [
        {
          "output_type": "stream",
          "name": "stdout",
          "text": [
            "17/17 [==============================] - 0s 2ms/step\n",
            "0.816247582205029\n"
          ]
        }
      ]
    },
    {
      "cell_type": "code",
      "source": [
        "e=accuracy_score(Y,y_predict5)\n",
        "e"
      ],
      "metadata": {
        "colab": {
          "base_uri": "https://localhost:8080/"
        },
        "id": "WjvwOYJU_eAv",
        "outputId": "36ea5890-ad2a-4669-c1aa-60c124e4ff73"
      },
      "execution_count": 60,
      "outputs": [
        {
          "output_type": "execute_result",
          "data": {
            "text/plain": [
              "0.816247582205029"
            ]
          },
          "metadata": {},
          "execution_count": 60
        }
      ]
    },
    {
      "cell_type": "markdown",
      "source": [
        "model 6"
      ],
      "metadata": {
        "id": "LzdKvQfW_qm1"
      }
    },
    {
      "cell_type": "code",
      "execution_count": 61,
      "metadata": {
        "id": "rFGBcOmuIr0P"
      },
      "outputs": [],
      "source": [
        "\n",
        "  model6=Sequential()\n",
        "  model6.add(Dense(128,input_dim=27,activation='relu'))\n",
        "  model6.add(Dense(64,activation='relu'))\n",
        "  model6.add(Dropout(0.1))\n",
        "  model6.add(Dense(16,activation='linear'))\n",
        "  model6.add(Dropout(0.1))\n",
        "  model6.add(Dense(1))\n",
        "  model6.compile(loss='binary_crossentropy',optimizer=\"adam\",metrics=['accuracy'])\n"
      ]
    },
    {
      "cell_type": "code",
      "execution_count": 62,
      "metadata": {
        "colab": {
          "base_uri": "https://localhost:8080/"
        },
        "id": "ZWrBCoU5PMam",
        "outputId": "1253bff5-fc83-42f5-c62f-8737fc8119bc"
      },
      "outputs": [
        {
          "output_type": "stream",
          "name": "stdout",
          "text": [
            "Model: \"sequential_11\"\n",
            "_________________________________________________________________\n",
            " Layer (type)                Output Shape              Param #   \n",
            "=================================================================\n",
            " dense_44 (Dense)            (None, 128)               3584      \n",
            "                                                                 \n",
            " dense_45 (Dense)            (None, 64)                8256      \n",
            "                                                                 \n",
            " dropout_22 (Dropout)        (None, 64)                0         \n",
            "                                                                 \n",
            " dense_46 (Dense)            (None, 16)                1040      \n",
            "                                                                 \n",
            " dropout_23 (Dropout)        (None, 16)                0         \n",
            "                                                                 \n",
            " dense_47 (Dense)            (None, 1)                 17        \n",
            "                                                                 \n",
            "=================================================================\n",
            "Total params: 12,897\n",
            "Trainable params: 12,897\n",
            "Non-trainable params: 0\n",
            "_________________________________________________________________\n"
          ]
        }
      ],
      "source": [
        "model6.summary()"
      ]
    },
    {
      "cell_type": "code",
      "execution_count": 63,
      "metadata": {
        "colab": {
          "base_uri": "https://localhost:8080/"
        },
        "id": "LUtOak3tL2EZ",
        "outputId": "0063976b-2bef-49b8-af52-952df6f6bb13"
      },
      "outputs": [
        {
          "output_type": "stream",
          "name": "stdout",
          "text": [
            "Epoch 1/10\n",
            "17/17 [==============================] - 1s 3ms/step - loss: 2.4166 - accuracy: 0.6460\n",
            "Epoch 2/10\n",
            "17/17 [==============================] - 0s 3ms/step - loss: 1.9590 - accuracy: 0.5996\n",
            "Epoch 3/10\n",
            "17/17 [==============================] - 0s 5ms/step - loss: 1.7879 - accuracy: 0.6035\n",
            "Epoch 4/10\n",
            "17/17 [==============================] - 0s 5ms/step - loss: 2.1352 - accuracy: 0.5764\n",
            "Epoch 5/10\n",
            "17/17 [==============================] - 0s 5ms/step - loss: 1.6977 - accuracy: 0.5745\n",
            "Epoch 6/10\n",
            "17/17 [==============================] - 0s 5ms/step - loss: 1.6597 - accuracy: 0.6596\n",
            "Epoch 7/10\n",
            "17/17 [==============================] - 0s 5ms/step - loss: 1.8988 - accuracy: 0.6712\n",
            "Epoch 8/10\n",
            "17/17 [==============================] - 0s 4ms/step - loss: 1.6929 - accuracy: 0.6731\n",
            "Epoch 9/10\n",
            "17/17 [==============================] - 0s 4ms/step - loss: 1.4497 - accuracy: 0.6809\n",
            "Epoch 10/10\n",
            "17/17 [==============================] - 0s 4ms/step - loss: 1.2033 - accuracy: 0.6422\n"
          ]
        },
        {
          "output_type": "execute_result",
          "data": {
            "text/plain": [
              "<keras.callbacks.History at 0x7f43c94fdf40>"
            ]
          },
          "metadata": {},
          "execution_count": 63
        }
      ],
      "source": [
        "model6.fit(x_standardized,Y,epochs = 10)"
      ]
    },
    {
      "cell_type": "code",
      "execution_count": 64,
      "metadata": {
        "colab": {
          "base_uri": "https://localhost:8080/"
        },
        "id": "gcF1cCY6IrxJ",
        "outputId": "20ffb692-32fb-4f68-d01d-dbcccc5061d3"
      },
      "outputs": [
        {
          "output_type": "stream",
          "name": "stdout",
          "text": [
            "17/17 [==============================] - 0s 3ms/step\n"
          ]
        }
      ],
      "source": [
        "y_predict6 = model6.predict(x_standardized)"
      ]
    },
    {
      "cell_type": "code",
      "execution_count": 65,
      "metadata": {
        "colab": {
          "base_uri": "https://localhost:8080/"
        },
        "id": "REnhLxYFYsPV",
        "outputId": "812ebc73-64a6-4b18-91ec-b0c8ca48c607"
      },
      "outputs": [
        {
          "output_type": "stream",
          "name": "stdout",
          "text": [
            "17/17 [==============================] - 0s 2ms/step\n"
          ]
        }
      ],
      "source": [
        "y_pre6=np.round(model6.predict(x_standardized),0) "
      ]
    },
    {
      "cell_type": "code",
      "execution_count": 66,
      "metadata": {
        "colab": {
          "base_uri": "https://localhost:8080/"
        },
        "id": "_n5I32r3Iq_s",
        "outputId": "0a75adb9-0a1b-4772-b4f8-0be899fb9dfd"
      },
      "outputs": [
        {
          "output_type": "stream",
          "name": "stdout",
          "text": [
            "0.5145067698259188\n"
          ]
        }
      ],
      "source": [
        "print(accuracy_score(Y,y_pre6))"
      ]
    },
    {
      "cell_type": "code",
      "execution_count": 67,
      "metadata": {
        "id": "bOoDWzWORymR",
        "colab": {
          "base_uri": "https://localhost:8080/"
        },
        "outputId": "2c406c40-130b-4174-ad8d-fce942fb5022"
      },
      "outputs": [
        {
          "output_type": "execute_result",
          "data": {
            "text/plain": [
              "0.5145067698259188"
            ]
          },
          "metadata": {},
          "execution_count": 67
        }
      ],
      "source": [
        "f=accuracy_score(Y,y_pre6)\n",
        "f"
      ]
    },
    {
      "cell_type": "code",
      "source": [
        "#Compare the results \n",
        "\n",
        "data = {\"Model\":pd.Series([\"model 1\",\"model 2\",\"model 3\",\"model 4\",\"model 5\",\"model 6\"]),\"Accuracy\":pd.Series([a,b,c,d,e,f])}\n",
        "table=pd.DataFrame(data)\n",
        "table.sort_values(['Accuracy'])"
      ],
      "metadata": {
        "colab": {
          "base_uri": "https://localhost:8080/",
          "height": 238
        },
        "id": "g39SIcIrAReQ",
        "outputId": "66ed392c-2d9e-4a7e-bef5-873a4a9b0256"
      },
      "execution_count": 68,
      "outputs": [
        {
          "output_type": "execute_result",
          "data": {
            "text/plain": [
              "     Model  Accuracy\n",
              "5  model 6  0.514507\n",
              "1  model 2  0.572534\n",
              "2  model 3  0.572534\n",
              "0  model 1  0.642166\n",
              "3  model 4  0.686654\n",
              "4  model 5  0.816248"
            ],
            "text/html": [
              "\n",
              "  <div id=\"df-c066e4a1-2d0b-411b-8ff5-e652bb909475\">\n",
              "    <div class=\"colab-df-container\">\n",
              "      <div>\n",
              "<style scoped>\n",
              "    .dataframe tbody tr th:only-of-type {\n",
              "        vertical-align: middle;\n",
              "    }\n",
              "\n",
              "    .dataframe tbody tr th {\n",
              "        vertical-align: top;\n",
              "    }\n",
              "\n",
              "    .dataframe thead th {\n",
              "        text-align: right;\n",
              "    }\n",
              "</style>\n",
              "<table border=\"1\" class=\"dataframe\">\n",
              "  <thead>\n",
              "    <tr style=\"text-align: right;\">\n",
              "      <th></th>\n",
              "      <th>Model</th>\n",
              "      <th>Accuracy</th>\n",
              "    </tr>\n",
              "  </thead>\n",
              "  <tbody>\n",
              "    <tr>\n",
              "      <th>5</th>\n",
              "      <td>model 6</td>\n",
              "      <td>0.514507</td>\n",
              "    </tr>\n",
              "    <tr>\n",
              "      <th>1</th>\n",
              "      <td>model 2</td>\n",
              "      <td>0.572534</td>\n",
              "    </tr>\n",
              "    <tr>\n",
              "      <th>2</th>\n",
              "      <td>model 3</td>\n",
              "      <td>0.572534</td>\n",
              "    </tr>\n",
              "    <tr>\n",
              "      <th>0</th>\n",
              "      <td>model 1</td>\n",
              "      <td>0.642166</td>\n",
              "    </tr>\n",
              "    <tr>\n",
              "      <th>3</th>\n",
              "      <td>model 4</td>\n",
              "      <td>0.686654</td>\n",
              "    </tr>\n",
              "    <tr>\n",
              "      <th>4</th>\n",
              "      <td>model 5</td>\n",
              "      <td>0.816248</td>\n",
              "    </tr>\n",
              "  </tbody>\n",
              "</table>\n",
              "</div>\n",
              "      <button class=\"colab-df-convert\" onclick=\"convertToInteractive('df-c066e4a1-2d0b-411b-8ff5-e652bb909475')\"\n",
              "              title=\"Convert this dataframe to an interactive table.\"\n",
              "              style=\"display:none;\">\n",
              "        \n",
              "  <svg xmlns=\"http://www.w3.org/2000/svg\" height=\"24px\"viewBox=\"0 0 24 24\"\n",
              "       width=\"24px\">\n",
              "    <path d=\"M0 0h24v24H0V0z\" fill=\"none\"/>\n",
              "    <path d=\"M18.56 5.44l.94 2.06.94-2.06 2.06-.94-2.06-.94-.94-2.06-.94 2.06-2.06.94zm-11 1L8.5 8.5l.94-2.06 2.06-.94-2.06-.94L8.5 2.5l-.94 2.06-2.06.94zm10 10l.94 2.06.94-2.06 2.06-.94-2.06-.94-.94-2.06-.94 2.06-2.06.94z\"/><path d=\"M17.41 7.96l-1.37-1.37c-.4-.4-.92-.59-1.43-.59-.52 0-1.04.2-1.43.59L10.3 9.45l-7.72 7.72c-.78.78-.78 2.05 0 2.83L4 21.41c.39.39.9.59 1.41.59.51 0 1.02-.2 1.41-.59l7.78-7.78 2.81-2.81c.8-.78.8-2.07 0-2.86zM5.41 20L4 18.59l7.72-7.72 1.47 1.35L5.41 20z\"/>\n",
              "  </svg>\n",
              "      </button>\n",
              "      \n",
              "  <style>\n",
              "    .colab-df-container {\n",
              "      display:flex;\n",
              "      flex-wrap:wrap;\n",
              "      gap: 12px;\n",
              "    }\n",
              "\n",
              "    .colab-df-convert {\n",
              "      background-color: #E8F0FE;\n",
              "      border: none;\n",
              "      border-radius: 50%;\n",
              "      cursor: pointer;\n",
              "      display: none;\n",
              "      fill: #1967D2;\n",
              "      height: 32px;\n",
              "      padding: 0 0 0 0;\n",
              "      width: 32px;\n",
              "    }\n",
              "\n",
              "    .colab-df-convert:hover {\n",
              "      background-color: #E2EBFA;\n",
              "      box-shadow: 0px 1px 2px rgba(60, 64, 67, 0.3), 0px 1px 3px 1px rgba(60, 64, 67, 0.15);\n",
              "      fill: #174EA6;\n",
              "    }\n",
              "\n",
              "    [theme=dark] .colab-df-convert {\n",
              "      background-color: #3B4455;\n",
              "      fill: #D2E3FC;\n",
              "    }\n",
              "\n",
              "    [theme=dark] .colab-df-convert:hover {\n",
              "      background-color: #434B5C;\n",
              "      box-shadow: 0px 1px 3px 1px rgba(0, 0, 0, 0.15);\n",
              "      filter: drop-shadow(0px 1px 2px rgba(0, 0, 0, 0.3));\n",
              "      fill: #FFFFFF;\n",
              "    }\n",
              "  </style>\n",
              "\n",
              "      <script>\n",
              "        const buttonEl =\n",
              "          document.querySelector('#df-c066e4a1-2d0b-411b-8ff5-e652bb909475 button.colab-df-convert');\n",
              "        buttonEl.style.display =\n",
              "          google.colab.kernel.accessAllowed ? 'block' : 'none';\n",
              "\n",
              "        async function convertToInteractive(key) {\n",
              "          const element = document.querySelector('#df-c066e4a1-2d0b-411b-8ff5-e652bb909475');\n",
              "          const dataTable =\n",
              "            await google.colab.kernel.invokeFunction('convertToInteractive',\n",
              "                                                     [key], {});\n",
              "          if (!dataTable) return;\n",
              "\n",
              "          const docLinkHtml = 'Like what you see? Visit the ' +\n",
              "            '<a target=\"_blank\" href=https://colab.research.google.com/notebooks/data_table.ipynb>data table notebook</a>'\n",
              "            + ' to learn more about interactive tables.';\n",
              "          element.innerHTML = '';\n",
              "          dataTable['output_type'] = 'display_data';\n",
              "          await google.colab.output.renderOutput(dataTable, element);\n",
              "          const docLink = document.createElement('div');\n",
              "          docLink.innerHTML = docLinkHtml;\n",
              "          element.appendChild(docLink);\n",
              "        }\n",
              "      </script>\n",
              "    </div>\n",
              "  </div>\n",
              "  "
            ]
          },
          "metadata": {},
          "execution_count": 68
        }
      ]
    },
    {
      "cell_type": "code",
      "source": [],
      "metadata": {
        "id": "xAxPGdgXAXfa"
      },
      "execution_count": null,
      "outputs": []
    }
  ],
  "metadata": {
    "colab": {
      "provenance": []
    },
    "kernelspec": {
      "display_name": "Python 3",
      "name": "python3"
    },
    "language_info": {
      "name": "python"
    }
  },
  "nbformat": 4,
  "nbformat_minor": 0
}