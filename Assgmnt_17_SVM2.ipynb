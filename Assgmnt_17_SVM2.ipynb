{
  "cells": [
    {
      "cell_type": "markdown",
      "metadata": {
        "id": "Qv_66airaccy"
      },
      "source": [
        "#**Salary Problem**"
      ]
    },
    {
      "cell_type": "code",
      "execution_count": 2,
      "metadata": {
        "id": "wSufDxGGabPk"
      },
      "outputs": [],
      "source": [
        "import pandas as pd\n",
        "from sklearn import preprocessing\n",
        "import matplotlib.pyplot as plt\n",
        "\n",
        "# from sklearn import svm\n",
        "from sklearn.svm import SVC\n",
        "from sklearn.model_selection import GridSearchCV,RandomizedSearchCV\n",
        "from sklearn.metrics import classification_report\n",
        "\n",
        "\n",
        "from sklearn.metrics import accuracy_score, confusion_matrix\n",
        "from sklearn.model_selection import train_test_split, cross_val_score"
      ]
    },
    {
      "cell_type": "code",
      "execution_count": 3,
      "metadata": {
        "colab": {
          "base_uri": "https://localhost:8080/",
          "height": 73
        },
        "id": "vfXROKK6cirU",
        "outputId": "bcdd9423-9dc6-4496-a785-28558794341e"
      },
      "outputs": [
        {
          "output_type": "display_data",
          "data": {
            "text/plain": [
              "<IPython.core.display.HTML object>"
            ],
            "text/html": [
              "\n",
              "     <input type=\"file\" id=\"files-67326dde-b1e6-445c-ae99-7627ad572257\" name=\"files[]\" multiple disabled\n",
              "        style=\"border:none\" />\n",
              "     <output id=\"result-67326dde-b1e6-445c-ae99-7627ad572257\">\n",
              "      Upload widget is only available when the cell has been executed in the\n",
              "      current browser session. Please rerun this cell to enable.\n",
              "      </output>\n",
              "      <script>// Copyright 2017 Google LLC\n",
              "//\n",
              "// Licensed under the Apache License, Version 2.0 (the \"License\");\n",
              "// you may not use this file except in compliance with the License.\n",
              "// You may obtain a copy of the License at\n",
              "//\n",
              "//      http://www.apache.org/licenses/LICENSE-2.0\n",
              "//\n",
              "// Unless required by applicable law or agreed to in writing, software\n",
              "// distributed under the License is distributed on an \"AS IS\" BASIS,\n",
              "// WITHOUT WARRANTIES OR CONDITIONS OF ANY KIND, either express or implied.\n",
              "// See the License for the specific language governing permissions and\n",
              "// limitations under the License.\n",
              "\n",
              "/**\n",
              " * @fileoverview Helpers for google.colab Python module.\n",
              " */\n",
              "(function(scope) {\n",
              "function span(text, styleAttributes = {}) {\n",
              "  const element = document.createElement('span');\n",
              "  element.textContent = text;\n",
              "  for (const key of Object.keys(styleAttributes)) {\n",
              "    element.style[key] = styleAttributes[key];\n",
              "  }\n",
              "  return element;\n",
              "}\n",
              "\n",
              "// Max number of bytes which will be uploaded at a time.\n",
              "const MAX_PAYLOAD_SIZE = 100 * 1024;\n",
              "\n",
              "function _uploadFiles(inputId, outputId) {\n",
              "  const steps = uploadFilesStep(inputId, outputId);\n",
              "  const outputElement = document.getElementById(outputId);\n",
              "  // Cache steps on the outputElement to make it available for the next call\n",
              "  // to uploadFilesContinue from Python.\n",
              "  outputElement.steps = steps;\n",
              "\n",
              "  return _uploadFilesContinue(outputId);\n",
              "}\n",
              "\n",
              "// This is roughly an async generator (not supported in the browser yet),\n",
              "// where there are multiple asynchronous steps and the Python side is going\n",
              "// to poll for completion of each step.\n",
              "// This uses a Promise to block the python side on completion of each step,\n",
              "// then passes the result of the previous step as the input to the next step.\n",
              "function _uploadFilesContinue(outputId) {\n",
              "  const outputElement = document.getElementById(outputId);\n",
              "  const steps = outputElement.steps;\n",
              "\n",
              "  const next = steps.next(outputElement.lastPromiseValue);\n",
              "  return Promise.resolve(next.value.promise).then((value) => {\n",
              "    // Cache the last promise value to make it available to the next\n",
              "    // step of the generator.\n",
              "    outputElement.lastPromiseValue = value;\n",
              "    return next.value.response;\n",
              "  });\n",
              "}\n",
              "\n",
              "/**\n",
              " * Generator function which is called between each async step of the upload\n",
              " * process.\n",
              " * @param {string} inputId Element ID of the input file picker element.\n",
              " * @param {string} outputId Element ID of the output display.\n",
              " * @return {!Iterable<!Object>} Iterable of next steps.\n",
              " */\n",
              "function* uploadFilesStep(inputId, outputId) {\n",
              "  const inputElement = document.getElementById(inputId);\n",
              "  inputElement.disabled = false;\n",
              "\n",
              "  const outputElement = document.getElementById(outputId);\n",
              "  outputElement.innerHTML = '';\n",
              "\n",
              "  const pickedPromise = new Promise((resolve) => {\n",
              "    inputElement.addEventListener('change', (e) => {\n",
              "      resolve(e.target.files);\n",
              "    });\n",
              "  });\n",
              "\n",
              "  const cancel = document.createElement('button');\n",
              "  inputElement.parentElement.appendChild(cancel);\n",
              "  cancel.textContent = 'Cancel upload';\n",
              "  const cancelPromise = new Promise((resolve) => {\n",
              "    cancel.onclick = () => {\n",
              "      resolve(null);\n",
              "    };\n",
              "  });\n",
              "\n",
              "  // Wait for the user to pick the files.\n",
              "  const files = yield {\n",
              "    promise: Promise.race([pickedPromise, cancelPromise]),\n",
              "    response: {\n",
              "      action: 'starting',\n",
              "    }\n",
              "  };\n",
              "\n",
              "  cancel.remove();\n",
              "\n",
              "  // Disable the input element since further picks are not allowed.\n",
              "  inputElement.disabled = true;\n",
              "\n",
              "  if (!files) {\n",
              "    return {\n",
              "      response: {\n",
              "        action: 'complete',\n",
              "      }\n",
              "    };\n",
              "  }\n",
              "\n",
              "  for (const file of files) {\n",
              "    const li = document.createElement('li');\n",
              "    li.append(span(file.name, {fontWeight: 'bold'}));\n",
              "    li.append(span(\n",
              "        `(${file.type || 'n/a'}) - ${file.size} bytes, ` +\n",
              "        `last modified: ${\n",
              "            file.lastModifiedDate ? file.lastModifiedDate.toLocaleDateString() :\n",
              "                                    'n/a'} - `));\n",
              "    const percent = span('0% done');\n",
              "    li.appendChild(percent);\n",
              "\n",
              "    outputElement.appendChild(li);\n",
              "\n",
              "    const fileDataPromise = new Promise((resolve) => {\n",
              "      const reader = new FileReader();\n",
              "      reader.onload = (e) => {\n",
              "        resolve(e.target.result);\n",
              "      };\n",
              "      reader.readAsArrayBuffer(file);\n",
              "    });\n",
              "    // Wait for the data to be ready.\n",
              "    let fileData = yield {\n",
              "      promise: fileDataPromise,\n",
              "      response: {\n",
              "        action: 'continue',\n",
              "      }\n",
              "    };\n",
              "\n",
              "    // Use a chunked sending to avoid message size limits. See b/62115660.\n",
              "    let position = 0;\n",
              "    do {\n",
              "      const length = Math.min(fileData.byteLength - position, MAX_PAYLOAD_SIZE);\n",
              "      const chunk = new Uint8Array(fileData, position, length);\n",
              "      position += length;\n",
              "\n",
              "      const base64 = btoa(String.fromCharCode.apply(null, chunk));\n",
              "      yield {\n",
              "        response: {\n",
              "          action: 'append',\n",
              "          file: file.name,\n",
              "          data: base64,\n",
              "        },\n",
              "      };\n",
              "\n",
              "      let percentDone = fileData.byteLength === 0 ?\n",
              "          100 :\n",
              "          Math.round((position / fileData.byteLength) * 100);\n",
              "      percent.textContent = `${percentDone}% done`;\n",
              "\n",
              "    } while (position < fileData.byteLength);\n",
              "  }\n",
              "\n",
              "  // All done.\n",
              "  yield {\n",
              "    response: {\n",
              "      action: 'complete',\n",
              "    }\n",
              "  };\n",
              "}\n",
              "\n",
              "scope.google = scope.google || {};\n",
              "scope.google.colab = scope.google.colab || {};\n",
              "scope.google.colab._files = {\n",
              "  _uploadFiles,\n",
              "  _uploadFilesContinue,\n",
              "};\n",
              "})(self);\n",
              "</script> "
            ]
          },
          "metadata": {}
        },
        {
          "output_type": "stream",
          "name": "stdout",
          "text": [
            "Saving SalaryData_Train(1).csv to SalaryData_Train(1) (1).csv\n"
          ]
        }
      ],
      "source": [
        "from google.colab import files\n",
        "uploaded=files.upload()"
      ]
    },
    {
      "cell_type": "code",
      "execution_count": 159,
      "metadata": {
        "id": "Fv9KFSLJdPI8"
      },
      "outputs": [],
      "source": [
        "train=pd.read_csv('SalaryData_Train(1).csv')"
      ]
    },
    {
      "cell_type": "code",
      "execution_count": 5,
      "metadata": {
        "colab": {
          "base_uri": "https://localhost:8080/",
          "height": 73
        },
        "id": "0odKdaGDdPFe",
        "outputId": "929eee35-d9dd-4bce-8e09-fe4b40d4fbf7"
      },
      "outputs": [
        {
          "output_type": "display_data",
          "data": {
            "text/plain": [
              "<IPython.core.display.HTML object>"
            ],
            "text/html": [
              "\n",
              "     <input type=\"file\" id=\"files-aeead01c-c907-4ae3-8dbc-dbcc416da228\" name=\"files[]\" multiple disabled\n",
              "        style=\"border:none\" />\n",
              "     <output id=\"result-aeead01c-c907-4ae3-8dbc-dbcc416da228\">\n",
              "      Upload widget is only available when the cell has been executed in the\n",
              "      current browser session. Please rerun this cell to enable.\n",
              "      </output>\n",
              "      <script>// Copyright 2017 Google LLC\n",
              "//\n",
              "// Licensed under the Apache License, Version 2.0 (the \"License\");\n",
              "// you may not use this file except in compliance with the License.\n",
              "// You may obtain a copy of the License at\n",
              "//\n",
              "//      http://www.apache.org/licenses/LICENSE-2.0\n",
              "//\n",
              "// Unless required by applicable law or agreed to in writing, software\n",
              "// distributed under the License is distributed on an \"AS IS\" BASIS,\n",
              "// WITHOUT WARRANTIES OR CONDITIONS OF ANY KIND, either express or implied.\n",
              "// See the License for the specific language governing permissions and\n",
              "// limitations under the License.\n",
              "\n",
              "/**\n",
              " * @fileoverview Helpers for google.colab Python module.\n",
              " */\n",
              "(function(scope) {\n",
              "function span(text, styleAttributes = {}) {\n",
              "  const element = document.createElement('span');\n",
              "  element.textContent = text;\n",
              "  for (const key of Object.keys(styleAttributes)) {\n",
              "    element.style[key] = styleAttributes[key];\n",
              "  }\n",
              "  return element;\n",
              "}\n",
              "\n",
              "// Max number of bytes which will be uploaded at a time.\n",
              "const MAX_PAYLOAD_SIZE = 100 * 1024;\n",
              "\n",
              "function _uploadFiles(inputId, outputId) {\n",
              "  const steps = uploadFilesStep(inputId, outputId);\n",
              "  const outputElement = document.getElementById(outputId);\n",
              "  // Cache steps on the outputElement to make it available for the next call\n",
              "  // to uploadFilesContinue from Python.\n",
              "  outputElement.steps = steps;\n",
              "\n",
              "  return _uploadFilesContinue(outputId);\n",
              "}\n",
              "\n",
              "// This is roughly an async generator (not supported in the browser yet),\n",
              "// where there are multiple asynchronous steps and the Python side is going\n",
              "// to poll for completion of each step.\n",
              "// This uses a Promise to block the python side on completion of each step,\n",
              "// then passes the result of the previous step as the input to the next step.\n",
              "function _uploadFilesContinue(outputId) {\n",
              "  const outputElement = document.getElementById(outputId);\n",
              "  const steps = outputElement.steps;\n",
              "\n",
              "  const next = steps.next(outputElement.lastPromiseValue);\n",
              "  return Promise.resolve(next.value.promise).then((value) => {\n",
              "    // Cache the last promise value to make it available to the next\n",
              "    // step of the generator.\n",
              "    outputElement.lastPromiseValue = value;\n",
              "    return next.value.response;\n",
              "  });\n",
              "}\n",
              "\n",
              "/**\n",
              " * Generator function which is called between each async step of the upload\n",
              " * process.\n",
              " * @param {string} inputId Element ID of the input file picker element.\n",
              " * @param {string} outputId Element ID of the output display.\n",
              " * @return {!Iterable<!Object>} Iterable of next steps.\n",
              " */\n",
              "function* uploadFilesStep(inputId, outputId) {\n",
              "  const inputElement = document.getElementById(inputId);\n",
              "  inputElement.disabled = false;\n",
              "\n",
              "  const outputElement = document.getElementById(outputId);\n",
              "  outputElement.innerHTML = '';\n",
              "\n",
              "  const pickedPromise = new Promise((resolve) => {\n",
              "    inputElement.addEventListener('change', (e) => {\n",
              "      resolve(e.target.files);\n",
              "    });\n",
              "  });\n",
              "\n",
              "  const cancel = document.createElement('button');\n",
              "  inputElement.parentElement.appendChild(cancel);\n",
              "  cancel.textContent = 'Cancel upload';\n",
              "  const cancelPromise = new Promise((resolve) => {\n",
              "    cancel.onclick = () => {\n",
              "      resolve(null);\n",
              "    };\n",
              "  });\n",
              "\n",
              "  // Wait for the user to pick the files.\n",
              "  const files = yield {\n",
              "    promise: Promise.race([pickedPromise, cancelPromise]),\n",
              "    response: {\n",
              "      action: 'starting',\n",
              "    }\n",
              "  };\n",
              "\n",
              "  cancel.remove();\n",
              "\n",
              "  // Disable the input element since further picks are not allowed.\n",
              "  inputElement.disabled = true;\n",
              "\n",
              "  if (!files) {\n",
              "    return {\n",
              "      response: {\n",
              "        action: 'complete',\n",
              "      }\n",
              "    };\n",
              "  }\n",
              "\n",
              "  for (const file of files) {\n",
              "    const li = document.createElement('li');\n",
              "    li.append(span(file.name, {fontWeight: 'bold'}));\n",
              "    li.append(span(\n",
              "        `(${file.type || 'n/a'}) - ${file.size} bytes, ` +\n",
              "        `last modified: ${\n",
              "            file.lastModifiedDate ? file.lastModifiedDate.toLocaleDateString() :\n",
              "                                    'n/a'} - `));\n",
              "    const percent = span('0% done');\n",
              "    li.appendChild(percent);\n",
              "\n",
              "    outputElement.appendChild(li);\n",
              "\n",
              "    const fileDataPromise = new Promise((resolve) => {\n",
              "      const reader = new FileReader();\n",
              "      reader.onload = (e) => {\n",
              "        resolve(e.target.result);\n",
              "      };\n",
              "      reader.readAsArrayBuffer(file);\n",
              "    });\n",
              "    // Wait for the data to be ready.\n",
              "    let fileData = yield {\n",
              "      promise: fileDataPromise,\n",
              "      response: {\n",
              "        action: 'continue',\n",
              "      }\n",
              "    };\n",
              "\n",
              "    // Use a chunked sending to avoid message size limits. See b/62115660.\n",
              "    let position = 0;\n",
              "    do {\n",
              "      const length = Math.min(fileData.byteLength - position, MAX_PAYLOAD_SIZE);\n",
              "      const chunk = new Uint8Array(fileData, position, length);\n",
              "      position += length;\n",
              "\n",
              "      const base64 = btoa(String.fromCharCode.apply(null, chunk));\n",
              "      yield {\n",
              "        response: {\n",
              "          action: 'append',\n",
              "          file: file.name,\n",
              "          data: base64,\n",
              "        },\n",
              "      };\n",
              "\n",
              "      let percentDone = fileData.byteLength === 0 ?\n",
              "          100 :\n",
              "          Math.round((position / fileData.byteLength) * 100);\n",
              "      percent.textContent = `${percentDone}% done`;\n",
              "\n",
              "    } while (position < fileData.byteLength);\n",
              "  }\n",
              "\n",
              "  // All done.\n",
              "  yield {\n",
              "    response: {\n",
              "      action: 'complete',\n",
              "    }\n",
              "  };\n",
              "}\n",
              "\n",
              "scope.google = scope.google || {};\n",
              "scope.google.colab = scope.google.colab || {};\n",
              "scope.google.colab._files = {\n",
              "  _uploadFiles,\n",
              "  _uploadFilesContinue,\n",
              "};\n",
              "})(self);\n",
              "</script> "
            ]
          },
          "metadata": {}
        },
        {
          "output_type": "stream",
          "name": "stdout",
          "text": [
            "Saving SalaryData_Test(1).csv to SalaryData_Test(1) (1).csv\n"
          ]
        }
      ],
      "source": [
        "from google.colab import files\n",
        "uploaded=files.upload()"
      ]
    },
    {
      "cell_type": "code",
      "execution_count": 160,
      "metadata": {
        "id": "RJQwXfMmaQUK"
      },
      "outputs": [],
      "source": [
        "test= pd.read_csv('SalaryData_Test(1).csv')"
      ]
    },
    {
      "cell_type": "code",
      "source": [
        "train.info()"
      ],
      "metadata": {
        "colab": {
          "base_uri": "https://localhost:8080/"
        },
        "id": "9I__tfd2vmOI",
        "outputId": "4a77580e-a5ce-4685-d9a8-45b62238677f"
      },
      "execution_count": 161,
      "outputs": [
        {
          "output_type": "stream",
          "name": "stdout",
          "text": [
            "<class 'pandas.core.frame.DataFrame'>\n",
            "RangeIndex: 30161 entries, 0 to 30160\n",
            "Data columns (total 14 columns):\n",
            " #   Column         Non-Null Count  Dtype \n",
            "---  ------         --------------  ----- \n",
            " 0   age            30161 non-null  int64 \n",
            " 1   workclass      30161 non-null  object\n",
            " 2   education      30161 non-null  object\n",
            " 3   educationno    30161 non-null  int64 \n",
            " 4   maritalstatus  30161 non-null  object\n",
            " 5   occupation     30161 non-null  object\n",
            " 6   relationship   30161 non-null  object\n",
            " 7   race           30161 non-null  object\n",
            " 8   sex            30161 non-null  object\n",
            " 9   capitalgain    30161 non-null  int64 \n",
            " 10  capitalloss    30161 non-null  int64 \n",
            " 11  hoursperweek   30161 non-null  int64 \n",
            " 12  native         30161 non-null  object\n",
            " 13  Salary         30161 non-null  object\n",
            "dtypes: int64(5), object(9)\n",
            "memory usage: 3.2+ MB\n"
          ]
        }
      ]
    },
    {
      "cell_type": "code",
      "source": [
        "train.duplicated().sum()"
      ],
      "metadata": {
        "colab": {
          "base_uri": "https://localhost:8080/"
        },
        "id": "fM1PTwAxFNH-",
        "outputId": "eeecef94-8bc1-4298-a847-9ec9fa7b1652"
      },
      "execution_count": 162,
      "outputs": [
        {
          "output_type": "execute_result",
          "data": {
            "text/plain": [
              "3258"
            ]
          },
          "metadata": {},
          "execution_count": 162
        }
      ]
    },
    {
      "cell_type": "code",
      "source": [
        "train=train.drop_duplicates()"
      ],
      "metadata": {
        "id": "B0Cv9uOaFoyM"
      },
      "execution_count": 163,
      "outputs": []
    },
    {
      "cell_type": "code",
      "source": [
        "train.boxplot(figsize=(15,5))"
      ],
      "metadata": {
        "colab": {
          "base_uri": "https://localhost:8080/",
          "height": 337
        },
        "id": "gpnQSqGTvwBc",
        "outputId": "76b426a2-5798-4706-ded1-5ab29a3e58bf"
      },
      "execution_count": 164,
      "outputs": [
        {
          "output_type": "execute_result",
          "data": {
            "text/plain": [
              "<matplotlib.axes._subplots.AxesSubplot at 0x7fde19e7a2e0>"
            ]
          },
          "metadata": {},
          "execution_count": 164
        },
        {
          "output_type": "display_data",
          "data": {
            "text/plain": [
              "<Figure size 1080x360 with 1 Axes>"
            ],
            "image/png": "[encoded data removed]"
          },
          "metadata": {
            "needs_background": "light"
          }
        }
      ]
    },
    {
      "cell_type": "code",
      "source": [
        "plt.boxplot(train['capitalgain'])"
      ],
      "metadata": {
        "colab": {
          "base_uri": "https://localhost:8080/",
          "height": 404
        },
        "id": "TYUaWgTRvv92",
        "outputId": "1a88a9af-2a4e-46e4-ddc6-96c540ee13ec"
      },
      "execution_count": 165,
      "outputs": [
        {
          "output_type": "execute_result",
          "data": {
            "text/plain": [
              "{'whiskers': [<matplotlib.lines.Line2D at 0x7fde19dd6df0>,\n",
              "  <matplotlib.lines.Line2D at 0x7fde19de6190>],\n",
              " 'caps': [<matplotlib.lines.Line2D at 0x7fde19de64f0>,\n",
              "  <matplotlib.lines.Line2D at 0x7fde19de6850>],\n",
              " 'boxes': [<matplotlib.lines.Line2D at 0x7fde19dd6a90>],\n",
              " 'medians': [<matplotlib.lines.Line2D at 0x7fde19de6bb0>],\n",
              " 'fliers': [<matplotlib.lines.Line2D at 0x7fde19de6eb0>],\n",
              " 'means': []}"
            ]
          },
          "metadata": {},
          "execution_count": 165
        },
        {
          "output_type": "display_data",
          "data": {
            "text/plain": [
              "<Figure size 432x288 with 1 Axes>"
            ],
            "image/png": "[encoded data removed]"
          },
          "metadata": {
            "needs_background": "light"
          }
        }
      ]
    },
    {
      "cell_type": "code",
      "source": [
        "train['capitalgain'].value_counts()"
      ],
      "metadata": {
        "colab": {
          "base_uri": "https://localhost:8080/"
        },
        "id": "P4gSTZ8SHig2",
        "outputId": "5ef13265-c7c7-49af-d11f-6a422cc1355f"
      },
      "execution_count": 166,
      "outputs": [
        {
          "output_type": "execute_result",
          "data": {
            "text/plain": [
              "0        24379\n",
              "15024      331\n",
              "7688       266\n",
              "7298       238\n",
              "99999      147\n",
              "         ...  \n",
              "1639         1\n",
              "6097         1\n",
              "2538         1\n",
              "1455         1\n",
              "1086         1\n",
              "Name: capitalgain, Length: 118, dtype: int64"
            ]
          },
          "metadata": {},
          "execution_count": 166
        }
      ]
    },
    {
      "cell_type": "code",
      "source": [
        "train=train.drop('capitalgain',axis=1)"
      ],
      "metadata": {
        "id": "eEPySCKRH_5e"
      },
      "execution_count": 167,
      "outputs": []
    },
    {
      "cell_type": "code",
      "source": [
        "plt.boxplot(train['capitalloss'])"
      ],
      "metadata": {
        "colab": {
          "base_uri": "https://localhost:8080/",
          "height": 404
        },
        "id": "Qm51xMzLH0_Q",
        "outputId": "569d3c15-b81f-4e6f-a01d-dbfd22a58f12"
      },
      "execution_count": 168,
      "outputs": [
        {
          "output_type": "execute_result",
          "data": {
            "text/plain": [
              "{'whiskers': [<matplotlib.lines.Line2D at 0x7fde19d36280>,\n",
              "  <matplotlib.lines.Line2D at 0x7fde19d365e0>],\n",
              " 'caps': [<matplotlib.lines.Line2D at 0x7fde19d36940>,\n",
              "  <matplotlib.lines.Line2D at 0x7fde19d36ca0>],\n",
              " 'boxes': [<matplotlib.lines.Line2D at 0x7fde19daaee0>],\n",
              " 'medians': [<matplotlib.lines.Line2D at 0x7fde19d40040>],\n",
              " 'fliers': [<matplotlib.lines.Line2D at 0x7fde19d40340>],\n",
              " 'means': []}"
            ]
          },
          "metadata": {},
          "execution_count": 168
        },
        {
          "output_type": "display_data",
          "data": {
            "text/plain": [
              "<Figure size 432x288 with 1 Axes>"
            ],
            "image/png": "[encoded data removed]"
          },
          "metadata": {
            "needs_background": "light"
          }
        }
      ]
    },
    {
      "cell_type": "code",
      "source": [
        "train=train.drop(train[train['capitalloss']>2100].index,axis=0)"
      ],
      "metadata": {
        "id": "Y2T5djDmvl3_"
      },
      "execution_count": 169,
      "outputs": []
    },
    {
      "cell_type": "code",
      "source": [
        "train=train.drop(train[train['capitalloss']<1800].index,axis=0)"
      ],
      "metadata": {
        "id": "zEpBrk2DLmM0"
      },
      "execution_count": 170,
      "outputs": []
    },
    {
      "cell_type": "code",
      "source": [
        "train.shape"
      ],
      "metadata": {
        "colab": {
          "base_uri": "https://localhost:8080/"
        },
        "id": "9qXLdwUF10Vq",
        "outputId": "851214c6-434c-44c8-d805-a7c1c98732f2"
      },
      "execution_count": 171,
      "outputs": [
        {
          "output_type": "execute_result",
          "data": {
            "text/plain": [
              "(721, 13)"
            ]
          },
          "metadata": {},
          "execution_count": 171
        }
      ]
    },
    {
      "cell_type": "code",
      "source": [
        "plt.boxplot(train['capitalloss'])"
      ],
      "metadata": {
        "colab": {
          "base_uri": "https://localhost:8080/",
          "height": 404
        },
        "id": "r9fptDtQLrbc",
        "outputId": "33278ce6-0e9e-4802-bc81-8bc27cb14c87"
      },
      "execution_count": 172,
      "outputs": [
        {
          "output_type": "execute_result",
          "data": {
            "text/plain": [
              "{'whiskers': [<matplotlib.lines.Line2D at 0x7fde19d10610>,\n",
              "  <matplotlib.lines.Line2D at 0x7fde19d10970>],\n",
              " 'caps': [<matplotlib.lines.Line2D at 0x7fde19d10cd0>,\n",
              "  <matplotlib.lines.Line2D at 0x7fde19d18070>],\n",
              " 'boxes': [<matplotlib.lines.Line2D at 0x7fde19d102b0>],\n",
              " 'medians': [<matplotlib.lines.Line2D at 0x7fde19d183d0>],\n",
              " 'fliers': [<matplotlib.lines.Line2D at 0x7fde19d186d0>],\n",
              " 'means': []}"
            ]
          },
          "metadata": {},
          "execution_count": 172
        },
        {
          "output_type": "display_data",
          "data": {
            "text/plain": [
              "<Figure size 432x288 with 1 Axes>"
            ],
            "image/png": "[encoded data removed]"
          },
          "metadata": {
            "needs_background": "light"
          }
        }
      ]
    },
    {
      "cell_type": "code",
      "execution_count": 173,
      "metadata": {
        "colab": {
          "base_uri": "https://localhost:8080/",
          "height": 250
        },
        "id": "nujFcNYLjRiV",
        "outputId": "56bd8016-2026-4757-8cfa-beb3f20c5f37"
      },
      "outputs": [
        {
          "output_type": "execute_result",
          "data": {
            "text/plain": [
              "     age          workclass      education  educationno        maritalstatus  \\\n",
              "22    43            Private           11th            7   Married-civ-spouse   \n",
              "48    47            Private    Prof-school           15   Married-civ-spouse   \n",
              "88    48   Self-emp-not-inc      Doctorate           16   Married-civ-spouse   \n",
              "103   56   Self-emp-not-inc        HS-grad            9   Married-civ-spouse   \n",
              "145   71   Self-emp-not-inc   Some-college           10            Separated   \n",
              "\n",
              "            occupation relationship    race      sex  capitalloss  \\\n",
              "22    Transport-moving      Husband   White     Male         2042   \n",
              "48      Prof-specialty         Wife   White   Female         1902   \n",
              "88      Prof-specialty      Husband   White     Male         1902   \n",
              "103      Other-service      Husband   White     Male         1887   \n",
              "145              Sales    Unmarried   Black     Male         1816   \n",
              "\n",
              "     hoursperweek          native  Salary  \n",
              "22             40   United-States   <=50K  \n",
              "48             60        Honduras    >50K  \n",
              "88             60   United-States    >50K  \n",
              "103            50          Canada    >50K  \n",
              "145             2   United-States   <=50K  "
            ],
            "text/html": [
              "\n",
              "  <div id=\"df-873ff809-790b-4846-b691-c349632912ff\">\n",
              "    <div class=\"colab-df-container\">\n",
              "      <div>\n",
              "<style scoped>\n",
              "    .dataframe tbody tr th:only-of-type {\n",
              "        vertical-align: middle;\n",
              "    }\n",
              "\n",
              "    .dataframe tbody tr th {\n",
              "        vertical-align: top;\n",
              "    }\n",
              "\n",
              "    .dataframe thead th {\n",
              "        text-align: right;\n",
              "    }\n",
              "</style>\n",
              "<table border=\"1\" class=\"dataframe\">\n",
              "  <thead>\n",
              "    <tr style=\"text-align: right;\">\n",
              "      <th></th>\n",
              "      <th>age</th>\n",
              "      <th>workclass</th>\n",
              "      <th>education</th>\n",
              "      <th>educationno</th>\n",
              "      <th>maritalstatus</th>\n",
              "      <th>occupation</th>\n",
              "      <th>relationship</th>\n",
              "      <th>race</th>\n",
              "      <th>sex</th>\n",
              "      <th>capitalloss</th>\n",
              "      <th>hoursperweek</th>\n",
              "      <th>native</th>\n",
              "      <th>Salary</th>\n",
              "    </tr>\n",
              "  </thead>\n",
              "  <tbody>\n",
              "    <tr>\n",
              "      <th>22</th>\n",
              "      <td>43</td>\n",
              "      <td>Private</td>\n",
              "      <td>11th</td>\n",
              "      <td>7</td>\n",
              "      <td>Married-civ-spouse</td>\n",
              "      <td>Transport-moving</td>\n",
              "      <td>Husband</td>\n",
              "      <td>White</td>\n",
              "      <td>Male</td>\n",
              "      <td>2042</td>\n",
              "      <td>40</td>\n",
              "      <td>United-States</td>\n",
              "      <td>&lt;=50K</td>\n",
              "    </tr>\n",
              "    <tr>\n",
              "      <th>48</th>\n",
              "      <td>47</td>\n",
              "      <td>Private</td>\n",
              "      <td>Prof-school</td>\n",
              "      <td>15</td>\n",
              "      <td>Married-civ-spouse</td>\n",
              "      <td>Prof-specialty</td>\n",
              "      <td>Wife</td>\n",
              "      <td>White</td>\n",
              "      <td>Female</td>\n",
              "      <td>1902</td>\n",
              "      <td>60</td>\n",
              "      <td>Honduras</td>\n",
              "      <td>&gt;50K</td>\n",
              "    </tr>\n",
              "    <tr>\n",
              "      <th>88</th>\n",
              "      <td>48</td>\n",
              "      <td>Self-emp-not-inc</td>\n",
              "      <td>Doctorate</td>\n",
              "      <td>16</td>\n",
              "      <td>Married-civ-spouse</td>\n",
              "      <td>Prof-specialty</td>\n",
              "      <td>Husband</td>\n",
              "      <td>White</td>\n",
              "      <td>Male</td>\n",
              "      <td>1902</td>\n",
              "      <td>60</td>\n",
              "      <td>United-States</td>\n",
              "      <td>&gt;50K</td>\n",
              "    </tr>\n",
              "    <tr>\n",
              "      <th>103</th>\n",
              "      <td>56</td>\n",
              "      <td>Self-emp-not-inc</td>\n",
              "      <td>HS-grad</td>\n",
              "      <td>9</td>\n",
              "      <td>Married-civ-spouse</td>\n",
              "      <td>Other-service</td>\n",
              "      <td>Husband</td>\n",
              "      <td>White</td>\n",
              "      <td>Male</td>\n",
              "      <td>1887</td>\n",
              "      <td>50</td>\n",
              "      <td>Canada</td>\n",
              "      <td>&gt;50K</td>\n",
              "    </tr>\n",
              "    <tr>\n",
              "      <th>145</th>\n",
              "      <td>71</td>\n",
              "      <td>Self-emp-not-inc</td>\n",
              "      <td>Some-college</td>\n",
              "      <td>10</td>\n",
              "      <td>Separated</td>\n",
              "      <td>Sales</td>\n",
              "      <td>Unmarried</td>\n",
              "      <td>Black</td>\n",
              "      <td>Male</td>\n",
              "      <td>1816</td>\n",
              "      <td>2</td>\n",
              "      <td>United-States</td>\n",
              "      <td>&lt;=50K</td>\n",
              "    </tr>\n",
              "  </tbody>\n",
              "</table>\n",
              "</div>\n",
              "      <button class=\"colab-df-convert\" onclick=\"convertToInteractive('df-873ff809-790b-4846-b691-c349632912ff')\"\n",
              "              title=\"Convert this dataframe to an interactive table.\"\n",
              "              style=\"display:none;\">\n",
              "        \n",
              "  <svg xmlns=\"http://www.w3.org/2000/svg\" height=\"24px\"viewBox=\"0 0 24 24\"\n",
              "       width=\"24px\">\n",
              "    <path d=\"M0 0h24v24H0V0z\" fill=\"none\"/>\n",
              "    <path d=\"M18.56 5.44l.94 2.06.94-2.06 2.06-.94-2.06-.94-.94-2.06-.94 2.06-2.06.94zm-11 1L8.5 8.5l.94-2.06 2.06-.94-2.06-.94L8.5 2.5l-.94 2.06-2.06.94zm10 10l.94 2.06.94-2.06 2.06-.94-2.06-.94-.94-2.06-.94 2.06-2.06.94z\"/><path d=\"M17.41 7.96l-1.37-1.37c-.4-.4-.92-.59-1.43-.59-.52 0-1.04.2-1.43.59L10.3 9.45l-7.72 7.72c-.78.78-.78 2.05 0 2.83L4 21.41c.39.39.9.59 1.41.59.51 0 1.02-.2 1.41-.59l7.78-7.78 2.81-2.81c.8-.78.8-2.07 0-2.86zM5.41 20L4 18.59l7.72-7.72 1.47 1.35L5.41 20z\"/>\n",
              "  </svg>\n",
              "      </button>\n",
              "      \n",
              "  <style>\n",
              "    .colab-df-container {\n",
              "      display:flex;\n",
              "      flex-wrap:wrap;\n",
              "      gap: 12px;\n",
              "    }\n",
              "\n",
              "    .colab-df-convert {\n",
              "      background-color: #E8F0FE;\n",
              "      border: none;\n",
              "      border-radius: 50%;\n",
              "      cursor: pointer;\n",
              "      display: none;\n",
              "      fill: #1967D2;\n",
              "      height: 32px;\n",
              "      padding: 0 0 0 0;\n",
              "      width: 32px;\n",
              "    }\n",
              "\n",
              "    .colab-df-convert:hover {\n",
              "      background-color: #E2EBFA;\n",
              "      box-shadow: 0px 1px 2px rgba(60, 64, 67, 0.3), 0px 1px 3px 1px rgba(60, 64, 67, 0.15);\n",
              "      fill: #174EA6;\n",
              "    }\n",
              "\n",
              "    [theme=dark] .colab-df-convert {\n",
              "      background-color: #3B4455;\n",
              "      fill: #D2E3FC;\n",
              "    }\n",
              "\n",
              "    [theme=dark] .colab-df-convert:hover {\n",
              "      background-color: #434B5C;\n",
              "      box-shadow: 0px 1px 3px 1px rgba(0, 0, 0, 0.15);\n",
              "      filter: drop-shadow(0px 1px 2px rgba(0, 0, 0, 0.3));\n",
              "      fill: #FFFFFF;\n",
              "    }\n",
              "  </style>\n",
              "\n",
              "      <script>\n",
              "        const buttonEl =\n",
              "          document.querySelector('#df-873ff809-790b-4846-b691-c349632912ff button.colab-df-convert');\n",
              "        buttonEl.style.display =\n",
              "          google.colab.kernel.accessAllowed ? 'block' : 'none';\n",
              "\n",
              "        async function convertToInteractive(key) {\n",
              "          const element = document.querySelector('#df-873ff809-790b-4846-b691-c349632912ff');\n",
              "          const dataTable =\n",
              "            await google.colab.kernel.invokeFunction('convertToInteractive',\n",
              "                                                     [key], {});\n",
              "          if (!dataTable) return;\n",
              "\n",
              "          const docLinkHtml = 'Like what you see? Visit the ' +\n",
              "            '<a target=\"_blank\" href=https://colab.research.google.com/notebooks/data_table.ipynb>data table notebook</a>'\n",
              "            + ' to learn more about interactive tables.';\n",
              "          element.innerHTML = '';\n",
              "          dataTable['output_type'] = 'display_data';\n",
              "          await google.colab.output.renderOutput(dataTable, element);\n",
              "          const docLink = document.createElement('div');\n",
              "          docLink.innerHTML = docLinkHtml;\n",
              "          element.appendChild(docLink);\n",
              "        }\n",
              "      </script>\n",
              "    </div>\n",
              "  </div>\n",
              "  "
            ]
          },
          "metadata": {},
          "execution_count": 173
        }
      ],
      "source": [
        "train.head()"
      ]
    },
    {
      "cell_type": "code",
      "source": [
        "train.columns"
      ],
      "metadata": {
        "colab": {
          "base_uri": "https://localhost:8080/"
        },
        "id": "3cE5FeV83Zzy",
        "outputId": "b8170e14-ecc2-4626-bb81-55daf1e6aca3"
      },
      "execution_count": 174,
      "outputs": [
        {
          "output_type": "execute_result",
          "data": {
            "text/plain": [
              "Index(['age', 'workclass', 'education', 'educationno', 'maritalstatus',\n",
              "       'occupation', 'relationship', 'race', 'sex', 'capitalloss',\n",
              "       'hoursperweek', 'native', 'Salary'],\n",
              "      dtype='object')"
            ]
          },
          "metadata": {},
          "execution_count": 174
        }
      ]
    },
    {
      "cell_type": "code",
      "execution_count": 175,
      "metadata": {
        "id": "6xFOopn3ium9"
      },
      "outputs": [],
      "source": [
        "label_encoder=preprocessing.LabelEncoder()\n",
        "train['workclass']=label_encoder.fit_transform(train['workclass'])\n",
        "train['maritalstatus']=label_encoder.fit_transform(train['maritalstatus'])\n",
        "train['occupation']=label_encoder.fit_transform(train['occupation'])\n",
        "train['relationship']=label_encoder.fit_transform(train['relationship'])\n",
        "train['race']=label_encoder.fit_transform(train['race'])\n",
        "train['sex']=label_encoder.fit_transform(train['sex'])\n",
        "train['native']=label_encoder.fit_transform(train['native'])\n",
        "train['Salary']=label_encoder.fit_transform(train['Salary'])"
      ]
    },
    {
      "cell_type": "code",
      "execution_count": 176,
      "metadata": {
        "colab": {
          "base_uri": "https://localhost:8080/",
          "height": 206
        },
        "id": "C7PFZEwNiujX",
        "outputId": "45548de5-fc2a-4474-d826-4ef35ebe540e"
      },
      "outputs": [
        {
          "output_type": "execute_result",
          "data": {
            "text/plain": [
              "     age  workclass      education  educationno  maritalstatus  occupation  \\\n",
              "22    43          2           11th            7              1          12   \n",
              "48    47          2    Prof-school           15              1           8   \n",
              "88    48          4      Doctorate           16              1           8   \n",
              "103   56          4        HS-grad            9              1           7   \n",
              "145   71          4   Some-college           10              4          10   \n",
              "\n",
              "     relationship  race  sex  capitalloss  hoursperweek  native  Salary  \n",
              "22              0     4    1         2042            40      23       0  \n",
              "48              5     4    0         1902            60       7       1  \n",
              "88              0     4    1         1902            60      23       1  \n",
              "103             0     4    1         1887            50       1       1  \n",
              "145             4     2    1         1816             2      23       0  "
            ],
            "text/html": [
              "\n",
              "  <div id=\"df-d761e7c5-1558-4617-b119-378fff922a4f\">\n",
              "    <div class=\"colab-df-container\">\n",
              "      <div>\n",
              "<style scoped>\n",
              "    .dataframe tbody tr th:only-of-type {\n",
              "        vertical-align: middle;\n",
              "    }\n",
              "\n",
              "    .dataframe tbody tr th {\n",
              "        vertical-align: top;\n",
              "    }\n",
              "\n",
              "    .dataframe thead th {\n",
              "        text-align: right;\n",
              "    }\n",
              "</style>\n",
              "<table border=\"1\" class=\"dataframe\">\n",
              "  <thead>\n",
              "    <tr style=\"text-align: right;\">\n",
              "      <th></th>\n",
              "      <th>age</th>\n",
              "      <th>workclass</th>\n",
              "      <th>education</th>\n",
              "      <th>educationno</th>\n",
              "      <th>maritalstatus</th>\n",
              "      <th>occupation</th>\n",
              "      <th>relationship</th>\n",
              "      <th>race</th>\n",
              "      <th>sex</th>\n",
              "      <th>capitalloss</th>\n",
              "      <th>hoursperweek</th>\n",
              "      <th>native</th>\n",
              "      <th>Salary</th>\n",
              "    </tr>\n",
              "  </thead>\n",
              "  <tbody>\n",
              "    <tr>\n",
              "      <th>22</th>\n",
              "      <td>43</td>\n",
              "      <td>2</td>\n",
              "      <td>11th</td>\n",
              "      <td>7</td>\n",
              "      <td>1</td>\n",
              "      <td>12</td>\n",
              "      <td>0</td>\n",
              "      <td>4</td>\n",
              "      <td>1</td>\n",
              "      <td>2042</td>\n",
              "      <td>40</td>\n",
              "      <td>23</td>\n",
              "      <td>0</td>\n",
              "    </tr>\n",
              "    <tr>\n",
              "      <th>48</th>\n",
              "      <td>47</td>\n",
              "      <td>2</td>\n",
              "      <td>Prof-school</td>\n",
              "      <td>15</td>\n",
              "      <td>1</td>\n",
              "      <td>8</td>\n",
              "      <td>5</td>\n",
              "      <td>4</td>\n",
              "      <td>0</td>\n",
              "      <td>1902</td>\n",
              "      <td>60</td>\n",
              "      <td>7</td>\n",
              "      <td>1</td>\n",
              "    </tr>\n",
              "    <tr>\n",
              "      <th>88</th>\n",
              "      <td>48</td>\n",
              "      <td>4</td>\n",
              "      <td>Doctorate</td>\n",
              "      <td>16</td>\n",
              "      <td>1</td>\n",
              "      <td>8</td>\n",
              "      <td>0</td>\n",
              "      <td>4</td>\n",
              "      <td>1</td>\n",
              "      <td>1902</td>\n",
              "      <td>60</td>\n",
              "      <td>23</td>\n",
              "      <td>1</td>\n",
              "    </tr>\n",
              "    <tr>\n",
              "      <th>103</th>\n",
              "      <td>56</td>\n",
              "      <td>4</td>\n",
              "      <td>HS-grad</td>\n",
              "      <td>9</td>\n",
              "      <td>1</td>\n",
              "      <td>7</td>\n",
              "      <td>0</td>\n",
              "      <td>4</td>\n",
              "      <td>1</td>\n",
              "      <td>1887</td>\n",
              "      <td>50</td>\n",
              "      <td>1</td>\n",
              "      <td>1</td>\n",
              "    </tr>\n",
              "    <tr>\n",
              "      <th>145</th>\n",
              "      <td>71</td>\n",
              "      <td>4</td>\n",
              "      <td>Some-college</td>\n",
              "      <td>10</td>\n",
              "      <td>4</td>\n",
              "      <td>10</td>\n",
              "      <td>4</td>\n",
              "      <td>2</td>\n",
              "      <td>1</td>\n",
              "      <td>1816</td>\n",
              "      <td>2</td>\n",
              "      <td>23</td>\n",
              "      <td>0</td>\n",
              "    </tr>\n",
              "  </tbody>\n",
              "</table>\n",
              "</div>\n",
              "      <button class=\"colab-df-convert\" onclick=\"convertToInteractive('df-d761e7c5-1558-4617-b119-378fff922a4f')\"\n",
              "              title=\"Convert this dataframe to an interactive table.\"\n",
              "              style=\"display:none;\">\n",
              "        \n",
              "  <svg xmlns=\"http://www.w3.org/2000/svg\" height=\"24px\"viewBox=\"0 0 24 24\"\n",
              "       width=\"24px\">\n",
              "    <path d=\"M0 0h24v24H0V0z\" fill=\"none\"/>\n",
              "    <path d=\"M18.56 5.44l.94 2.06.94-2.06 2.06-.94-2.06-.94-.94-2.06-.94 2.06-2.06.94zm-11 1L8.5 8.5l.94-2.06 2.06-.94-2.06-.94L8.5 2.5l-.94 2.06-2.06.94zm10 10l.94 2.06.94-2.06 2.06-.94-2.06-.94-.94-2.06-.94 2.06-2.06.94z\"/><path d=\"M17.41 7.96l-1.37-1.37c-.4-.4-.92-.59-1.43-.59-.52 0-1.04.2-1.43.59L10.3 9.45l-7.72 7.72c-.78.78-.78 2.05 0 2.83L4 21.41c.39.39.9.59 1.41.59.51 0 1.02-.2 1.41-.59l7.78-7.78 2.81-2.81c.8-.78.8-2.07 0-2.86zM5.41 20L4 18.59l7.72-7.72 1.47 1.35L5.41 20z\"/>\n",
              "  </svg>\n",
              "      </button>\n",
              "      \n",
              "  <style>\n",
              "    .colab-df-container {\n",
              "      display:flex;\n",
              "      flex-wrap:wrap;\n",
              "      gap: 12px;\n",
              "    }\n",
              "\n",
              "    .colab-df-convert {\n",
              "      background-color: #E8F0FE;\n",
              "      border: none;\n",
              "      border-radius: 50%;\n",
              "      cursor: pointer;\n",
              "      display: none;\n",
              "      fill: #1967D2;\n",
              "      height: 32px;\n",
              "      padding: 0 0 0 0;\n",
              "      width: 32px;\n",
              "    }\n",
              "\n",
              "    .colab-df-convert:hover {\n",
              "      background-color: #E2EBFA;\n",
              "      box-shadow: 0px 1px 2px rgba(60, 64, 67, 0.3), 0px 1px 3px 1px rgba(60, 64, 67, 0.15);\n",
              "      fill: #174EA6;\n",
              "    }\n",
              "\n",
              "    [theme=dark] .colab-df-convert {\n",
              "      background-color: #3B4455;\n",
              "      fill: #D2E3FC;\n",
              "    }\n",
              "\n",
              "    [theme=dark] .colab-df-convert:hover {\n",
              "      background-color: #434B5C;\n",
              "      box-shadow: 0px 1px 3px 1px rgba(0, 0, 0, 0.15);\n",
              "      filter: drop-shadow(0px 1px 2px rgba(0, 0, 0, 0.3));\n",
              "      fill: #FFFFFF;\n",
              "    }\n",
              "  </style>\n",
              "\n",
              "      <script>\n",
              "        const buttonEl =\n",
              "          document.querySelector('#df-d761e7c5-1558-4617-b119-378fff922a4f button.colab-df-convert');\n",
              "        buttonEl.style.display =\n",
              "          google.colab.kernel.accessAllowed ? 'block' : 'none';\n",
              "\n",
              "        async function convertToInteractive(key) {\n",
              "          const element = document.querySelector('#df-d761e7c5-1558-4617-b119-378fff922a4f');\n",
              "          const dataTable =\n",
              "            await google.colab.kernel.invokeFunction('convertToInteractive',\n",
              "                                                     [key], {});\n",
              "          if (!dataTable) return;\n",
              "\n",
              "          const docLinkHtml = 'Like what you see? Visit the ' +\n",
              "            '<a target=\"_blank\" href=https://colab.research.google.com/notebooks/data_table.ipynb>data table notebook</a>'\n",
              "            + ' to learn more about interactive tables.';\n",
              "          element.innerHTML = '';\n",
              "          dataTable['output_type'] = 'display_data';\n",
              "          await google.colab.output.renderOutput(dataTable, element);\n",
              "          const docLink = document.createElement('div');\n",
              "          docLink.innerHTML = docLinkHtml;\n",
              "          element.appendChild(docLink);\n",
              "        }\n",
              "      </script>\n",
              "    </div>\n",
              "  </div>\n",
              "  "
            ]
          },
          "metadata": {},
          "execution_count": 176
        }
      ],
      "source": [
        "train.head()"
      ]
    },
    {
      "cell_type": "code",
      "source": [
        "train['Salary'].value_counts()"
      ],
      "metadata": {
        "colab": {
          "base_uri": "https://localhost:8080/"
        },
        "id": "AMuOZ44H4N6h",
        "outputId": "42db7326-9b92-40e9-ce90-a23d4aa9f906"
      },
      "execution_count": 177,
      "outputs": [
        {
          "output_type": "execute_result",
          "data": {
            "text/plain": [
              "1    546\n",
              "0    175\n",
              "Name: Salary, dtype: int64"
            ]
          },
          "metadata": {},
          "execution_count": 177
        }
      ]
    },
    {
      "cell_type": "code",
      "execution_count": 178,
      "metadata": {
        "id": "3thOBoydkd0n"
      },
      "outputs": [],
      "source": [
        "train=train.drop(['education'],axis=1)"
      ]
    },
    {
      "cell_type": "code",
      "execution_count": 179,
      "metadata": {
        "colab": {
          "base_uri": "https://localhost:8080/"
        },
        "id": "HKqtAmsUd2aP",
        "outputId": "03837630-7307-47da-a180-e62ed90f3dfe"
      },
      "outputs": [
        {
          "output_type": "execute_result",
          "data": {
            "text/plain": [
              "(721, 12)"
            ]
          },
          "metadata": {},
          "execution_count": 179
        }
      ],
      "source": [
        "train.shape"
      ]
    },
    {
      "cell_type": "markdown",
      "metadata": {
        "id": "iu-yYRZXC-gX"
      },
      "source": [
        "test"
      ]
    },
    {
      "cell_type": "code",
      "execution_count": 180,
      "metadata": {
        "colab": {
          "base_uri": "https://localhost:8080/",
          "height": 337
        },
        "id": "pWrTts34Dekm",
        "outputId": "236066af-52c2-4771-fd8d-ce4b00b3591d"
      },
      "outputs": [
        {
          "output_type": "execute_result",
          "data": {
            "text/plain": [
              "   age   workclass      education  educationno        maritalstatus  \\\n",
              "0   25     Private           11th            7        Never-married   \n",
              "1   38     Private        HS-grad            9   Married-civ-spouse   \n",
              "2   28   Local-gov     Assoc-acdm           12   Married-civ-spouse   \n",
              "3   44     Private   Some-college           10   Married-civ-spouse   \n",
              "4   34     Private           10th            6        Never-married   \n",
              "\n",
              "           occupation    relationship    race    sex  capitalgain  \\\n",
              "0   Machine-op-inspct       Own-child   Black   Male            0   \n",
              "1     Farming-fishing         Husband   White   Male            0   \n",
              "2     Protective-serv         Husband   White   Male            0   \n",
              "3   Machine-op-inspct         Husband   Black   Male         7688   \n",
              "4       Other-service   Not-in-family   White   Male            0   \n",
              "\n",
              "   capitalloss  hoursperweek          native  Salary  \n",
              "0            0            40   United-States   <=50K  \n",
              "1            0            50   United-States   <=50K  \n",
              "2            0            40   United-States    >50K  \n",
              "3            0            40   United-States    >50K  \n",
              "4            0            30   United-States   <=50K  "
            ],
            "text/html": [
              "\n",
              "  <div id=\"df-d695a79b-504e-4de0-8cf7-f4b6ba1b1a04\">\n",
              "    <div class=\"colab-df-container\">\n",
              "      <div>\n",
              "<style scoped>\n",
              "    .dataframe tbody tr th:only-of-type {\n",
              "        vertical-align: middle;\n",
              "    }\n",
              "\n",
              "    .dataframe tbody tr th {\n",
              "        vertical-align: top;\n",
              "    }\n",
              "\n",
              "    .dataframe thead th {\n",
              "        text-align: right;\n",
              "    }\n",
              "</style>\n",
              "<table border=\"1\" class=\"dataframe\">\n",
              "  <thead>\n",
              "    <tr style=\"text-align: right;\">\n",
              "      <th></th>\n",
              "      <th>age</th>\n",
              "      <th>workclass</th>\n",
              "      <th>education</th>\n",
              "      <th>educationno</th>\n",
              "      <th>maritalstatus</th>\n",
              "      <th>occupation</th>\n",
              "      <th>relationship</th>\n",
              "      <th>race</th>\n",
              "      <th>sex</th>\n",
              "      <th>capitalgain</th>\n",
              "      <th>capitalloss</th>\n",
              "      <th>hoursperweek</th>\n",
              "      <th>native</th>\n",
              "      <th>Salary</th>\n",
              "    </tr>\n",
              "  </thead>\n",
              "  <tbody>\n",
              "    <tr>\n",
              "      <th>0</th>\n",
              "      <td>25</td>\n",
              "      <td>Private</td>\n",
              "      <td>11th</td>\n",
              "      <td>7</td>\n",
              "      <td>Never-married</td>\n",
              "      <td>Machine-op-inspct</td>\n",
              "      <td>Own-child</td>\n",
              "      <td>Black</td>\n",
              "      <td>Male</td>\n",
              "      <td>0</td>\n",
              "      <td>0</td>\n",
              "      <td>40</td>\n",
              "      <td>United-States</td>\n",
              "      <td>&lt;=50K</td>\n",
              "    </tr>\n",
              "    <tr>\n",
              "      <th>1</th>\n",
              "      <td>38</td>\n",
              "      <td>Private</td>\n",
              "      <td>HS-grad</td>\n",
              "      <td>9</td>\n",
              "      <td>Married-civ-spouse</td>\n",
              "      <td>Farming-fishing</td>\n",
              "      <td>Husband</td>\n",
              "      <td>White</td>\n",
              "      <td>Male</td>\n",
              "      <td>0</td>\n",
              "      <td>0</td>\n",
              "      <td>50</td>\n",
              "      <td>United-States</td>\n",
              "      <td>&lt;=50K</td>\n",
              "    </tr>\n",
              "    <tr>\n",
              "      <th>2</th>\n",
              "      <td>28</td>\n",
              "      <td>Local-gov</td>\n",
              "      <td>Assoc-acdm</td>\n",
              "      <td>12</td>\n",
              "      <td>Married-civ-spouse</td>\n",
              "      <td>Protective-serv</td>\n",
              "      <td>Husband</td>\n",
              "      <td>White</td>\n",
              "      <td>Male</td>\n",
              "      <td>0</td>\n",
              "      <td>0</td>\n",
              "      <td>40</td>\n",
              "      <td>United-States</td>\n",
              "      <td>&gt;50K</td>\n",
              "    </tr>\n",
              "    <tr>\n",
              "      <th>3</th>\n",
              "      <td>44</td>\n",
              "      <td>Private</td>\n",
              "      <td>Some-college</td>\n",
              "      <td>10</td>\n",
              "      <td>Married-civ-spouse</td>\n",
              "      <td>Machine-op-inspct</td>\n",
              "      <td>Husband</td>\n",
              "      <td>Black</td>\n",
              "      <td>Male</td>\n",
              "      <td>7688</td>\n",
              "      <td>0</td>\n",
              "      <td>40</td>\n",
              "      <td>United-States</td>\n",
              "      <td>&gt;50K</td>\n",
              "    </tr>\n",
              "    <tr>\n",
              "      <th>4</th>\n",
              "      <td>34</td>\n",
              "      <td>Private</td>\n",
              "      <td>10th</td>\n",
              "      <td>6</td>\n",
              "      <td>Never-married</td>\n",
              "      <td>Other-service</td>\n",
              "      <td>Not-in-family</td>\n",
              "      <td>White</td>\n",
              "      <td>Male</td>\n",
              "      <td>0</td>\n",
              "      <td>0</td>\n",
              "      <td>30</td>\n",
              "      <td>United-States</td>\n",
              "      <td>&lt;=50K</td>\n",
              "    </tr>\n",
              "  </tbody>\n",
              "</table>\n",
              "</div>\n",
              "      <button class=\"colab-df-convert\" onclick=\"convertToInteractive('df-d695a79b-504e-4de0-8cf7-f4b6ba1b1a04')\"\n",
              "              title=\"Convert this dataframe to an interactive table.\"\n",
              "              style=\"display:none;\">\n",
              "        \n",
              "  <svg xmlns=\"http://www.w3.org/2000/svg\" height=\"24px\"viewBox=\"0 0 24 24\"\n",
              "       width=\"24px\">\n",
              "    <path d=\"M0 0h24v24H0V0z\" fill=\"none\"/>\n",
              "    <path d=\"M18.56 5.44l.94 2.06.94-2.06 2.06-.94-2.06-.94-.94-2.06-.94 2.06-2.06.94zm-11 1L8.5 8.5l.94-2.06 2.06-.94-2.06-.94L8.5 2.5l-.94 2.06-2.06.94zm10 10l.94 2.06.94-2.06 2.06-.94-2.06-.94-.94-2.06-.94 2.06-2.06.94z\"/><path d=\"M17.41 7.96l-1.37-1.37c-.4-.4-.92-.59-1.43-.59-.52 0-1.04.2-1.43.59L10.3 9.45l-7.72 7.72c-.78.78-.78 2.05 0 2.83L4 21.41c.39.39.9.59 1.41.59.51 0 1.02-.2 1.41-.59l7.78-7.78 2.81-2.81c.8-.78.8-2.07 0-2.86zM5.41 20L4 18.59l7.72-7.72 1.47 1.35L5.41 20z\"/>\n",
              "  </svg>\n",
              "      </button>\n",
              "      \n",
              "  <style>\n",
              "    .colab-df-container {\n",
              "      display:flex;\n",
              "      flex-wrap:wrap;\n",
              "      gap: 12px;\n",
              "    }\n",
              "\n",
              "    .colab-df-convert {\n",
              "      background-color: #E8F0FE;\n",
              "      border: none;\n",
              "      border-radius: 50%;\n",
              "      cursor: pointer;\n",
              "      display: none;\n",
              "      fill: #1967D2;\n",
              "      height: 32px;\n",
              "      padding: 0 0 0 0;\n",
              "      width: 32px;\n",
              "    }\n",
              "\n",
              "    .colab-df-convert:hover {\n",
              "      background-color: #E2EBFA;\n",
              "      box-shadow: 0px 1px 2px rgba(60, 64, 67, 0.3), 0px 1px 3px 1px rgba(60, 64, 67, 0.15);\n",
              "      fill: #174EA6;\n",
              "    }\n",
              "\n",
              "    [theme=dark] .colab-df-convert {\n",
              "      background-color: #3B4455;\n",
              "      fill: #D2E3FC;\n",
              "    }\n",
              "\n",
              "    [theme=dark] .colab-df-convert:hover {\n",
              "      background-color: #434B5C;\n",
              "      box-shadow: 0px 1px 3px 1px rgba(0, 0, 0, 0.15);\n",
              "      filter: drop-shadow(0px 1px 2px rgba(0, 0, 0, 0.3));\n",
              "      fill: #FFFFFF;\n",
              "    }\n",
              "  </style>\n",
              "\n",
              "      <script>\n",
              "        const buttonEl =\n",
              "          document.querySelector('#df-d695a79b-504e-4de0-8cf7-f4b6ba1b1a04 button.colab-df-convert');\n",
              "        buttonEl.style.display =\n",
              "          google.colab.kernel.accessAllowed ? 'block' : 'none';\n",
              "\n",
              "        async function convertToInteractive(key) {\n",
              "          const element = document.querySelector('#df-d695a79b-504e-4de0-8cf7-f4b6ba1b1a04');\n",
              "          const dataTable =\n",
              "            await google.colab.kernel.invokeFunction('convertToInteractive',\n",
              "                                                     [key], {});\n",
              "          if (!dataTable) return;\n",
              "\n",
              "          const docLinkHtml = 'Like what you see? Visit the ' +\n",
              "            '<a target=\"_blank\" href=https://colab.research.google.com/notebooks/data_table.ipynb>data table notebook</a>'\n",
              "            + ' to learn more about interactive tables.';\n",
              "          element.innerHTML = '';\n",
              "          dataTable['output_type'] = 'display_data';\n",
              "          await google.colab.output.renderOutput(dataTable, element);\n",
              "          const docLink = document.createElement('div');\n",
              "          docLink.innerHTML = docLinkHtml;\n",
              "          element.appendChild(docLink);\n",
              "        }\n",
              "      </script>\n",
              "    </div>\n",
              "  </div>\n",
              "  "
            ]
          },
          "metadata": {},
          "execution_count": 180
        }
      ],
      "source": [
        "test.head()"
      ]
    },
    {
      "cell_type": "code",
      "source": [
        "test.shape"
      ],
      "metadata": {
        "colab": {
          "base_uri": "https://localhost:8080/"
        },
        "id": "aJ9O50gMdBW9",
        "outputId": "df861594-b126-4b80-e725-50e6abc92904"
      },
      "execution_count": 181,
      "outputs": [
        {
          "output_type": "execute_result",
          "data": {
            "text/plain": [
              "(15060, 14)"
            ]
          },
          "metadata": {},
          "execution_count": 181
        }
      ]
    },
    {
      "cell_type": "code",
      "source": [
        "test.duplicated().sum()"
      ],
      "metadata": {
        "colab": {
          "base_uri": "https://localhost:8080/"
        },
        "id": "SS8ekSkrOh1g",
        "outputId": "b9722b25-e651-4e48-a2e5-1b8a3c349fd9"
      },
      "execution_count": 182,
      "outputs": [
        {
          "output_type": "execute_result",
          "data": {
            "text/plain": [
              "930"
            ]
          },
          "metadata": {},
          "execution_count": 182
        }
      ]
    },
    {
      "cell_type": "code",
      "source": [
        "test=test.drop_duplicates()"
      ],
      "metadata": {
        "id": "8fCCFsxAOhpx"
      },
      "execution_count": 183,
      "outputs": []
    },
    {
      "cell_type": "code",
      "source": [
        "test.boxplot(figsize=(15,5))"
      ],
      "metadata": {
        "colab": {
          "base_uri": "https://localhost:8080/",
          "height": 337
        },
        "id": "To5HE1UgOhmQ",
        "outputId": "5b778731-d6f7-49a0-d830-2b7bec8bb4d4"
      },
      "execution_count": 184,
      "outputs": [
        {
          "output_type": "execute_result",
          "data": {
            "text/plain": [
              "<matplotlib.axes._subplots.AxesSubplot at 0x7fde19d2caf0>"
            ]
          },
          "metadata": {},
          "execution_count": 184
        },
        {
          "output_type": "display_data",
          "data": {
            "text/plain": [
              "<Figure size 1080x360 with 1 Axes>"
            ],
            "image/png": "[encoded data removed]"
          },
          "metadata": {
            "needs_background": "light"
          }
        }
      ]
    },
    {
      "cell_type": "code",
      "source": [
        "plt.boxplot(test['capitalgain'])"
      ],
      "metadata": {
        "colab": {
          "base_uri": "https://localhost:8080/",
          "height": 404
        },
        "id": "KqzvHzRAOhir",
        "outputId": "c400c173-8438-473e-b472-791fbbd5ee53"
      },
      "execution_count": 185,
      "outputs": [
        {
          "output_type": "execute_result",
          "data": {
            "text/plain": [
              "{'whiskers': [<matplotlib.lines.Line2D at 0x7fde19c10850>,\n",
              "  <matplotlib.lines.Line2D at 0x7fde19c10bb0>],\n",
              " 'caps': [<matplotlib.lines.Line2D at 0x7fde19c10f10>,\n",
              "  <matplotlib.lines.Line2D at 0x7fde19c1c2b0>],\n",
              " 'boxes': [<matplotlib.lines.Line2D at 0x7fde19c104f0>],\n",
              " 'medians': [<matplotlib.lines.Line2D at 0x7fde19c1c610>],\n",
              " 'fliers': [<matplotlib.lines.Line2D at 0x7fde19c1c910>],\n",
              " 'means': []}"
            ]
          },
          "metadata": {},
          "execution_count": 185
        },
        {
          "output_type": "display_data",
          "data": {
            "text/plain": [
              "<Figure size 432x288 with 1 Axes>"
            ],
            "image/png": "[encoded data removed]"
          },
          "metadata": {
            "needs_background": "light"
          }
        }
      ]
    },
    {
      "cell_type": "code",
      "source": [
        "test['capitalgain'].value_counts()"
      ],
      "metadata": {
        "colab": {
          "base_uri": "https://localhost:8080/"
        },
        "id": "LUC9dW8xRrJL",
        "outputId": "025008e6-0496-49c1-a3c8-bd712d09fbf5"
      },
      "execution_count": 186,
      "outputs": [
        {
          "output_type": "execute_result",
          "data": {
            "text/plain": [
              "0        12881\n",
              "15024      161\n",
              "7688       120\n",
              "7298       110\n",
              "99999       80\n",
              "         ...  \n",
              "2329         1\n",
              "3273         1\n",
              "2346         1\n",
              "34095        1\n",
              "2036         1\n",
              "Name: capitalgain, Length: 110, dtype: int64"
            ]
          },
          "metadata": {},
          "execution_count": 186
        }
      ]
    },
    {
      "cell_type": "code",
      "source": [
        "test=test.drop('capitalgain',axis=1)"
      ],
      "metadata": {
        "id": "Hym5k4zXRrFt"
      },
      "execution_count": 187,
      "outputs": []
    },
    {
      "cell_type": "code",
      "source": [
        "plt.boxplot(test['capitalloss'])"
      ],
      "metadata": {
        "colab": {
          "base_uri": "https://localhost:8080/",
          "height": 404
        },
        "id": "jZ-lLsH5RrCg",
        "outputId": "357a43ad-ba4b-4167-c4cc-d212721af5e0"
      },
      "execution_count": 188,
      "outputs": [
        {
          "output_type": "execute_result",
          "data": {
            "text/plain": [
              "{'whiskers': [<matplotlib.lines.Line2D at 0x7fde19bef460>,\n",
              "  <matplotlib.lines.Line2D at 0x7fde19bef7c0>],\n",
              " 'caps': [<matplotlib.lines.Line2D at 0x7fde19befb20>,\n",
              "  <matplotlib.lines.Line2D at 0x7fde19befe80>],\n",
              " 'boxes': [<matplotlib.lines.Line2D at 0x7fde19bef100>],\n",
              " 'medians': [<matplotlib.lines.Line2D at 0x7fde19b79220>],\n",
              " 'fliers': [<matplotlib.lines.Line2D at 0x7fde19b79520>],\n",
              " 'means': []}"
            ]
          },
          "metadata": {},
          "execution_count": 188
        },
        {
          "output_type": "display_data",
          "data": {
            "text/plain": [
              "<Figure size 432x288 with 1 Axes>"
            ],
            "image/png": "[encoded data removed]"
          },
          "metadata": {
            "needs_background": "light"
          }
        }
      ]
    },
    {
      "cell_type": "code",
      "source": [
        "test=test.drop(test[test['capitalloss']<1800].index,axis=0)"
      ],
      "metadata": {
        "id": "EKDKbHpgRq_I"
      },
      "execution_count": 189,
      "outputs": []
    },
    {
      "cell_type": "code",
      "source": [
        "test=test.drop(test[test['capitalloss']>2000].index,axis=0)"
      ],
      "metadata": {
        "id": "_HU-Pfh8R4sa"
      },
      "execution_count": 190,
      "outputs": []
    },
    {
      "cell_type": "code",
      "source": [
        "test.shape"
      ],
      "metadata": {
        "colab": {
          "base_uri": "https://localhost:8080/"
        },
        "id": "NIBY7RkYZ-C2",
        "outputId": "862ac559-a3c2-43ec-d0a9-2d7a6a06e89a"
      },
      "execution_count": 191,
      "outputs": [
        {
          "output_type": "execute_result",
          "data": {
            "text/plain": [
              "(317, 13)"
            ]
          },
          "metadata": {},
          "execution_count": 191
        }
      ]
    },
    {
      "cell_type": "code",
      "source": [
        "plt.boxplot(test['capitalloss'])"
      ],
      "metadata": {
        "colab": {
          "base_uri": "https://localhost:8080/",
          "height": 404
        },
        "id": "K6vHPoBzcQ70",
        "outputId": "9f83782e-7259-4cef-8a95-0660335ed5a7"
      },
      "execution_count": 192,
      "outputs": [
        {
          "output_type": "execute_result",
          "data": {
            "text/plain": [
              "{'whiskers': [<matplotlib.lines.Line2D at 0x7fde19b4b5b0>,\n",
              "  <matplotlib.lines.Line2D at 0x7fde19b4b910>],\n",
              " 'caps': [<matplotlib.lines.Line2D at 0x7fde19b4bc70>,\n",
              "  <matplotlib.lines.Line2D at 0x7fde19b4bfd0>],\n",
              " 'boxes': [<matplotlib.lines.Line2D at 0x7fde19b4b250>],\n",
              " 'medians': [<matplotlib.lines.Line2D at 0x7fde19b54370>],\n",
              " 'fliers': [<matplotlib.lines.Line2D at 0x7fde19b54670>],\n",
              " 'means': []}"
            ]
          },
          "metadata": {},
          "execution_count": 192
        },
        {
          "output_type": "display_data",
          "data": {
            "text/plain": [
              "<Figure size 432x288 with 1 Axes>"
            ],
            "image/png": "[encoded data removed]"
          },
          "metadata": {
            "needs_background": "light"
          }
        }
      ]
    },
    {
      "cell_type": "code",
      "execution_count": 193,
      "metadata": {
        "id": "Vd8Pkis4C6Uc"
      },
      "outputs": [],
      "source": [
        "label_encoder=preprocessing.LabelEncoder()\n",
        "test['workclass']=label_encoder.fit_transform(test['workclass'])\n",
        "test['maritalstatus']=label_encoder.fit_transform(test['maritalstatus'])\n",
        "test['occupation']=label_encoder.fit_transform(test['occupation'])\n",
        "test['relationship']=label_encoder.fit_transform(test['relationship'])\n",
        "test['race']=label_encoder.fit_transform(test['race'])\n",
        "test['sex']=label_encoder.fit_transform(test['sex'])\n",
        "test['native']=label_encoder.fit_transform(test['native'])\n",
        "test['Salary']=label_encoder.fit_transform(test['Salary'])"
      ]
    },
    {
      "cell_type": "code",
      "execution_count": 194,
      "metadata": {
        "id": "TKwC6XDzFy4C"
      },
      "outputs": [],
      "source": [
        "test=test.drop(['education'],axis=1)"
      ]
    },
    {
      "cell_type": "code",
      "execution_count": 195,
      "metadata": {
        "colab": {
          "base_uri": "https://localhost:8080/",
          "height": 206
        },
        "id": "tABd6QMH5_w7",
        "outputId": "1c553c5c-5b7c-4705-cf55-b17effa25fb7"
      },
      "outputs": [
        {
          "output_type": "execute_result",
          "data": {
            "text/plain": [
              "     age  workclass  educationno  maritalstatus  occupation  relationship  \\\n",
              "74    24          2           10              3           6             1   \n",
              "130   43          3            9              1           2             0   \n",
              "141   40          5           13              1           0             0   \n",
              "157   54          2            9              1           7             0   \n",
              "166   37          2           10              1           5             0   \n",
              "\n",
              "     race  sex  capitalloss  hoursperweek  native  Salary  \n",
              "74      4    1         1876            40      17       0  \n",
              "130     4    1         1887            45      17       1  \n",
              "141     4    1         1887            45      17       1  \n",
              "157     4    1         1887            40      17       1  \n",
              "166     4    1         1887            40      17       1  "
            ],
            "text/html": [
              "\n",
              "  <div id=\"df-19826065-0f72-4102-9d2e-aaa250ddd998\">\n",
              "    <div class=\"colab-df-container\">\n",
              "      <div>\n",
              "<style scoped>\n",
              "    .dataframe tbody tr th:only-of-type {\n",
              "        vertical-align: middle;\n",
              "    }\n",
              "\n",
              "    .dataframe tbody tr th {\n",
              "        vertical-align: top;\n",
              "    }\n",
              "\n",
              "    .dataframe thead th {\n",
              "        text-align: right;\n",
              "    }\n",
              "</style>\n",
              "<table border=\"1\" class=\"dataframe\">\n",
              "  <thead>\n",
              "    <tr style=\"text-align: right;\">\n",
              "      <th></th>\n",
              "      <th>age</th>\n",
              "      <th>workclass</th>\n",
              "      <th>educationno</th>\n",
              "      <th>maritalstatus</th>\n",
              "      <th>occupation</th>\n",
              "      <th>relationship</th>\n",
              "      <th>race</th>\n",
              "      <th>sex</th>\n",
              "      <th>capitalloss</th>\n",
              "      <th>hoursperweek</th>\n",
              "      <th>native</th>\n",
              "      <th>Salary</th>\n",
              "    </tr>\n",
              "  </thead>\n",
              "  <tbody>\n",
              "    <tr>\n",
              "      <th>74</th>\n",
              "      <td>24</td>\n",
              "      <td>2</td>\n",
              "      <td>10</td>\n",
              "      <td>3</td>\n",
              "      <td>6</td>\n",
              "      <td>1</td>\n",
              "      <td>4</td>\n",
              "      <td>1</td>\n",
              "      <td>1876</td>\n",
              "      <td>40</td>\n",
              "      <td>17</td>\n",
              "      <td>0</td>\n",
              "    </tr>\n",
              "    <tr>\n",
              "      <th>130</th>\n",
              "      <td>43</td>\n",
              "      <td>3</td>\n",
              "      <td>9</td>\n",
              "      <td>1</td>\n",
              "      <td>2</td>\n",
              "      <td>0</td>\n",
              "      <td>4</td>\n",
              "      <td>1</td>\n",
              "      <td>1887</td>\n",
              "      <td>45</td>\n",
              "      <td>17</td>\n",
              "      <td>1</td>\n",
              "    </tr>\n",
              "    <tr>\n",
              "      <th>141</th>\n",
              "      <td>40</td>\n",
              "      <td>5</td>\n",
              "      <td>13</td>\n",
              "      <td>1</td>\n",
              "      <td>0</td>\n",
              "      <td>0</td>\n",
              "      <td>4</td>\n",
              "      <td>1</td>\n",
              "      <td>1887</td>\n",
              "      <td>45</td>\n",
              "      <td>17</td>\n",
              "      <td>1</td>\n",
              "    </tr>\n",
              "    <tr>\n",
              "      <th>157</th>\n",
              "      <td>54</td>\n",
              "      <td>2</td>\n",
              "      <td>9</td>\n",
              "      <td>1</td>\n",
              "      <td>7</td>\n",
              "      <td>0</td>\n",
              "      <td>4</td>\n",
              "      <td>1</td>\n",
              "      <td>1887</td>\n",
              "      <td>40</td>\n",
              "      <td>17</td>\n",
              "      <td>1</td>\n",
              "    </tr>\n",
              "    <tr>\n",
              "      <th>166</th>\n",
              "      <td>37</td>\n",
              "      <td>2</td>\n",
              "      <td>10</td>\n",
              "      <td>1</td>\n",
              "      <td>5</td>\n",
              "      <td>0</td>\n",
              "      <td>4</td>\n",
              "      <td>1</td>\n",
              "      <td>1887</td>\n",
              "      <td>40</td>\n",
              "      <td>17</td>\n",
              "      <td>1</td>\n",
              "    </tr>\n",
              "  </tbody>\n",
              "</table>\n",
              "</div>\n",
              "      <button class=\"colab-df-convert\" onclick=\"convertToInteractive('df-19826065-0f72-4102-9d2e-aaa250ddd998')\"\n",
              "              title=\"Convert this dataframe to an interactive table.\"\n",
              "              style=\"display:none;\">\n",
              "        \n",
              "  <svg xmlns=\"http://www.w3.org/2000/svg\" height=\"24px\"viewBox=\"0 0 24 24\"\n",
              "       width=\"24px\">\n",
              "    <path d=\"M0 0h24v24H0V0z\" fill=\"none\"/>\n",
              "    <path d=\"M18.56 5.44l.94 2.06.94-2.06 2.06-.94-2.06-.94-.94-2.06-.94 2.06-2.06.94zm-11 1L8.5 8.5l.94-2.06 2.06-.94-2.06-.94L8.5 2.5l-.94 2.06-2.06.94zm10 10l.94 2.06.94-2.06 2.06-.94-2.06-.94-.94-2.06-.94 2.06-2.06.94z\"/><path d=\"M17.41 7.96l-1.37-1.37c-.4-.4-.92-.59-1.43-.59-.52 0-1.04.2-1.43.59L10.3 9.45l-7.72 7.72c-.78.78-.78 2.05 0 2.83L4 21.41c.39.39.9.59 1.41.59.51 0 1.02-.2 1.41-.59l7.78-7.78 2.81-2.81c.8-.78.8-2.07 0-2.86zM5.41 20L4 18.59l7.72-7.72 1.47 1.35L5.41 20z\"/>\n",
              "  </svg>\n",
              "      </button>\n",
              "      \n",
              "  <style>\n",
              "    .colab-df-container {\n",
              "      display:flex;\n",
              "      flex-wrap:wrap;\n",
              "      gap: 12px;\n",
              "    }\n",
              "\n",
              "    .colab-df-convert {\n",
              "      background-color: #E8F0FE;\n",
              "      border: none;\n",
              "      border-radius: 50%;\n",
              "      cursor: pointer;\n",
              "      display: none;\n",
              "      fill: #1967D2;\n",
              "      height: 32px;\n",
              "      padding: 0 0 0 0;\n",
              "      width: 32px;\n",
              "    }\n",
              "\n",
              "    .colab-df-convert:hover {\n",
              "      background-color: #E2EBFA;\n",
              "      box-shadow: 0px 1px 2px rgba(60, 64, 67, 0.3), 0px 1px 3px 1px rgba(60, 64, 67, 0.15);\n",
              "      fill: #174EA6;\n",
              "    }\n",
              "\n",
              "    [theme=dark] .colab-df-convert {\n",
              "      background-color: #3B4455;\n",
              "      fill: #D2E3FC;\n",
              "    }\n",
              "\n",
              "    [theme=dark] .colab-df-convert:hover {\n",
              "      background-color: #434B5C;\n",
              "      box-shadow: 0px 1px 3px 1px rgba(0, 0, 0, 0.15);\n",
              "      filter: drop-shadow(0px 1px 2px rgba(0, 0, 0, 0.3));\n",
              "      fill: #FFFFFF;\n",
              "    }\n",
              "  </style>\n",
              "\n",
              "      <script>\n",
              "        const buttonEl =\n",
              "          document.querySelector('#df-19826065-0f72-4102-9d2e-aaa250ddd998 button.colab-df-convert');\n",
              "        buttonEl.style.display =\n",
              "          google.colab.kernel.accessAllowed ? 'block' : 'none';\n",
              "\n",
              "        async function convertToInteractive(key) {\n",
              "          const element = document.querySelector('#df-19826065-0f72-4102-9d2e-aaa250ddd998');\n",
              "          const dataTable =\n",
              "            await google.colab.kernel.invokeFunction('convertToInteractive',\n",
              "                                                     [key], {});\n",
              "          if (!dataTable) return;\n",
              "\n",
              "          const docLinkHtml = 'Like what you see? Visit the ' +\n",
              "            '<a target=\"_blank\" href=https://colab.research.google.com/notebooks/data_table.ipynb>data table notebook</a>'\n",
              "            + ' to learn more about interactive tables.';\n",
              "          element.innerHTML = '';\n",
              "          dataTable['output_type'] = 'display_data';\n",
              "          await google.colab.output.renderOutput(dataTable, element);\n",
              "          const docLink = document.createElement('div');\n",
              "          docLink.innerHTML = docLinkHtml;\n",
              "          element.appendChild(docLink);\n",
              "        }\n",
              "      </script>\n",
              "    </div>\n",
              "  </div>\n",
              "  "
            ]
          },
          "metadata": {},
          "execution_count": 195
        }
      ],
      "source": [
        "test.head()"
      ]
    },
    {
      "cell_type": "code",
      "execution_count": 196,
      "metadata": {
        "id": "adQpoZFgdvGe"
      },
      "outputs": [],
      "source": [
        "x=train.iloc[:,:-1]\n",
        "y=train['Salary']"
      ]
    },
    {
      "cell_type": "code",
      "execution_count": 197,
      "metadata": {
        "id": "jOZb83VdaZnp"
      },
      "outputs": [],
      "source": [
        "X_train, X_test, y_train, y_test = train_test_split(x,y, test_size = 0.3)"
      ]
    },
    {
      "cell_type": "code",
      "execution_count": 198,
      "metadata": {
        "colab": {
          "base_uri": "https://localhost:8080/"
        },
        "id": "nRJZSvdwaZh0",
        "outputId": "a9d30fe9-1b39-43c7-8d3c-25a662093fce"
      },
      "outputs": [
        {
          "output_type": "execute_result",
          "data": {
            "text/plain": [
              "((504, 11), (504,), (217, 11), (217,))"
            ]
          },
          "metadata": {},
          "execution_count": 198
        }
      ],
      "source": [
        "X_train.shape, y_train.shape, X_test.shape, y_test.shape"
      ]
    },
    {
      "cell_type": "code",
      "execution_count": 199,
      "metadata": {
        "colab": {
          "base_uri": "https://localhost:8080/"
        },
        "id": "vvXyvNlGaZb5",
        "outputId": "a5d29ff7-b255-46e9-ab48-b887f512c9b1"
      },
      "outputs": [
        {
          "output_type": "stream",
          "name": "stderr",
          "text": [
            "/usr/local/lib/python3.8/dist-packages/sklearn/model_selection/_search.py:292: UserWarning: The total space of parameters 8 is smaller than n_iter=10. Running 8 iterations. For exhaustive searches, use GridSearchCV.\n",
            "  warnings.warn(\n"
          ]
        },
        {
          "output_type": "stream",
          "name": "stdout",
          "text": [
            "Fitting 10 folds for each of 8 candidates, totalling 80 fits\n",
            "[CV 1/10; 1/8] START C=10, gamma=0.5, kernel=linear.............................\n",
            "[CV 1/10; 1/8] END C=10, gamma=0.5, kernel=linear;, score=0.863 total time=   2.6s\n",
            "[CV 2/10; 1/8] START C=10, gamma=0.5, kernel=linear.............................\n",
            "[CV 2/10; 1/8] END C=10, gamma=0.5, kernel=linear;, score=0.922 total time=   2.9s\n",
            "[CV 3/10; 1/8] START C=10, gamma=0.5, kernel=linear.............................\n",
            "[CV 3/10; 1/8] END C=10, gamma=0.5, kernel=linear;, score=0.863 total time=   6.7s\n",
            "[CV 4/10; 1/8] START C=10, gamma=0.5, kernel=linear.............................\n",
            "[CV 4/10; 1/8] END C=10, gamma=0.5, kernel=linear;, score=0.941 total time=   3.0s\n",
            "[CV 5/10; 1/8] START C=10, gamma=0.5, kernel=linear.............................\n",
            "[CV 5/10; 1/8] END C=10, gamma=0.5, kernel=linear;, score=0.880 total time=   2.2s\n",
            "[CV 6/10; 1/8] START C=10, gamma=0.5, kernel=linear.............................\n",
            "[CV 6/10; 1/8] END C=10, gamma=0.5, kernel=linear;, score=0.960 total time=   2.7s\n",
            "[CV 7/10; 1/8] START C=10, gamma=0.5, kernel=linear.............................\n",
            "[CV 7/10; 1/8] END C=10, gamma=0.5, kernel=linear;, score=0.920 total time=   3.1s\n",
            "[CV 8/10; 1/8] START C=10, gamma=0.5, kernel=linear.............................\n",
            "[CV 8/10; 1/8] END C=10, gamma=0.5, kernel=linear;, score=0.900 total time=   2.1s\n",
            "[CV 9/10; 1/8] START C=10, gamma=0.5, kernel=linear.............................\n",
            "[CV 9/10; 1/8] END C=10, gamma=0.5, kernel=linear;, score=0.960 total time=   2.1s\n",
            "[CV 10/10; 1/8] START C=10, gamma=0.5, kernel=linear............................\n",
            "[CV 10/10; 1/8] END C=10, gamma=0.5, kernel=linear;, score=0.860 total time=   2.8s\n",
            "[CV 1/10; 2/8] START C=10, gamma=0.5, kernel=relu...............................\n",
            "[CV 1/10; 2/8] END ..C=10, gamma=0.5, kernel=relu;, score=nan total time=   0.0s\n",
            "[CV 2/10; 2/8] START C=10, gamma=0.5, kernel=relu...............................\n",
            "[CV 2/10; 2/8] END ..C=10, gamma=0.5, kernel=relu;, score=nan total time=   0.0s\n",
            "[CV 3/10; 2/8] START C=10, gamma=0.5, kernel=relu...............................\n",
            "[CV 3/10; 2/8] END ..C=10, gamma=0.5, kernel=relu;, score=nan total time=   0.0s\n",
            "[CV 4/10; 2/8] START C=10, gamma=0.5, kernel=relu...............................\n",
            "[CV 4/10; 2/8] END ..C=10, gamma=0.5, kernel=relu;, score=nan total time=   0.0s\n",
            "[CV 5/10; 2/8] START C=10, gamma=0.5, kernel=relu...............................\n",
            "[CV 5/10; 2/8] END ..C=10, gamma=0.5, kernel=relu;, score=nan total time=   0.0s\n",
            "[CV 6/10; 2/8] START C=10, gamma=0.5, kernel=relu...............................\n",
            "[CV 6/10; 2/8] END ..C=10, gamma=0.5, kernel=relu;, score=nan total time=   0.0s\n",
            "[CV 7/10; 2/8] START C=10, gamma=0.5, kernel=relu...............................\n",
            "[CV 7/10; 2/8] END ..C=10, gamma=0.5, kernel=relu;, score=nan total time=   0.0s\n",
            "[CV 8/10; 2/8] START C=10, gamma=0.5, kernel=relu...............................\n",
            "[CV 8/10; 2/8] END ..C=10, gamma=0.5, kernel=relu;, score=nan total time=   0.0s\n",
            "[CV 9/10; 2/8] START C=10, gamma=0.5, kernel=relu...............................\n",
            "[CV 9/10; 2/8] END ..C=10, gamma=0.5, kernel=relu;, score=nan total time=   0.0s\n",
            "[CV 10/10; 2/8] START C=10, gamma=0.5, kernel=relu..............................\n",
            "[CV 10/10; 2/8] END .C=10, gamma=0.5, kernel=relu;, score=nan total time=   0.0s\n",
            "[CV 1/10; 3/8] START C=10, gamma=0.1, kernel=linear.............................\n",
            "[CV 1/10; 3/8] END C=10, gamma=0.1, kernel=linear;, score=0.863 total time=   2.6s\n",
            "[CV 2/10; 3/8] START C=10, gamma=0.1, kernel=linear.............................\n",
            "[CV 2/10; 3/8] END C=10, gamma=0.1, kernel=linear;, score=0.922 total time=   4.0s\n",
            "[CV 3/10; 3/8] START C=10, gamma=0.1, kernel=linear.............................\n",
            "[CV 3/10; 3/8] END C=10, gamma=0.1, kernel=linear;, score=0.863 total time=   4.9s\n",
            "[CV 4/10; 3/8] START C=10, gamma=0.1, kernel=linear.............................\n",
            "[CV 4/10; 3/8] END C=10, gamma=0.1, kernel=linear;, score=0.941 total time=   2.9s\n",
            "[CV 5/10; 3/8] START C=10, gamma=0.1, kernel=linear.............................\n",
            "[CV 5/10; 3/8] END C=10, gamma=0.1, kernel=linear;, score=0.880 total time=   3.3s\n",
            "[CV 6/10; 3/8] START C=10, gamma=0.1, kernel=linear.............................\n",
            "[CV 6/10; 3/8] END C=10, gamma=0.1, kernel=linear;, score=0.960 total time=   2.8s\n",
            "[CV 7/10; 3/8] START C=10, gamma=0.1, kernel=linear.............................\n",
            "[CV 7/10; 3/8] END C=10, gamma=0.1, kernel=linear;, score=0.920 total time=   2.0s\n",
            "[CV 8/10; 3/8] START C=10, gamma=0.1, kernel=linear.............................\n",
            "[CV 8/10; 3/8] END C=10, gamma=0.1, kernel=linear;, score=0.900 total time=   2.1s\n",
            "[CV 9/10; 3/8] START C=10, gamma=0.1, kernel=linear.............................\n",
            "[CV 9/10; 3/8] END C=10, gamma=0.1, kernel=linear;, score=0.960 total time=   2.2s\n",
            "[CV 10/10; 3/8] START C=10, gamma=0.1, kernel=linear............................\n",
            "[CV 10/10; 3/8] END C=10, gamma=0.1, kernel=linear;, score=0.860 total time=   3.9s\n",
            "[CV 1/10; 4/8] START C=10, gamma=0.1, kernel=relu...............................\n",
            "[CV 1/10; 4/8] END ..C=10, gamma=0.1, kernel=relu;, score=nan total time=   0.0s\n",
            "[CV 2/10; 4/8] START C=10, gamma=0.1, kernel=relu...............................\n",
            "[CV 2/10; 4/8] END ..C=10, gamma=0.1, kernel=relu;, score=nan total time=   0.0s\n",
            "[CV 3/10; 4/8] START C=10, gamma=0.1, kernel=relu...............................\n",
            "[CV 3/10; 4/8] END ..C=10, gamma=0.1, kernel=relu;, score=nan total time=   0.0s\n",
            "[CV 4/10; 4/8] START C=10, gamma=0.1, kernel=relu...............................\n",
            "[CV 4/10; 4/8] END ..C=10, gamma=0.1, kernel=relu;, score=nan total time=   0.0s\n",
            "[CV 5/10; 4/8] START C=10, gamma=0.1, kernel=relu...............................\n",
            "[CV 5/10; 4/8] END ..C=10, gamma=0.1, kernel=relu;, score=nan total time=   0.0s\n",
            "[CV 6/10; 4/8] START C=10, gamma=0.1, kernel=relu...............................\n",
            "[CV 6/10; 4/8] END ..C=10, gamma=0.1, kernel=relu;, score=nan total time=   0.0s\n",
            "[CV 7/10; 4/8] START C=10, gamma=0.1, kernel=relu...............................\n",
            "[CV 7/10; 4/8] END ..C=10, gamma=0.1, kernel=relu;, score=nan total time=   0.0s\n",
            "[CV 8/10; 4/8] START C=10, gamma=0.1, kernel=relu...............................\n",
            "[CV 8/10; 4/8] END ..C=10, gamma=0.1, kernel=relu;, score=nan total time=   0.0s\n",
            "[CV 9/10; 4/8] START C=10, gamma=0.1, kernel=relu...............................\n",
            "[CV 9/10; 4/8] END ..C=10, gamma=0.1, kernel=relu;, score=nan total time=   0.0s\n",
            "[CV 10/10; 4/8] START C=10, gamma=0.1, kernel=relu..............................\n",
            "[CV 10/10; 4/8] END .C=10, gamma=0.1, kernel=relu;, score=nan total time=   0.0s\n",
            "[CV 1/10; 5/8] START C=0.1, gamma=0.5, kernel=linear............................\n",
            "[CV 1/10; 5/8] END C=0.1, gamma=0.5, kernel=linear;, score=0.863 total time=   0.0s\n",
            "[CV 2/10; 5/8] START C=0.1, gamma=0.5, kernel=linear............................\n",
            "[CV 2/10; 5/8] END C=0.1, gamma=0.5, kernel=linear;, score=0.922 total time=   0.1s\n",
            "[CV 3/10; 5/8] START C=0.1, gamma=0.5, kernel=linear............................\n",
            "[CV 3/10; 5/8] END C=0.1, gamma=0.5, kernel=linear;, score=0.863 total time=   0.1s\n",
            "[CV 4/10; 5/8] START C=0.1, gamma=0.5, kernel=linear............................\n",
            "[CV 4/10; 5/8] END C=0.1, gamma=0.5, kernel=linear;, score=0.922 total time=   0.1s\n",
            "[CV 5/10; 5/8] START C=0.1, gamma=0.5, kernel=linear............................\n",
            "[CV 5/10; 5/8] END C=0.1, gamma=0.5, kernel=linear;, score=0.880 total time=   0.0s\n",
            "[CV 6/10; 5/8] START C=0.1, gamma=0.5, kernel=linear............................\n",
            "[CV 6/10; 5/8] END C=0.1, gamma=0.5, kernel=linear;, score=0.960 total time=   0.0s\n",
            "[CV 7/10; 5/8] START C=0.1, gamma=0.5, kernel=linear............................\n",
            "[CV 7/10; 5/8] END C=0.1, gamma=0.5, kernel=linear;, score=0.920 total time=   0.1s\n",
            "[CV 8/10; 5/8] START C=0.1, gamma=0.5, kernel=linear............................\n",
            "[CV 8/10; 5/8] END C=0.1, gamma=0.5, kernel=linear;, score=0.900 total time=   0.0s\n",
            "[CV 9/10; 5/8] START C=0.1, gamma=0.5, kernel=linear............................\n",
            "[CV 9/10; 5/8] END C=0.1, gamma=0.5, kernel=linear;, score=0.920 total time=   0.1s\n",
            "[CV 10/10; 5/8] START C=0.1, gamma=0.5, kernel=linear...........................\n",
            "[CV 10/10; 5/8] END C=0.1, gamma=0.5, kernel=linear;, score=0.840 total time=   0.0s\n",
            "[CV 1/10; 6/8] START C=0.1, gamma=0.5, kernel=relu..............................\n",
            "[CV 1/10; 6/8] END .C=0.1, gamma=0.5, kernel=relu;, score=nan total time=   0.0s\n",
            "[CV 2/10; 6/8] START C=0.1, gamma=0.5, kernel=relu..............................\n",
            "[CV 2/10; 6/8] END .C=0.1, gamma=0.5, kernel=relu;, score=nan total time=   0.0s\n",
            "[CV 3/10; 6/8] START C=0.1, gamma=0.5, kernel=relu..............................\n",
            "[CV 3/10; 6/8] END .C=0.1, gamma=0.5, kernel=relu;, score=nan total time=   0.0s\n",
            "[CV 4/10; 6/8] START C=0.1, gamma=0.5, kernel=relu..............................\n",
            "[CV 4/10; 6/8] END .C=0.1, gamma=0.5, kernel=relu;, score=nan total time=   0.0s\n",
            "[CV 5/10; 6/8] START C=0.1, gamma=0.5, kernel=relu..............................\n",
            "[CV 5/10; 6/8] END .C=0.1, gamma=0.5, kernel=relu;, score=nan total time=   0.0s\n",
            "[CV 6/10; 6/8] START C=0.1, gamma=0.5, kernel=relu..............................\n",
            "[CV 6/10; 6/8] END .C=0.1, gamma=0.5, kernel=relu;, score=nan total time=   0.0s\n",
            "[CV 7/10; 6/8] START C=0.1, gamma=0.5, kernel=relu..............................\n",
            "[CV 7/10; 6/8] END .C=0.1, gamma=0.5, kernel=relu;, score=nan total time=   0.0s\n",
            "[CV 8/10; 6/8] START C=0.1, gamma=0.5, kernel=relu..............................\n",
            "[CV 8/10; 6/8] END .C=0.1, gamma=0.5, kernel=relu;, score=nan total time=   0.0s\n",
            "[CV 9/10; 6/8] START C=0.1, gamma=0.5, kernel=relu..............................\n",
            "[CV 9/10; 6/8] END .C=0.1, gamma=0.5, kernel=relu;, score=nan total time=   0.0s\n",
            "[CV 10/10; 6/8] START C=0.1, gamma=0.5, kernel=relu.............................\n",
            "[CV 10/10; 6/8] END C=0.1, gamma=0.5, kernel=relu;, score=nan total time=   0.0s\n",
            "[CV 1/10; 7/8] START C=0.1, gamma=0.1, kernel=linear............................\n",
            "[CV 1/10; 7/8] END C=0.1, gamma=0.1, kernel=linear;, score=0.863 total time=   0.0s\n",
            "[CV 2/10; 7/8] START C=0.1, gamma=0.1, kernel=linear............................\n",
            "[CV 2/10; 7/8] END C=0.1, gamma=0.1, kernel=linear;, score=0.922 total time=   0.1s\n",
            "[CV 3/10; 7/8] START C=0.1, gamma=0.1, kernel=linear............................\n",
            "[CV 3/10; 7/8] END C=0.1, gamma=0.1, kernel=linear;, score=0.863 total time=   0.1s\n",
            "[CV 4/10; 7/8] START C=0.1, gamma=0.1, kernel=linear............................\n",
            "[CV 4/10; 7/8] END C=0.1, gamma=0.1, kernel=linear;, score=0.922 total time=   0.1s\n",
            "[CV 5/10; 7/8] START C=0.1, gamma=0.1, kernel=linear............................\n",
            "[CV 5/10; 7/8] END C=0.1, gamma=0.1, kernel=linear;, score=0.880 total time=   0.0s\n",
            "[CV 6/10; 7/8] START C=0.1, gamma=0.1, kernel=linear............................\n",
            "[CV 6/10; 7/8] END C=0.1, gamma=0.1, kernel=linear;, score=0.960 total time=   0.0s\n",
            "[CV 7/10; 7/8] START C=0.1, gamma=0.1, kernel=linear............................\n",
            "[CV 7/10; 7/8] END C=0.1, gamma=0.1, kernel=linear;, score=0.920 total time=   0.1s\n",
            "[CV 8/10; 7/8] START C=0.1, gamma=0.1, kernel=linear............................\n",
            "[CV 8/10; 7/8] END C=0.1, gamma=0.1, kernel=linear;, score=0.900 total time=   0.0s\n",
            "[CV 9/10; 7/8] START C=0.1, gamma=0.1, kernel=linear............................\n",
            "[CV 9/10; 7/8] END C=0.1, gamma=0.1, kernel=linear;, score=0.920 total time=   0.0s\n",
            "[CV 10/10; 7/8] START C=0.1, gamma=0.1, kernel=linear...........................\n",
            "[CV 10/10; 7/8] END C=0.1, gamma=0.1, kernel=linear;, score=0.840 total time=   0.0s\n",
            "[CV 1/10; 8/8] START C=0.1, gamma=0.1, kernel=relu..............................\n",
            "[CV 1/10; 8/8] END .C=0.1, gamma=0.1, kernel=relu;, score=nan total time=   0.0s\n",
            "[CV 2/10; 8/8] START C=0.1, gamma=0.1, kernel=relu..............................\n",
            "[CV 2/10; 8/8] END .C=0.1, gamma=0.1, kernel=relu;, score=nan total time=   0.0s\n",
            "[CV 3/10; 8/8] START C=0.1, gamma=0.1, kernel=relu..............................\n",
            "[CV 3/10; 8/8] END .C=0.1, gamma=0.1, kernel=relu;, score=nan total time=   0.0s\n",
            "[CV 4/10; 8/8] START C=0.1, gamma=0.1, kernel=relu..............................\n",
            "[CV 4/10; 8/8] END .C=0.1, gamma=0.1, kernel=relu;, score=nan total time=   0.0s\n",
            "[CV 5/10; 8/8] START C=0.1, gamma=0.1, kernel=relu..............................\n",
            "[CV 5/10; 8/8] END .C=0.1, gamma=0.1, kernel=relu;, score=nan total time=   0.0s\n",
            "[CV 6/10; 8/8] START C=0.1, gamma=0.1, kernel=relu..............................\n",
            "[CV 6/10; 8/8] END .C=0.1, gamma=0.1, kernel=relu;, score=nan total time=   0.0s\n",
            "[CV 7/10; 8/8] START C=0.1, gamma=0.1, kernel=relu..............................\n",
            "[CV 7/10; 8/8] END .C=0.1, gamma=0.1, kernel=relu;, score=nan total time=   0.0s\n",
            "[CV 8/10; 8/8] START C=0.1, gamma=0.1, kernel=relu..............................\n",
            "[CV 8/10; 8/8] END .C=0.1, gamma=0.1, kernel=relu;, score=nan total time=   0.0s\n",
            "[CV 9/10; 8/8] START C=0.1, gamma=0.1, kernel=relu..............................\n",
            "[CV 9/10; 8/8] END .C=0.1, gamma=0.1, kernel=relu;, score=nan total time=   0.0s\n",
            "[CV 10/10; 8/8] START C=0.1, gamma=0.1, kernel=relu.............................\n",
            "[CV 10/10; 8/8] END C=0.1, gamma=0.1, kernel=relu;, score=nan total time=   0.0s\n"
          ]
        },
        {
          "output_type": "stream",
          "name": "stderr",
          "text": [
            "/usr/local/lib/python3.8/dist-packages/sklearn/model_selection/_validation.py:372: FitFailedWarning: \n",
            "40 fits failed out of a total of 80.\n",
            "The score on these train-test partitions for these parameters will be set to nan.\n",
            "If these failures are not expected, you can try to debug them by setting error_score='raise'.\n",
            "\n",
            "Below are more details about the failures:\n",
            "--------------------------------------------------------------------------------\n",
            "40 fits failed with the following error:\n",
            "Traceback (most recent call last):\n",
            "  File \"/usr/local/lib/python3.8/dist-packages/sklearn/model_selection/_validation.py\", line 680, in _fit_and_score\n",
            "    estimator.fit(X_train, y_train, **fit_params)\n",
            "  File \"/usr/local/lib/python3.8/dist-packages/sklearn/svm/_base.py\", line 255, in fit\n",
            "    fit(X, y, sample_weight, solver_type, kernel, random_seed=seed)\n",
            "  File \"/usr/local/lib/python3.8/dist-packages/sklearn/svm/_base.py\", line 315, in _dense_fit\n",
            "    ) = libsvm.fit(\n",
            "  File \"sklearn/svm/_libsvm.pyx\", line 173, in sklearn.svm._libsvm.fit\n",
            "ValueError: 'relu' is not in list\n",
            "\n",
            "  warnings.warn(some_fits_failed_message, FitFailedWarning)\n",
            "/usr/local/lib/python3.8/dist-packages/sklearn/model_selection/_search.py:969: UserWarning: One or more of the test scores are non-finite: [0.90682353        nan 0.90682353        nan 0.89886275        nan\n",
            " 0.89886275        nan]\n",
            "  warnings.warn(\n"
          ]
        },
        {
          "output_type": "execute_result",
          "data": {
            "text/plain": [
              "RandomizedSearchCV(cv=10, estimator=SVC(),\n",
              "                   param_distributions=[{'C': [10, 0.1], 'gamma': [0.5, 0.1],\n",
              "                                         'kernel': ['linear', 'relu']}],\n",
              "                   verbose=300)"
            ]
          },
          "metadata": {},
          "execution_count": 199
        }
      ],
      "source": [
        "clf = SVC()\n",
        "param_grid = [{'kernel':['linear','relu'],'gamma':[0.5,0.1],'C':[10,0.1] }]\n",
        "gsv = RandomizedSearchCV(clf,param_grid,cv=10,verbose=300)\n",
        "gsv.fit(X_train,y_train)"
      ]
    },
    {
      "cell_type": "code",
      "execution_count": 200,
      "metadata": {
        "id": "FkgQQvrfaZYz",
        "colab": {
          "base_uri": "https://localhost:8080/"
        },
        "outputId": "b7ce1770-e52d-41d6-c336-586614a9cf97"
      },
      "outputs": [
        {
          "output_type": "execute_result",
          "data": {
            "text/plain": [
              "({'kernel': 'linear', 'gamma': 0.5, 'C': 10}, 0.9068235294117646)"
            ]
          },
          "metadata": {},
          "execution_count": 200
        }
      ],
      "source": [
        "gsv.best_params_ , gsv.best_score_ "
      ]
    },
    {
      "cell_type": "code",
      "execution_count": 201,
      "metadata": {
        "id": "WZBF0p0KaZVa",
        "colab": {
          "base_uri": "https://localhost:8080/"
        },
        "outputId": "f5cbf832-34d3-44f4-f7b4-b04d0aaf92f0"
      },
      "outputs": [
        {
          "output_type": "stream",
          "name": "stdout",
          "text": [
            "Accuracy = 91.70506912442397\n"
          ]
        },
        {
          "output_type": "execute_result",
          "data": {
            "text/plain": [
              "array([[ 36,  16],\n",
              "       [  2, 163]])"
            ]
          },
          "metadata": {},
          "execution_count": 201
        }
      ],
      "source": [
        "clf = SVC(kernel='linear',C=10)\n",
        "clf.fit(X_train , y_train)\n",
        "y_pred = clf.predict(X_test)\n",
        "acc = accuracy_score(y_test, y_pred) * 100\n",
        "print(\"Accuracy =\", acc)\n",
        "confusion_matrix(y_test, y_pred)"
      ]
    },
    {
      "cell_type": "markdown",
      "source": [
        "prediction"
      ],
      "metadata": {
        "id": "FSu3N25EeUP5"
      }
    },
    {
      "cell_type": "code",
      "execution_count": 202,
      "metadata": {
        "id": "sNFAZ0ekHF-l"
      },
      "outputs": [],
      "source": [
        "U=test.iloc[:,0:-1]\n",
        "V=test['Salary']"
      ]
    },
    {
      "cell_type": "code",
      "execution_count": 203,
      "metadata": {
        "id": "0w1TYLUoaZMG",
        "colab": {
          "base_uri": "https://localhost:8080/"
        },
        "outputId": "e83842b5-32cc-45a4-8283-9f975a325397"
      },
      "outputs": [
        {
          "output_type": "stream",
          "name": "stdout",
          "text": [
            "Accuracy = 88.64353312302839\n"
          ]
        },
        {
          "output_type": "execute_result",
          "data": {
            "text/plain": [
              "array([[ 18,  33],\n",
              "       [  3, 263]])"
            ]
          },
          "metadata": {},
          "execution_count": 203
        }
      ],
      "source": [
        "y_newpred = clf.predict(U)\n",
        "newacc = accuracy_score(V, y_newpred) * 100\n",
        "print(\"Accuracy =\", newacc)\n",
        "confusion_matrix(V, y_newpred)"
      ]
    },
    {
      "cell_type": "code",
      "execution_count": null,
      "metadata": {
        "id": "pC817pvvaZIw"
      },
      "outputs": [],
      "source": []
    },
    {
      "cell_type": "code",
      "execution_count": null,
      "metadata": {
        "id": "cl86vuxWaZFr"
      },
      "outputs": [],
      "source": []
    },
    {
      "cell_type": "code",
      "execution_count": null,
      "metadata": {
        "id": "24f4rK0bHuec"
      },
      "outputs": [],
      "source": []
    },
    {
      "cell_type": "markdown",
      "metadata": {
        "id": "u3TlMijlHtJ6"
      },
      "source": [
        "#**Forest Fire Problem**"
      ]
    },
    {
      "cell_type": "code",
      "execution_count": 204,
      "metadata": {
        "id": "BZetOPt-aZCk"
      },
      "outputs": [],
      "source": [
        "import pandas as pd\n",
        "from sklearn import preprocessing\n",
        "\n",
        "# from sklearn import svm\n",
        "from sklearn.svm import SVC\n",
        "from sklearn.model_selection import RandomizedSearchCV\n",
        "\n",
        "\n",
        "from sklearn.metrics import accuracy_score, confusion_matrix\n",
        "from sklearn.model_selection import train_test_split, cross_val_score"
      ]
    },
    {
      "cell_type": "code",
      "execution_count": 205,
      "metadata": {
        "colab": {
          "base_uri": "https://localhost:8080/",
          "height": 73
        },
        "id": "aD27g8E1IwNA",
        "outputId": "cad8aa82-022d-4fc6-a05d-5d508d3584ca"
      },
      "outputs": [
        {
          "output_type": "display_data",
          "data": {
            "text/plain": [
              "<IPython.core.display.HTML object>"
            ],
            "text/html": [
              "\n",
              "     <input type=\"file\" id=\"files-a68fd0b1-7333-429f-bef8-9c32ac495c67\" name=\"files[]\" multiple disabled\n",
              "        style=\"border:none\" />\n",
              "     <output id=\"result-a68fd0b1-7333-429f-bef8-9c32ac495c67\">\n",
              "      Upload widget is only available when the cell has been executed in the\n",
              "      current browser session. Please rerun this cell to enable.\n",
              "      </output>\n",
              "      <script>// Copyright 2017 Google LLC\n",
              "//\n",
              "// Licensed under the Apache License, Version 2.0 (the \"License\");\n",
              "// you may not use this file except in compliance with the License.\n",
              "// You may obtain a copy of the License at\n",
              "//\n",
              "//      http://www.apache.org/licenses/LICENSE-2.0\n",
              "//\n",
              "// Unless required by applicable law or agreed to in writing, software\n",
              "// distributed under the License is distributed on an \"AS IS\" BASIS,\n",
              "// WITHOUT WARRANTIES OR CONDITIONS OF ANY KIND, either express or implied.\n",
              "// See the License for the specific language governing permissions and\n",
              "// limitations under the License.\n",
              "\n",
              "/**\n",
              " * @fileoverview Helpers for google.colab Python module.\n",
              " */\n",
              "(function(scope) {\n",
              "function span(text, styleAttributes = {}) {\n",
              "  const element = document.createElement('span');\n",
              "  element.textContent = text;\n",
              "  for (const key of Object.keys(styleAttributes)) {\n",
              "    element.style[key] = styleAttributes[key];\n",
              "  }\n",
              "  return element;\n",
              "}\n",
              "\n",
              "// Max number of bytes which will be uploaded at a time.\n",
              "const MAX_PAYLOAD_SIZE = 100 * 1024;\n",
              "\n",
              "function _uploadFiles(inputId, outputId) {\n",
              "  const steps = uploadFilesStep(inputId, outputId);\n",
              "  const outputElement = document.getElementById(outputId);\n",
              "  // Cache steps on the outputElement to make it available for the next call\n",
              "  // to uploadFilesContinue from Python.\n",
              "  outputElement.steps = steps;\n",
              "\n",
              "  return _uploadFilesContinue(outputId);\n",
              "}\n",
              "\n",
              "// This is roughly an async generator (not supported in the browser yet),\n",
              "// where there are multiple asynchronous steps and the Python side is going\n",
              "// to poll for completion of each step.\n",
              "// This uses a Promise to block the python side on completion of each step,\n",
              "// then passes the result of the previous step as the input to the next step.\n",
              "function _uploadFilesContinue(outputId) {\n",
              "  const outputElement = document.getElementById(outputId);\n",
              "  const steps = outputElement.steps;\n",
              "\n",
              "  const next = steps.next(outputElement.lastPromiseValue);\n",
              "  return Promise.resolve(next.value.promise).then((value) => {\n",
              "    // Cache the last promise value to make it available to the next\n",
              "    // step of the generator.\n",
              "    outputElement.lastPromiseValue = value;\n",
              "    return next.value.response;\n",
              "  });\n",
              "}\n",
              "\n",
              "/**\n",
              " * Generator function which is called between each async step of the upload\n",
              " * process.\n",
              " * @param {string} inputId Element ID of the input file picker element.\n",
              " * @param {string} outputId Element ID of the output display.\n",
              " * @return {!Iterable<!Object>} Iterable of next steps.\n",
              " */\n",
              "function* uploadFilesStep(inputId, outputId) {\n",
              "  const inputElement = document.getElementById(inputId);\n",
              "  inputElement.disabled = false;\n",
              "\n",
              "  const outputElement = document.getElementById(outputId);\n",
              "  outputElement.innerHTML = '';\n",
              "\n",
              "  const pickedPromise = new Promise((resolve) => {\n",
              "    inputElement.addEventListener('change', (e) => {\n",
              "      resolve(e.target.files);\n",
              "    });\n",
              "  });\n",
              "\n",
              "  const cancel = document.createElement('button');\n",
              "  inputElement.parentElement.appendChild(cancel);\n",
              "  cancel.textContent = 'Cancel upload';\n",
              "  const cancelPromise = new Promise((resolve) => {\n",
              "    cancel.onclick = () => {\n",
              "      resolve(null);\n",
              "    };\n",
              "  });\n",
              "\n",
              "  // Wait for the user to pick the files.\n",
              "  const files = yield {\n",
              "    promise: Promise.race([pickedPromise, cancelPromise]),\n",
              "    response: {\n",
              "      action: 'starting',\n",
              "    }\n",
              "  };\n",
              "\n",
              "  cancel.remove();\n",
              "\n",
              "  // Disable the input element since further picks are not allowed.\n",
              "  inputElement.disabled = true;\n",
              "\n",
              "  if (!files) {\n",
              "    return {\n",
              "      response: {\n",
              "        action: 'complete',\n",
              "      }\n",
              "    };\n",
              "  }\n",
              "\n",
              "  for (const file of files) {\n",
              "    const li = document.createElement('li');\n",
              "    li.append(span(file.name, {fontWeight: 'bold'}));\n",
              "    li.append(span(\n",
              "        `(${file.type || 'n/a'}) - ${file.size} bytes, ` +\n",
              "        `last modified: ${\n",
              "            file.lastModifiedDate ? file.lastModifiedDate.toLocaleDateString() :\n",
              "                                    'n/a'} - `));\n",
              "    const percent = span('0% done');\n",
              "    li.appendChild(percent);\n",
              "\n",
              "    outputElement.appendChild(li);\n",
              "\n",
              "    const fileDataPromise = new Promise((resolve) => {\n",
              "      const reader = new FileReader();\n",
              "      reader.onload = (e) => {\n",
              "        resolve(e.target.result);\n",
              "      };\n",
              "      reader.readAsArrayBuffer(file);\n",
              "    });\n",
              "    // Wait for the data to be ready.\n",
              "    let fileData = yield {\n",
              "      promise: fileDataPromise,\n",
              "      response: {\n",
              "        action: 'continue',\n",
              "      }\n",
              "    };\n",
              "\n",
              "    // Use a chunked sending to avoid message size limits. See b/62115660.\n",
              "    let position = 0;\n",
              "    do {\n",
              "      const length = Math.min(fileData.byteLength - position, MAX_PAYLOAD_SIZE);\n",
              "      const chunk = new Uint8Array(fileData, position, length);\n",
              "      position += length;\n",
              "\n",
              "      const base64 = btoa(String.fromCharCode.apply(null, chunk));\n",
              "      yield {\n",
              "        response: {\n",
              "          action: 'append',\n",
              "          file: file.name,\n",
              "          data: base64,\n",
              "        },\n",
              "      };\n",
              "\n",
              "      let percentDone = fileData.byteLength === 0 ?\n",
              "          100 :\n",
              "          Math.round((position / fileData.byteLength) * 100);\n",
              "      percent.textContent = `${percentDone}% done`;\n",
              "\n",
              "    } while (position < fileData.byteLength);\n",
              "  }\n",
              "\n",
              "  // All done.\n",
              "  yield {\n",
              "    response: {\n",
              "      action: 'complete',\n",
              "    }\n",
              "  };\n",
              "}\n",
              "\n",
              "scope.google = scope.google || {};\n",
              "scope.google.colab = scope.google.colab || {};\n",
              "scope.google.colab._files = {\n",
              "  _uploadFiles,\n",
              "  _uploadFilesContinue,\n",
              "};\n",
              "})(self);\n",
              "</script> "
            ]
          },
          "metadata": {}
        },
        {
          "output_type": "stream",
          "name": "stdout",
          "text": [
            "Saving forestfires.csv to forestfires (1).csv\n"
          ]
        }
      ],
      "source": [
        "from google.colab import files\n",
        "uploaded=files.upload()"
      ]
    },
    {
      "cell_type": "code",
      "execution_count": 272,
      "metadata": {
        "id": "i9v6016iIvrD"
      },
      "outputs": [],
      "source": [
        "frst=pd.read_csv('forestfires.csv')"
      ]
    },
    {
      "cell_type": "code",
      "execution_count": 273,
      "metadata": {
        "colab": {
          "base_uri": "https://localhost:8080/",
          "height": 300
        },
        "id": "rTKSMzmckuqg",
        "outputId": "d338d3c1-316f-4ce9-a474-d47baf236216"
      },
      "outputs": [
        {
          "output_type": "execute_result",
          "data": {
            "text/plain": [
              "  month  day  FFMC   DMC     DC  ISI  temp  RH  wind  rain  ...  monthfeb  \\\n",
              "0   mar  fri  86.2  26.2   94.3  5.1   8.2  51   6.7   0.0  ...         0   \n",
              "1   oct  tue  90.6  35.4  669.1  6.7  18.0  33   0.9   0.0  ...         0   \n",
              "2   oct  sat  90.6  43.7  686.9  6.7  14.6  33   1.3   0.0  ...         0   \n",
              "3   mar  fri  91.7  33.3   77.5  9.0   8.3  97   4.0   0.2  ...         0   \n",
              "4   mar  sun  89.3  51.3  102.2  9.6  11.4  99   1.8   0.0  ...         0   \n",
              "\n",
              "   monthjan  monthjul  monthjun  monthmar  monthmay  monthnov  monthoct  \\\n",
              "0         0         0         0         1         0         0         0   \n",
              "1         0         0         0         0         0         0         1   \n",
              "2         0         0         0         0         0         0         1   \n",
              "3         0         0         0         1         0         0         0   \n",
              "4         0         0         0         1         0         0         0   \n",
              "\n",
              "   monthsep  size_category  \n",
              "0         0          small  \n",
              "1         0          small  \n",
              "2         0          small  \n",
              "3         0          small  \n",
              "4         0          small  \n",
              "\n",
              "[5 rows x 31 columns]"
            ],
            "text/html": [
              "\n",
              "  <div id=\"df-12ab8c10-832e-449a-8578-c3f7b8ce5da5\">\n",
              "    <div class=\"colab-df-container\">\n",
              "      <div>\n",
              "<style scoped>\n",
              "    .dataframe tbody tr th:only-of-type {\n",
              "        vertical-align: middle;\n",
              "    }\n",
              "\n",
              "    .dataframe tbody tr th {\n",
              "        vertical-align: top;\n",
              "    }\n",
              "\n",
              "    .dataframe thead th {\n",
              "        text-align: right;\n",
              "    }\n",
              "</style>\n",
              "<table border=\"1\" class=\"dataframe\">\n",
              "  <thead>\n",
              "    <tr style=\"text-align: right;\">\n",
              "      <th></th>\n",
              "      <th>month</th>\n",
              "      <th>day</th>\n",
              "      <th>FFMC</th>\n",
              "      <th>DMC</th>\n",
              "      <th>DC</th>\n",
              "      <th>ISI</th>\n",
              "      <th>temp</th>\n",
              "      <th>RH</th>\n",
              "      <th>wind</th>\n",
              "      <th>rain</th>\n",
              "      <th>...</th>\n",
              "      <th>monthfeb</th>\n",
              "      <th>monthjan</th>\n",
              "      <th>monthjul</th>\n",
              "      <th>monthjun</th>\n",
              "      <th>monthmar</th>\n",
              "      <th>monthmay</th>\n",
              "      <th>monthnov</th>\n",
              "      <th>monthoct</th>\n",
              "      <th>monthsep</th>\n",
              "      <th>size_category</th>\n",
              "    </tr>\n",
              "  </thead>\n",
              "  <tbody>\n",
              "    <tr>\n",
              "      <th>0</th>\n",
              "      <td>mar</td>\n",
              "      <td>fri</td>\n",
              "      <td>86.2</td>\n",
              "      <td>26.2</td>\n",
              "      <td>94.3</td>\n",
              "      <td>5.1</td>\n",
              "      <td>8.2</td>\n",
              "      <td>51</td>\n",
              "      <td>6.7</td>\n",
              "      <td>0.0</td>\n",
              "      <td>...</td>\n",
              "      <td>0</td>\n",
              "      <td>0</td>\n",
              "      <td>0</td>\n",
              "      <td>0</td>\n",
              "      <td>1</td>\n",
              "      <td>0</td>\n",
              "      <td>0</td>\n",
              "      <td>0</td>\n",
              "      <td>0</td>\n",
              "      <td>small</td>\n",
              "    </tr>\n",
              "    <tr>\n",
              "      <th>1</th>\n",
              "      <td>oct</td>\n",
              "      <td>tue</td>\n",
              "      <td>90.6</td>\n",
              "      <td>35.4</td>\n",
              "      <td>669.1</td>\n",
              "      <td>6.7</td>\n",
              "      <td>18.0</td>\n",
              "      <td>33</td>\n",
              "      <td>0.9</td>\n",
              "      <td>0.0</td>\n",
              "      <td>...</td>\n",
              "      <td>0</td>\n",
              "      <td>0</td>\n",
              "      <td>0</td>\n",
              "      <td>0</td>\n",
              "      <td>0</td>\n",
              "      <td>0</td>\n",
              "      <td>0</td>\n",
              "      <td>1</td>\n",
              "      <td>0</td>\n",
              "      <td>small</td>\n",
              "    </tr>\n",
              "    <tr>\n",
              "      <th>2</th>\n",
              "      <td>oct</td>\n",
              "      <td>sat</td>\n",
              "      <td>90.6</td>\n",
              "      <td>43.7</td>\n",
              "      <td>686.9</td>\n",
              "      <td>6.7</td>\n",
              "      <td>14.6</td>\n",
              "      <td>33</td>\n",
              "      <td>1.3</td>\n",
              "      <td>0.0</td>\n",
              "      <td>...</td>\n",
              "      <td>0</td>\n",
              "      <td>0</td>\n",
              "      <td>0</td>\n",
              "      <td>0</td>\n",
              "      <td>0</td>\n",
              "      <td>0</td>\n",
              "      <td>0</td>\n",
              "      <td>1</td>\n",
              "      <td>0</td>\n",
              "      <td>small</td>\n",
              "    </tr>\n",
              "    <tr>\n",
              "      <th>3</th>\n",
              "      <td>mar</td>\n",
              "      <td>fri</td>\n",
              "      <td>91.7</td>\n",
              "      <td>33.3</td>\n",
              "      <td>77.5</td>\n",
              "      <td>9.0</td>\n",
              "      <td>8.3</td>\n",
              "      <td>97</td>\n",
              "      <td>4.0</td>\n",
              "      <td>0.2</td>\n",
              "      <td>...</td>\n",
              "      <td>0</td>\n",
              "      <td>0</td>\n",
              "      <td>0</td>\n",
              "      <td>0</td>\n",
              "      <td>1</td>\n",
              "      <td>0</td>\n",
              "      <td>0</td>\n",
              "      <td>0</td>\n",
              "      <td>0</td>\n",
              "      <td>small</td>\n",
              "    </tr>\n",
              "    <tr>\n",
              "      <th>4</th>\n",
              "      <td>mar</td>\n",
              "      <td>sun</td>\n",
              "      <td>89.3</td>\n",
              "      <td>51.3</td>\n",
              "      <td>102.2</td>\n",
              "      <td>9.6</td>\n",
              "      <td>11.4</td>\n",
              "      <td>99</td>\n",
              "      <td>1.8</td>\n",
              "      <td>0.0</td>\n",
              "      <td>...</td>\n",
              "      <td>0</td>\n",
              "      <td>0</td>\n",
              "      <td>0</td>\n",
              "      <td>0</td>\n",
              "      <td>1</td>\n",
              "      <td>0</td>\n",
              "      <td>0</td>\n",
              "      <td>0</td>\n",
              "      <td>0</td>\n",
              "      <td>small</td>\n",
              "    </tr>\n",
              "  </tbody>\n",
              "</table>\n",
              "<p>5 rows × 31 columns</p>\n",
              "</div>\n",
              "      <button class=\"colab-df-convert\" onclick=\"convertToInteractive('df-12ab8c10-832e-449a-8578-c3f7b8ce5da5')\"\n",
              "              title=\"Convert this dataframe to an interactive table.\"\n",
              "              style=\"display:none;\">\n",
              "        \n",
              "  <svg xmlns=\"http://www.w3.org/2000/svg\" height=\"24px\"viewBox=\"0 0 24 24\"\n",
              "       width=\"24px\">\n",
              "    <path d=\"M0 0h24v24H0V0z\" fill=\"none\"/>\n",
              "    <path d=\"M18.56 5.44l.94 2.06.94-2.06 2.06-.94-2.06-.94-.94-2.06-.94 2.06-2.06.94zm-11 1L8.5 8.5l.94-2.06 2.06-.94-2.06-.94L8.5 2.5l-.94 2.06-2.06.94zm10 10l.94 2.06.94-2.06 2.06-.94-2.06-.94-.94-2.06-.94 2.06-2.06.94z\"/><path d=\"M17.41 7.96l-1.37-1.37c-.4-.4-.92-.59-1.43-.59-.52 0-1.04.2-1.43.59L10.3 9.45l-7.72 7.72c-.78.78-.78 2.05 0 2.83L4 21.41c.39.39.9.59 1.41.59.51 0 1.02-.2 1.41-.59l7.78-7.78 2.81-2.81c.8-.78.8-2.07 0-2.86zM5.41 20L4 18.59l7.72-7.72 1.47 1.35L5.41 20z\"/>\n",
              "  </svg>\n",
              "      </button>\n",
              "      \n",
              "  <style>\n",
              "    .colab-df-container {\n",
              "      display:flex;\n",
              "      flex-wrap:wrap;\n",
              "      gap: 12px;\n",
              "    }\n",
              "\n",
              "    .colab-df-convert {\n",
              "      background-color: #E8F0FE;\n",
              "      border: none;\n",
              "      border-radius: 50%;\n",
              "      cursor: pointer;\n",
              "      display: none;\n",
              "      fill: #1967D2;\n",
              "      height: 32px;\n",
              "      padding: 0 0 0 0;\n",
              "      width: 32px;\n",
              "    }\n",
              "\n",
              "    .colab-df-convert:hover {\n",
              "      background-color: #E2EBFA;\n",
              "      box-shadow: 0px 1px 2px rgba(60, 64, 67, 0.3), 0px 1px 3px 1px rgba(60, 64, 67, 0.15);\n",
              "      fill: #174EA6;\n",
              "    }\n",
              "\n",
              "    [theme=dark] .colab-df-convert {\n",
              "      background-color: #3B4455;\n",
              "      fill: #D2E3FC;\n",
              "    }\n",
              "\n",
              "    [theme=dark] .colab-df-convert:hover {\n",
              "      background-color: #434B5C;\n",
              "      box-shadow: 0px 1px 3px 1px rgba(0, 0, 0, 0.15);\n",
              "      filter: drop-shadow(0px 1px 2px rgba(0, 0, 0, 0.3));\n",
              "      fill: #FFFFFF;\n",
              "    }\n",
              "  </style>\n",
              "\n",
              "      <script>\n",
              "        const buttonEl =\n",
              "          document.querySelector('#df-12ab8c10-832e-449a-8578-c3f7b8ce5da5 button.colab-df-convert');\n",
              "        buttonEl.style.display =\n",
              "          google.colab.kernel.accessAllowed ? 'block' : 'none';\n",
              "\n",
              "        async function convertToInteractive(key) {\n",
              "          const element = document.querySelector('#df-12ab8c10-832e-449a-8578-c3f7b8ce5da5');\n",
              "          const dataTable =\n",
              "            await google.colab.kernel.invokeFunction('convertToInteractive',\n",
              "                                                     [key], {});\n",
              "          if (!dataTable) return;\n",
              "\n",
              "          const docLinkHtml = 'Like what you see? Visit the ' +\n",
              "            '<a target=\"_blank\" href=https://colab.research.google.com/notebooks/data_table.ipynb>data table notebook</a>'\n",
              "            + ' to learn more about interactive tables.';\n",
              "          element.innerHTML = '';\n",
              "          dataTable['output_type'] = 'display_data';\n",
              "          await google.colab.output.renderOutput(dataTable, element);\n",
              "          const docLink = document.createElement('div');\n",
              "          docLink.innerHTML = docLinkHtml;\n",
              "          element.appendChild(docLink);\n",
              "        }\n",
              "      </script>\n",
              "    </div>\n",
              "  </div>\n",
              "  "
            ]
          },
          "metadata": {},
          "execution_count": 273
        }
      ],
      "source": [
        "frst.head()"
      ]
    },
    {
      "cell_type": "code",
      "execution_count": 274,
      "metadata": {
        "colab": {
          "base_uri": "https://localhost:8080/"
        },
        "id": "r1UWZwANkunJ",
        "outputId": "7cda08e5-dead-4259-cee7-5b7b849a82fb"
      },
      "outputs": [
        {
          "output_type": "execute_result",
          "data": {
            "text/plain": [
              "Index(['month', 'day', 'FFMC', 'DMC', 'DC', 'ISI', 'temp', 'RH', 'wind',\n",
              "       'rain', 'area', 'dayfri', 'daymon', 'daysat', 'daysun', 'daythu',\n",
              "       'daytue', 'daywed', 'monthapr', 'monthaug', 'monthdec', 'monthfeb',\n",
              "       'monthjan', 'monthjul', 'monthjun', 'monthmar', 'monthmay', 'monthnov',\n",
              "       'monthoct', 'monthsep', 'size_category'],\n",
              "      dtype='object')"
            ]
          },
          "metadata": {},
          "execution_count": 274
        }
      ],
      "source": [
        "frst.columns"
      ]
    },
    {
      "cell_type": "code",
      "source": [
        "frst.duplicated().sum()"
      ],
      "metadata": {
        "colab": {
          "base_uri": "https://localhost:8080/"
        },
        "id": "MtipPImpfyTg",
        "outputId": "9110191e-8782-4262-ca32-fe2240802e68"
      },
      "execution_count": 275,
      "outputs": [
        {
          "output_type": "execute_result",
          "data": {
            "text/plain": [
              "8"
            ]
          },
          "metadata": {},
          "execution_count": 275
        }
      ]
    },
    {
      "cell_type": "code",
      "source": [
        "frst=frst.drop_duplicates()"
      ],
      "metadata": {
        "id": "ewz28UUHfx9I"
      },
      "execution_count": 276,
      "outputs": []
    },
    {
      "cell_type": "code",
      "source": [
        "frst.boxplot(figsize=(15,5))"
      ],
      "metadata": {
        "colab": {
          "base_uri": "https://localhost:8080/",
          "height": 337
        },
        "id": "XqAsQBGqgXzf",
        "outputId": "2932e85e-a2ec-4308-dd73-46df3d13f917"
      },
      "execution_count": 277,
      "outputs": [
        {
          "output_type": "execute_result",
          "data": {
            "text/plain": [
              "<matplotlib.axes._subplots.AxesSubplot at 0x7fde18f72580>"
            ]
          },
          "metadata": {},
          "execution_count": 277
        },
        {
          "output_type": "display_data",
          "data": {
            "text/plain": [
              "<Figure size 1080x360 with 1 Axes>"
            ],
            "image/png": "[encoded data removed]"
          },
          "metadata": {
            "needs_background": "light"
          }
        }
      ]
    },
    {
      "cell_type": "code",
      "source": [
        "plt.boxplot(frst['area'])"
      ],
      "metadata": {
        "colab": {
          "base_uri": "https://localhost:8080/",
          "height": 404
        },
        "id": "tggfjfbVgXv4",
        "outputId": "eb41660e-75e9-48e0-fbef-41951b91097e"
      },
      "execution_count": 278,
      "outputs": [
        {
          "output_type": "execute_result",
          "data": {
            "text/plain": [
              "{'whiskers': [<matplotlib.lines.Line2D at 0x7fde18bf88e0>,\n",
              "  <matplotlib.lines.Line2D at 0x7fde18bf8c40>],\n",
              " 'caps': [<matplotlib.lines.Line2D at 0x7fde18bf8fa0>,\n",
              "  <matplotlib.lines.Line2D at 0x7fde18c03340>],\n",
              " 'boxes': [<matplotlib.lines.Line2D at 0x7fde18bf8580>],\n",
              " 'medians': [<matplotlib.lines.Line2D at 0x7fde18c036a0>],\n",
              " 'fliers': [<matplotlib.lines.Line2D at 0x7fde18c039a0>],\n",
              " 'means': []}"
            ]
          },
          "metadata": {},
          "execution_count": 278
        },
        {
          "output_type": "display_data",
          "data": {
            "text/plain": [
              "<Figure size 432x288 with 1 Axes>"
            ],
            "image/png": "[encoded data removed]"
          },
          "metadata": {
            "needs_background": "light"
          }
        }
      ]
    },
    {
      "cell_type": "code",
      "source": [
        "frst=frst.drop(frst[frst['area']>200].index,axis=0)"
      ],
      "metadata": {
        "id": "K97BPsqmiknF"
      },
      "execution_count": 279,
      "outputs": []
    },
    {
      "cell_type": "code",
      "source": [
        "plt.boxplot(frst['area'])"
      ],
      "metadata": {
        "colab": {
          "base_uri": "https://localhost:8080/",
          "height": 404
        },
        "id": "aJfc_N31jEFp",
        "outputId": "5f346b2e-e509-4815-f92c-32233717b565"
      },
      "execution_count": 280,
      "outputs": [
        {
          "output_type": "execute_result",
          "data": {
            "text/plain": [
              "{'whiskers': [<matplotlib.lines.Line2D at 0x7fde18bcd220>,\n",
              "  <matplotlib.lines.Line2D at 0x7fde18bcd580>],\n",
              " 'caps': [<matplotlib.lines.Line2D at 0x7fde18bcd8e0>,\n",
              "  <matplotlib.lines.Line2D at 0x7fde18bcdc40>],\n",
              " 'boxes': [<matplotlib.lines.Line2D at 0x7fde18bc0e80>],\n",
              " 'medians': [<matplotlib.lines.Line2D at 0x7fde18bcdfa0>],\n",
              " 'fliers': [<matplotlib.lines.Line2D at 0x7fde18bd72e0>],\n",
              " 'means': []}"
            ]
          },
          "metadata": {},
          "execution_count": 280
        },
        {
          "output_type": "display_data",
          "data": {
            "text/plain": [
              "<Figure size 432x288 with 1 Axes>"
            ],
            "image/png": "[encoded data removed]"
          },
          "metadata": {
            "needs_background": "light"
          }
        }
      ]
    },
    {
      "cell_type": "code",
      "execution_count": 281,
      "metadata": {
        "id": "cviYChzikukf"
      },
      "outputs": [],
      "source": [
        "frst=frst.drop(['month','day'],axis=1)"
      ]
    },
    {
      "cell_type": "code",
      "execution_count": 282,
      "metadata": {
        "id": "AOTSyA17kuhu"
      },
      "outputs": [],
      "source": [
        "label_encoder=preprocessing.LabelEncoder()\n",
        "frst['size_category']=label_encoder.fit_transform(frst['size_category'])"
      ]
    },
    {
      "cell_type": "code",
      "execution_count": 283,
      "metadata": {
        "colab": {
          "base_uri": "https://localhost:8080/",
          "height": 300
        },
        "id": "BTd7Buqdkueq",
        "outputId": "b9288d10-0987-4897-9d7f-2a8138ef3f0b"
      },
      "outputs": [
        {
          "output_type": "execute_result",
          "data": {
            "text/plain": [
              "   FFMC   DMC     DC  ISI  temp  RH  wind  rain  area  dayfri  ...  monthfeb  \\\n",
              "0  86.2  26.2   94.3  5.1   8.2  51   6.7   0.0   0.0       1  ...         0   \n",
              "1  90.6  35.4  669.1  6.7  18.0  33   0.9   0.0   0.0       0  ...         0   \n",
              "2  90.6  43.7  686.9  6.7  14.6  33   1.3   0.0   0.0       0  ...         0   \n",
              "3  91.7  33.3   77.5  9.0   8.3  97   4.0   0.2   0.0       1  ...         0   \n",
              "4  89.3  51.3  102.2  9.6  11.4  99   1.8   0.0   0.0       0  ...         0   \n",
              "\n",
              "   monthjan  monthjul  monthjun  monthmar  monthmay  monthnov  monthoct  \\\n",
              "0         0         0         0         1         0         0         0   \n",
              "1         0         0         0         0         0         0         1   \n",
              "2         0         0         0         0         0         0         1   \n",
              "3         0         0         0         1         0         0         0   \n",
              "4         0         0         0         1         0         0         0   \n",
              "\n",
              "   monthsep  size_category  \n",
              "0         0              1  \n",
              "1         0              1  \n",
              "2         0              1  \n",
              "3         0              1  \n",
              "4         0              1  \n",
              "\n",
              "[5 rows x 29 columns]"
            ],
            "text/html": [
              "\n",
              "  <div id=\"df-434c11f9-0cc9-4473-bedb-52d0e72e7a98\">\n",
              "    <div class=\"colab-df-container\">\n",
              "      <div>\n",
              "<style scoped>\n",
              "    .dataframe tbody tr th:only-of-type {\n",
              "        vertical-align: middle;\n",
              "    }\n",
              "\n",
              "    .dataframe tbody tr th {\n",
              "        vertical-align: top;\n",
              "    }\n",
              "\n",
              "    .dataframe thead th {\n",
              "        text-align: right;\n",
              "    }\n",
              "</style>\n",
              "<table border=\"1\" class=\"dataframe\">\n",
              "  <thead>\n",
              "    <tr style=\"text-align: right;\">\n",
              "      <th></th>\n",
              "      <th>FFMC</th>\n",
              "      <th>DMC</th>\n",
              "      <th>DC</th>\n",
              "      <th>ISI</th>\n",
              "      <th>temp</th>\n",
              "      <th>RH</th>\n",
              "      <th>wind</th>\n",
              "      <th>rain</th>\n",
              "      <th>area</th>\n",
              "      <th>dayfri</th>\n",
              "      <th>...</th>\n",
              "      <th>monthfeb</th>\n",
              "      <th>monthjan</th>\n",
              "      <th>monthjul</th>\n",
              "      <th>monthjun</th>\n",
              "      <th>monthmar</th>\n",
              "      <th>monthmay</th>\n",
              "      <th>monthnov</th>\n",
              "      <th>monthoct</th>\n",
              "      <th>monthsep</th>\n",
              "      <th>size_category</th>\n",
              "    </tr>\n",
              "  </thead>\n",
              "  <tbody>\n",
              "    <tr>\n",
              "      <th>0</th>\n",
              "      <td>86.2</td>\n",
              "      <td>26.2</td>\n",
              "      <td>94.3</td>\n",
              "      <td>5.1</td>\n",
              "      <td>8.2</td>\n",
              "      <td>51</td>\n",
              "      <td>6.7</td>\n",
              "      <td>0.0</td>\n",
              "      <td>0.0</td>\n",
              "      <td>1</td>\n",
              "      <td>...</td>\n",
              "      <td>0</td>\n",
              "      <td>0</td>\n",
              "      <td>0</td>\n",
              "      <td>0</td>\n",
              "      <td>1</td>\n",
              "      <td>0</td>\n",
              "      <td>0</td>\n",
              "      <td>0</td>\n",
              "      <td>0</td>\n",
              "      <td>1</td>\n",
              "    </tr>\n",
              "    <tr>\n",
              "      <th>1</th>\n",
              "      <td>90.6</td>\n",
              "      <td>35.4</td>\n",
              "      <td>669.1</td>\n",
              "      <td>6.7</td>\n",
              "      <td>18.0</td>\n",
              "      <td>33</td>\n",
              "      <td>0.9</td>\n",
              "      <td>0.0</td>\n",
              "      <td>0.0</td>\n",
              "      <td>0</td>\n",
              "      <td>...</td>\n",
              "      <td>0</td>\n",
              "      <td>0</td>\n",
              "      <td>0</td>\n",
              "      <td>0</td>\n",
              "      <td>0</td>\n",
              "      <td>0</td>\n",
              "      <td>0</td>\n",
              "      <td>1</td>\n",
              "      <td>0</td>\n",
              "      <td>1</td>\n",
              "    </tr>\n",
              "    <tr>\n",
              "      <th>2</th>\n",
              "      <td>90.6</td>\n",
              "      <td>43.7</td>\n",
              "      <td>686.9</td>\n",
              "      <td>6.7</td>\n",
              "      <td>14.6</td>\n",
              "      <td>33</td>\n",
              "      <td>1.3</td>\n",
              "      <td>0.0</td>\n",
              "      <td>0.0</td>\n",
              "      <td>0</td>\n",
              "      <td>...</td>\n",
              "      <td>0</td>\n",
              "      <td>0</td>\n",
              "      <td>0</td>\n",
              "      <td>0</td>\n",
              "      <td>0</td>\n",
              "      <td>0</td>\n",
              "      <td>0</td>\n",
              "      <td>1</td>\n",
              "      <td>0</td>\n",
              "      <td>1</td>\n",
              "    </tr>\n",
              "    <tr>\n",
              "      <th>3</th>\n",
              "      <td>91.7</td>\n",
              "      <td>33.3</td>\n",
              "      <td>77.5</td>\n",
              "      <td>9.0</td>\n",
              "      <td>8.3</td>\n",
              "      <td>97</td>\n",
              "      <td>4.0</td>\n",
              "      <td>0.2</td>\n",
              "      <td>0.0</td>\n",
              "      <td>1</td>\n",
              "      <td>...</td>\n",
              "      <td>0</td>\n",
              "      <td>0</td>\n",
              "      <td>0</td>\n",
              "      <td>0</td>\n",
              "      <td>1</td>\n",
              "      <td>0</td>\n",
              "      <td>0</td>\n",
              "      <td>0</td>\n",
              "      <td>0</td>\n",
              "      <td>1</td>\n",
              "    </tr>\n",
              "    <tr>\n",
              "      <th>4</th>\n",
              "      <td>89.3</td>\n",
              "      <td>51.3</td>\n",
              "      <td>102.2</td>\n",
              "      <td>9.6</td>\n",
              "      <td>11.4</td>\n",
              "      <td>99</td>\n",
              "      <td>1.8</td>\n",
              "      <td>0.0</td>\n",
              "      <td>0.0</td>\n",
              "      <td>0</td>\n",
              "      <td>...</td>\n",
              "      <td>0</td>\n",
              "      <td>0</td>\n",
              "      <td>0</td>\n",
              "      <td>0</td>\n",
              "      <td>1</td>\n",
              "      <td>0</td>\n",
              "      <td>0</td>\n",
              "      <td>0</td>\n",
              "      <td>0</td>\n",
              "      <td>1</td>\n",
              "    </tr>\n",
              "  </tbody>\n",
              "</table>\n",
              "<p>5 rows × 29 columns</p>\n",
              "</div>\n",
              "      <button class=\"colab-df-convert\" onclick=\"convertToInteractive('df-434c11f9-0cc9-4473-bedb-52d0e72e7a98')\"\n",
              "              title=\"Convert this dataframe to an interactive table.\"\n",
              "              style=\"display:none;\">\n",
              "        \n",
              "  <svg xmlns=\"http://www.w3.org/2000/svg\" height=\"24px\"viewBox=\"0 0 24 24\"\n",
              "       width=\"24px\">\n",
              "    <path d=\"M0 0h24v24H0V0z\" fill=\"none\"/>\n",
              "    <path d=\"M18.56 5.44l.94 2.06.94-2.06 2.06-.94-2.06-.94-.94-2.06-.94 2.06-2.06.94zm-11 1L8.5 8.5l.94-2.06 2.06-.94-2.06-.94L8.5 2.5l-.94 2.06-2.06.94zm10 10l.94 2.06.94-2.06 2.06-.94-2.06-.94-.94-2.06-.94 2.06-2.06.94z\"/><path d=\"M17.41 7.96l-1.37-1.37c-.4-.4-.92-.59-1.43-.59-.52 0-1.04.2-1.43.59L10.3 9.45l-7.72 7.72c-.78.78-.78 2.05 0 2.83L4 21.41c.39.39.9.59 1.41.59.51 0 1.02-.2 1.41-.59l7.78-7.78 2.81-2.81c.8-.78.8-2.07 0-2.86zM5.41 20L4 18.59l7.72-7.72 1.47 1.35L5.41 20z\"/>\n",
              "  </svg>\n",
              "      </button>\n",
              "      \n",
              "  <style>\n",
              "    .colab-df-container {\n",
              "      display:flex;\n",
              "      flex-wrap:wrap;\n",
              "      gap: 12px;\n",
              "    }\n",
              "\n",
              "    .colab-df-convert {\n",
              "      background-color: #E8F0FE;\n",
              "      border: none;\n",
              "      border-radius: 50%;\n",
              "      cursor: pointer;\n",
              "      display: none;\n",
              "      fill: #1967D2;\n",
              "      height: 32px;\n",
              "      padding: 0 0 0 0;\n",
              "      width: 32px;\n",
              "    }\n",
              "\n",
              "    .colab-df-convert:hover {\n",
              "      background-color: #E2EBFA;\n",
              "      box-shadow: 0px 1px 2px rgba(60, 64, 67, 0.3), 0px 1px 3px 1px rgba(60, 64, 67, 0.15);\n",
              "      fill: #174EA6;\n",
              "    }\n",
              "\n",
              "    [theme=dark] .colab-df-convert {\n",
              "      background-color: #3B4455;\n",
              "      fill: #D2E3FC;\n",
              "    }\n",
              "\n",
              "    [theme=dark] .colab-df-convert:hover {\n",
              "      background-color: #434B5C;\n",
              "      box-shadow: 0px 1px 3px 1px rgba(0, 0, 0, 0.15);\n",
              "      filter: drop-shadow(0px 1px 2px rgba(0, 0, 0, 0.3));\n",
              "      fill: #FFFFFF;\n",
              "    }\n",
              "  </style>\n",
              "\n",
              "      <script>\n",
              "        const buttonEl =\n",
              "          document.querySelector('#df-434c11f9-0cc9-4473-bedb-52d0e72e7a98 button.colab-df-convert');\n",
              "        buttonEl.style.display =\n",
              "          google.colab.kernel.accessAllowed ? 'block' : 'none';\n",
              "\n",
              "        async function convertToInteractive(key) {\n",
              "          const element = document.querySelector('#df-434c11f9-0cc9-4473-bedb-52d0e72e7a98');\n",
              "          const dataTable =\n",
              "            await google.colab.kernel.invokeFunction('convertToInteractive',\n",
              "                                                     [key], {});\n",
              "          if (!dataTable) return;\n",
              "\n",
              "          const docLinkHtml = 'Like what you see? Visit the ' +\n",
              "            '<a target=\"_blank\" href=https://colab.research.google.com/notebooks/data_table.ipynb>data table notebook</a>'\n",
              "            + ' to learn more about interactive tables.';\n",
              "          element.innerHTML = '';\n",
              "          dataTable['output_type'] = 'display_data';\n",
              "          await google.colab.output.renderOutput(dataTable, element);\n",
              "          const docLink = document.createElement('div');\n",
              "          docLink.innerHTML = docLinkHtml;\n",
              "          element.appendChild(docLink);\n",
              "        }\n",
              "      </script>\n",
              "    </div>\n",
              "  </div>\n",
              "  "
            ]
          },
          "metadata": {},
          "execution_count": 283
        }
      ],
      "source": [
        "frst.head()"
      ]
    },
    {
      "cell_type": "code",
      "execution_count": 284,
      "metadata": {
        "colab": {
          "base_uri": "https://localhost:8080/"
        },
        "id": "st0tsMYPlDsW",
        "outputId": "4900ecf0-30ea-4a56-853c-aaef4ab3bc4d"
      },
      "outputs": [
        {
          "output_type": "execute_result",
          "data": {
            "text/plain": [
              "1    371\n",
              "0    133\n",
              "Name: size_category, dtype: int64"
            ]
          },
          "metadata": {},
          "execution_count": 284
        }
      ],
      "source": [
        "frst['size_category'].value_counts()"
      ]
    },
    {
      "cell_type": "code",
      "execution_count": 285,
      "metadata": {
        "colab": {
          "base_uri": "https://localhost:8080/"
        },
        "id": "B_g4hUlrkt7Q",
        "outputId": "3ec6212d-a374-4778-8336-7449b2cbb084"
      },
      "outputs": [
        {
          "output_type": "execute_result",
          "data": {
            "text/plain": [
              "(504, 29)"
            ]
          },
          "metadata": {},
          "execution_count": 285
        }
      ],
      "source": [
        "frst.shape"
      ]
    },
    {
      "cell_type": "code",
      "execution_count": 286,
      "metadata": {
        "id": "dO1NhuRbJAMB"
      },
      "outputs": [],
      "source": [
        "X=frst.iloc[:,0:28]\n",
        "Y=frst.iloc[:,28]"
      ]
    },
    {
      "cell_type": "code",
      "execution_count": 287,
      "metadata": {
        "id": "83wHdQWtaY_g"
      },
      "outputs": [],
      "source": [
        "X_train, X_test, y_train, y_test = train_test_split(X,Y, test_size = 0.3)"
      ]
    },
    {
      "cell_type": "code",
      "execution_count": 288,
      "metadata": {
        "colab": {
          "base_uri": "https://localhost:8080/"
        },
        "id": "eiMTfVfSaY8W",
        "outputId": "8189511e-5d02-488b-8970-76fd31591926"
      },
      "outputs": [
        {
          "output_type": "execute_result",
          "data": {
            "text/plain": [
              "((352, 28), (352,), (152, 28), (152,))"
            ]
          },
          "metadata": {},
          "execution_count": 288
        }
      ],
      "source": [
        "X_train.shape, y_train.shape, X_test.shape, y_test.shape"
      ]
    },
    {
      "cell_type": "code",
      "execution_count": 289,
      "metadata": {
        "colab": {
          "base_uri": "https://localhost:8080/"
        },
        "id": "yldioXuVaY2G",
        "outputId": "8f005333-13b0-45b1-e1ae-9b282d585976"
      },
      "outputs": [
        {
          "output_type": "stream",
          "name": "stdout",
          "text": [
            "Fitting 10 folds for each of 10 candidates, totalling 100 fits\n",
            "[CV 1/10; 1/10] START C=10, gamma=0.01, kernel=rbf..............................\n",
            "[CV 1/10; 1/10] END C=10, gamma=0.01, kernel=rbf;, score=0.694 total time=   0.0s\n",
            "[CV 2/10; 1/10] START C=10, gamma=0.01, kernel=rbf..............................\n",
            "[CV 2/10; 1/10] END C=10, gamma=0.01, kernel=rbf;, score=0.722 total time=   0.0s\n",
            "[CV 3/10; 1/10] START C=10, gamma=0.01, kernel=rbf..............................\n",
            "[CV 3/10; 1/10] END C=10, gamma=0.01, kernel=rbf;, score=0.743 total time=   0.0s\n",
            "[CV 4/10; 1/10] START C=10, gamma=0.01, kernel=rbf..............................\n",
            "[CV 4/10; 1/10] END C=10, gamma=0.01, kernel=rbf;, score=0.743 total time=   0.0s\n",
            "[CV 5/10; 1/10] START C=10, gamma=0.01, kernel=rbf..............................\n",
            "[CV 5/10; 1/10] END C=10, gamma=0.01, kernel=rbf;, score=0.800 total time=   0.0s\n",
            "[CV 6/10; 1/10] START C=10, gamma=0.01, kernel=rbf..............................\n",
            "[CV 6/10; 1/10] END C=10, gamma=0.01, kernel=rbf;, score=0.771 total time=   0.0s\n",
            "[CV 7/10; 1/10] START C=10, gamma=0.01, kernel=rbf..............................\n",
            "[CV 7/10; 1/10] END C=10, gamma=0.01, kernel=rbf;, score=0.829 total time=   0.0s\n",
            "[CV 8/10; 1/10] START C=10, gamma=0.01, kernel=rbf..............................\n",
            "[CV 8/10; 1/10] END C=10, gamma=0.01, kernel=rbf;, score=0.771 total time=   0.0s\n",
            "[CV 9/10; 1/10] START C=10, gamma=0.01, kernel=rbf..............................\n",
            "[CV 9/10; 1/10] END C=10, gamma=0.01, kernel=rbf;, score=0.686 total time=   0.0s\n",
            "[CV 10/10; 1/10] START C=10, gamma=0.01, kernel=rbf.............................\n",
            "[CV 10/10; 1/10] END C=10, gamma=0.01, kernel=rbf;, score=0.771 total time=   0.0s\n",
            "[CV 1/10; 2/10] START C=0.001, gamma=0.01, kernel=linear........................\n",
            "[CV 1/10; 2/10] END C=0.001, gamma=0.01, kernel=linear;, score=0.944 total time=   0.0s\n",
            "[CV 2/10; 2/10] START C=0.001, gamma=0.01, kernel=linear........................\n",
            "[CV 2/10; 2/10] END C=0.001, gamma=0.01, kernel=linear;, score=0.889 total time=   0.0s\n",
            "[CV 3/10; 2/10] START C=0.001, gamma=0.01, kernel=linear........................\n",
            "[CV 3/10; 2/10] END C=0.001, gamma=0.01, kernel=linear;, score=1.000 total time=   0.0s\n",
            "[CV 4/10; 2/10] START C=0.001, gamma=0.01, kernel=linear........................\n",
            "[CV 4/10; 2/10] END C=0.001, gamma=0.01, kernel=linear;, score=1.000 total time=   0.0s\n",
            "[CV 5/10; 2/10] START C=0.001, gamma=0.01, kernel=linear........................\n",
            "[CV 5/10; 2/10] END C=0.001, gamma=0.01, kernel=linear;, score=0.971 total time=   0.0s\n",
            "[CV 6/10; 2/10] START C=0.001, gamma=0.01, kernel=linear........................\n",
            "[CV 6/10; 2/10] END C=0.001, gamma=0.01, kernel=linear;, score=1.000 total time=   0.0s\n",
            "[CV 7/10; 2/10] START C=0.001, gamma=0.01, kernel=linear........................\n",
            "[CV 7/10; 2/10] END C=0.001, gamma=0.01, kernel=linear;, score=0.971 total time=   0.0s\n",
            "[CV 8/10; 2/10] START C=0.001, gamma=0.01, kernel=linear........................\n",
            "[CV 8/10; 2/10] END C=0.001, gamma=0.01, kernel=linear;, score=0.971 total time=   0.0s\n",
            "[CV 9/10; 2/10] START C=0.001, gamma=0.01, kernel=linear........................\n",
            "[CV 9/10; 2/10] END C=0.001, gamma=0.01, kernel=linear;, score=0.914 total time=   0.0s\n",
            "[CV 10/10; 2/10] START C=0.001, gamma=0.01, kernel=linear.......................\n",
            "[CV 10/10; 2/10] END C=0.001, gamma=0.01, kernel=linear;, score=0.971 total time=   0.0s\n",
            "[CV 1/10; 3/10] START C=0.1, gamma=0.5, kernel=rbf..............................\n",
            "[CV 1/10; 3/10] END C=0.1, gamma=0.5, kernel=rbf;, score=0.750 total time=   0.0s\n",
            "[CV 2/10; 3/10] START C=0.1, gamma=0.5, kernel=rbf..............................\n",
            "[CV 2/10; 3/10] END C=0.1, gamma=0.5, kernel=rbf;, score=0.722 total time=   0.0s\n",
            "[CV 3/10; 3/10] START C=0.1, gamma=0.5, kernel=rbf..............................\n",
            "[CV 3/10; 3/10] END C=0.1, gamma=0.5, kernel=rbf;, score=0.743 total time=   0.0s\n",
            "[CV 4/10; 3/10] START C=0.1, gamma=0.5, kernel=rbf..............................\n",
            "[CV 4/10; 3/10] END C=0.1, gamma=0.5, kernel=rbf;, score=0.743 total time=   0.0s\n",
            "[CV 5/10; 3/10] START C=0.1, gamma=0.5, kernel=rbf..............................\n",
            "[CV 5/10; 3/10] END C=0.1, gamma=0.5, kernel=rbf;, score=0.743 total time=   0.0s\n",
            "[CV 6/10; 3/10] START C=0.1, gamma=0.5, kernel=rbf..............................\n",
            "[CV 6/10; 3/10] END C=0.1, gamma=0.5, kernel=rbf;, score=0.743 total time=   0.0s\n",
            "[CV 7/10; 3/10] START C=0.1, gamma=0.5, kernel=rbf..............................\n",
            "[CV 7/10; 3/10] END C=0.1, gamma=0.5, kernel=rbf;, score=0.743 total time=   0.0s\n",
            "[CV 8/10; 3/10] START C=0.1, gamma=0.5, kernel=rbf..............................\n",
            "[CV 8/10; 3/10] END C=0.1, gamma=0.5, kernel=rbf;, score=0.743 total time=   0.0s\n",
            "[CV 9/10; 3/10] START C=0.1, gamma=0.5, kernel=rbf..............................\n",
            "[CV 9/10; 3/10] END C=0.1, gamma=0.5, kernel=rbf;, score=0.743 total time=   0.0s\n",
            "[CV 10/10; 3/10] START C=0.1, gamma=0.5, kernel=rbf.............................\n",
            "[CV 10/10; 3/10] END C=0.1, gamma=0.5, kernel=rbf;, score=0.743 total time=   0.0s\n",
            "[CV 1/10; 4/10] START C=10, gamma=0.5, kernel=rbf...............................\n",
            "[CV 1/10; 4/10] END C=10, gamma=0.5, kernel=rbf;, score=0.750 total time=   0.0s\n",
            "[CV 2/10; 4/10] START C=10, gamma=0.5, kernel=rbf...............................\n",
            "[CV 2/10; 4/10] END C=10, gamma=0.5, kernel=rbf;, score=0.722 total time=   0.0s\n",
            "[CV 3/10; 4/10] START C=10, gamma=0.5, kernel=rbf...............................\n",
            "[CV 3/10; 4/10] END C=10, gamma=0.5, kernel=rbf;, score=0.743 total time=   0.0s\n",
            "[CV 4/10; 4/10] START C=10, gamma=0.5, kernel=rbf...............................\n",
            "[CV 4/10; 4/10] END C=10, gamma=0.5, kernel=rbf;, score=0.743 total time=   0.0s\n",
            "[CV 5/10; 4/10] START C=10, gamma=0.5, kernel=rbf...............................\n",
            "[CV 5/10; 4/10] END C=10, gamma=0.5, kernel=rbf;, score=0.743 total time=   0.0s\n",
            "[CV 6/10; 4/10] START C=10, gamma=0.5, kernel=rbf...............................\n",
            "[CV 6/10; 4/10] END C=10, gamma=0.5, kernel=rbf;, score=0.743 total time=   0.0s\n",
            "[CV 7/10; 4/10] START C=10, gamma=0.5, kernel=rbf...............................\n",
            "[CV 7/10; 4/10] END C=10, gamma=0.5, kernel=rbf;, score=0.771 total time=   0.0s\n",
            "[CV 8/10; 4/10] START C=10, gamma=0.5, kernel=rbf...............................\n",
            "[CV 8/10; 4/10] END C=10, gamma=0.5, kernel=rbf;, score=0.743 total time=   0.0s\n",
            "[CV 9/10; 4/10] START C=10, gamma=0.5, kernel=rbf...............................\n",
            "[CV 9/10; 4/10] END C=10, gamma=0.5, kernel=rbf;, score=0.743 total time=   0.0s\n",
            "[CV 10/10; 4/10] START C=10, gamma=0.5, kernel=rbf..............................\n",
            "[CV 10/10; 4/10] END C=10, gamma=0.5, kernel=rbf;, score=0.771 total time=   0.0s\n",
            "[CV 1/10; 5/10] START C=10, gamma=0.1, kernel=linear............................\n",
            "[CV 1/10; 5/10] END C=10, gamma=0.1, kernel=linear;, score=0.972 total time=   0.1s\n",
            "[CV 2/10; 5/10] START C=10, gamma=0.1, kernel=linear............................\n",
            "[CV 2/10; 5/10] END C=10, gamma=0.1, kernel=linear;, score=1.000 total time=   0.1s\n",
            "[CV 3/10; 5/10] START C=10, gamma=0.1, kernel=linear............................\n",
            "[CV 3/10; 5/10] END C=10, gamma=0.1, kernel=linear;, score=1.000 total time=   0.1s\n",
            "[CV 4/10; 5/10] START C=10, gamma=0.1, kernel=linear............................\n",
            "[CV 4/10; 5/10] END C=10, gamma=0.1, kernel=linear;, score=1.000 total time=   0.1s\n",
            "[CV 5/10; 5/10] START C=10, gamma=0.1, kernel=linear............................\n",
            "[CV 5/10; 5/10] END C=10, gamma=0.1, kernel=linear;, score=0.943 total time=   0.0s\n",
            "[CV 6/10; 5/10] START C=10, gamma=0.1, kernel=linear............................\n",
            "[CV 6/10; 5/10] END C=10, gamma=0.1, kernel=linear;, score=0.971 total time=   0.1s\n",
            "[CV 7/10; 5/10] START C=10, gamma=0.1, kernel=linear............................\n",
            "[CV 7/10; 5/10] END C=10, gamma=0.1, kernel=linear;, score=0.971 total time=   0.1s\n",
            "[CV 8/10; 5/10] START C=10, gamma=0.1, kernel=linear............................\n",
            "[CV 8/10; 5/10] END C=10, gamma=0.1, kernel=linear;, score=1.000 total time=   0.1s\n",
            "[CV 9/10; 5/10] START C=10, gamma=0.1, kernel=linear............................\n",
            "[CV 9/10; 5/10] END C=10, gamma=0.1, kernel=linear;, score=0.971 total time=   0.1s\n",
            "[CV 10/10; 5/10] START C=10, gamma=0.1, kernel=linear...........................\n",
            "[CV 10/10; 5/10] END C=10, gamma=0.1, kernel=linear;, score=0.971 total time=   0.0s\n",
            "[CV 1/10; 6/10] START C=0.0001, gamma=0.01, kernel=rbf..........................\n",
            "[CV 1/10; 6/10] END C=0.0001, gamma=0.01, kernel=rbf;, score=0.750 total time=   0.0s\n",
            "[CV 2/10; 6/10] START C=0.0001, gamma=0.01, kernel=rbf..........................\n",
            "[CV 2/10; 6/10] END C=0.0001, gamma=0.01, kernel=rbf;, score=0.722 total time=   0.0s\n",
            "[CV 3/10; 6/10] START C=0.0001, gamma=0.01, kernel=rbf..........................\n",
            "[CV 3/10; 6/10] END C=0.0001, gamma=0.01, kernel=rbf;, score=0.743 total time=   0.0s\n",
            "[CV 4/10; 6/10] START C=0.0001, gamma=0.01, kernel=rbf..........................\n",
            "[CV 4/10; 6/10] END C=0.0001, gamma=0.01, kernel=rbf;, score=0.743 total time=   0.0s\n",
            "[CV 5/10; 6/10] START C=0.0001, gamma=0.01, kernel=rbf..........................\n",
            "[CV 5/10; 6/10] END C=0.0001, gamma=0.01, kernel=rbf;, score=0.743 total time=   0.0s\n",
            "[CV 6/10; 6/10] START C=0.0001, gamma=0.01, kernel=rbf..........................\n",
            "[CV 6/10; 6/10] END C=0.0001, gamma=0.01, kernel=rbf;, score=0.743 total time=   0.0s\n",
            "[CV 7/10; 6/10] START C=0.0001, gamma=0.01, kernel=rbf..........................\n",
            "[CV 7/10; 6/10] END C=0.0001, gamma=0.01, kernel=rbf;, score=0.743 total time=   0.0s\n",
            "[CV 8/10; 6/10] START C=0.0001, gamma=0.01, kernel=rbf..........................\n",
            "[CV 8/10; 6/10] END C=0.0001, gamma=0.01, kernel=rbf;, score=0.743 total time=   0.0s\n",
            "[CV 9/10; 6/10] START C=0.0001, gamma=0.01, kernel=rbf..........................\n",
            "[CV 9/10; 6/10] END C=0.0001, gamma=0.01, kernel=rbf;, score=0.743 total time=   0.0s\n",
            "[CV 10/10; 6/10] START C=0.0001, gamma=0.01, kernel=rbf.........................\n",
            "[CV 10/10; 6/10] END C=0.0001, gamma=0.01, kernel=rbf;, score=0.743 total time=   0.0s\n",
            "[CV 1/10; 7/10] START C=0.0001, gamma=0.01, kernel=linear.......................\n",
            "[CV 1/10; 7/10] END C=0.0001, gamma=0.01, kernel=linear;, score=0.806 total time=   0.0s\n",
            "[CV 2/10; 7/10] START C=0.0001, gamma=0.01, kernel=linear.......................\n",
            "[CV 2/10; 7/10] END C=0.0001, gamma=0.01, kernel=linear;, score=0.750 total time=   0.0s\n",
            "[CV 3/10; 7/10] START C=0.0001, gamma=0.01, kernel=linear.......................\n",
            "[CV 3/10; 7/10] END C=0.0001, gamma=0.01, kernel=linear;, score=0.829 total time=   0.0s\n",
            "[CV 4/10; 7/10] START C=0.0001, gamma=0.01, kernel=linear.......................\n",
            "[CV 4/10; 7/10] END C=0.0001, gamma=0.01, kernel=linear;, score=0.886 total time=   0.0s\n",
            "[CV 5/10; 7/10] START C=0.0001, gamma=0.01, kernel=linear.......................\n",
            "[CV 5/10; 7/10] END C=0.0001, gamma=0.01, kernel=linear;, score=0.829 total time=   0.0s\n",
            "[CV 6/10; 7/10] START C=0.0001, gamma=0.01, kernel=linear.......................\n",
            "[CV 6/10; 7/10] END C=0.0001, gamma=0.01, kernel=linear;, score=0.886 total time=   0.0s\n",
            "[CV 7/10; 7/10] START C=0.0001, gamma=0.01, kernel=linear.......................\n",
            "[CV 7/10; 7/10] END C=0.0001, gamma=0.01, kernel=linear;, score=0.886 total time=   0.0s\n",
            "[CV 8/10; 7/10] START C=0.0001, gamma=0.01, kernel=linear.......................\n",
            "[CV 8/10; 7/10] END C=0.0001, gamma=0.01, kernel=linear;, score=0.857 total time=   0.0s\n",
            "[CV 9/10; 7/10] START C=0.0001, gamma=0.01, kernel=linear.......................\n",
            "[CV 9/10; 7/10] END C=0.0001, gamma=0.01, kernel=linear;, score=0.857 total time=   0.0s\n",
            "[CV 10/10; 7/10] START C=0.0001, gamma=0.01, kernel=linear......................\n",
            "[CV 10/10; 7/10] END C=0.0001, gamma=0.01, kernel=linear;, score=0.886 total time=   0.0s\n",
            "[CV 1/10; 8/10] START C=0.1, gamma=0.1, kernel=rbf..............................\n",
            "[CV 1/10; 8/10] END C=0.1, gamma=0.1, kernel=rbf;, score=0.750 total time=   0.0s\n",
            "[CV 2/10; 8/10] START C=0.1, gamma=0.1, kernel=rbf..............................\n",
            "[CV 2/10; 8/10] END C=0.1, gamma=0.1, kernel=rbf;, score=0.722 total time=   0.0s\n",
            "[CV 3/10; 8/10] START C=0.1, gamma=0.1, kernel=rbf..............................\n",
            "[CV 3/10; 8/10] END C=0.1, gamma=0.1, kernel=rbf;, score=0.743 total time=   0.0s\n",
            "[CV 4/10; 8/10] START C=0.1, gamma=0.1, kernel=rbf..............................\n",
            "[CV 4/10; 8/10] END C=0.1, gamma=0.1, kernel=rbf;, score=0.743 total time=   0.0s\n",
            "[CV 5/10; 8/10] START C=0.1, gamma=0.1, kernel=rbf..............................\n",
            "[CV 5/10; 8/10] END C=0.1, gamma=0.1, kernel=rbf;, score=0.743 total time=   0.0s\n",
            "[CV 6/10; 8/10] START C=0.1, gamma=0.1, kernel=rbf..............................\n",
            "[CV 6/10; 8/10] END C=0.1, gamma=0.1, kernel=rbf;, score=0.743 total time=   0.0s\n",
            "[CV 7/10; 8/10] START C=0.1, gamma=0.1, kernel=rbf..............................\n",
            "[CV 7/10; 8/10] END C=0.1, gamma=0.1, kernel=rbf;, score=0.743 total time=   0.0s\n",
            "[CV 8/10; 8/10] START C=0.1, gamma=0.1, kernel=rbf..............................\n",
            "[CV 8/10; 8/10] END C=0.1, gamma=0.1, kernel=rbf;, score=0.743 total time=   0.0s\n",
            "[CV 9/10; 8/10] START C=0.1, gamma=0.1, kernel=rbf..............................\n",
            "[CV 9/10; 8/10] END C=0.1, gamma=0.1, kernel=rbf;, score=0.743 total time=   0.0s\n",
            "[CV 10/10; 8/10] START C=0.1, gamma=0.1, kernel=rbf.............................\n",
            "[CV 10/10; 8/10] END C=0.1, gamma=0.1, kernel=rbf;, score=0.743 total time=   0.0s\n",
            "[CV 1/10; 9/10] START C=0.1, gamma=0.01, kernel=rbf.............................\n",
            "[CV 1/10; 9/10] END C=0.1, gamma=0.01, kernel=rbf;, score=0.750 total time=   0.0s\n",
            "[CV 2/10; 9/10] START C=0.1, gamma=0.01, kernel=rbf.............................\n",
            "[CV 2/10; 9/10] END C=0.1, gamma=0.01, kernel=rbf;, score=0.722 total time=   0.0s\n",
            "[CV 3/10; 9/10] START C=0.1, gamma=0.01, kernel=rbf.............................\n",
            "[CV 3/10; 9/10] END C=0.1, gamma=0.01, kernel=rbf;, score=0.743 total time=   0.0s\n",
            "[CV 4/10; 9/10] START C=0.1, gamma=0.01, kernel=rbf.............................\n",
            "[CV 4/10; 9/10] END C=0.1, gamma=0.01, kernel=rbf;, score=0.743 total time=   0.0s\n",
            "[CV 5/10; 9/10] START C=0.1, gamma=0.01, kernel=rbf.............................\n",
            "[CV 5/10; 9/10] END C=0.1, gamma=0.01, kernel=rbf;, score=0.743 total time=   0.0s\n",
            "[CV 6/10; 9/10] START C=0.1, gamma=0.01, kernel=rbf.............................\n",
            "[CV 6/10; 9/10] END C=0.1, gamma=0.01, kernel=rbf;, score=0.743 total time=   0.0s\n",
            "[CV 7/10; 9/10] START C=0.1, gamma=0.01, kernel=rbf.............................\n",
            "[CV 7/10; 9/10] END C=0.1, gamma=0.01, kernel=rbf;, score=0.743 total time=   0.0s\n",
            "[CV 8/10; 9/10] START C=0.1, gamma=0.01, kernel=rbf.............................\n",
            "[CV 8/10; 9/10] END C=0.1, gamma=0.01, kernel=rbf;, score=0.743 total time=   0.0s\n",
            "[CV 9/10; 9/10] START C=0.1, gamma=0.01, kernel=rbf.............................\n",
            "[CV 9/10; 9/10] END C=0.1, gamma=0.01, kernel=rbf;, score=0.743 total time=   0.0s\n",
            "[CV 10/10; 9/10] START C=0.1, gamma=0.01, kernel=rbf............................\n",
            "[CV 10/10; 9/10] END C=0.1, gamma=0.01, kernel=rbf;, score=0.743 total time=   0.0s\n",
            "[CV 1/10; 10/10] START C=0.001, gamma=0.5, kernel=linear........................\n",
            "[CV 1/10; 10/10] END C=0.001, gamma=0.5, kernel=linear;, score=0.944 total time=   0.0s\n",
            "[CV 2/10; 10/10] START C=0.001, gamma=0.5, kernel=linear........................\n",
            "[CV 2/10; 10/10] END C=0.001, gamma=0.5, kernel=linear;, score=0.889 total time=   0.0s\n",
            "[CV 3/10; 10/10] START C=0.001, gamma=0.5, kernel=linear........................\n",
            "[CV 3/10; 10/10] END C=0.001, gamma=0.5, kernel=linear;, score=1.000 total time=   0.0s\n",
            "[CV 4/10; 10/10] START C=0.001, gamma=0.5, kernel=linear........................\n",
            "[CV 4/10; 10/10] END C=0.001, gamma=0.5, kernel=linear;, score=1.000 total time=   0.0s\n",
            "[CV 5/10; 10/10] START C=0.001, gamma=0.5, kernel=linear........................\n",
            "[CV 5/10; 10/10] END C=0.001, gamma=0.5, kernel=linear;, score=0.971 total time=   0.0s\n",
            "[CV 6/10; 10/10] START C=0.001, gamma=0.5, kernel=linear........................\n",
            "[CV 6/10; 10/10] END C=0.001, gamma=0.5, kernel=linear;, score=1.000 total time=   0.0s\n",
            "[CV 7/10; 10/10] START C=0.001, gamma=0.5, kernel=linear........................\n",
            "[CV 7/10; 10/10] END C=0.001, gamma=0.5, kernel=linear;, score=0.971 total time=   0.0s\n",
            "[CV 8/10; 10/10] START C=0.001, gamma=0.5, kernel=linear........................\n",
            "[CV 8/10; 10/10] END C=0.001, gamma=0.5, kernel=linear;, score=0.971 total time=   0.0s\n",
            "[CV 9/10; 10/10] START C=0.001, gamma=0.5, kernel=linear........................\n",
            "[CV 9/10; 10/10] END C=0.001, gamma=0.5, kernel=linear;, score=0.914 total time=   0.0s\n",
            "[CV 10/10; 10/10] START C=0.001, gamma=0.5, kernel=linear.......................\n",
            "[CV 10/10; 10/10] END C=0.001, gamma=0.5, kernel=linear;, score=0.971 total time=   0.0s\n"
          ]
        },
        {
          "output_type": "execute_result",
          "data": {
            "text/plain": [
              "RandomizedSearchCV(cv=10, estimator=SVC(),\n",
              "                   param_distributions=[{'C': [10, 0.1, 0.001, 0.0001],\n",
              "                                         'gamma': [0.5, 0.1, 0.01],\n",
              "                                         'kernel': ['linear', 'rbf']}],\n",
              "                   verbose=300)"
            ]
          },
          "metadata": {},
          "execution_count": 289
        }
      ],
      "source": [
        "clf = SVC()\n",
        "param_grid = [{'kernel':['linear','rbf'],'gamma':[0.5,0.1,0.01],'C':[10,0.1,0.001,0.0001] }]\n",
        "gsv = RandomizedSearchCV(clf,param_grid,cv=10,verbose=300)\n",
        "gsv.fit(X_train,y_train)"
      ]
    },
    {
      "cell_type": "code",
      "execution_count": 290,
      "metadata": {
        "colab": {
          "base_uri": "https://localhost:8080/"
        },
        "id": "xUsQKv1kaYy_",
        "outputId": "4bd70633-8189-440f-becd-18c7635c212f"
      },
      "outputs": [
        {
          "output_type": "execute_result",
          "data": {
            "text/plain": [
              "({'kernel': 'linear', 'gamma': 0.1, 'C': 10}, 0.9800793650793651)"
            ]
          },
          "metadata": {},
          "execution_count": 290
        }
      ],
      "source": [
        "gsv.best_params_ , gsv.best_score_ "
      ]
    },
    {
      "cell_type": "code",
      "execution_count": 291,
      "metadata": {
        "colab": {
          "base_uri": "https://localhost:8080/"
        },
        "id": "78efLyIYaYvq",
        "outputId": "de9a8b6d-0eb3-439c-c7fa-850d43b4e329"
      },
      "outputs": [
        {
          "output_type": "stream",
          "name": "stdout",
          "text": [
            "Accuracy = 94.73684210526315\n"
          ]
        },
        {
          "output_type": "execute_result",
          "data": {
            "text/plain": [
              "array([[ 35,   7],\n",
              "       [  1, 109]])"
            ]
          },
          "metadata": {},
          "execution_count": 291
        }
      ],
      "source": [
        "clf = SVC(kernel='linear',C=10)\n",
        "clf.fit(X_train , y_train)\n",
        "y_pred = clf.predict(X_test)\n",
        "acc = accuracy_score(y_test, y_pred) * 100\n",
        "print(\"Accuracy =\", acc)\n",
        "confusion_matrix(y_test, y_pred)"
      ]
    },
    {
      "cell_type": "code",
      "execution_count": null,
      "metadata": {
        "id": "D5so3trqaYsd"
      },
      "outputs": [],
      "source": []
    },
    {
      "cell_type": "code",
      "execution_count": null,
      "metadata": {
        "id": "cepAcuTnaYpc"
      },
      "outputs": [],
      "source": []
    }
  ],
  "metadata": {
    "colab": {
      "provenance": []
    },
    "kernelspec": {
      "display_name": "Python 3",
      "name": "python3"
    },
    "language_info": {
      "name": "python"
    }
  },
  "nbformat": 4,
  "nbformat_minor": 0
}